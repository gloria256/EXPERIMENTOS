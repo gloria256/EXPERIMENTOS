{
  "nbformat": 4,
  "nbformat_minor": 0,
  "metadata": {
    "colab": {
      "name": "Resnet50.ipynb",
      "provenance": [],
      "collapsed_sections": [],
      "machine_shape": "hm",
      "include_colab_link": true
    },
    "kernelspec": {
      "name": "python3",
      "display_name": "Python 3"
    },
    "accelerator": "GPU"
  },
  "cells": [
    {
      "cell_type": "markdown",
      "metadata": {
        "id": "view-in-github",
        "colab_type": "text"
      },
      "source": [
        "<a href=\"https://colab.research.google.com/github/gloria256/EXPERIMENTOS/blob/master/Multiply-MaxPooling-Tanh-250-64Resnet50.ipynb\" target=\"_parent\"><img src=\"https://colab.research.google.com/assets/colab-badge.svg\" alt=\"Open In Colab\"/></a>"
      ]
    },
    {
      "cell_type": "markdown",
      "metadata": {
        "id": "5ftLDsREupDL",
        "colab_type": "text"
      },
      "source": [
        "# **CLASIFICADOR BINARIO USANDO LA RED: RESNET50**\n",
        "\n",
        "\n",
        "\n",
        "\n",
        "\n"
      ]
    },
    {
      "cell_type": "markdown",
      "metadata": {
        "id": "lnRyzy7hvA2O",
        "colab_type": "text"
      },
      "source": [
        "## **1. Librerías necesarias y descarga de la función para graficar la curva ROC.**\n"
      ]
    },
    {
      "cell_type": "code",
      "metadata": {
        "id": "rbNiIwHFdiWA",
        "colab_type": "code",
        "outputId": "047ce955-bd66-4378-9654-05d4c3f86a4a",
        "colab": {
          "base_uri": "https://localhost:8080/",
          "height": 34
        }
      },
      "source": [
        "#IMPORTACION DE LIBRERIAS NECESARIAS\n",
        "import pandas as pd\n",
        "import tensorflow_datasets as tfds\n",
        "import tensorflow as tf\n",
        "import matplotlib.pyplot as plt\n",
        "import cv2\n",
        "import numpy as np\n",
        "import os\n",
        "from keras.applications.resnet import preprocess_input, decode_predictions\n",
        "import sklearn\n",
        "\n",
        "# ACCESO A GOOGLE DRIVE\n",
        "import os\n",
        "from pydrive.auth import GoogleAuth\n",
        "from pydrive.drive import GoogleDrive\n",
        "from google.colab import auth\n",
        "from oauth2client.client import GoogleCredentials\n",
        "auth.authenticate_user()\n",
        "gauth = GoogleAuth()\n",
        "gauth.credentials = GoogleCredentials.get_application_default()\n",
        "drive = GoogleDrive(gauth)\n",
        "\n",
        "#ARCHIVO DE FUNCIONES\n",
        "file_id = '1QTJIzZb4xL9_it6AF4qpz6KJGIpprIVD' \n",
        "downloaded = drive.CreateFile({'id': file_id})\n",
        "downloaded.GetContentFile('funciones_people.py') \n",
        "from funciones_people import roc_multiclass, roc_auc_mc\n"
      ],
      "execution_count": 1,
      "outputs": [
        {
          "output_type": "stream",
          "text": [
            "Using TensorFlow backend.\n"
          ],
          "name": "stderr"
        }
      ]
    },
    {
      "cell_type": "markdown",
      "metadata": {
        "id": "hL2cXKJAkLoA",
        "colab_type": "text"
      },
      "source": [
        "## **4. Descargar imágenes de CIFAR-10**\n",
        "\n",
        "consta de 60000 imágenes en color de 32x32 en 10 clases, con 6000 imágenes por clase. Hay 50000 imágenes de entrenamiento y 10000 imágenes de prueba.\n",
        "\n",
        "El conjunto de datos se divide en cinco lotes de entrenamiento y un lote de prueba, cada uno con 10000 imágenes. El lote de prueba contiene exactamente 1000 imágenes seleccionadas al azar de cada clase. \n",
        "\n",
        "$avión\\hspace{1em}automóvil\\hspace{1em}pájaro\\hspace{1em}gato    \n",
        "ciervo\\hspace{1em}perro\\hspace{1em}rana\\hspace{1em}caballo\\hspace{1em}\n",
        "Embarcacion\\hspace{1em}camión$"
      ]
    },
    {
      "cell_type": "markdown",
      "metadata": {
        "id": "-3cxyDsseRk_",
        "colab_type": "text"
      },
      "source": [
        "#### **A:** Funciones, para seleccionar solo las clases: Gato y perro"
      ]
    },
    {
      "cell_type": "code",
      "metadata": {
        "id": "q1eEICWsfQUB",
        "colab_type": "code",
        "colab": {}
      },
      "source": [
        "def obtener_solo_imagenes_Etiqueta(imagen,etiqueta,num_etiqueta):\n",
        "  Gatos_label=np.where(etiqueta== num_etiqueta)\n",
        "  A=np.zeros([len(Gatos_label[0]),32,32,3],dtype=np.uint8)\n",
        "  for c,i in enumerate(Gatos_label[0]): \n",
        "    A[c]=imagen[i]\n",
        "  return A\n",
        "\n",
        "def cambiar_scala_224x224(imagen):\n",
        "  matriz_imagen1=np.zeros([len(imagen),224,224,3],dtype=np.uint8)\n",
        "  for i in range(len(imagen)):\n",
        "    img=imagen[i]\n",
        "    scale_percent = 700 # percent of original size\n",
        "    width = int(img.shape[1] * scale_percent / 100)\n",
        "    height = int(img.shape[0] * scale_percent / 100)\n",
        "    dim = (width, height)\n",
        "    resized = cv2.resize(img, dim, interpolation = cv2.INTER_AREA)\n",
        "    matriz_imagen1[i]=resized\n",
        "  return matriz_imagen1"
      ],
      "execution_count": 0,
      "outputs": []
    },
    {
      "cell_type": "markdown",
      "metadata": {
        "id": "eegBaLz32hzL",
        "colab_type": "text"
      },
      "source": [
        "#### **B:** Descargar de keras datasets CIFAR10 y seleccionar las imagenes de las clases gato y perro del conjunto de **Train** y **Test**\n",
        "\n",
        "\n"
      ]
    },
    {
      "cell_type": "code",
      "metadata": {
        "id": "jogC9oAGzSuu",
        "colab_type": "code",
        "outputId": "fbfeed44-c112-47ae-9d9e-ed8f5c33d027",
        "colab": {
          "base_uri": "https://localhost:8080/",
          "height": 70
        }
      },
      "source": [
        "#IMPORTAMOS EL CONJUNTO DE DATOS DE CIFAR10 DONE: Xdata[0][0]-->Train   Xdata[1][0]-->Test  Xdata[0][1]-->Ytrain  Xdata[1][1]-->Ytest\n",
        "import tensorflow as tf\n",
        "from keras.datasets import cifar10\n",
        "\n",
        "Xdata = tf.keras.datasets.cifar10.load_data()\n",
        "Xdata[1][0].shape\n"
      ],
      "execution_count": 3,
      "outputs": [
        {
          "output_type": "stream",
          "text": [
            "Downloading data from https://www.cs.toronto.edu/~kriz/cifar-10-python.tar.gz\n",
            "170500096/170498071 [==============================] - 2s 0us/step\n"
          ],
          "name": "stdout"
        },
        {
          "output_type": "execute_result",
          "data": {
            "text/plain": [
              "(10000, 32, 32, 3)"
            ]
          },
          "metadata": {
            "tags": []
          },
          "execution_count": 3
        }
      ]
    },
    {
      "cell_type": "code",
      "metadata": {
        "id": "aHZBxtVEIRU9",
        "colab_type": "code",
        "outputId": "fa1a159e-3046-4a3c-8a5f-58e7865da42e",
        "colab": {
          "base_uri": "https://localhost:8080/",
          "height": 265
        }
      },
      "source": [
        "#OBTENEMOS SOLO LAS IMAGENES DE GATO=3 y perro=5 DE TEST DE CIFAR10, SON 1000 IMAGENES DE GATO y 1000 IMAGENES DE PERRO\n",
        "gato_test = obtener_solo_imagenes_Etiqueta(Xdata[1][0],Xdata[1][1],num_etiqueta=3)\n",
        "perro_test = obtener_solo_imagenes_Etiqueta(Xdata[1][0],Xdata[1][1],num_etiqueta=5)\n",
        "\n",
        "#OBTENEMOS SOLO LAS IMAGENES DE GATO=3 y perro=5 DE TRAIN DE CIFAR10, SON 5000 IMAGENES DE GATO y 5000 IMAGENES DE PERRO\n",
        "gato_train = obtener_solo_imagenes_Etiqueta(Xdata[0][0],Xdata[0][1],num_etiqueta=3)\n",
        "perro_train = obtener_solo_imagenes_Etiqueta(Xdata[0][0],Xdata[0][1],num_etiqueta=5)\n",
        "\n",
        "plt.imshow(gato_test[999])\n",
        "plt.show()"
      ],
      "execution_count": 4,
      "outputs": [
        {
          "output_type": "display_data",
          "data": {
            "image/png": "[encoded data removed]",
            "text/plain": [
              "<Figure size 432x288 with 1 Axes>"
            ]
          },
          "metadata": {
            "tags": [],
            "needs_background": "light"
          }
        }
      ]
    },
    {
      "cell_type": "markdown",
      "metadata": {
        "id": "hMWOHRugFe8l",
        "colab_type": "text"
      },
      "source": [
        "## **5. Agrupar conjunto de datos, en uno solo (X)**\n",
        "\n",
        "Gato_test, Conjunto de satos de 1000 imágenes tomadas de CIFAR10 - TEST\n",
        "Gato_train, Conjunto de satos de 5000 imágenes tomadas de CIFAR10 - TRAIN\n",
        "\n",
        "perro_test, Conjunto de satos de 1000 imágenes tomadas de CIFAR10 - TEST\n",
        "perro_train, Conjunto de satos de 5000 imágenes tomadas de CIFAR10 - TRAIN\n",
        "\n",
        "\n",
        "> $X= Cifar10_{gato} + Cifar10_{perro}$\n"
      ]
    },
    {
      "cell_type": "markdown",
      "metadata": {
        "id": "T1tteHSs9YRA",
        "colab_type": "text"
      },
      "source": [
        "####**A:** Unir etiquetas y matrices de cada conjunto para fromar **X** de 2000 imágenes"
      ]
    },
    {
      "cell_type": "code",
      "metadata": {
        "id": "kyfpKkbQVtcH",
        "colab_type": "code",
        "outputId": "b5527a20-4dd9-4daf-d554-09c23c6a6a4d",
        "colab": {
          "base_uri": "https://localhost:8080/",
          "height": 34
        }
      },
      "source": [
        "#UNIR LAS IMAGENES EN UN SOLO CONJUNTO\n",
        "#X = np.concatenate((gato_test[0:500], gato_train[0:500], perro_test[0:500], perro_train[0:500]), axis=0)\n",
        "#X_label=np.concatenate(([1]*500, [1]*500, [0]*500, [0]*500), axis=0)\n",
        "#UNIR ETIQUETAS EN UN SOLO CONJUNTO \n",
        "# 1-->GATO   0-->PERRO\n",
        "\n",
        "Xtrain = np.concatenate((gato_train[0:800], perro_train[0:800]), axis=0)\n",
        "Xtrain_label=np.concatenate(([1]*800,[0]*800), axis=0)\n",
        "Xtest  = np.concatenate((gato_test[0:200], perro_test[0:200]), axis=0)\n",
        "Xtest_label=np.concatenate(([1]*200,[0]*200), axis=0)\n",
        "\n",
        "print(len(Xtrain),len(Xtrain_label),'  y  ',len(Xtest),len(Xtest_label))"
      ],
      "execution_count": 5,
      "outputs": [
        {
          "output_type": "stream",
          "text": [
            "1600 1600   y   400 400\n"
          ],
          "name": "stdout"
        }
      ]
    },
    {
      "cell_type": "markdown",
      "metadata": {
        "id": "tBhSseFp27Z_",
        "colab_type": "text"
      },
      "source": [
        "#### **B:** Cambiar tamaño de 32x32x3, a scala de: 224x224x3 (**Ver función:** cambiar_scala_224x224(X))\n",
        "\n",
        "\n"
      ]
    },
    {
      "cell_type": "code",
      "metadata": {
        "id": "_YxLJAILu3ql",
        "colab_type": "code",
        "outputId": "7d8a9c88-91fc-4d05-9d0b-d8e82ceabcb1",
        "colab": {
          "base_uri": "https://localhost:8080/",
          "height": 34
        }
      },
      "source": [
        "import cv2\n",
        "Xtrain=cambiar_scala_224x224(Xtrain)\n",
        "Xtest=cambiar_scala_224x224(Xtest)\n",
        "print(Xtrain.shape,'  ',Xtest.shape)"
      ],
      "execution_count": 6,
      "outputs": [
        {
          "output_type": "stream",
          "text": [
            "(1600, 224, 224, 3)    (400, 224, 224, 3)\n"
          ],
          "name": "stdout"
        }
      ]
    },
    {
      "cell_type": "code",
      "metadata": {
        "id": "p5e8d0PxpMoQ",
        "colab_type": "code",
        "outputId": "cd3c6c04-c4c2-49e1-f6d7-1742ab629bf5",
        "colab": {
          "base_uri": "https://localhost:8080/",
          "height": 281
        }
      },
      "source": [
        "plt.imshow(Xtrain[5])\n",
        "plt.title('clase:%s'%Xtrain_label[5])\n",
        "plt.show()"
      ],
      "execution_count": 7,
      "outputs": [
        {
          "output_type": "display_data",
          "data": {
            "image/png": "[encoded data removed]",
            "text/plain": [
              "<Figure size 432x288 with 1 Axes>"
            ]
          },
          "metadata": {
            "tags": [],
            "needs_background": "light"
          }
        }
      ]
    },
    {
      "cell_type": "markdown",
      "metadata": {
        "id": "V6wmv0oX9tQ0",
        "colab_type": "text"
      },
      "source": [
        "####**C:** Pasar X, a un pandas, en este caso por cuestiones de espacio en memoria, solo se cojen: X[i][0][0][0:3] y se agrega para cada imagen al pandas X_PD con sus respectivas etiquetas X_label.\n",
        "\n",
        "\n"
      ]
    },
    {
      "cell_type": "code",
      "metadata": {
        "id": "WUoZ0rx1Ajop",
        "colab_type": "code",
        "colab": {}
      },
      "source": [
        "#ARMAR PANDAS CON SOLO 5 DATOS DE CADA UNA DE LAS 1600 IMAGENES PARA PODER PARTICIONAR EL CONJUNTO Y PODER SACAR YTRAIN Y YTEST\n",
        "Xtrain_PD=np.zeros([len(Xtrain),3])\n",
        "Xtest_PD=np.zeros([len(Xtest),3])\n",
        "\n",
        "for i in range(len(Xtrain)):\n",
        "  Xtrain_PD[i]=Xtrain[i][0][0][0:3]\n",
        "\n",
        "for i in range(len(Xtest)):\n",
        "  Xtest_PD[i]=Xtest[i][0][0][0:3]\n"
      ],
      "execution_count": 0,
      "outputs": []
    },
    {
      "cell_type": "code",
      "metadata": {
        "id": "mpoM4c89GilL",
        "colab_type": "code",
        "colab": {}
      },
      "source": [
        "#ARMAR PANDAS DE TODAS LAS IMAGENNES, SE BARAJAN Y SE DEJAN LOS INDICES SIN REINICIAR, PARA LUEGO ENCONTRAR LA IMAGEN QUE LE PERTENECE A CADA ETIQUETA.\n",
        "Xtrain_PD=pd.DataFrame(Xtrain_PD)\n",
        "Xtrain_PD[\"label\"]=Xtrain_label    \n",
        "Xtrain_PD = Xtrain_PD.sample(frac=1)#.reset_index(drop=True) #frac=1significa devolver todas las filas (en orden aleatorio).\n",
        "\n",
        "Xtest_PD=pd.DataFrame(Xtest_PD)\n",
        "Xtest_PD[\"label\"]=Xtest_label    \n",
        "Xtest_PD = Xtest_PD.sample(frac=1)"
      ],
      "execution_count": 0,
      "outputs": []
    },
    {
      "cell_type": "markdown",
      "metadata": {
        "id": "EjdPZOFN-P9d",
        "colab_type": "text"
      },
      "source": [
        "####**C:** Se particiona el conjuto de X_PD en Xtrain y Xtest, con 80%, 20% respectivamente y se sacan los Ytrain, Ytest por aparte."
      ]
    },
    {
      "cell_type": "code",
      "metadata": {
        "id": "qRFhRdcE9qj_",
        "colab_type": "code",
        "outputId": "4dd47eaf-f7ac-47e0-b634-1da2058f028f",
        "colab": {
          "base_uri": "https://localhost:8080/",
          "height": 34
        }
      },
      "source": [
        "#PARTICIONAR EL CONJUNTO DE XDATA EN XTRAIN Y XTEST\n",
        "#from sklearn.model_selection import train_test_split\n",
        "#Xtrain, Xtest = train_test_split(X_PD,test_size=0.2)\n",
        "\n",
        "col_sal=\"label\"\n",
        "Ytrain = Xtrain_PD[col_sal]\n",
        "Xtrain_PD.drop(columns=col_sal,inplace=True)\n",
        "Ytest = Xtest_PD[col_sal]\n",
        "Xtest_PD.drop(columns=col_sal,inplace=True)\n",
        "\n",
        "print(len(Ytrain),len(Ytest))"
      ],
      "execution_count": 10,
      "outputs": [
        {
          "output_type": "stream",
          "text": [
            "1600 400\n"
          ],
          "name": "stdout"
        }
      ]
    },
    {
      "cell_type": "markdown",
      "metadata": {
        "id": "4FlAT9CE-ogZ",
        "colab_type": "text"
      },
      "source": [
        "####**D:** Del pandas **X_PD** creado, se saca Ytrain, luego aquí,se sacan sus indices y se relacionan con la matrix de datos unidos **X** para armar el array **XTRAIN** que es el que va a la entrada de la red neuronal VGG-16."
      ]
    },
    {
      "cell_type": "code",
      "metadata": {
        "id": "xNSoYUIj70QB",
        "colab_type": "code",
        "outputId": "3f33c0df-0aae-4e03-80e7-d33cbcc2e287",
        "colab": {
          "base_uri": "https://localhost:8080/",
          "height": 34
        }
      },
      "source": [
        "#SE ARMA EL CONJUNTO XTRAIN FINAL, A PARTIR DE LOS INDICES DE LAS ETIQUETAS.\n",
        "\n",
        "def relacion_indices_etiquetas_con_XTRAIN(X,Y):\n",
        "  A=np.zeros([len(Y),224,224,3],dtype=np.uint8)\n",
        "  B=[]\n",
        "  for c,i in enumerate(Y.index):\n",
        "    A[c]=X[i]\n",
        "    B.append(Y[i])\n",
        "  return A,np.array(B)\n",
        "\n",
        "\n",
        "XTRAIN,YTRAIN = relacion_indices_etiquetas_con_XTRAIN(Xtrain,Ytrain)\n",
        "XTEST,YTEST = relacion_indices_etiquetas_con_XTRAIN(Xtest,Ytest)\n",
        "print('xtrain: ',XTRAIN.shape,YTRAIN.shape,'  xtest: ',XTEST.shape,YTEST.shape)\n",
        "\n",
        "#c = np.all(np.array(YTRAIN) == np.array(Ytrain))\n",
        "#Ytrain.index"
      ],
      "execution_count": 11,
      "outputs": [
        {
          "output_type": "stream",
          "text": [
            "xtrain:  (1600, 224, 224, 3) (1600,)   xtest:  (400, 224, 224, 3) (400,)\n"
          ],
          "name": "stdout"
        }
      ]
    },
    {
      "cell_type": "code",
      "metadata": {
        "id": "M-lxgxSTfm7u",
        "colab_type": "code",
        "outputId": "337f4d0b-7a97-4ddb-8657-462a3c15a2eb",
        "colab": {
          "base_uri": "https://localhost:8080/",
          "height": 34
        }
      },
      "source": [
        "#LAS PASAMOS A TENSOR, NO HAYNECESIDAD DE QUE YTRAIN SEA UN TENSOR.\n",
        "XTRAIN=tf.constant(XTRAIN)\n",
        "YTRAIN=tf.constant(YTRAIN)\n",
        "\n",
        "XTEST=tf.constant(XTEST)\n",
        "YTEST=tf.constant(YTEST)\n",
        "\n",
        "print(type(XTRAIN))"
      ],
      "execution_count": 12,
      "outputs": [
        {
          "output_type": "stream",
          "text": [
            "<class 'tensorflow.python.framework.ops.EagerTensor'>\n"
          ],
          "name": "stdout"
        }
      ]
    },
    {
      "cell_type": "code",
      "metadata": {
        "id": "NqVmpVA5-KRM",
        "colab_type": "code",
        "outputId": "f0adc406-c58f-4e1b-d0e7-69ddb0294881",
        "colab": {
          "base_uri": "https://localhost:8080/",
          "height": 281
        }
      },
      "source": [
        "plt.imshow(XTRAIN[5])\n",
        "plt.title('clase:%s'%YTRAIN[5])\n",
        "plt.show()\n"
      ],
      "execution_count": 13,
      "outputs": [
        {
          "output_type": "display_data",
          "data": {
            "image/png": "[encoded data removed]",
            "text/plain": [
              "<Figure size 432x288 with 1 Axes>"
            ]
          },
          "metadata": {
            "tags": [],
            "needs_background": "light"
          }
        }
      ]
    },
    {
      "cell_type": "markdown",
      "metadata": {
        "id": "QajCSoSIeCEm",
        "colab_type": "text"
      },
      "source": [
        "##**6. Importar el modelo de la ResNet50 y configurar el último bloque.**\n",
        "\n",
        "### Dejar la ultima capa y agregar la capa densa de salida, para que tenga 1 salida.  "
      ]
    },
    {
      "cell_type": "code",
      "metadata": {
        "id": "tf0CXg9BN5aH",
        "colab_type": "code",
        "outputId": "600a4313-1793-4b07-da8f-e65ddaef970c",
        "colab": {
          "base_uri": "https://localhost:8080/",
          "height": 1000
        }
      },
      "source": [
        "import tensorflow as tf\n",
        "\n",
        "model = tf.keras.applications.ResNet50(weights='imagenet')#,include_top=False)\n",
        "model= tf.keras.models.Model(inputs=model.input, outputs=model.layers[-3].output)#-2, quita solo la ultima capa\n",
        "\n",
        "#X =  tf.keras.layers.Dropout(0.2)(model.output)\n",
        "X= tf.keras.layers.GlobalMaxPool2D()(model.output) \n",
        "X1 = tf.keras.layers.Dense(1000, activation=\"tanh\", name='predictions')(X)\n",
        "X2 = tf.keras.layers.Dense(1000, activation=\"tanh\", name='predictions1')(X1)\n",
        "X3=tf.keras.layers.dot([X2, X1], axes=1, normalize=True)#PROBAR CON TRUE\n",
        "output = tf.keras.layers.Dense(1, activation=\"sigmoid\", name='salida')(X3)\n",
        "model = tf.keras.models.Model(inputs=model.input, outputs=output)\n",
        "\n",
        "model.summary()\n",
        "#tf.keras.utils.plot_model(model_GoogleNet,show_shapes=True, show_layer_names=True)"
      ],
      "execution_count": 14,
      "outputs": [
        {
          "output_type": "stream",
          "text": [
            "Downloading data from https://storage.googleapis.com/tensorflow/keras-applications/resnet/resnet50_weights_tf_dim_ordering_tf_kernels.h5\n",
            "102973440/102967424 [==============================] - 1s 0us/step\n",
            "Model: \"model_1\"\n",
            "__________________________________________________________________________________________________\n",
            "Layer (type)                    Output Shape         Param #     Connected to                     \n",
            "==================================================================================================\n",
            "input_1 (InputLayer)            [(None, 224, 224, 3) 0                                            \n",
            "__________________________________________________________________________________________________\n",
            "conv1_pad (ZeroPadding2D)       (None, 230, 230, 3)  0           input_1[0][0]                    \n",
            "__________________________________________________________________________________________________\n",
            "conv1_conv (Conv2D)             (None, 112, 112, 64) 9472        conv1_pad[0][0]                  \n",
            "__________________________________________________________________________________________________\n",
            "conv1_bn (BatchNormalization)   (None, 112, 112, 64) 256         conv1_conv[0][0]                 \n",
            "__________________________________________________________________________________________________\n",
            "conv1_relu (Activation)         (None, 112, 112, 64) 0           conv1_bn[0][0]                   \n",
            "__________________________________________________________________________________________________\n",
            "pool1_pad (ZeroPadding2D)       (None, 114, 114, 64) 0           conv1_relu[0][0]                 \n",
            "__________________________________________________________________________________________________\n",
            "pool1_pool (MaxPooling2D)       (None, 56, 56, 64)   0           pool1_pad[0][0]                  \n",
            "__________________________________________________________________________________________________\n",
            "conv2_block1_1_conv (Conv2D)    (None, 56, 56, 64)   4160        pool1_pool[0][0]                 \n",
            "__________________________________________________________________________________________________\n",
            "conv2_block1_1_bn (BatchNormali (None, 56, 56, 64)   256         conv2_block1_1_conv[0][0]        \n",
            "__________________________________________________________________________________________________\n",
            "conv2_block1_1_relu (Activation (None, 56, 56, 64)   0           conv2_block1_1_bn[0][0]          \n",
            "__________________________________________________________________________________________________\n",
            "conv2_block1_2_conv (Conv2D)    (None, 56, 56, 64)   36928       conv2_block1_1_relu[0][0]        \n",
            "__________________________________________________________________________________________________\n",
            "conv2_block1_2_bn (BatchNormali (None, 56, 56, 64)   256         conv2_block1_2_conv[0][0]        \n",
            "__________________________________________________________________________________________________\n",
            "conv2_block1_2_relu (Activation (None, 56, 56, 64)   0           conv2_block1_2_bn[0][0]          \n",
            "__________________________________________________________________________________________________\n",
            "conv2_block1_0_conv (Conv2D)    (None, 56, 56, 256)  16640       pool1_pool[0][0]                 \n",
            "__________________________________________________________________________________________________\n",
            "conv2_block1_3_conv (Conv2D)    (None, 56, 56, 256)  16640       conv2_block1_2_relu[0][0]        \n",
            "__________________________________________________________________________________________________\n",
            "conv2_block1_0_bn (BatchNormali (None, 56, 56, 256)  1024        conv2_block1_0_conv[0][0]        \n",
            "__________________________________________________________________________________________________\n",
            "conv2_block1_3_bn (BatchNormali (None, 56, 56, 256)  1024        conv2_block1_3_conv[0][0]        \n",
            "__________________________________________________________________________________________________\n",
            "conv2_block1_add (Add)          (None, 56, 56, 256)  0           conv2_block1_0_bn[0][0]          \n",
            "                                                                 conv2_block1_3_bn[0][0]          \n",
            "__________________________________________________________________________________________________\n",
            "conv2_block1_out (Activation)   (None, 56, 56, 256)  0           conv2_block1_add[0][0]           \n",
            "__________________________________________________________________________________________________\n",
            "conv2_block2_1_conv (Conv2D)    (None, 56, 56, 64)   16448       conv2_block1_out[0][0]           \n",
            "__________________________________________________________________________________________________\n",
            "conv2_block2_1_bn (BatchNormali (None, 56, 56, 64)   256         conv2_block2_1_conv[0][0]        \n",
            "__________________________________________________________________________________________________\n",
            "conv2_block2_1_relu (Activation (None, 56, 56, 64)   0           conv2_block2_1_bn[0][0]          \n",
            "__________________________________________________________________________________________________\n",
            "conv2_block2_2_conv (Conv2D)    (None, 56, 56, 64)   36928       conv2_block2_1_relu[0][0]        \n",
            "__________________________________________________________________________________________________\n",
            "conv2_block2_2_bn (BatchNormali (None, 56, 56, 64)   256         conv2_block2_2_conv[0][0]        \n",
            "__________________________________________________________________________________________________\n",
            "conv2_block2_2_relu (Activation (None, 56, 56, 64)   0           conv2_block2_2_bn[0][0]          \n",
            "__________________________________________________________________________________________________\n",
            "conv2_block2_3_conv (Conv2D)    (None, 56, 56, 256)  16640       conv2_block2_2_relu[0][0]        \n",
            "__________________________________________________________________________________________________\n",
            "conv2_block2_3_bn (BatchNormali (None, 56, 56, 256)  1024        conv2_block2_3_conv[0][0]        \n",
            "__________________________________________________________________________________________________\n",
            "conv2_block2_add (Add)          (None, 56, 56, 256)  0           conv2_block1_out[0][0]           \n",
            "                                                                 conv2_block2_3_bn[0][0]          \n",
            "__________________________________________________________________________________________________\n",
            "conv2_block2_out (Activation)   (None, 56, 56, 256)  0           conv2_block2_add[0][0]           \n",
            "__________________________________________________________________________________________________\n",
            "conv2_block3_1_conv (Conv2D)    (None, 56, 56, 64)   16448       conv2_block2_out[0][0]           \n",
            "__________________________________________________________________________________________________\n",
            "conv2_block3_1_bn (BatchNormali (None, 56, 56, 64)   256         conv2_block3_1_conv[0][0]        \n",
            "__________________________________________________________________________________________________\n",
            "conv2_block3_1_relu (Activation (None, 56, 56, 64)   0           conv2_block3_1_bn[0][0]          \n",
            "__________________________________________________________________________________________________\n",
            "conv2_block3_2_conv (Conv2D)    (None, 56, 56, 64)   36928       conv2_block3_1_relu[0][0]        \n",
            "__________________________________________________________________________________________________\n",
            "conv2_block3_2_bn (BatchNormali (None, 56, 56, 64)   256         conv2_block3_2_conv[0][0]        \n",
            "__________________________________________________________________________________________________\n",
            "conv2_block3_2_relu (Activation (None, 56, 56, 64)   0           conv2_block3_2_bn[0][0]          \n",
            "__________________________________________________________________________________________________\n",
            "conv2_block3_3_conv (Conv2D)    (None, 56, 56, 256)  16640       conv2_block3_2_relu[0][0]        \n",
            "__________________________________________________________________________________________________\n",
            "conv2_block3_3_bn (BatchNormali (None, 56, 56, 256)  1024        conv2_block3_3_conv[0][0]        \n",
            "__________________________________________________________________________________________________\n",
            "conv2_block3_add (Add)          (None, 56, 56, 256)  0           conv2_block2_out[0][0]           \n",
            "                                                                 conv2_block3_3_bn[0][0]          \n",
            "__________________________________________________________________________________________________\n",
            "conv2_block3_out (Activation)   (None, 56, 56, 256)  0           conv2_block3_add[0][0]           \n",
            "__________________________________________________________________________________________________\n",
            "conv3_block1_1_conv (Conv2D)    (None, 28, 28, 128)  32896       conv2_block3_out[0][0]           \n",
            "__________________________________________________________________________________________________\n",
            "conv3_block1_1_bn (BatchNormali (None, 28, 28, 128)  512         conv3_block1_1_conv[0][0]        \n",
            "__________________________________________________________________________________________________\n",
            "conv3_block1_1_relu (Activation (None, 28, 28, 128)  0           conv3_block1_1_bn[0][0]          \n",
            "__________________________________________________________________________________________________\n",
            "conv3_block1_2_conv (Conv2D)    (None, 28, 28, 128)  147584      conv3_block1_1_relu[0][0]        \n",
            "__________________________________________________________________________________________________\n",
            "conv3_block1_2_bn (BatchNormali (None, 28, 28, 128)  512         conv3_block1_2_conv[0][0]        \n",
            "__________________________________________________________________________________________________\n",
            "conv3_block1_2_relu (Activation (None, 28, 28, 128)  0           conv3_block1_2_bn[0][0]          \n",
            "__________________________________________________________________________________________________\n",
            "conv3_block1_0_conv (Conv2D)    (None, 28, 28, 512)  131584      conv2_block3_out[0][0]           \n",
            "__________________________________________________________________________________________________\n",
            "conv3_block1_3_conv (Conv2D)    (None, 28, 28, 512)  66048       conv3_block1_2_relu[0][0]        \n",
            "__________________________________________________________________________________________________\n",
            "conv3_block1_0_bn (BatchNormali (None, 28, 28, 512)  2048        conv3_block1_0_conv[0][0]        \n",
            "__________________________________________________________________________________________________\n",
            "conv3_block1_3_bn (BatchNormali (None, 28, 28, 512)  2048        conv3_block1_3_conv[0][0]        \n",
            "__________________________________________________________________________________________________\n",
            "conv3_block1_add (Add)          (None, 28, 28, 512)  0           conv3_block1_0_bn[0][0]          \n",
            "                                                                 conv3_block1_3_bn[0][0]          \n",
            "__________________________________________________________________________________________________\n",
            "conv3_block1_out (Activation)   (None, 28, 28, 512)  0           conv3_block1_add[0][0]           \n",
            "__________________________________________________________________________________________________\n",
            "conv3_block2_1_conv (Conv2D)    (None, 28, 28, 128)  65664       conv3_block1_out[0][0]           \n",
            "__________________________________________________________________________________________________\n",
            "conv3_block2_1_bn (BatchNormali (None, 28, 28, 128)  512         conv3_block2_1_conv[0][0]        \n",
            "__________________________________________________________________________________________________\n",
            "conv3_block2_1_relu (Activation (None, 28, 28, 128)  0           conv3_block2_1_bn[0][0]          \n",
            "__________________________________________________________________________________________________\n",
            "conv3_block2_2_conv (Conv2D)    (None, 28, 28, 128)  147584      conv3_block2_1_relu[0][0]        \n",
            "__________________________________________________________________________________________________\n",
            "conv3_block2_2_bn (BatchNormali (None, 28, 28, 128)  512         conv3_block2_2_conv[0][0]        \n",
            "__________________________________________________________________________________________________\n",
            "conv3_block2_2_relu (Activation (None, 28, 28, 128)  0           conv3_block2_2_bn[0][0]          \n",
            "__________________________________________________________________________________________________\n",
            "conv3_block2_3_conv (Conv2D)    (None, 28, 28, 512)  66048       conv3_block2_2_relu[0][0]        \n",
            "__________________________________________________________________________________________________\n",
            "conv3_block2_3_bn (BatchNormali (None, 28, 28, 512)  2048        conv3_block2_3_conv[0][0]        \n",
            "__________________________________________________________________________________________________\n",
            "conv3_block2_add (Add)          (None, 28, 28, 512)  0           conv3_block1_out[0][0]           \n",
            "                                                                 conv3_block2_3_bn[0][0]          \n",
            "__________________________________________________________________________________________________\n",
            "conv3_block2_out (Activation)   (None, 28, 28, 512)  0           conv3_block2_add[0][0]           \n",
            "__________________________________________________________________________________________________\n",
            "conv3_block3_1_conv (Conv2D)    (None, 28, 28, 128)  65664       conv3_block2_out[0][0]           \n",
            "__________________________________________________________________________________________________\n",
            "conv3_block3_1_bn (BatchNormali (None, 28, 28, 128)  512         conv3_block3_1_conv[0][0]        \n",
            "__________________________________________________________________________________________________\n",
            "conv3_block3_1_relu (Activation (None, 28, 28, 128)  0           conv3_block3_1_bn[0][0]          \n",
            "__________________________________________________________________________________________________\n",
            "conv3_block3_2_conv (Conv2D)    (None, 28, 28, 128)  147584      conv3_block3_1_relu[0][0]        \n",
            "__________________________________________________________________________________________________\n",
            "conv3_block3_2_bn (BatchNormali (None, 28, 28, 128)  512         conv3_block3_2_conv[0][0]        \n",
            "__________________________________________________________________________________________________\n",
            "conv3_block3_2_relu (Activation (None, 28, 28, 128)  0           conv3_block3_2_bn[0][0]          \n",
            "__________________________________________________________________________________________________\n",
            "conv3_block3_3_conv (Conv2D)    (None, 28, 28, 512)  66048       conv3_block3_2_relu[0][0]        \n",
            "__________________________________________________________________________________________________\n",
            "conv3_block3_3_bn (BatchNormali (None, 28, 28, 512)  2048        conv3_block3_3_conv[0][0]        \n",
            "__________________________________________________________________________________________________\n",
            "conv3_block3_add (Add)          (None, 28, 28, 512)  0           conv3_block2_out[0][0]           \n",
            "                                                                 conv3_block3_3_bn[0][0]          \n",
            "__________________________________________________________________________________________________\n",
            "conv3_block3_out (Activation)   (None, 28, 28, 512)  0           conv3_block3_add[0][0]           \n",
            "__________________________________________________________________________________________________\n",
            "conv3_block4_1_conv (Conv2D)    (None, 28, 28, 128)  65664       conv3_block3_out[0][0]           \n",
            "__________________________________________________________________________________________________\n",
            "conv3_block4_1_bn (BatchNormali (None, 28, 28, 128)  512         conv3_block4_1_conv[0][0]        \n",
            "__________________________________________________________________________________________________\n",
            "conv3_block4_1_relu (Activation (None, 28, 28, 128)  0           conv3_block4_1_bn[0][0]          \n",
            "__________________________________________________________________________________________________\n",
            "conv3_block4_2_conv (Conv2D)    (None, 28, 28, 128)  147584      conv3_block4_1_relu[0][0]        \n",
            "__________________________________________________________________________________________________\n",
            "conv3_block4_2_bn (BatchNormali (None, 28, 28, 128)  512         conv3_block4_2_conv[0][0]        \n",
            "__________________________________________________________________________________________________\n",
            "conv3_block4_2_relu (Activation (None, 28, 28, 128)  0           conv3_block4_2_bn[0][0]          \n",
            "__________________________________________________________________________________________________\n",
            "conv3_block4_3_conv (Conv2D)    (None, 28, 28, 512)  66048       conv3_block4_2_relu[0][0]        \n",
            "__________________________________________________________________________________________________\n",
            "conv3_block4_3_bn (BatchNormali (None, 28, 28, 512)  2048        conv3_block4_3_conv[0][0]        \n",
            "__________________________________________________________________________________________________\n",
            "conv3_block4_add (Add)          (None, 28, 28, 512)  0           conv3_block3_out[0][0]           \n",
            "                                                                 conv3_block4_3_bn[0][0]          \n",
            "__________________________________________________________________________________________________\n",
            "conv3_block4_out (Activation)   (None, 28, 28, 512)  0           conv3_block4_add[0][0]           \n",
            "__________________________________________________________________________________________________\n",
            "conv4_block1_1_conv (Conv2D)    (None, 14, 14, 256)  131328      conv3_block4_out[0][0]           \n",
            "__________________________________________________________________________________________________\n",
            "conv4_block1_1_bn (BatchNormali (None, 14, 14, 256)  1024        conv4_block1_1_conv[0][0]        \n",
            "__________________________________________________________________________________________________\n",
            "conv4_block1_1_relu (Activation (None, 14, 14, 256)  0           conv4_block1_1_bn[0][0]          \n",
            "__________________________________________________________________________________________________\n",
            "conv4_block1_2_conv (Conv2D)    (None, 14, 14, 256)  590080      conv4_block1_1_relu[0][0]        \n",
            "__________________________________________________________________________________________________\n",
            "conv4_block1_2_bn (BatchNormali (None, 14, 14, 256)  1024        conv4_block1_2_conv[0][0]        \n",
            "__________________________________________________________________________________________________\n",
            "conv4_block1_2_relu (Activation (None, 14, 14, 256)  0           conv4_block1_2_bn[0][0]          \n",
            "__________________________________________________________________________________________________\n",
            "conv4_block1_0_conv (Conv2D)    (None, 14, 14, 1024) 525312      conv3_block4_out[0][0]           \n",
            "__________________________________________________________________________________________________\n",
            "conv4_block1_3_conv (Conv2D)    (None, 14, 14, 1024) 263168      conv4_block1_2_relu[0][0]        \n",
            "__________________________________________________________________________________________________\n",
            "conv4_block1_0_bn (BatchNormali (None, 14, 14, 1024) 4096        conv4_block1_0_conv[0][0]        \n",
            "__________________________________________________________________________________________________\n",
            "conv4_block1_3_bn (BatchNormali (None, 14, 14, 1024) 4096        conv4_block1_3_conv[0][0]        \n",
            "__________________________________________________________________________________________________\n",
            "conv4_block1_add (Add)          (None, 14, 14, 1024) 0           conv4_block1_0_bn[0][0]          \n",
            "                                                                 conv4_block1_3_bn[0][0]          \n",
            "__________________________________________________________________________________________________\n",
            "conv4_block1_out (Activation)   (None, 14, 14, 1024) 0           conv4_block1_add[0][0]           \n",
            "__________________________________________________________________________________________________\n",
            "conv4_block2_1_conv (Conv2D)    (None, 14, 14, 256)  262400      conv4_block1_out[0][0]           \n",
            "__________________________________________________________________________________________________\n",
            "conv4_block2_1_bn (BatchNormali (None, 14, 14, 256)  1024        conv4_block2_1_conv[0][0]        \n",
            "__________________________________________________________________________________________________\n",
            "conv4_block2_1_relu (Activation (None, 14, 14, 256)  0           conv4_block2_1_bn[0][0]          \n",
            "__________________________________________________________________________________________________\n",
            "conv4_block2_2_conv (Conv2D)    (None, 14, 14, 256)  590080      conv4_block2_1_relu[0][0]        \n",
            "__________________________________________________________________________________________________\n",
            "conv4_block2_2_bn (BatchNormali (None, 14, 14, 256)  1024        conv4_block2_2_conv[0][0]        \n",
            "__________________________________________________________________________________________________\n",
            "conv4_block2_2_relu (Activation (None, 14, 14, 256)  0           conv4_block2_2_bn[0][0]          \n",
            "__________________________________________________________________________________________________\n",
            "conv4_block2_3_conv (Conv2D)    (None, 14, 14, 1024) 263168      conv4_block2_2_relu[0][0]        \n",
            "__________________________________________________________________________________________________\n",
            "conv4_block2_3_bn (BatchNormali (None, 14, 14, 1024) 4096        conv4_block2_3_conv[0][0]        \n",
            "__________________________________________________________________________________________________\n",
            "conv4_block2_add (Add)          (None, 14, 14, 1024) 0           conv4_block1_out[0][0]           \n",
            "                                                                 conv4_block2_3_bn[0][0]          \n",
            "__________________________________________________________________________________________________\n",
            "conv4_block2_out (Activation)   (None, 14, 14, 1024) 0           conv4_block2_add[0][0]           \n",
            "__________________________________________________________________________________________________\n",
            "conv4_block3_1_conv (Conv2D)    (None, 14, 14, 256)  262400      conv4_block2_out[0][0]           \n",
            "__________________________________________________________________________________________________\n",
            "conv4_block3_1_bn (BatchNormali (None, 14, 14, 256)  1024        conv4_block3_1_conv[0][0]        \n",
            "__________________________________________________________________________________________________\n",
            "conv4_block3_1_relu (Activation (None, 14, 14, 256)  0           conv4_block3_1_bn[0][0]          \n",
            "__________________________________________________________________________________________________\n",
            "conv4_block3_2_conv (Conv2D)    (None, 14, 14, 256)  590080      conv4_block3_1_relu[0][0]        \n",
            "__________________________________________________________________________________________________\n",
            "conv4_block3_2_bn (BatchNormali (None, 14, 14, 256)  1024        conv4_block3_2_conv[0][0]        \n",
            "__________________________________________________________________________________________________\n",
            "conv4_block3_2_relu (Activation (None, 14, 14, 256)  0           conv4_block3_2_bn[0][0]          \n",
            "__________________________________________________________________________________________________\n",
            "conv4_block3_3_conv (Conv2D)    (None, 14, 14, 1024) 263168      conv4_block3_2_relu[0][0]        \n",
            "__________________________________________________________________________________________________\n",
            "conv4_block3_3_bn (BatchNormali (None, 14, 14, 1024) 4096        conv4_block3_3_conv[0][0]        \n",
            "__________________________________________________________________________________________________\n",
            "conv4_block3_add (Add)          (None, 14, 14, 1024) 0           conv4_block2_out[0][0]           \n",
            "                                                                 conv4_block3_3_bn[0][0]          \n",
            "__________________________________________________________________________________________________\n",
            "conv4_block3_out (Activation)   (None, 14, 14, 1024) 0           conv4_block3_add[0][0]           \n",
            "__________________________________________________________________________________________________\n",
            "conv4_block4_1_conv (Conv2D)    (None, 14, 14, 256)  262400      conv4_block3_out[0][0]           \n",
            "__________________________________________________________________________________________________\n",
            "conv4_block4_1_bn (BatchNormali (None, 14, 14, 256)  1024        conv4_block4_1_conv[0][0]        \n",
            "__________________________________________________________________________________________________\n",
            "conv4_block4_1_relu (Activation (None, 14, 14, 256)  0           conv4_block4_1_bn[0][0]          \n",
            "__________________________________________________________________________________________________\n",
            "conv4_block4_2_conv (Conv2D)    (None, 14, 14, 256)  590080      conv4_block4_1_relu[0][0]        \n",
            "__________________________________________________________________________________________________\n",
            "conv4_block4_2_bn (BatchNormali (None, 14, 14, 256)  1024        conv4_block4_2_conv[0][0]        \n",
            "__________________________________________________________________________________________________\n",
            "conv4_block4_2_relu (Activation (None, 14, 14, 256)  0           conv4_block4_2_bn[0][0]          \n",
            "__________________________________________________________________________________________________\n",
            "conv4_block4_3_conv (Conv2D)    (None, 14, 14, 1024) 263168      conv4_block4_2_relu[0][0]        \n",
            "__________________________________________________________________________________________________\n",
            "conv4_block4_3_bn (BatchNormali (None, 14, 14, 1024) 4096        conv4_block4_3_conv[0][0]        \n",
            "__________________________________________________________________________________________________\n",
            "conv4_block4_add (Add)          (None, 14, 14, 1024) 0           conv4_block3_out[0][0]           \n",
            "                                                                 conv4_block4_3_bn[0][0]          \n",
            "__________________________________________________________________________________________________\n",
            "conv4_block4_out (Activation)   (None, 14, 14, 1024) 0           conv4_block4_add[0][0]           \n",
            "__________________________________________________________________________________________________\n",
            "conv4_block5_1_conv (Conv2D)    (None, 14, 14, 256)  262400      conv4_block4_out[0][0]           \n",
            "__________________________________________________________________________________________________\n",
            "conv4_block5_1_bn (BatchNormali (None, 14, 14, 256)  1024        conv4_block5_1_conv[0][0]        \n",
            "__________________________________________________________________________________________________\n",
            "conv4_block5_1_relu (Activation (None, 14, 14, 256)  0           conv4_block5_1_bn[0][0]          \n",
            "__________________________________________________________________________________________________\n",
            "conv4_block5_2_conv (Conv2D)    (None, 14, 14, 256)  590080      conv4_block5_1_relu[0][0]        \n",
            "__________________________________________________________________________________________________\n",
            "conv4_block5_2_bn (BatchNormali (None, 14, 14, 256)  1024        conv4_block5_2_conv[0][0]        \n",
            "__________________________________________________________________________________________________\n",
            "conv4_block5_2_relu (Activation (None, 14, 14, 256)  0           conv4_block5_2_bn[0][0]          \n",
            "__________________________________________________________________________________________________\n",
            "conv4_block5_3_conv (Conv2D)    (None, 14, 14, 1024) 263168      conv4_block5_2_relu[0][0]        \n",
            "__________________________________________________________________________________________________\n",
            "conv4_block5_3_bn (BatchNormali (None, 14, 14, 1024) 4096        conv4_block5_3_conv[0][0]        \n",
            "__________________________________________________________________________________________________\n",
            "conv4_block5_add (Add)          (None, 14, 14, 1024) 0           conv4_block4_out[0][0]           \n",
            "                                                                 conv4_block5_3_bn[0][0]          \n",
            "__________________________________________________________________________________________________\n",
            "conv4_block5_out (Activation)   (None, 14, 14, 1024) 0           conv4_block5_add[0][0]           \n",
            "__________________________________________________________________________________________________\n",
            "conv4_block6_1_conv (Conv2D)    (None, 14, 14, 256)  262400      conv4_block5_out[0][0]           \n",
            "__________________________________________________________________________________________________\n",
            "conv4_block6_1_bn (BatchNormali (None, 14, 14, 256)  1024        conv4_block6_1_conv[0][0]        \n",
            "__________________________________________________________________________________________________\n",
            "conv4_block6_1_relu (Activation (None, 14, 14, 256)  0           conv4_block6_1_bn[0][0]          \n",
            "__________________________________________________________________________________________________\n",
            "conv4_block6_2_conv (Conv2D)    (None, 14, 14, 256)  590080      conv4_block6_1_relu[0][0]        \n",
            "__________________________________________________________________________________________________\n",
            "conv4_block6_2_bn (BatchNormali (None, 14, 14, 256)  1024        conv4_block6_2_conv[0][0]        \n",
            "__________________________________________________________________________________________________\n",
            "conv4_block6_2_relu (Activation (None, 14, 14, 256)  0           conv4_block6_2_bn[0][0]          \n",
            "__________________________________________________________________________________________________\n",
            "conv4_block6_3_conv (Conv2D)    (None, 14, 14, 1024) 263168      conv4_block6_2_relu[0][0]        \n",
            "__________________________________________________________________________________________________\n",
            "conv4_block6_3_bn (BatchNormali (None, 14, 14, 1024) 4096        conv4_block6_3_conv[0][0]        \n",
            "__________________________________________________________________________________________________\n",
            "conv4_block6_add (Add)          (None, 14, 14, 1024) 0           conv4_block5_out[0][0]           \n",
            "                                                                 conv4_block6_3_bn[0][0]          \n",
            "__________________________________________________________________________________________________\n",
            "conv4_block6_out (Activation)   (None, 14, 14, 1024) 0           conv4_block6_add[0][0]           \n",
            "__________________________________________________________________________________________________\n",
            "conv5_block1_1_conv (Conv2D)    (None, 7, 7, 512)    524800      conv4_block6_out[0][0]           \n",
            "__________________________________________________________________________________________________\n",
            "conv5_block1_1_bn (BatchNormali (None, 7, 7, 512)    2048        conv5_block1_1_conv[0][0]        \n",
            "__________________________________________________________________________________________________\n",
            "conv5_block1_1_relu (Activation (None, 7, 7, 512)    0           conv5_block1_1_bn[0][0]          \n",
            "__________________________________________________________________________________________________\n",
            "conv5_block1_2_conv (Conv2D)    (None, 7, 7, 512)    2359808     conv5_block1_1_relu[0][0]        \n",
            "__________________________________________________________________________________________________\n",
            "conv5_block1_2_bn (BatchNormali (None, 7, 7, 512)    2048        conv5_block1_2_conv[0][0]        \n",
            "__________________________________________________________________________________________________\n",
            "conv5_block1_2_relu (Activation (None, 7, 7, 512)    0           conv5_block1_2_bn[0][0]          \n",
            "__________________________________________________________________________________________________\n",
            "conv5_block1_0_conv (Conv2D)    (None, 7, 7, 2048)   2099200     conv4_block6_out[0][0]           \n",
            "__________________________________________________________________________________________________\n",
            "conv5_block1_3_conv (Conv2D)    (None, 7, 7, 2048)   1050624     conv5_block1_2_relu[0][0]        \n",
            "__________________________________________________________________________________________________\n",
            "conv5_block1_0_bn (BatchNormali (None, 7, 7, 2048)   8192        conv5_block1_0_conv[0][0]        \n",
            "__________________________________________________________________________________________________\n",
            "conv5_block1_3_bn (BatchNormali (None, 7, 7, 2048)   8192        conv5_block1_3_conv[0][0]        \n",
            "__________________________________________________________________________________________________\n",
            "conv5_block1_add (Add)          (None, 7, 7, 2048)   0           conv5_block1_0_bn[0][0]          \n",
            "                                                                 conv5_block1_3_bn[0][0]          \n",
            "__________________________________________________________________________________________________\n",
            "conv5_block1_out (Activation)   (None, 7, 7, 2048)   0           conv5_block1_add[0][0]           \n",
            "__________________________________________________________________________________________________\n",
            "conv5_block2_1_conv (Conv2D)    (None, 7, 7, 512)    1049088     conv5_block1_out[0][0]           \n",
            "__________________________________________________________________________________________________\n",
            "conv5_block2_1_bn (BatchNormali (None, 7, 7, 512)    2048        conv5_block2_1_conv[0][0]        \n",
            "__________________________________________________________________________________________________\n",
            "conv5_block2_1_relu (Activation (None, 7, 7, 512)    0           conv5_block2_1_bn[0][0]          \n",
            "__________________________________________________________________________________________________\n",
            "conv5_block2_2_conv (Conv2D)    (None, 7, 7, 512)    2359808     conv5_block2_1_relu[0][0]        \n",
            "__________________________________________________________________________________________________\n",
            "conv5_block2_2_bn (BatchNormali (None, 7, 7, 512)    2048        conv5_block2_2_conv[0][0]        \n",
            "__________________________________________________________________________________________________\n",
            "conv5_block2_2_relu (Activation (None, 7, 7, 512)    0           conv5_block2_2_bn[0][0]          \n",
            "__________________________________________________________________________________________________\n",
            "conv5_block2_3_conv (Conv2D)    (None, 7, 7, 2048)   1050624     conv5_block2_2_relu[0][0]        \n",
            "__________________________________________________________________________________________________\n",
            "conv5_block2_3_bn (BatchNormali (None, 7, 7, 2048)   8192        conv5_block2_3_conv[0][0]        \n",
            "__________________________________________________________________________________________________\n",
            "conv5_block2_add (Add)          (None, 7, 7, 2048)   0           conv5_block1_out[0][0]           \n",
            "                                                                 conv5_block2_3_bn[0][0]          \n",
            "__________________________________________________________________________________________________\n",
            "conv5_block2_out (Activation)   (None, 7, 7, 2048)   0           conv5_block2_add[0][0]           \n",
            "__________________________________________________________________________________________________\n",
            "conv5_block3_1_conv (Conv2D)    (None, 7, 7, 512)    1049088     conv5_block2_out[0][0]           \n",
            "__________________________________________________________________________________________________\n",
            "conv5_block3_1_bn (BatchNormali (None, 7, 7, 512)    2048        conv5_block3_1_conv[0][0]        \n",
            "__________________________________________________________________________________________________\n",
            "conv5_block3_1_relu (Activation (None, 7, 7, 512)    0           conv5_block3_1_bn[0][0]          \n",
            "__________________________________________________________________________________________________\n",
            "conv5_block3_2_conv (Conv2D)    (None, 7, 7, 512)    2359808     conv5_block3_1_relu[0][0]        \n",
            "__________________________________________________________________________________________________\n",
            "conv5_block3_2_bn (BatchNormali (None, 7, 7, 512)    2048        conv5_block3_2_conv[0][0]        \n",
            "__________________________________________________________________________________________________\n",
            "conv5_block3_2_relu (Activation (None, 7, 7, 512)    0           conv5_block3_2_bn[0][0]          \n",
            "__________________________________________________________________________________________________\n",
            "conv5_block3_3_conv (Conv2D)    (None, 7, 7, 2048)   1050624     conv5_block3_2_relu[0][0]        \n",
            "__________________________________________________________________________________________________\n",
            "conv5_block3_3_bn (BatchNormali (None, 7, 7, 2048)   8192        conv5_block3_3_conv[0][0]        \n",
            "__________________________________________________________________________________________________\n",
            "conv5_block3_add (Add)          (None, 7, 7, 2048)   0           conv5_block2_out[0][0]           \n",
            "                                                                 conv5_block3_3_bn[0][0]          \n",
            "__________________________________________________________________________________________________\n",
            "conv5_block3_out (Activation)   (None, 7, 7, 2048)   0           conv5_block3_add[0][0]           \n",
            "__________________________________________________________________________________________________\n",
            "global_max_pooling2d (GlobalMax (None, 2048)         0           conv5_block3_out[0][0]           \n",
            "__________________________________________________________________________________________________\n",
            "predictions (Dense)             (None, 1000)         2049000     global_max_pooling2d[0][0]       \n",
            "__________________________________________________________________________________________________\n",
            "predictions1 (Dense)            (None, 1000)         1001000     predictions[0][0]                \n",
            "__________________________________________________________________________________________________\n",
            "dot (Dot)                       (None, 1)            0           predictions1[0][0]               \n",
            "                                                                 predictions[0][0]                \n",
            "__________________________________________________________________________________________________\n",
            "salida (Dense)                  (None, 1)            2           dot[0][0]                        \n",
            "==================================================================================================\n",
            "Total params: 26,637,714\n",
            "Trainable params: 26,584,594\n",
            "Non-trainable params: 53,120\n",
            "__________________________________________________________________________________________________\n"
          ],
          "name": "stdout"
        }
      ]
    },
    {
      "cell_type": "code",
      "metadata": {
        "id": "7fGtZsYu191T",
        "colab_type": "code",
        "colab": {}
      },
      "source": [
        "#SE CONGELAN LOS PESOS DE TODAS LAS CAPAS MENOS DE LAS cuatro ULTIMAS CAPAS\n",
        "for layer in model.layers[:-4]:\n",
        "  layer.trainable=False"
      ],
      "execution_count": 0,
      "outputs": []
    },
    {
      "cell_type": "code",
      "metadata": {
        "id": "HDSJgVPMUKoK",
        "colab_type": "code",
        "outputId": "983104c6-9715-48aa-eda7-1ba1d80b2eb0",
        "colab": {
          "base_uri": "https://localhost:8080/",
          "height": 1000
        }
      },
      "source": [
        "#SE VERIFICA QUE LAS CUATRO ULTIMAS CAPAS ESTE EN TRUE Y LAS DEMÁS EN FALSE\n",
        "for layer in model.layers:\n",
        "  layer, layer.trainable\n",
        "  print(layer, layer.trainable)"
      ],
      "execution_count": 16,
      "outputs": [
        {
          "output_type": "stream",
          "text": [
            "<tensorflow.python.keras.engine.input_layer.InputLayer object at 0x7f41c0086518> False\n",
            "<tensorflow.python.keras.layers.convolutional.ZeroPadding2D object at 0x7f41e58f8828> False\n",
            "<tensorflow.python.keras.layers.convolutional.Conv2D object at 0x7f41c0069898> False\n",
            "<tensorflow.python.keras.layers.normalization_v2.BatchNormalization object at 0x7f41c0095978> False\n",
            "<tensorflow.python.keras.layers.core.Activation object at 0x7f416c1eab70> False\n",
            "<tensorflow.python.keras.layers.convolutional.ZeroPadding2D object at 0x7f416c1ea278> False\n",
            "<tensorflow.python.keras.layers.pooling.MaxPooling2D object at 0x7f416c1bdd30> False\n",
            "<tensorflow.python.keras.layers.convolutional.Conv2D object at 0x7f416c1cb198> False\n",
            "<tensorflow.python.keras.layers.normalization_v2.BatchNormalization object at 0x7f416c173a20> False\n",
            "<tensorflow.python.keras.layers.core.Activation object at 0x7f416c17aba8> False\n",
            "<tensorflow.python.keras.layers.convolutional.Conv2D object at 0x7f416c17a390> False\n",
            "<tensorflow.python.keras.layers.normalization_v2.BatchNormalization object at 0x7f416c11fef0> False\n",
            "<tensorflow.python.keras.layers.core.Activation object at 0x7f416c126f28> False\n",
            "<tensorflow.python.keras.layers.convolutional.Conv2D object at 0x7f416c1c52e8> False\n",
            "<tensorflow.python.keras.layers.convolutional.Conv2D object at 0x7f416c126748> False\n",
            "<tensorflow.python.keras.layers.normalization_v2.BatchNormalization object at 0x7f416c1c5c18> False\n",
            "<tensorflow.python.keras.layers.normalization_v2.BatchNormalization object at 0x7f416c156320> False\n",
            "<tensorflow.python.keras.layers.merge.Add object at 0x7f416c156860> False\n",
            "<tensorflow.python.keras.layers.core.Activation object at 0x7f416c15a400> False\n",
            "<tensorflow.python.keras.layers.convolutional.Conv2D object at 0x7f416c102908> False\n",
            "<tensorflow.python.keras.layers.normalization_v2.BatchNormalization object at 0x7f416c102c88> False\n",
            "<tensorflow.python.keras.layers.core.Activation object at 0x7f416c108e48> False\n",
            "<tensorflow.python.keras.layers.convolutional.Conv2D object at 0x7f416c1085f8> False\n",
            "<tensorflow.python.keras.layers.normalization_v2.BatchNormalization object at 0x7f416c0ba128> False\n",
            "<tensorflow.python.keras.layers.core.Activation object at 0x7f416c0ba9b0> False\n",
            "<tensorflow.python.keras.layers.convolutional.Conv2D object at 0x7f416c0c12e8> False\n",
            "<tensorflow.python.keras.layers.normalization_v2.BatchNormalization object at 0x7f416c0665c0> False\n",
            "<tensorflow.python.keras.layers.merge.Add object at 0x7f416c066b00> False\n",
            "<tensorflow.python.keras.layers.core.Activation object at 0x7f416c06e6a0> False\n",
            "<tensorflow.python.keras.layers.convolutional.Conv2D object at 0x7f416c094ba8> False\n",
            "<tensorflow.python.keras.layers.normalization_v2.BatchNormalization object at 0x7f416c094f98> False\n",
            "<tensorflow.python.keras.layers.core.Activation object at 0x7f416c099fd0> False\n",
            "<tensorflow.python.keras.layers.convolutional.Conv2D object at 0x7f416c040dd8> False\n",
            "<tensorflow.python.keras.layers.normalization_v2.BatchNormalization object at 0x7f416c0493c8> False\n",
            "<tensorflow.python.keras.layers.core.Activation object at 0x7f416c049c50> False\n",
            "<tensorflow.python.keras.layers.convolutional.Conv2D object at 0x7f416c0505c0> False\n",
            "<tensorflow.python.keras.layers.normalization_v2.BatchNormalization object at 0x7f41cf338cc0> False\n",
            "<tensorflow.python.keras.layers.merge.Add object at 0x7f41c0062f28> False\n",
            "<tensorflow.python.keras.layers.core.Activation object at 0x7f41c0062080> False\n",
            "<tensorflow.python.keras.layers.convolutional.Conv2D object at 0x7f41c0080c18> False\n",
            "<tensorflow.python.keras.layers.normalization_v2.BatchNormalization object at 0x7f41c94b46a0> False\n",
            "<tensorflow.python.keras.layers.core.Activation object at 0x7f41c9561908> False\n",
            "<tensorflow.python.keras.layers.convolutional.Conv2D object at 0x7f41c95613c8> False\n",
            "<tensorflow.python.keras.layers.normalization_v2.BatchNormalization object at 0x7f41c9550550> False\n",
            "<tensorflow.python.keras.layers.core.Activation object at 0x7f42218612b0> False\n",
            "<tensorflow.python.keras.layers.convolutional.Conv2D object at 0x7f41c94a1518> False\n",
            "<tensorflow.python.keras.layers.convolutional.Conv2D object at 0x7f41c99cb2e8> False\n",
            "<tensorflow.python.keras.layers.normalization_v2.BatchNormalization object at 0x7f41c94a1630> False\n",
            "<tensorflow.python.keras.layers.normalization_v2.BatchNormalization object at 0x7f41c9541908> False\n",
            "<tensorflow.python.keras.layers.merge.Add object at 0x7f41c99fa518> False\n",
            "<tensorflow.python.keras.layers.core.Activation object at 0x7f41c99fa4e0> False\n",
            "<tensorflow.python.keras.layers.convolutional.Conv2D object at 0x7f41c9a22908> False\n",
            "<tensorflow.python.keras.layers.normalization_v2.BatchNormalization object at 0x7f41c9a16390> False\n",
            "<tensorflow.python.keras.layers.core.Activation object at 0x7f41c9a16c18> False\n",
            "<tensorflow.python.keras.layers.convolutional.Conv2D object at 0x7f41c9a13588> False\n",
            "<tensorflow.python.keras.layers.normalization_v2.BatchNormalization object at 0x7f41c94e8860> False\n",
            "<tensorflow.python.keras.layers.core.Activation object at 0x7f41c94e8f98> False\n",
            "<tensorflow.python.keras.layers.convolutional.Conv2D object at 0x7f41c9506160> False\n",
            "<tensorflow.python.keras.layers.normalization_v2.BatchNormalization object at 0x7f4154ff4da0> False\n",
            "<tensorflow.python.keras.layers.merge.Add object at 0x7f4154f7bf60> False\n",
            "<tensorflow.python.keras.layers.core.Activation object at 0x7f4154f7b630> False\n",
            "<tensorflow.python.keras.layers.convolutional.Conv2D object at 0x7f4154fa8400> False\n",
            "<tensorflow.python.keras.layers.normalization_v2.BatchNormalization object at 0x7f4154fa8748> False\n",
            "<tensorflow.python.keras.layers.core.Activation object at 0x7f4154fa8f28> False\n",
            "<tensorflow.python.keras.layers.convolutional.Conv2D object at 0x7f4154fac940> False\n",
            "<tensorflow.python.keras.layers.normalization_v2.BatchNormalization object at 0x7f4154f54c50> False\n",
            "<tensorflow.python.keras.layers.core.Activation object at 0x7f4154f5ae10> False\n",
            "<tensorflow.python.keras.layers.convolutional.Conv2D object at 0x7f4154f5a5c0> False\n",
            "<tensorflow.python.keras.layers.normalization_v2.BatchNormalization object at 0x7f4154f07160> False\n",
            "<tensorflow.python.keras.layers.merge.Add object at 0x7f4154f076a0> False\n",
            "<tensorflow.python.keras.layers.core.Activation object at 0x7f4154f0c2e8> False\n",
            "<tensorflow.python.keras.layers.convolutional.Conv2D object at 0x7f4154f337b8> False\n",
            "<tensorflow.python.keras.layers.normalization_v2.BatchNormalization object at 0x7f4154f33ba8> False\n",
            "<tensorflow.python.keras.layers.core.Activation object at 0x7f4154f38cf8> False\n",
            "<tensorflow.python.keras.layers.convolutional.Conv2D object at 0x7f4154f384a8> False\n",
            "<tensorflow.python.keras.layers.normalization_v2.BatchNormalization object at 0x7f4154ee81d0> False\n",
            "<tensorflow.python.keras.layers.core.Activation object at 0x7f4154ee8898> False\n",
            "<tensorflow.python.keras.layers.convolutional.Conv2D object at 0x7f4154eef1d0> False\n",
            "<tensorflow.python.keras.layers.normalization_v2.BatchNormalization object at 0x7f4154e95518> False\n",
            "<tensorflow.python.keras.layers.merge.Add object at 0x7f4154e95a58> False\n",
            "<tensorflow.python.keras.layers.core.Activation object at 0x7f4154e9d5f8> False\n",
            "<tensorflow.python.keras.layers.convolutional.Conv2D object at 0x7f4154e4b438> False\n",
            "<tensorflow.python.keras.layers.normalization_v2.BatchNormalization object at 0x7f4154e76128> False\n",
            "<tensorflow.python.keras.layers.core.Activation object at 0x7f4154e76fd0> False\n",
            "<tensorflow.python.keras.layers.convolutional.Conv2D object at 0x7f4154e1feb8> False\n",
            "<tensorflow.python.keras.layers.normalization_v2.BatchNormalization object at 0x7f4154e25438> False\n",
            "<tensorflow.python.keras.layers.core.Activation object at 0x7f4154e25cc0> False\n",
            "<tensorflow.python.keras.layers.convolutional.Conv2D object at 0x7f4154e44b70> False\n",
            "<tensorflow.python.keras.layers.convolutional.Conv2D object at 0x7f4154e2e630> False\n",
            "<tensorflow.python.keras.layers.normalization_v2.BatchNormalization object at 0x7f4154e44f60> False\n",
            "<tensorflow.python.keras.layers.normalization_v2.BatchNormalization object at 0x7f4154dd4940> False\n",
            "<tensorflow.python.keras.layers.merge.Add object at 0x7f4154dd90f0> False\n",
            "<tensorflow.python.keras.layers.core.Activation object at 0x7f4154dd9ac8> False\n",
            "<tensorflow.python.keras.layers.convolutional.Conv2D object at 0x7f4154d81c50> False\n",
            "<tensorflow.python.keras.layers.normalization_v2.BatchNormalization object at 0x7f4154d89320> False\n",
            "<tensorflow.python.keras.layers.core.Activation object at 0x7f4154d89ba8> False\n",
            "<tensorflow.python.keras.layers.convolutional.Conv2D object at 0x7f4154d904e0> False\n",
            "<tensorflow.python.keras.layers.normalization_v2.BatchNormalization object at 0x7f4154db67f0> False\n",
            "<tensorflow.python.keras.layers.core.Activation object at 0x7f4154db6f28> False\n",
            "<tensorflow.python.keras.layers.convolutional.Conv2D object at 0x7f4154d3e8d0> False\n",
            "<tensorflow.python.keras.layers.normalization_v2.BatchNormalization object at 0x7f4154d65d30> False\n",
            "<tensorflow.python.keras.layers.merge.Add object at 0x7f4154d694a8> False\n",
            "<tensorflow.python.keras.layers.core.Activation object at 0x7f4154d69e80> False\n",
            "<tensorflow.python.keras.layers.convolutional.Conv2D object at 0x7f4154d18320> False\n",
            "<tensorflow.python.keras.layers.normalization_v2.BatchNormalization object at 0x7f4154d186d8> False\n",
            "<tensorflow.python.keras.layers.core.Activation object at 0x7f4154d18eb8> False\n",
            "<tensorflow.python.keras.layers.convolutional.Conv2D object at 0x7f4154d1e8d0> False\n",
            "<tensorflow.python.keras.layers.normalization_v2.BatchNormalization object at 0x7f4154cc7be0> False\n",
            "<tensorflow.python.keras.layers.core.Activation object at 0x7f4154ccbda0> False\n",
            "<tensorflow.python.keras.layers.convolutional.Conv2D object at 0x7f4154ccb550> False\n",
            "<tensorflow.python.keras.layers.normalization_v2.BatchNormalization object at 0x7f4154c7b0f0> False\n",
            "<tensorflow.python.keras.layers.merge.Add object at 0x7f4154c7b630> False\n",
            "<tensorflow.python.keras.layers.core.Activation object at 0x7f4154c81278> False\n",
            "<tensorflow.python.keras.layers.convolutional.Conv2D object at 0x7f4154caa748> False\n",
            "<tensorflow.python.keras.layers.normalization_v2.BatchNormalization object at 0x7f4154caaa90> False\n",
            "<tensorflow.python.keras.layers.core.Activation object at 0x7f4154cb1c88> False\n",
            "<tensorflow.python.keras.layers.convolutional.Conv2D object at 0x7f4154cb1470> False\n",
            "<tensorflow.python.keras.layers.normalization_v2.BatchNormalization object at 0x7f4154c5d470> False\n",
            "<tensorflow.python.keras.layers.core.Activation object at 0x7f4154c5d828> False\n",
            "<tensorflow.python.keras.layers.convolutional.Conv2D object at 0x7f4154c64160> False\n",
            "<tensorflow.python.keras.layers.normalization_v2.BatchNormalization object at 0x7f4154c094a8> False\n",
            "<tensorflow.python.keras.layers.merge.Add object at 0x7f4154c099e8> False\n",
            "<tensorflow.python.keras.layers.core.Activation object at 0x7f4154c15588> False\n",
            "<tensorflow.python.keras.layers.convolutional.Conv2D object at 0x7f4154c38b00> False\n",
            "<tensorflow.python.keras.layers.normalization_v2.BatchNormalization object at 0x7f4154c38ef0> False\n",
            "<tensorflow.python.keras.layers.core.Activation object at 0x7f4154bc0f28> False\n",
            "<tensorflow.python.keras.layers.convolutional.Conv2D object at 0x7f4154bc0748> False\n",
            "<tensorflow.python.keras.layers.normalization_v2.BatchNormalization object at 0x7f4154bef358> False\n",
            "<tensorflow.python.keras.layers.core.Activation object at 0x7f4154befbe0> False\n",
            "<tensorflow.python.keras.layers.convolutional.Conv2D object at 0x7f4154bf6550> False\n",
            "<tensorflow.python.keras.layers.normalization_v2.BatchNormalization object at 0x7f4154b9b860> False\n",
            "<tensorflow.python.keras.layers.merge.Add object at 0x7f4154ba3a20> False\n",
            "<tensorflow.python.keras.layers.core.Activation object at 0x7f4154ba39e8> False\n",
            "<tensorflow.python.keras.layers.convolutional.Conv2D object at 0x7f4154b49b70> False\n",
            "<tensorflow.python.keras.layers.normalization_v2.BatchNormalization object at 0x7f4154b50240> False\n",
            "<tensorflow.python.keras.layers.core.Activation object at 0x7f4154b50ac8> False\n",
            "<tensorflow.python.keras.layers.convolutional.Conv2D object at 0x7f4154b58438> False\n",
            "<tensorflow.python.keras.layers.normalization_v2.BatchNormalization object at 0x7f4154aff710> False\n",
            "<tensorflow.python.keras.layers.core.Activation object at 0x7f4154affef0> False\n",
            "<tensorflow.python.keras.layers.convolutional.Conv2D object at 0x7f4154b048d0> False\n",
            "<tensorflow.python.keras.layers.normalization_v2.BatchNormalization object at 0x7f4154b2ac50> False\n",
            "<tensorflow.python.keras.layers.merge.Add object at 0x7f4154b313c8> False\n",
            "<tensorflow.python.keras.layers.core.Activation object at 0x7f4154b31da0> False\n",
            "<tensorflow.python.keras.layers.convolutional.Conv2D object at 0x7f4154ae0b38> False\n",
            "<tensorflow.python.keras.layers.normalization_v2.BatchNormalization object at 0x7f4154a90320> False\n",
            "<tensorflow.python.keras.layers.core.Activation object at 0x7f4154a90eb8> False\n",
            "<tensorflow.python.keras.layers.convolutional.Conv2D object at 0x7f4154a96828> False\n",
            "<tensorflow.python.keras.layers.normalization_v2.BatchNormalization object at 0x7f4154a3db70> False\n",
            "<tensorflow.python.keras.layers.core.Activation object at 0x7f4154a43d30> False\n",
            "<tensorflow.python.keras.layers.convolutional.Conv2D object at 0x7f4154ad9b70> False\n",
            "<tensorflow.python.keras.layers.convolutional.Conv2D object at 0x7f4154a434e0> False\n",
            "<tensorflow.python.keras.layers.normalization_v2.BatchNormalization object at 0x7f4154ae05f8> False\n",
            "<tensorflow.python.keras.layers.normalization_v2.BatchNormalization object at 0x7f4154a72080> False\n",
            "<tensorflow.python.keras.layers.merge.Add object at 0x7f4154a725c0> False\n",
            "<tensorflow.python.keras.layers.core.Activation object at 0x7f4154a78208> False\n",
            "<tensorflow.python.keras.layers.convolutional.Conv2D object at 0x7f4154a1d6d8> False\n",
            "<tensorflow.python.keras.layers.normalization_v2.BatchNormalization object at 0x7f4154a1da20> False\n",
            "<tensorflow.python.keras.layers.core.Activation object at 0x7f4154a25c18> False\n",
            "<tensorflow.python.keras.layers.convolutional.Conv2D object at 0x7f4154a25400> False\n",
            "<tensorflow.python.keras.layers.normalization_v2.BatchNormalization object at 0x7f41549ccf98> False\n",
            "<tensorflow.python.keras.layers.core.Activation object at 0x7f41549d4fd0> False\n",
            "<tensorflow.python.keras.layers.convolutional.Conv2D object at 0x7f41549f7eb8> False\n",
            "<tensorflow.python.keras.layers.normalization_v2.BatchNormalization object at 0x7f415497f438> False\n",
            "<tensorflow.python.keras.layers.merge.Add object at 0x7f415497f978> False\n",
            "<tensorflow.python.keras.layers.core.Activation object at 0x7f4154989518> False\n",
            "<tensorflow.python.keras.layers.convolutional.Conv2D object at 0x7f41549aea90> False\n",
            "<tensorflow.python.keras.layers.normalization_v2.BatchNormalization object at 0x7f41549aee10> False\n",
            "<tensorflow.python.keras.layers.core.Activation object at 0x7f41549b7fd0> False\n",
            "<tensorflow.python.keras.layers.convolutional.Conv2D object at 0x7f41549b76d8> False\n",
            "<tensorflow.python.keras.layers.normalization_v2.BatchNormalization object at 0x7f41549642e8> False\n",
            "<tensorflow.python.keras.layers.core.Activation object at 0x7f4154964b70> False\n",
            "<tensorflow.python.keras.layers.convolutional.Conv2D object at 0x7f415496a4a8> False\n",
            "<tensorflow.python.keras.layers.normalization_v2.BatchNormalization object at 0x7f41549117f0> False\n",
            "<tensorflow.python.keras.layers.merge.Add object at 0x7f4154911fd0> False\n",
            "<tensorflow.python.keras.layers.core.Activation object at 0x7f415491a978> False\n",
            "<tensorflow.python.keras.layers.pooling.GlobalMaxPooling2D object at 0x7f415489f550> False\n",
            "<tensorflow.python.keras.layers.core.Dense object at 0x7f415489f4a8> True\n",
            "<tensorflow.python.keras.layers.core.Dense object at 0x7f415489ff60> True\n",
            "<tensorflow.python.keras.layers.merge.Dot object at 0x7f4154844cf8> True\n",
            "<tensorflow.python.keras.layers.core.Dense object at 0x7f4154844d68> True\n"
          ],
          "name": "stdout"
        }
      ]
    },
    {
      "cell_type": "markdown",
      "metadata": {
        "id": "jEGBQQ8j7o1r",
        "colab_type": "text"
      },
      "source": [
        "##**6. Definir el optimizador para la funcion de costo, así como la funcion de pérdida y las metricas de evaluación del odelo a través de la compilacion del modelo.**\n",
        "\n",
        "Loss $\\hspace{1em} \\rightarrow \\hspace{1em}$ $-ylog(x)\\hat{y} + (1-y)log(1-\\hat{y}) $ \n"
      ]
    },
    {
      "cell_type": "code",
      "metadata": {
        "id": "n0VAt8V_1OvU",
        "colab_type": "code",
        "colab": {}
      },
      "source": [
        "#DEFINIR OPTIMIZADOR, FUNCIONES DE PERIDA Y METRICAS\n",
        "#optimizer = tf.keras.optimizers.SGD(learning_rate=0.001, momentum=0.9)\n",
        "optimizer = tf.keras.optimizers.Adam(learning_rate=0.001)#, beta_1=0.9, beta_2=0.999, epsilon=1e-07)\n",
        "#loss='mean_squared_logariic_errorthm'\n",
        "model.compile(loss='binary_crossentropy', optimizer=optimizer, metrics=['mse','mae','accuracy','Recall','Precision'])#,"
      ],
      "execution_count": 0,
      "outputs": []
    },
    {
      "cell_type": "markdown",
      "metadata": {
        "id": "7UUX2Kpy7Ya4",
        "colab_type": "text"
      },
      "source": [
        "##**7. Entrenar el modelo con XTRAIN como un array de 4 dimensiones.**\n",
        "\n",
        "---\n",
        "\n",
        "\n"
      ]
    },
    {
      "cell_type": "code",
      "metadata": {
        "id": "gegszIDZE3C0",
        "colab_type": "code",
        "outputId": "c4640509-94a8-4a38-b796-f256e91b56ef",
        "colab": {
          "base_uri": "https://localhost:8080/",
          "height": 34
        }
      },
      "source": [
        "print(len(XTRAIN),len(YTRAIN))\n"
      ],
      "execution_count": 18,
      "outputs": [
        {
          "output_type": "stream",
          "text": [
            "1600 1600\n"
          ],
          "name": "stdout"
        }
      ]
    },
    {
      "cell_type": "code",
      "metadata": {
        "id": "WHXivSHN9b5_",
        "colab_type": "code",
        "outputId": "557c8bd5-ae0b-4b22-88c0-7e90d9a6c8d2",
        "colab": {
          "base_uri": "https://localhost:8080/",
          "height": 1000
        }
      },
      "source": [
        "#ENTRENAR EL MODELO CREADO\n",
        "history=model.fit(XTRAIN,YTRAIN,epochs=250,batch_size=64)               "
      ],
      "execution_count": 19,
      "outputs": [
        {
          "output_type": "stream",
          "text": [
            "Epoch 1/250\n",
            "WARNING:tensorflow:From /usr/local/lib/python3.6/dist-packages/tensorflow/python/ops/resource_variable_ops.py:1817: calling BaseResourceVariable.__init__ (from tensorflow.python.ops.resource_variable_ops) with constraint is deprecated and will be removed in a future version.\n",
            "Instructions for updating:\n",
            "If using Keras pass *_constraint arguments to layers.\n",
            "25/25 [==============================] - 2s 94ms/step - loss: 0.6813 - mse: 0.2441 - mae: 0.4922 - accuracy: 0.6050 - recall: 0.6488 - precision: 0.5966\n",
            "Epoch 2/250\n",
            "25/25 [==============================] - 2s 94ms/step - loss: 0.6231 - mse: 0.2154 - mae: 0.4603 - accuracy: 0.7487 - recall: 0.7650 - precision: 0.7409\n",
            "Epoch 3/250\n",
            "25/25 [==============================] - 2s 94ms/step - loss: 0.5902 - mse: 0.1993 - mae: 0.4403 - accuracy: 0.7900 - recall: 0.8138 - precision: 0.7768\n",
            "Epoch 4/250\n",
            "25/25 [==============================] - 2s 94ms/step - loss: 0.5881 - mse: 0.1984 - mae: 0.4376 - accuracy: 0.7675 - recall: 0.7725 - precision: 0.7649\n",
            "Epoch 5/250\n",
            "25/25 [==============================] - 2s 94ms/step - loss: 0.5742 - mse: 0.1917 - mae: 0.4293 - accuracy: 0.7875 - recall: 0.7900 - precision: 0.7861\n",
            "Epoch 6/250\n",
            "25/25 [==============================] - 2s 94ms/step - loss: 0.5588 - mse: 0.1843 - mae: 0.4209 - accuracy: 0.8175 - recall: 0.8250 - precision: 0.8128\n",
            "Epoch 7/250\n",
            "25/25 [==============================] - 2s 94ms/step - loss: 0.5535 - mse: 0.1818 - mae: 0.4176 - accuracy: 0.8219 - recall: 0.8300 - precision: 0.8167\n",
            "Epoch 8/250\n",
            "25/25 [==============================] - 2s 94ms/step - loss: 0.5500 - mse: 0.1803 - mae: 0.4135 - accuracy: 0.8069 - recall: 0.8313 - precision: 0.7926\n",
            "Epoch 9/250\n",
            "25/25 [==============================] - 2s 95ms/step - loss: 0.5389 - mse: 0.1750 - mae: 0.4073 - accuracy: 0.8263 - recall: 0.8188 - precision: 0.8312\n",
            "Epoch 10/250\n",
            "25/25 [==============================] - 2s 94ms/step - loss: 0.5411 - mse: 0.1764 - mae: 0.4047 - accuracy: 0.7931 - recall: 0.7887 - precision: 0.7957\n",
            "Epoch 11/250\n",
            "25/25 [==============================] - 2s 94ms/step - loss: 0.5270 - mse: 0.1698 - mae: 0.3954 - accuracy: 0.8125 - recall: 0.8350 - precision: 0.7990\n",
            "Epoch 12/250\n",
            "25/25 [==============================] - 2s 94ms/step - loss: 0.5158 - mse: 0.1645 - mae: 0.3901 - accuracy: 0.8294 - recall: 0.8200 - precision: 0.8357\n",
            "Epoch 13/250\n",
            "25/25 [==============================] - 2s 94ms/step - loss: 0.5092 - mse: 0.1613 - mae: 0.3870 - accuracy: 0.8469 - recall: 0.8625 - precision: 0.8364\n",
            "Epoch 14/250\n",
            "25/25 [==============================] - 2s 94ms/step - loss: 0.4988 - mse: 0.1565 - mae: 0.3805 - accuracy: 0.8456 - recall: 0.8475 - precision: 0.8443\n",
            "Epoch 15/250\n",
            "25/25 [==============================] - 2s 94ms/step - loss: 0.4900 - mse: 0.1526 - mae: 0.3735 - accuracy: 0.8512 - recall: 0.8575 - precision: 0.8469\n",
            "Epoch 16/250\n",
            "25/25 [==============================] - 2s 94ms/step - loss: 0.4995 - mse: 0.1570 - mae: 0.3794 - accuracy: 0.8444 - recall: 0.8438 - precision: 0.8448\n",
            "Epoch 17/250\n",
            "25/25 [==============================] - 2s 94ms/step - loss: 0.4708 - mse: 0.1436 - mae: 0.3623 - accuracy: 0.8712 - recall: 0.8662 - precision: 0.8750\n",
            "Epoch 18/250\n",
            "25/25 [==============================] - 2s 94ms/step - loss: 0.4795 - mse: 0.1477 - mae: 0.3683 - accuracy: 0.8656 - recall: 0.8575 - precision: 0.8717\n",
            "Epoch 19/250\n",
            "25/25 [==============================] - 2s 93ms/step - loss: 0.4790 - mse: 0.1481 - mae: 0.3639 - accuracy: 0.8537 - recall: 0.8637 - precision: 0.8468\n",
            "Epoch 20/250\n",
            "25/25 [==============================] - 2s 94ms/step - loss: 0.4602 - mse: 0.1394 - mae: 0.3523 - accuracy: 0.8656 - recall: 0.8475 - precision: 0.8794\n",
            "Epoch 21/250\n",
            "25/25 [==============================] - 2s 94ms/step - loss: 0.4606 - mse: 0.1394 - mae: 0.3524 - accuracy: 0.8687 - recall: 0.8575 - precision: 0.8772\n",
            "Epoch 22/250\n",
            "25/25 [==============================] - 2s 94ms/step - loss: 0.4522 - mse: 0.1356 - mae: 0.3477 - accuracy: 0.8844 - recall: 0.8888 - precision: 0.8810\n",
            "Epoch 23/250\n",
            "25/25 [==============================] - 2s 93ms/step - loss: 0.4514 - mse: 0.1352 - mae: 0.3469 - accuracy: 0.8844 - recall: 0.8712 - precision: 0.8947\n",
            "Epoch 24/250\n",
            "25/25 [==============================] - 2s 93ms/step - loss: 0.4461 - mse: 0.1333 - mae: 0.3412 - accuracy: 0.8750 - recall: 0.8712 - precision: 0.8778\n",
            "Epoch 25/250\n",
            "25/25 [==============================] - 2s 94ms/step - loss: 0.4324 - mse: 0.1272 - mae: 0.3326 - accuracy: 0.8869 - recall: 0.8813 - precision: 0.8913\n",
            "Epoch 26/250\n",
            "25/25 [==============================] - 2s 94ms/step - loss: 0.4295 - mse: 0.1262 - mae: 0.3298 - accuracy: 0.8794 - recall: 0.8725 - precision: 0.8847\n",
            "Epoch 27/250\n",
            "25/25 [==============================] - 2s 94ms/step - loss: 0.4122 - mse: 0.1180 - mae: 0.3205 - accuracy: 0.9050 - recall: 0.8913 - precision: 0.9165\n",
            "Epoch 28/250\n",
            "25/25 [==============================] - 2s 94ms/step - loss: 0.4239 - mse: 0.1233 - mae: 0.3272 - accuracy: 0.8956 - recall: 0.8825 - precision: 0.9063\n",
            "Epoch 29/250\n",
            "25/25 [==============================] - 2s 94ms/step - loss: 0.3991 - mse: 0.1125 - mae: 0.3100 - accuracy: 0.9119 - recall: 0.9087 - precision: 0.9145\n",
            "Epoch 30/250\n",
            "25/25 [==============================] - 2s 94ms/step - loss: 0.3901 - mse: 0.1089 - mae: 0.3024 - accuracy: 0.9119 - recall: 0.9050 - precision: 0.9176\n",
            "Epoch 31/250\n",
            "25/25 [==============================] - 2s 94ms/step - loss: 0.4082 - mse: 0.1171 - mae: 0.3127 - accuracy: 0.8950 - recall: 0.8938 - precision: 0.8960\n",
            "Epoch 32/250\n",
            "25/25 [==============================] - 2s 94ms/step - loss: 0.3906 - mse: 0.1091 - mae: 0.3025 - accuracy: 0.9112 - recall: 0.9087 - precision: 0.9133\n",
            "Epoch 33/250\n",
            "25/25 [==============================] - 2s 94ms/step - loss: 0.3878 - mse: 0.1081 - mae: 0.2995 - accuracy: 0.9106 - recall: 0.9075 - precision: 0.9132\n",
            "Epoch 34/250\n",
            "25/25 [==============================] - 2s 94ms/step - loss: 0.3791 - mse: 0.1047 - mae: 0.2917 - accuracy: 0.9112 - recall: 0.9013 - precision: 0.9196\n",
            "Epoch 35/250\n",
            "25/25 [==============================] - 2s 94ms/step - loss: 0.3620 - mse: 0.0975 - mae: 0.2819 - accuracy: 0.9206 - recall: 0.9212 - precision: 0.9201\n",
            "Epoch 36/250\n",
            "25/25 [==============================] - 2s 94ms/step - loss: 0.3640 - mse: 0.0980 - mae: 0.2836 - accuracy: 0.9262 - recall: 0.9187 - precision: 0.9327\n",
            "Epoch 37/250\n",
            "25/25 [==============================] - 2s 94ms/step - loss: 0.3670 - mse: 0.0998 - mae: 0.2834 - accuracy: 0.9162 - recall: 0.9125 - precision: 0.9194\n",
            "Epoch 38/250\n",
            "25/25 [==============================] - 2s 94ms/step - loss: 0.3735 - mse: 0.1032 - mae: 0.2846 - accuracy: 0.9050 - recall: 0.9075 - precision: 0.9030\n",
            "Epoch 39/250\n",
            "25/25 [==============================] - 2s 94ms/step - loss: 0.4016 - mse: 0.1156 - mae: 0.3007 - accuracy: 0.8888 - recall: 0.9038 - precision: 0.8774\n",
            "Epoch 40/250\n",
            "25/25 [==============================] - 2s 94ms/step - loss: 0.4295 - mse: 0.1282 - mae: 0.3113 - accuracy: 0.8631 - recall: 0.8425 - precision: 0.8787\n",
            "Epoch 41/250\n",
            "25/25 [==============================] - 2s 94ms/step - loss: 0.3598 - mse: 0.0974 - mae: 0.2758 - accuracy: 0.9137 - recall: 0.9075 - precision: 0.9190\n",
            "Epoch 42/250\n",
            "25/25 [==============================] - 2s 94ms/step - loss: 0.3528 - mse: 0.0947 - mae: 0.2693 - accuracy: 0.9156 - recall: 0.9137 - precision: 0.9172\n",
            "Epoch 43/250\n",
            "25/25 [==============================] - 2s 94ms/step - loss: 0.3426 - mse: 0.0902 - mae: 0.2641 - accuracy: 0.9244 - recall: 0.9125 - precision: 0.9347\n",
            "Epoch 44/250\n",
            "25/25 [==============================] - 2s 94ms/step - loss: 0.3330 - mse: 0.0862 - mae: 0.2568 - accuracy: 0.9300 - recall: 0.9237 - precision: 0.9354\n",
            "Epoch 45/250\n",
            "25/25 [==============================] - 2s 94ms/step - loss: 0.3343 - mse: 0.0872 - mae: 0.2570 - accuracy: 0.9256 - recall: 0.9212 - precision: 0.9294\n",
            "Epoch 46/250\n",
            "25/25 [==============================] - 2s 94ms/step - loss: 0.3343 - mse: 0.0879 - mae: 0.2550 - accuracy: 0.9206 - recall: 0.9187 - precision: 0.9222\n",
            "Epoch 47/250\n",
            "25/25 [==============================] - 2s 94ms/step - loss: 0.3317 - mse: 0.0865 - mae: 0.2542 - accuracy: 0.9262 - recall: 0.9200 - precision: 0.9316\n",
            "Epoch 48/250\n",
            "25/25 [==============================] - 2s 94ms/step - loss: 0.3361 - mse: 0.0892 - mae: 0.2543 - accuracy: 0.9125 - recall: 0.9125 - precision: 0.9125\n",
            "Epoch 49/250\n",
            "25/25 [==============================] - 2s 94ms/step - loss: 0.3214 - mse: 0.0828 - mae: 0.2457 - accuracy: 0.9256 - recall: 0.9275 - precision: 0.9240\n",
            "Epoch 50/250\n",
            "25/25 [==============================] - 2s 94ms/step - loss: 0.3229 - mse: 0.0839 - mae: 0.2442 - accuracy: 0.9231 - recall: 0.9200 - precision: 0.9258\n",
            "Epoch 51/250\n",
            "25/25 [==============================] - 2s 94ms/step - loss: 0.3099 - mse: 0.0786 - mae: 0.2372 - accuracy: 0.9300 - recall: 0.9250 - precision: 0.9343\n",
            "Epoch 52/250\n",
            "25/25 [==============================] - 2s 94ms/step - loss: 0.3112 - mse: 0.0792 - mae: 0.2367 - accuracy: 0.9312 - recall: 0.9287 - precision: 0.9334\n",
            "Epoch 53/250\n",
            "25/25 [==============================] - 2s 94ms/step - loss: 0.3027 - mse: 0.0758 - mae: 0.2307 - accuracy: 0.9344 - recall: 0.9325 - precision: 0.9360\n",
            "Epoch 54/250\n",
            "25/25 [==============================] - 2s 94ms/step - loss: 0.2972 - mse: 0.0740 - mae: 0.2273 - accuracy: 0.9344 - recall: 0.9375 - precision: 0.9317\n",
            "Epoch 55/250\n",
            "25/25 [==============================] - 2s 94ms/step - loss: 0.2983 - mse: 0.0746 - mae: 0.2262 - accuracy: 0.9331 - recall: 0.9337 - precision: 0.9326\n",
            "Epoch 56/250\n",
            "25/25 [==============================] - 2s 94ms/step - loss: 0.3020 - mse: 0.0765 - mae: 0.2272 - accuracy: 0.9287 - recall: 0.9275 - precision: 0.9298\n",
            "Epoch 57/250\n",
            "25/25 [==============================] - 2s 94ms/step - loss: 0.2977 - mse: 0.0748 - mae: 0.2254 - accuracy: 0.9325 - recall: 0.9337 - precision: 0.9314\n",
            "Epoch 58/250\n",
            "25/25 [==============================] - 2s 93ms/step - loss: 0.3079 - mse: 0.0792 - mae: 0.2283 - accuracy: 0.9244 - recall: 0.9237 - precision: 0.9249\n",
            "Epoch 59/250\n",
            "25/25 [==============================] - 2s 94ms/step - loss: 0.2887 - mse: 0.0712 - mae: 0.2202 - accuracy: 0.9356 - recall: 0.9388 - precision: 0.9329\n",
            "Epoch 60/250\n",
            "25/25 [==============================] - 2s 94ms/step - loss: 0.3057 - mse: 0.0782 - mae: 0.2268 - accuracy: 0.9262 - recall: 0.9237 - precision: 0.9284\n",
            "Epoch 61/250\n",
            "25/25 [==============================] - 2s 94ms/step - loss: 0.3032 - mse: 0.0775 - mae: 0.2246 - accuracy: 0.9275 - recall: 0.9212 - precision: 0.9329\n",
            "Epoch 62/250\n",
            "25/25 [==============================] - 2s 94ms/step - loss: 0.2994 - mse: 0.0755 - mae: 0.2206 - accuracy: 0.9312 - recall: 0.9312 - precision: 0.9312\n",
            "Epoch 63/250\n",
            "25/25 [==============================] - 2s 94ms/step - loss: 0.2996 - mse: 0.0758 - mae: 0.2211 - accuracy: 0.9306 - recall: 0.9250 - precision: 0.9355\n",
            "Epoch 64/250\n",
            "25/25 [==============================] - 2s 94ms/step - loss: 0.3010 - mse: 0.0760 - mae: 0.2231 - accuracy: 0.9331 - recall: 0.9275 - precision: 0.9381\n",
            "Epoch 65/250\n",
            "25/25 [==============================] - 2s 94ms/step - loss: 0.2864 - mse: 0.0707 - mae: 0.2124 - accuracy: 0.9369 - recall: 0.9325 - precision: 0.9407\n",
            "Epoch 66/250\n",
            "25/25 [==============================] - 2s 94ms/step - loss: 0.2763 - mse: 0.0676 - mae: 0.2055 - accuracy: 0.9369 - recall: 0.9337 - precision: 0.9396\n",
            "Epoch 67/250\n",
            "25/25 [==============================] - 2s 93ms/step - loss: 0.2797 - mse: 0.0688 - mae: 0.2076 - accuracy: 0.9362 - recall: 0.9325 - precision: 0.9395\n",
            "Epoch 68/250\n",
            "25/25 [==============================] - 2s 94ms/step - loss: 0.3265 - mse: 0.0874 - mae: 0.2313 - accuracy: 0.9106 - recall: 0.8963 - precision: 0.9228\n",
            "Epoch 69/250\n",
            "25/25 [==============================] - 2s 94ms/step - loss: 0.3128 - mse: 0.0820 - mae: 0.2241 - accuracy: 0.9231 - recall: 0.9250 - precision: 0.9215\n",
            "Epoch 70/250\n",
            "25/25 [==============================] - 2s 94ms/step - loss: 0.2868 - mse: 0.0718 - mae: 0.2073 - accuracy: 0.9319 - recall: 0.9337 - precision: 0.9303\n",
            "Epoch 71/250\n",
            "25/25 [==============================] - 2s 95ms/step - loss: 0.2871 - mse: 0.0725 - mae: 0.2058 - accuracy: 0.9275 - recall: 0.9237 - precision: 0.9307\n",
            "Epoch 72/250\n",
            "25/25 [==============================] - 2s 94ms/step - loss: 0.2701 - mse: 0.0659 - mae: 0.1959 - accuracy: 0.9375 - recall: 0.9350 - precision: 0.9397\n",
            "Epoch 73/250\n",
            "25/25 [==============================] - 2s 94ms/step - loss: 0.2662 - mse: 0.0649 - mae: 0.1947 - accuracy: 0.9369 - recall: 0.9400 - precision: 0.9342\n",
            "Epoch 74/250\n",
            "25/25 [==============================] - 2s 94ms/step - loss: 0.2726 - mse: 0.0669 - mae: 0.1962 - accuracy: 0.9369 - recall: 0.9350 - precision: 0.9385\n",
            "Epoch 75/250\n",
            "25/25 [==============================] - 2s 94ms/step - loss: 0.2868 - mse: 0.0733 - mae: 0.2012 - accuracy: 0.9256 - recall: 0.9200 - precision: 0.9305\n",
            "Epoch 76/250\n",
            "25/25 [==============================] - 2s 94ms/step - loss: 0.3108 - mse: 0.0832 - mae: 0.2118 - accuracy: 0.9100 - recall: 0.9150 - precision: 0.9059\n",
            "Epoch 77/250\n",
            "25/25 [==============================] - 2s 93ms/step - loss: 0.2884 - mse: 0.0740 - mae: 0.2004 - accuracy: 0.9231 - recall: 0.9212 - precision: 0.9247\n",
            "Epoch 78/250\n",
            "25/25 [==============================] - 2s 94ms/step - loss: 0.2673 - mse: 0.0656 - mae: 0.1894 - accuracy: 0.9362 - recall: 0.9300 - precision: 0.9418\n",
            "Epoch 79/250\n",
            "25/25 [==============================] - 2s 94ms/step - loss: 0.2676 - mse: 0.0659 - mae: 0.1900 - accuracy: 0.9356 - recall: 0.9312 - precision: 0.9395\n",
            "Epoch 80/250\n",
            "25/25 [==============================] - 2s 94ms/step - loss: 0.2650 - mse: 0.0647 - mae: 0.1896 - accuracy: 0.9375 - recall: 0.9337 - precision: 0.9408\n",
            "Epoch 81/250\n",
            "25/25 [==============================] - 2s 94ms/step - loss: 0.2793 - mse: 0.0702 - mae: 0.1971 - accuracy: 0.9306 - recall: 0.9287 - precision: 0.9322\n",
            "Epoch 82/250\n",
            "25/25 [==============================] - 2s 94ms/step - loss: 0.2619 - mse: 0.0638 - mae: 0.1845 - accuracy: 0.9388 - recall: 0.9362 - precision: 0.9410\n",
            "Epoch 83/250\n",
            "25/25 [==============================] - 2s 94ms/step - loss: 0.2575 - mse: 0.0624 - mae: 0.1810 - accuracy: 0.9394 - recall: 0.9375 - precision: 0.9410\n",
            "Epoch 84/250\n",
            "25/25 [==============================] - 2s 93ms/step - loss: 0.2617 - mse: 0.0641 - mae: 0.1832 - accuracy: 0.9369 - recall: 0.9375 - precision: 0.9363\n",
            "Epoch 85/250\n",
            "25/25 [==============================] - 2s 94ms/step - loss: 0.2622 - mse: 0.0643 - mae: 0.1813 - accuracy: 0.9362 - recall: 0.9300 - precision: 0.9418\n",
            "Epoch 86/250\n",
            "25/25 [==============================] - 2s 94ms/step - loss: 0.2772 - mse: 0.0706 - mae: 0.1877 - accuracy: 0.9269 - recall: 0.9250 - precision: 0.9285\n",
            "Epoch 87/250\n",
            "25/25 [==============================] - 2s 93ms/step - loss: 0.2582 - mse: 0.0631 - mae: 0.1786 - accuracy: 0.9375 - recall: 0.9362 - precision: 0.9386\n",
            "Epoch 88/250\n",
            "25/25 [==============================] - 2s 94ms/step - loss: 0.2647 - mse: 0.0658 - mae: 0.1803 - accuracy: 0.9331 - recall: 0.9287 - precision: 0.9369\n",
            "Epoch 89/250\n",
            "25/25 [==============================] - 2s 94ms/step - loss: 0.2783 - mse: 0.0713 - mae: 0.1862 - accuracy: 0.9256 - recall: 0.9337 - precision: 0.9188\n",
            "Epoch 90/250\n",
            "25/25 [==============================] - 2s 94ms/step - loss: 0.2667 - mse: 0.0664 - mae: 0.1849 - accuracy: 0.9331 - recall: 0.9250 - precision: 0.9403\n",
            "Epoch 91/250\n",
            "25/25 [==============================] - 2s 94ms/step - loss: 0.3244 - mse: 0.0893 - mae: 0.2054 - accuracy: 0.9006 - recall: 0.9050 - precision: 0.8971\n",
            "Epoch 92/250\n",
            "25/25 [==============================] - 2s 94ms/step - loss: 0.2673 - mse: 0.0665 - mae: 0.1833 - accuracy: 0.9344 - recall: 0.9287 - precision: 0.9393\n",
            "Epoch 93/250\n",
            "25/25 [==============================] - 2s 94ms/step - loss: 0.2609 - mse: 0.0645 - mae: 0.1774 - accuracy: 0.9350 - recall: 0.9337 - precision: 0.9361\n",
            "Epoch 94/250\n",
            "25/25 [==============================] - 2s 94ms/step - loss: 0.2561 - mse: 0.0626 - mae: 0.1744 - accuracy: 0.9381 - recall: 0.9375 - precision: 0.9387\n",
            "Epoch 95/250\n",
            "25/25 [==============================] - 2s 93ms/step - loss: 0.2472 - mse: 0.0595 - mae: 0.1691 - accuracy: 0.9413 - recall: 0.9425 - precision: 0.9401\n",
            "Epoch 96/250\n",
            "25/25 [==============================] - 2s 94ms/step - loss: 0.2751 - mse: 0.0699 - mae: 0.1823 - accuracy: 0.9287 - recall: 0.9212 - precision: 0.9353\n",
            "Epoch 97/250\n",
            "25/25 [==============================] - 2s 94ms/step - loss: 0.2480 - mse: 0.0601 - mae: 0.1677 - accuracy: 0.9400 - recall: 0.9375 - precision: 0.9422\n",
            "Epoch 98/250\n",
            "25/25 [==============================] - 2s 94ms/step - loss: 0.2485 - mse: 0.0606 - mae: 0.1664 - accuracy: 0.9388 - recall: 0.9413 - precision: 0.9366\n",
            "Epoch 99/250\n",
            "25/25 [==============================] - 2s 94ms/step - loss: 0.2432 - mse: 0.0587 - mae: 0.1633 - accuracy: 0.9413 - recall: 0.9400 - precision: 0.9424\n",
            "Epoch 100/250\n",
            "25/25 [==============================] - 2s 94ms/step - loss: 0.2401 - mse: 0.0576 - mae: 0.1622 - accuracy: 0.9425 - recall: 0.9400 - precision: 0.9447\n",
            "Epoch 101/250\n",
            "25/25 [==============================] - 2s 93ms/step - loss: 0.2436 - mse: 0.0591 - mae: 0.1618 - accuracy: 0.9400 - recall: 0.9413 - precision: 0.9389\n",
            "Epoch 102/250\n",
            "25/25 [==============================] - 2s 94ms/step - loss: 0.3114 - mse: 0.0851 - mae: 0.1896 - accuracy: 0.9044 - recall: 0.9050 - precision: 0.9039\n",
            "Epoch 103/250\n",
            "25/25 [==============================] - 2s 94ms/step - loss: 0.4130 - mse: 0.1227 - mae: 0.2364 - accuracy: 0.8594 - recall: 0.7987 - precision: 0.9090\n",
            "Epoch 104/250\n",
            "25/25 [==============================] - 2s 94ms/step - loss: 0.2536 - mse: 0.0623 - mae: 0.1720 - accuracy: 0.9362 - recall: 0.9325 - precision: 0.9395\n",
            "Epoch 105/250\n",
            "25/25 [==============================] - 2s 94ms/step - loss: 0.2773 - mse: 0.0717 - mae: 0.1786 - accuracy: 0.9237 - recall: 0.9262 - precision: 0.9216\n",
            "Epoch 106/250\n",
            "25/25 [==============================] - 2s 94ms/step - loss: 0.2500 - mse: 0.0607 - mae: 0.1712 - accuracy: 0.9406 - recall: 0.9425 - precision: 0.9390\n",
            "Epoch 107/250\n",
            "25/25 [==============================] - 2s 94ms/step - loss: 0.2362 - mse: 0.0565 - mae: 0.1577 - accuracy: 0.9431 - recall: 0.9413 - precision: 0.9448\n",
            "Epoch 108/250\n",
            "25/25 [==============================] - 2s 93ms/step - loss: 0.2342 - mse: 0.0560 - mae: 0.1552 - accuracy: 0.9438 - recall: 0.9425 - precision: 0.9449\n",
            "Epoch 109/250\n",
            "25/25 [==============================] - 2s 94ms/step - loss: 0.2311 - mse: 0.0547 - mae: 0.1533 - accuracy: 0.9456 - recall: 0.9438 - precision: 0.9473\n",
            "Epoch 110/250\n",
            "25/25 [==============================] - 2s 94ms/step - loss: 0.2293 - mse: 0.0543 - mae: 0.1513 - accuracy: 0.9456 - recall: 0.9438 - precision: 0.9473\n",
            "Epoch 111/250\n",
            "25/25 [==============================] - 2s 93ms/step - loss: 0.2284 - mse: 0.0542 - mae: 0.1499 - accuracy: 0.9456 - recall: 0.9438 - precision: 0.9473\n",
            "Epoch 112/250\n",
            "25/25 [==============================] - 2s 94ms/step - loss: 0.2280 - mse: 0.0541 - mae: 0.1492 - accuracy: 0.9456 - recall: 0.9438 - precision: 0.9473\n",
            "Epoch 113/250\n",
            "25/25 [==============================] - 2s 94ms/step - loss: 0.2275 - mse: 0.0540 - mae: 0.1483 - accuracy: 0.9456 - recall: 0.9438 - precision: 0.9473\n",
            "Epoch 114/250\n",
            "25/25 [==============================] - 2s 93ms/step - loss: 0.2269 - mse: 0.0539 - mae: 0.1474 - accuracy: 0.9456 - recall: 0.9438 - precision: 0.9473\n",
            "Epoch 115/250\n",
            "25/25 [==============================] - 2s 93ms/step - loss: 0.2263 - mse: 0.0538 - mae: 0.1465 - accuracy: 0.9456 - recall: 0.9438 - precision: 0.9473\n",
            "Epoch 116/250\n",
            "25/25 [==============================] - 2s 94ms/step - loss: 0.2257 - mse: 0.0537 - mae: 0.1456 - accuracy: 0.9456 - recall: 0.9438 - precision: 0.9473\n",
            "Epoch 117/250\n",
            "25/25 [==============================] - 2s 94ms/step - loss: 0.2251 - mse: 0.0536 - mae: 0.1447 - accuracy: 0.9456 - recall: 0.9438 - precision: 0.9473\n",
            "Epoch 118/250\n",
            "25/25 [==============================] - 2s 94ms/step - loss: 0.2250 - mse: 0.0535 - mae: 0.1443 - accuracy: 0.9456 - recall: 0.9438 - precision: 0.9473\n",
            "Epoch 119/250\n",
            "25/25 [==============================] - 2s 94ms/step - loss: 0.2247 - mse: 0.0535 - mae: 0.1438 - accuracy: 0.9456 - recall: 0.9438 - precision: 0.9473\n",
            "Epoch 120/250\n",
            "25/25 [==============================] - 2s 94ms/step - loss: 0.2242 - mse: 0.0534 - mae: 0.1428 - accuracy: 0.9456 - recall: 0.9438 - precision: 0.9473\n",
            "Epoch 121/250\n",
            "25/25 [==============================] - 2s 94ms/step - loss: 0.2235 - mse: 0.0533 - mae: 0.1419 - accuracy: 0.9456 - recall: 0.9438 - precision: 0.9473\n",
            "Epoch 122/250\n",
            "25/25 [==============================] - 2s 93ms/step - loss: 0.2230 - mse: 0.0532 - mae: 0.1410 - accuracy: 0.9456 - recall: 0.9438 - precision: 0.9473\n",
            "Epoch 123/250\n",
            "25/25 [==============================] - 2s 94ms/step - loss: 0.2225 - mse: 0.0531 - mae: 0.1402 - accuracy: 0.9456 - recall: 0.9438 - precision: 0.9473\n",
            "Epoch 124/250\n",
            "25/25 [==============================] - 2s 94ms/step - loss: 0.2223 - mse: 0.0531 - mae: 0.1400 - accuracy: 0.9456 - recall: 0.9438 - precision: 0.9473\n",
            "Epoch 125/250\n",
            "25/25 [==============================] - 2s 94ms/step - loss: 0.2218 - mse: 0.0530 - mae: 0.1391 - accuracy: 0.9456 - recall: 0.9438 - precision: 0.9473\n",
            "Epoch 126/250\n",
            "25/25 [==============================] - 2s 94ms/step - loss: 0.2217 - mse: 0.0530 - mae: 0.1386 - accuracy: 0.9456 - recall: 0.9438 - precision: 0.9473\n",
            "Epoch 127/250\n",
            "25/25 [==============================] - 2s 94ms/step - loss: 0.2209 - mse: 0.0528 - mae: 0.1374 - accuracy: 0.9456 - recall: 0.9438 - precision: 0.9473\n",
            "Epoch 128/250\n",
            "25/25 [==============================] - 2s 94ms/step - loss: 0.2205 - mse: 0.0527 - mae: 0.1370 - accuracy: 0.9456 - recall: 0.9438 - precision: 0.9473\n",
            "Epoch 129/250\n",
            "25/25 [==============================] - 2s 94ms/step - loss: 0.2202 - mse: 0.0527 - mae: 0.1363 - accuracy: 0.9456 - recall: 0.9438 - precision: 0.9473\n",
            "Epoch 130/250\n",
            "25/25 [==============================] - 2s 94ms/step - loss: 0.2195 - mse: 0.0526 - mae: 0.1356 - accuracy: 0.9456 - recall: 0.9438 - precision: 0.9473\n",
            "Epoch 131/250\n",
            "25/25 [==============================] - 2s 94ms/step - loss: 0.2192 - mse: 0.0525 - mae: 0.1355 - accuracy: 0.9456 - recall: 0.9438 - precision: 0.9473\n",
            "Epoch 132/250\n",
            "25/25 [==============================] - 2s 93ms/step - loss: 0.2197 - mse: 0.0526 - mae: 0.1367 - accuracy: 0.9456 - recall: 0.9438 - precision: 0.9473\n",
            "Epoch 133/250\n",
            "25/25 [==============================] - 2s 94ms/step - loss: 0.2192 - mse: 0.0525 - mae: 0.1351 - accuracy: 0.9456 - recall: 0.9438 - precision: 0.9473\n",
            "Epoch 134/250\n",
            "25/25 [==============================] - 2s 93ms/step - loss: 0.2185 - mse: 0.0524 - mae: 0.1335 - accuracy: 0.9456 - recall: 0.9438 - precision: 0.9473\n",
            "Epoch 135/250\n",
            "25/25 [==============================] - 2s 95ms/step - loss: 0.2176 - mse: 0.0522 - mae: 0.1338 - accuracy: 0.9456 - recall: 0.9438 - precision: 0.9473\n",
            "Epoch 136/250\n",
            "25/25 [==============================] - 2s 94ms/step - loss: 0.2179 - mse: 0.0523 - mae: 0.1345 - accuracy: 0.9456 - recall: 0.9438 - precision: 0.9473\n",
            "Epoch 137/250\n",
            "25/25 [==============================] - 2s 95ms/step - loss: 0.2173 - mse: 0.0522 - mae: 0.1333 - accuracy: 0.9456 - recall: 0.9438 - precision: 0.9473\n",
            "Epoch 138/250\n",
            "25/25 [==============================] - 2s 94ms/step - loss: 0.2182 - mse: 0.0525 - mae: 0.1380 - accuracy: 0.9456 - recall: 0.9438 - precision: 0.9473\n",
            "Epoch 139/250\n",
            "25/25 [==============================] - 2s 94ms/step - loss: 0.2184 - mse: 0.0524 - mae: 0.1326 - accuracy: 0.9456 - recall: 0.9438 - precision: 0.9473\n",
            "Epoch 140/250\n",
            "25/25 [==============================] - 2s 93ms/step - loss: 0.2163 - mse: 0.0520 - mae: 0.1338 - accuracy: 0.9456 - recall: 0.9438 - precision: 0.9473\n",
            "Epoch 141/250\n",
            "25/25 [==============================] - 2s 94ms/step - loss: 0.2166 - mse: 0.0521 - mae: 0.1314 - accuracy: 0.9456 - recall: 0.9438 - precision: 0.9473\n",
            "Epoch 142/250\n",
            "25/25 [==============================] - 2s 93ms/step - loss: 0.2325 - mse: 0.0556 - mae: 0.1508 - accuracy: 0.9463 - recall: 0.9450 - precision: 0.9474\n",
            "Epoch 143/250\n",
            "25/25 [==============================] - 2s 94ms/step - loss: 0.2248 - mse: 0.0536 - mae: 0.1423 - accuracy: 0.9456 - recall: 0.9438 - precision: 0.9473\n",
            "Epoch 144/250\n",
            "25/25 [==============================] - 2s 94ms/step - loss: 0.2210 - mse: 0.0530 - mae: 0.1357 - accuracy: 0.9450 - recall: 0.9438 - precision: 0.9461\n",
            "Epoch 145/250\n",
            "25/25 [==============================] - 2s 94ms/step - loss: 0.2293 - mse: 0.0559 - mae: 0.1379 - accuracy: 0.9419 - recall: 0.9375 - precision: 0.9458\n",
            "Epoch 146/250\n",
            "25/25 [==============================] - 2s 94ms/step - loss: 0.2497 - mse: 0.0635 - mae: 0.1460 - accuracy: 0.9319 - recall: 0.9275 - precision: 0.9357\n",
            "Epoch 147/250\n",
            "25/25 [==============================] - 2s 94ms/step - loss: 0.2566 - mse: 0.0659 - mae: 0.1488 - accuracy: 0.9275 - recall: 0.9325 - precision: 0.9233\n",
            "Epoch 148/250\n",
            "25/25 [==============================] - 2s 93ms/step - loss: 0.3256 - mse: 0.0907 - mae: 0.1830 - accuracy: 0.9013 - recall: 0.9200 - precision: 0.8867\n",
            "Epoch 149/250\n",
            "25/25 [==============================] - 2s 94ms/step - loss: 0.2579 - mse: 0.0654 - mae: 0.1608 - accuracy: 0.9300 - recall: 0.9362 - precision: 0.9247\n",
            "Epoch 150/250\n",
            "25/25 [==============================] - 2s 94ms/step - loss: 0.2276 - mse: 0.0550 - mae: 0.1417 - accuracy: 0.9431 - recall: 0.9450 - precision: 0.9415\n",
            "Epoch 151/250\n",
            "25/25 [==============================] - 2s 93ms/step - loss: 0.2577 - mse: 0.0662 - mae: 0.1521 - accuracy: 0.9281 - recall: 0.9350 - precision: 0.9223\n",
            "Epoch 152/250\n",
            "25/25 [==============================] - 2s 94ms/step - loss: 0.2577 - mse: 0.0661 - mae: 0.1530 - accuracy: 0.9281 - recall: 0.9250 - precision: 0.9308\n",
            "Epoch 153/250\n",
            "25/25 [==============================] - 2s 93ms/step - loss: 0.2619 - mse: 0.0677 - mae: 0.1526 - accuracy: 0.9275 - recall: 0.9413 - precision: 0.9161\n",
            "Epoch 154/250\n",
            "25/25 [==============================] - 2s 94ms/step - loss: 0.2361 - mse: 0.0587 - mae: 0.1417 - accuracy: 0.9375 - recall: 0.9400 - precision: 0.9353\n",
            "Epoch 155/250\n",
            "25/25 [==============================] - 2s 93ms/step - loss: 0.2581 - mse: 0.0667 - mae: 0.1504 - accuracy: 0.9269 - recall: 0.9400 - precision: 0.9160\n",
            "Epoch 156/250\n",
            "25/25 [==============================] - 2s 94ms/step - loss: 0.2505 - mse: 0.0635 - mae: 0.1491 - accuracy: 0.9319 - recall: 0.9325 - precision: 0.9313\n",
            "Epoch 157/250\n",
            "25/25 [==============================] - 2s 94ms/step - loss: 0.2748 - mse: 0.0725 - mae: 0.1581 - accuracy: 0.9200 - recall: 0.9150 - precision: 0.9242\n",
            "Epoch 158/250\n",
            "25/25 [==============================] - 2s 94ms/step - loss: 0.2493 - mse: 0.0633 - mae: 0.1472 - accuracy: 0.9319 - recall: 0.9337 - precision: 0.9303\n",
            "Epoch 159/250\n",
            "25/25 [==============================] - 2s 93ms/step - loss: 0.2283 - mse: 0.0557 - mae: 0.1379 - accuracy: 0.9419 - recall: 0.9388 - precision: 0.9447\n",
            "Epoch 160/250\n",
            "25/25 [==============================] - 2s 95ms/step - loss: 0.2349 - mse: 0.0583 - mae: 0.1407 - accuracy: 0.9381 - recall: 0.9388 - precision: 0.9376\n",
            "Epoch 161/250\n",
            "25/25 [==============================] - 2s 93ms/step - loss: 0.2249 - mse: 0.0546 - mae: 0.1345 - accuracy: 0.9431 - recall: 0.9413 - precision: 0.9448\n",
            "Epoch 162/250\n",
            "25/25 [==============================] - 2s 94ms/step - loss: 0.2250 - mse: 0.0548 - mae: 0.1346 - accuracy: 0.9413 - recall: 0.9413 - precision: 0.9413\n",
            "Epoch 163/250\n",
            "25/25 [==============================] - 2s 94ms/step - loss: 0.2277 - mse: 0.0558 - mae: 0.1353 - accuracy: 0.9413 - recall: 0.9488 - precision: 0.9347\n",
            "Epoch 164/250\n",
            "25/25 [==============================] - 2s 93ms/step - loss: 0.2506 - mse: 0.0641 - mae: 0.1449 - accuracy: 0.9294 - recall: 0.9375 - precision: 0.9225\n",
            "Epoch 165/250\n",
            "25/25 [==============================] - 2s 93ms/step - loss: 0.3045 - mse: 0.0824 - mae: 0.1750 - accuracy: 0.9100 - recall: 0.9225 - precision: 0.9000\n",
            "Epoch 166/250\n",
            "25/25 [==============================] - 2s 93ms/step - loss: 0.2227 - mse: 0.0529 - mae: 0.1422 - accuracy: 0.9456 - recall: 0.9463 - precision: 0.9451\n",
            "Epoch 167/250\n",
            "25/25 [==============================] - 2s 93ms/step - loss: 0.2221 - mse: 0.0535 - mae: 0.1389 - accuracy: 0.9444 - recall: 0.9450 - precision: 0.9438\n",
            "Epoch 168/250\n",
            "25/25 [==============================] - 2s 94ms/step - loss: 0.2211 - mse: 0.0525 - mae: 0.1433 - accuracy: 0.9475 - recall: 0.9475 - precision: 0.9475\n",
            "Epoch 169/250\n",
            "25/25 [==============================] - 2s 94ms/step - loss: 0.2188 - mse: 0.0518 - mae: 0.1391 - accuracy: 0.9475 - recall: 0.9475 - precision: 0.9475\n",
            "Epoch 170/250\n",
            "25/25 [==============================] - 2s 94ms/step - loss: 0.2167 - mse: 0.0514 - mae: 0.1344 - accuracy: 0.9469 - recall: 0.9475 - precision: 0.9463\n",
            "Epoch 171/250\n",
            "25/25 [==============================] - 2s 94ms/step - loss: 0.2375 - mse: 0.0588 - mae: 0.1427 - accuracy: 0.9381 - recall: 0.9350 - precision: 0.9409\n",
            "Epoch 172/250\n",
            "25/25 [==============================] - 2s 93ms/step - loss: 0.2230 - mse: 0.0542 - mae: 0.1353 - accuracy: 0.9425 - recall: 0.9475 - precision: 0.9381\n",
            "Epoch 173/250\n",
            "25/25 [==============================] - 2s 94ms/step - loss: 0.2146 - mse: 0.0510 - mae: 0.1305 - accuracy: 0.9475 - recall: 0.9463 - precision: 0.9486\n",
            "Epoch 174/250\n",
            "25/25 [==============================] - 2s 93ms/step - loss: 0.2160 - mse: 0.0517 - mae: 0.1307 - accuracy: 0.9463 - recall: 0.9463 - precision: 0.9463\n",
            "Epoch 175/250\n",
            "25/25 [==============================] - 2s 93ms/step - loss: 0.2484 - mse: 0.0635 - mae: 0.1429 - accuracy: 0.9312 - recall: 0.9450 - precision: 0.9197\n",
            "Epoch 176/250\n",
            "25/25 [==============================] - 2s 93ms/step - loss: 0.2568 - mse: 0.0665 - mae: 0.1465 - accuracy: 0.9275 - recall: 0.9362 - precision: 0.9201\n",
            "Epoch 177/250\n",
            "25/25 [==============================] - 2s 94ms/step - loss: 0.2917 - mse: 0.0780 - mae: 0.1608 - accuracy: 0.9150 - recall: 0.9050 - precision: 0.9235\n",
            "Epoch 178/250\n",
            "25/25 [==============================] - 2s 94ms/step - loss: 0.2360 - mse: 0.0587 - mae: 0.1379 - accuracy: 0.9369 - recall: 0.9450 - precision: 0.9299\n",
            "Epoch 179/250\n",
            "25/25 [==============================] - 2s 93ms/step - loss: 0.2123 - mse: 0.0506 - mae: 0.1273 - accuracy: 0.9475 - recall: 0.9500 - precision: 0.9453\n",
            "Epoch 180/250\n",
            "25/25 [==============================] - 2s 93ms/step - loss: 0.2045 - mse: 0.0479 - mae: 0.1236 - accuracy: 0.9506 - recall: 0.9538 - precision: 0.9478\n",
            "Epoch 181/250\n",
            "25/25 [==============================] - 2s 94ms/step - loss: 0.2103 - mse: 0.0501 - mae: 0.1256 - accuracy: 0.9481 - recall: 0.9488 - precision: 0.9476\n",
            "Epoch 182/250\n",
            "25/25 [==============================] - 2s 94ms/step - loss: 0.2016 - mse: 0.0470 - mae: 0.1220 - accuracy: 0.9519 - recall: 0.9550 - precision: 0.9491\n",
            "Epoch 183/250\n",
            "25/25 [==============================] - 2s 94ms/step - loss: 0.2087 - mse: 0.0495 - mae: 0.1237 - accuracy: 0.9488 - recall: 0.9488 - precision: 0.9488\n",
            "Epoch 184/250\n",
            "25/25 [==============================] - 2s 93ms/step - loss: 0.2006 - mse: 0.0468 - mae: 0.1198 - accuracy: 0.9519 - recall: 0.9550 - precision: 0.9491\n",
            "Epoch 185/250\n",
            "25/25 [==============================] - 2s 93ms/step - loss: 0.2004 - mse: 0.0468 - mae: 0.1193 - accuracy: 0.9519 - recall: 0.9550 - precision: 0.9491\n",
            "Epoch 186/250\n",
            "25/25 [==============================] - 2s 93ms/step - loss: 0.2001 - mse: 0.0467 - mae: 0.1188 - accuracy: 0.9519 - recall: 0.9550 - precision: 0.9491\n",
            "Epoch 187/250\n",
            "25/25 [==============================] - 2s 93ms/step - loss: 0.1999 - mse: 0.0467 - mae: 0.1182 - accuracy: 0.9519 - recall: 0.9550 - precision: 0.9491\n",
            "Epoch 188/250\n",
            "25/25 [==============================] - 2s 93ms/step - loss: 0.1995 - mse: 0.0466 - mae: 0.1176 - accuracy: 0.9519 - recall: 0.9550 - precision: 0.9491\n",
            "Epoch 189/250\n",
            "25/25 [==============================] - 2s 93ms/step - loss: 0.1994 - mse: 0.0466 - mae: 0.1171 - accuracy: 0.9519 - recall: 0.9550 - precision: 0.9491\n",
            "Epoch 190/250\n",
            "25/25 [==============================] - 2s 93ms/step - loss: 0.1991 - mse: 0.0466 - mae: 0.1166 - accuracy: 0.9519 - recall: 0.9550 - precision: 0.9491\n",
            "Epoch 191/250\n",
            "25/25 [==============================] - 2s 93ms/step - loss: 0.1989 - mse: 0.0465 - mae: 0.1161 - accuracy: 0.9519 - recall: 0.9550 - precision: 0.9491\n",
            "Epoch 192/250\n",
            "25/25 [==============================] - 2s 94ms/step - loss: 0.2514 - mse: 0.0647 - mae: 0.1365 - accuracy: 0.9300 - recall: 0.9400 - precision: 0.9216\n",
            "Epoch 193/250\n",
            "25/25 [==============================] - 2s 93ms/step - loss: 0.2112 - mse: 0.0505 - mae: 0.1237 - accuracy: 0.9475 - recall: 0.9513 - precision: 0.9442\n",
            "Epoch 194/250\n",
            "25/25 [==============================] - 2s 94ms/step - loss: 0.2019 - mse: 0.0476 - mae: 0.1170 - accuracy: 0.9506 - recall: 0.9538 - precision: 0.9478\n",
            "Epoch 195/250\n",
            "25/25 [==============================] - 2s 93ms/step - loss: 0.2034 - mse: 0.0483 - mae: 0.1169 - accuracy: 0.9494 - recall: 0.9513 - precision: 0.9477\n",
            "Epoch 196/250\n",
            "25/25 [==============================] - 2s 93ms/step - loss: 0.2033 - mse: 0.0483 - mae: 0.1163 - accuracy: 0.9494 - recall: 0.9513 - precision: 0.9477\n",
            "Epoch 197/250\n",
            "25/25 [==============================] - 2s 94ms/step - loss: 0.2037 - mse: 0.0484 - mae: 0.1160 - accuracy: 0.9494 - recall: 0.9513 - precision: 0.9477\n",
            "Epoch 198/250\n",
            "25/25 [==============================] - 2s 93ms/step - loss: 0.2006 - mse: 0.0474 - mae: 0.1140 - accuracy: 0.9506 - recall: 0.9538 - precision: 0.9478\n",
            "Epoch 199/250\n",
            "25/25 [==============================] - 2s 94ms/step - loss: 0.2020 - mse: 0.0479 - mae: 0.1144 - accuracy: 0.9500 - recall: 0.9538 - precision: 0.9467\n",
            "Epoch 200/250\n",
            "25/25 [==============================] - 2s 93ms/step - loss: 0.2028 - mse: 0.0483 - mae: 0.1155 - accuracy: 0.9494 - recall: 0.9513 - precision: 0.9477\n",
            "Epoch 201/250\n",
            "25/25 [==============================] - 2s 94ms/step - loss: 0.1995 - mse: 0.0470 - mae: 0.1133 - accuracy: 0.9513 - recall: 0.9550 - precision: 0.9479\n",
            "Epoch 202/250\n",
            "25/25 [==============================] - 2s 94ms/step - loss: 0.2028 - mse: 0.0483 - mae: 0.1142 - accuracy: 0.9494 - recall: 0.9538 - precision: 0.9455\n",
            "Epoch 203/250\n",
            "25/25 [==============================] - 2s 94ms/step - loss: 0.2292 - mse: 0.0570 - mae: 0.1239 - accuracy: 0.9394 - recall: 0.9375 - precision: 0.9410\n",
            "Epoch 204/250\n",
            "25/25 [==============================] - 2s 94ms/step - loss: 0.2121 - mse: 0.0516 - mae: 0.1182 - accuracy: 0.9444 - recall: 0.9513 - precision: 0.9383\n",
            "Epoch 205/250\n",
            "25/25 [==============================] - 2s 94ms/step - loss: 0.2012 - mse: 0.0478 - mae: 0.1131 - accuracy: 0.9500 - recall: 0.9550 - precision: 0.9455\n",
            "Epoch 206/250\n",
            "25/25 [==============================] - 2s 94ms/step - loss: 0.2004 - mse: 0.0476 - mae: 0.1124 - accuracy: 0.9500 - recall: 0.9538 - precision: 0.9467\n",
            "Epoch 207/250\n",
            "25/25 [==============================] - 2s 94ms/step - loss: 0.2184 - mse: 0.0534 - mae: 0.1208 - accuracy: 0.9438 - recall: 0.9550 - precision: 0.9340\n",
            "Epoch 208/250\n",
            "25/25 [==============================] - 2s 94ms/step - loss: 0.2116 - mse: 0.0512 - mae: 0.1158 - accuracy: 0.9463 - recall: 0.9538 - precision: 0.9397\n",
            "Epoch 209/250\n",
            "25/25 [==============================] - 2s 94ms/step - loss: 0.1948 - mse: 0.0457 - mae: 0.1091 - accuracy: 0.9525 - recall: 0.9575 - precision: 0.9480\n",
            "Epoch 210/250\n",
            "25/25 [==============================] - 2s 94ms/step - loss: 0.2216 - mse: 0.0548 - mae: 0.1193 - accuracy: 0.9413 - recall: 0.9500 - precision: 0.9337\n",
            "Epoch 211/250\n",
            "25/25 [==============================] - 2s 94ms/step - loss: 0.2068 - mse: 0.0496 - mae: 0.1158 - accuracy: 0.9481 - recall: 0.9513 - precision: 0.9453\n",
            "Epoch 212/250\n",
            "25/25 [==============================] - 2s 94ms/step - loss: 0.2139 - mse: 0.0518 - mae: 0.1190 - accuracy: 0.9450 - recall: 0.9475 - precision: 0.9428\n",
            "Epoch 213/250\n",
            "25/25 [==============================] - 2s 94ms/step - loss: 0.1953 - mse: 0.0460 - mae: 0.1085 - accuracy: 0.9519 - recall: 0.9575 - precision: 0.9468\n",
            "Epoch 214/250\n",
            "25/25 [==============================] - 2s 94ms/step - loss: 0.2053 - mse: 0.0495 - mae: 0.1117 - accuracy: 0.9475 - recall: 0.9563 - precision: 0.9398\n",
            "Epoch 215/250\n",
            "25/25 [==============================] - 2s 94ms/step - loss: 0.2276 - mse: 0.0568 - mae: 0.1211 - accuracy: 0.9388 - recall: 0.9425 - precision: 0.9355\n",
            "Epoch 216/250\n",
            "25/25 [==============================] - 2s 94ms/step - loss: 0.2008 - mse: 0.0478 - mae: 0.1094 - accuracy: 0.9500 - recall: 0.9575 - precision: 0.9433\n",
            "Epoch 217/250\n",
            "25/25 [==============================] - 2s 94ms/step - loss: 0.2378 - mse: 0.0605 - mae: 0.1230 - accuracy: 0.9337 - recall: 0.9500 - precision: 0.9201\n",
            "Epoch 218/250\n",
            "25/25 [==============================] - 2s 94ms/step - loss: 0.2459 - mse: 0.0617 - mae: 0.1414 - accuracy: 0.9356 - recall: 0.9463 - precision: 0.9266\n",
            "Epoch 219/250\n",
            "25/25 [==============================] - 2s 93ms/step - loss: 0.2182 - mse: 0.0528 - mae: 0.1304 - accuracy: 0.9450 - recall: 0.9513 - precision: 0.9395\n",
            "Epoch 220/250\n",
            "25/25 [==============================] - 2s 94ms/step - loss: 0.2169 - mse: 0.0518 - mae: 0.1367 - accuracy: 0.9456 - recall: 0.9525 - precision: 0.9396\n",
            "Epoch 221/250\n",
            "25/25 [==============================] - 2s 94ms/step - loss: 0.2018 - mse: 0.0465 - mae: 0.1264 - accuracy: 0.9531 - recall: 0.9575 - precision: 0.9492\n",
            "Epoch 222/250\n",
            "25/25 [==============================] - 2s 94ms/step - loss: 0.1981 - mse: 0.0458 - mae: 0.1200 - accuracy: 0.9531 - recall: 0.9575 - precision: 0.9492\n",
            "Epoch 223/250\n",
            "25/25 [==============================] - 2s 94ms/step - loss: 0.1973 - mse: 0.0457 - mae: 0.1184 - accuracy: 0.9531 - recall: 0.9575 - precision: 0.9492\n",
            "Epoch 224/250\n",
            "25/25 [==============================] - 2s 94ms/step - loss: 0.1969 - mse: 0.0457 - mae: 0.1175 - accuracy: 0.9531 - recall: 0.9575 - precision: 0.9492\n",
            "Epoch 225/250\n",
            "25/25 [==============================] - 2s 95ms/step - loss: 0.1963 - mse: 0.0456 - mae: 0.1163 - accuracy: 0.9531 - recall: 0.9575 - precision: 0.9492\n",
            "Epoch 226/250\n",
            "25/25 [==============================] - 2s 93ms/step - loss: 0.1959 - mse: 0.0455 - mae: 0.1154 - accuracy: 0.9531 - recall: 0.9575 - precision: 0.9492\n",
            "Epoch 227/250\n",
            "25/25 [==============================] - 2s 94ms/step - loss: 0.1955 - mse: 0.0455 - mae: 0.1146 - accuracy: 0.9531 - recall: 0.9575 - precision: 0.9492\n",
            "Epoch 228/250\n",
            "25/25 [==============================] - 2s 94ms/step - loss: 0.1952 - mse: 0.0454 - mae: 0.1138 - accuracy: 0.9531 - recall: 0.9575 - precision: 0.9492\n",
            "Epoch 229/250\n",
            "25/25 [==============================] - 2s 94ms/step - loss: 0.1949 - mse: 0.0454 - mae: 0.1132 - accuracy: 0.9531 - recall: 0.9575 - precision: 0.9492\n",
            "Epoch 230/250\n",
            "25/25 [==============================] - 2s 93ms/step - loss: 0.1947 - mse: 0.0454 - mae: 0.1126 - accuracy: 0.9531 - recall: 0.9575 - precision: 0.9492\n",
            "Epoch 231/250\n",
            "25/25 [==============================] - 2s 94ms/step - loss: 0.1944 - mse: 0.0453 - mae: 0.1120 - accuracy: 0.9531 - recall: 0.9575 - precision: 0.9492\n",
            "Epoch 232/250\n",
            "25/25 [==============================] - 2s 94ms/step - loss: 0.1941 - mse: 0.0453 - mae: 0.1113 - accuracy: 0.9531 - recall: 0.9575 - precision: 0.9492\n",
            "Epoch 233/250\n",
            "25/25 [==============================] - 2s 93ms/step - loss: 0.1941 - mse: 0.0453 - mae: 0.1110 - accuracy: 0.9531 - recall: 0.9575 - precision: 0.9492\n",
            "Epoch 234/250\n",
            "25/25 [==============================] - 2s 94ms/step - loss: 0.1938 - mse: 0.0452 - mae: 0.1104 - accuracy: 0.9531 - recall: 0.9575 - precision: 0.9492\n",
            "Epoch 235/250\n",
            "25/25 [==============================] - 2s 94ms/step - loss: 0.1936 - mse: 0.0452 - mae: 0.1099 - accuracy: 0.9531 - recall: 0.9575 - precision: 0.9492\n",
            "Epoch 236/250\n",
            "25/25 [==============================] - 2s 94ms/step - loss: 0.1935 - mse: 0.0452 - mae: 0.1095 - accuracy: 0.9531 - recall: 0.9575 - precision: 0.9492\n",
            "Epoch 237/250\n",
            "25/25 [==============================] - 2s 93ms/step - loss: 0.1933 - mse: 0.0452 - mae: 0.1092 - accuracy: 0.9531 - recall: 0.9575 - precision: 0.9492\n",
            "Epoch 238/250\n",
            "25/25 [==============================] - 2s 94ms/step - loss: 0.1932 - mse: 0.0451 - mae: 0.1087 - accuracy: 0.9531 - recall: 0.9575 - precision: 0.9492\n",
            "Epoch 239/250\n",
            "25/25 [==============================] - 2s 94ms/step - loss: 0.1929 - mse: 0.0451 - mae: 0.1082 - accuracy: 0.9531 - recall: 0.9575 - precision: 0.9492\n",
            "Epoch 240/250\n",
            "25/25 [==============================] - 2s 93ms/step - loss: 0.1927 - mse: 0.0451 - mae: 0.1076 - accuracy: 0.9531 - recall: 0.9575 - precision: 0.9492\n",
            "Epoch 241/250\n",
            "25/25 [==============================] - 2s 93ms/step - loss: 0.1925 - mse: 0.0451 - mae: 0.1071 - accuracy: 0.9531 - recall: 0.9575 - precision: 0.9492\n",
            "Epoch 242/250\n",
            "25/25 [==============================] - 2s 94ms/step - loss: 0.1924 - mse: 0.0450 - mae: 0.1068 - accuracy: 0.9531 - recall: 0.9575 - precision: 0.9492\n",
            "Epoch 243/250\n",
            "25/25 [==============================] - 2s 94ms/step - loss: 0.1923 - mse: 0.0450 - mae: 0.1064 - accuracy: 0.9531 - recall: 0.9575 - precision: 0.9492\n",
            "Epoch 244/250\n",
            "25/25 [==============================] - 2s 94ms/step - loss: 0.1921 - mse: 0.0450 - mae: 0.1061 - accuracy: 0.9531 - recall: 0.9575 - precision: 0.9492\n",
            "Epoch 245/250\n",
            "25/25 [==============================] - 2s 93ms/step - loss: 0.1920 - mse: 0.0450 - mae: 0.1057 - accuracy: 0.9531 - recall: 0.9575 - precision: 0.9492\n",
            "Epoch 246/250\n",
            "25/25 [==============================] - 2s 93ms/step - loss: 0.1919 - mse: 0.0450 - mae: 0.1053 - accuracy: 0.9531 - recall: 0.9575 - precision: 0.9492\n",
            "Epoch 247/250\n",
            "25/25 [==============================] - 2s 93ms/step - loss: 0.1918 - mse: 0.0450 - mae: 0.1050 - accuracy: 0.9531 - recall: 0.9575 - precision: 0.9492\n",
            "Epoch 248/250\n",
            "25/25 [==============================] - 2s 93ms/step - loss: 0.1917 - mse: 0.0450 - mae: 0.1046 - accuracy: 0.9531 - recall: 0.9575 - precision: 0.9492\n",
            "Epoch 249/250\n",
            "25/25 [==============================] - 2s 94ms/step - loss: 0.1916 - mse: 0.0449 - mae: 0.1043 - accuracy: 0.9531 - recall: 0.9575 - precision: 0.9492\n",
            "Epoch 250/250\n",
            "25/25 [==============================] - 2s 94ms/step - loss: 0.1915 - mse: 0.0449 - mae: 0.1039 - accuracy: 0.9531 - recall: 0.9575 - precision: 0.9492\n"
          ],
          "name": "stdout"
        }
      ]
    },
    {
      "cell_type": "markdown",
      "metadata": {
        "id": "-CkMlUhY7WRU",
        "colab_type": "text"
      },
      "source": [
        "##**8. Generar gráfica de: loss(pérdida) y accuracy(acierto) en cada época realizada.**"
      ]
    },
    {
      "cell_type": "code",
      "metadata": {
        "id": "PwSQTQbUoe14",
        "colab_type": "code",
        "outputId": "1ba65531-a439-487f-bb94-d654b50ad0f0",
        "colab": {
          "base_uri": "https://localhost:8080/",
          "height": 377
        }
      },
      "source": [
        "import pandas as pd\n",
        "\n",
        "pd.DataFrame(history.history).plot(figsize=(8, 6))\n",
        "plt.grid(True)\n",
        "plt.gca().set_ylim(0, 1)\n",
        "plt.show()"
      ],
      "execution_count": 20,
      "outputs": [
        {
          "output_type": "display_data",
          "data": {
            "image/png": "[encoded data removed]",
            "text/plain": [
              "<Figure size 576x432 with 1 Axes>"
            ]
          },
          "metadata": {
            "tags": [],
            "needs_background": "light"
          }
        }
      ]
    },
    {
      "cell_type": "markdown",
      "metadata": {
        "id": "axoYkzoOANpI",
        "colab_type": "text"
      },
      "source": [
        "##**9. Predecir con el modelo, la clasificación de cada imagen del conjunto de Test**"
      ]
    },
    {
      "cell_type": "code",
      "metadata": {
        "id": "F2_13iEblUh6",
        "colab_type": "code",
        "colab": {}
      },
      "source": [
        "#SE EVALÚA EL MODELO\n",
        "Valores=(model.predict(XTEST))\n",
        "#Valores"
      ],
      "execution_count": 0,
      "outputs": []
    },
    {
      "cell_type": "code",
      "metadata": {
        "id": "w6t9lnP3lglW",
        "colab_type": "code",
        "outputId": "4be4c674-07a9-444f-dea0-151011f48e64",
        "colab": {
          "base_uri": "https://localhost:8080/",
          "height": 34
        }
      },
      "source": [
        "#Valores_label=np.argmax(Valores, axis=1)\n",
        "#Valores_label\n",
        "Valores_label=np.around(Valores)\n",
        "Valores_label.shape"
      ],
      "execution_count": 22,
      "outputs": [
        {
          "output_type": "execute_result",
          "data": {
            "text/plain": [
              "(400, 1)"
            ]
          },
          "metadata": {
            "tags": []
          },
          "execution_count": 22
        }
      ]
    },
    {
      "cell_type": "markdown",
      "metadata": {
        "id": "EhL8DHRdDG_v",
        "colab_type": "text"
      },
      "source": [
        "##**10. Sacar métricas de evaluación, para mirar el rendimiento del modelo.**"
      ]
    },
    {
      "cell_type": "markdown",
      "metadata": {
        "id": "UCkpLdoUDSHP",
        "colab_type": "text"
      },
      "source": [
        "> **A. Matriz de confusión simple.**"
      ]
    },
    {
      "cell_type": "code",
      "metadata": {
        "id": "3sU-M00HmyWR",
        "colab_type": "code",
        "outputId": "6ccf6fdc-c177-4ea3-ffa0-cafdd8874c46",
        "colab": {
          "base_uri": "https://localhost:8080/",
          "height": 70
        }
      },
      "source": [
        "from sklearn.metrics import confusion_matrix, accuracy_score\n",
        "\n",
        "#YTEST=YTEST.reshape(len(Ytest),1)\n",
        "\n",
        "acc = accuracy_score(YTEST,Valores_label)\n",
        "print('acierto: ',acc)\n",
        "cm=confusion_matrix(YTEST,Valores_label)\n",
        "cm"
      ],
      "execution_count": 23,
      "outputs": [
        {
          "output_type": "stream",
          "text": [
            "acierto:  0.7675\n"
          ],
          "name": "stdout"
        },
        {
          "output_type": "execute_result",
          "data": {
            "text/plain": [
              "array([[152,  48],\n",
              "       [ 45, 155]])"
            ]
          },
          "metadata": {
            "tags": []
          },
          "execution_count": 23
        }
      ]
    },
    {
      "cell_type": "markdown",
      "metadata": {
        "id": "rEBXCc4TDjCE",
        "colab_type": "text"
      },
      "source": [
        "\n",
        ">**B. Matriz de confusión, con porcentjes de acierto.**"
      ]
    },
    {
      "cell_type": "code",
      "metadata": {
        "id": "EejIKKgBDjlP",
        "colab_type": "code",
        "outputId": "0beacfee-28fc-426f-c2a7-f538f70cd8a0",
        "colab": {
          "base_uri": "https://localhost:8080/",
          "height": 365
        }
      },
      "source": [
        "from sklearn.utils.multiclass import unique_labels\n",
        "\n",
        "\n",
        "def plot_confusion_matrix(matrix,Ytest,Valores_label,acc,Valores2):\n",
        "    fig = plt.figure(figsize=(5,5))\n",
        "    ax = fig.add_subplot(111)\n",
        "    cmap=plt.cm.Blues\n",
        "    matrix = 100*matrix.astype('float') / cm.sum(axis=1)[:, np.newaxis]\n",
        "    cax = ax.matshow(matrix, interpolation='nearest', cmap=cmap)\n",
        "    fig.colorbar(cax)\n",
        "    classes = unique_labels(Ytest,Valores_label)\n",
        "    classes1= Valores2\n",
        "    ax.set(xticks=np.arange(matrix.shape[1]),\n",
        "           yticks=np.arange(matrix.shape[0]),\n",
        "           xticklabels=classes1, yticklabels=classes1,\n",
        "           title='ACC = %.1f %%' % (100*acc),\n",
        "           ylabel='True label',\n",
        "           xlabel='Predicted label')\n",
        "    fmt = '.1f'\n",
        "    thresh = matrix.max() / 2.\n",
        "    for i in range(matrix.shape[0]):\n",
        "        for j in range(matrix.shape[1]):\n",
        "            ax.text(j, i, format(matrix[i, j], fmt),\n",
        "                    ha=\"center\", va=\"center\",\n",
        "                    color=\"black\",fontsize=14)\n",
        "    fig.tight_layout()\n",
        "\n",
        "#Valores_label_texto=convertir_salida_texto(Valores_label)\n",
        "plot_confusion_matrix(cm,YTEST,Valores_label,acc,Valores2=[\"Perro\",\"Gato\"])\n",
        "\n"
      ],
      "execution_count": 24,
      "outputs": [
        {
          "output_type": "display_data",
          "data": {
            "image/png": "[encoded data removed]",
            "text/plain": [
              "<Figure size 360x360 with 2 Axes>"
            ]
          },
          "metadata": {
            "tags": [],
            "needs_background": "light"
          }
        }
      ]
    },
    {
      "cell_type": "markdown",
      "metadata": {
        "id": "IZk9eJ4YDwed",
        "colab_type": "text"
      },
      "source": [
        "\n",
        "> **C. Reporte de algunas métricas: Precisión, recall, F1 y Support, para el umbral de clasificación 0,5(por defecto usado por keras).**\n"
      ]
    },
    {
      "cell_type": "code",
      "metadata": {
        "id": "W88lTS1WDxsY",
        "colab_type": "code",
        "outputId": "da3c9c48-a1f7-4b02-e29c-c68138baf18e",
        "colab": {
          "base_uri": "https://localhost:8080/",
          "height": 176
        }
      },
      "source": [
        "from sklearn.metrics import classification_report\n",
        "\n",
        "target_names = ['Perro', 'Gato']\n",
        "cr=classification_report(YTEST, Valores_label,labels=range(len(target_names)),target_names=target_names)\n",
        "print(cr) "
      ],
      "execution_count": 25,
      "outputs": [
        {
          "output_type": "stream",
          "text": [
            "              precision    recall  f1-score   support\n",
            "\n",
            "       Perro       0.77      0.76      0.77       200\n",
            "        Gato       0.76      0.78      0.77       200\n",
            "\n",
            "    accuracy                           0.77       400\n",
            "   macro avg       0.77      0.77      0.77       400\n",
            "weighted avg       0.77      0.77      0.77       400\n",
            "\n"
          ],
          "name": "stdout"
        }
      ]
    },
    {
      "cell_type": "markdown",
      "metadata": {
        "id": "ilniZmtTD39E",
        "colab_type": "text"
      },
      "source": [
        ">**D. Curva ROC, para cada clase, variando los umbrales de decisión(Thresold) o, en este caso con la probabilidad de que pertenezca a una de las salidas.**"
      ]
    },
    {
      "cell_type": "code",
      "metadata": {
        "id": "6HRo5uaTml1w",
        "colab_type": "code",
        "outputId": "87171029-cf81-4af2-ba69-566e22b85505",
        "colab": {
          "base_uri": "https://localhost:8080/",
          "height": 404
        }
      },
      "source": [
        "from sklearn.preprocessing import label_binarize\n",
        "from sklearn.metrics import roc_curve, auc\n",
        "\n",
        "\n",
        "\n",
        "Ytest_Bin= label_binarize(YTEST, classes=[0,1])\n",
        "Valores_Bin= label_binarize(Valores_label, classes=[0,1])\n",
        "roc_auc, fpr, tpr, n_classes = roc_multiclass(Ytest_Bin,Valores_Bin,colum=1)\n",
        "roc_auc_mc(roc_auc,fpr,tpr,n_classes,'ROC curve ')\n",
        "\n"
      ],
      "execution_count": 26,
      "outputs": [
        {
          "output_type": "display_data",
          "data": {
            "image/png": "[encoded data removed]",
            "text/plain": [
              "<Figure size 432x432 with 1 Axes>"
            ]
          },
          "metadata": {
            "tags": [],
            "needs_background": "light"
          }
        }
      ]
    },
    {
      "cell_type": "code",
      "metadata": {
        "id": "Xe4ek79vGG-B",
        "colab_type": "code",
        "outputId": "29fc6f62-45a7-4ecd-dfcc-25e50208082b",
        "colab": {
          "base_uri": "https://localhost:8080/",
          "height": 426
        }
      },
      "source": [
        "#GRAFICAR LAS PRIMERAS 10 CLASES\n",
        "tam=10\n",
        "index=0\n",
        "plt.figure(figsize=(tam*2, 7))\n",
        "for i in range(1,tam):\n",
        "  index += 1\n",
        "  plt.subplot((tam//10)+1, 5, index)\n",
        "  plt.imshow(XTEST[i-1])\n",
        "  plt.title(\"Class: {}\".format(Valores_label[i-1]))\n",
        "  plt.axis(\"off\")\n",
        "plt.show() "
      ],
      "execution_count": 27,
      "outputs": [
        {
          "output_type": "display_data",
          "data": {
            "image/png": "[encoded data removed]",
            "text/plain": [
              "<Figure size 1440x504 with 9 Axes>"
            ]
          },
          "metadata": {
            "tags": [],
            "needs_background": "light"
          }
        }
      ]
    },
    {
      "cell_type": "code",
      "metadata": {
        "id": "rCfjxCMLriBd",
        "colab_type": "code",
        "colab": {}
      },
      "source": [
        "\n"
      ],
      "execution_count": 0,
      "outputs": []
    },
    {
      "cell_type": "code",
      "metadata": {
        "id": "78qXclPMu2t8",
        "colab_type": "code",
        "colab": {}
      },
      "source": [
        ""
      ],
      "execution_count": 0,
      "outputs": []
    }
  ]
}