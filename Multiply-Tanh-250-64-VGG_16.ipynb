{
  "nbformat": 4,
  "nbformat_minor": 0,
  "metadata": {
    "colab": {
      "name": "VGG-16.ipynb",
      "provenance": [],
      "collapsed_sections": [],
      "machine_shape": "hm",
      "include_colab_link": true
    },
    "kernelspec": {
      "name": "python3",
      "display_name": "Python 3"
    },
    "accelerator": "GPU"
  },
  "cells": [
    {
      "cell_type": "markdown",
      "metadata": {
        "id": "view-in-github",
        "colab_type": "text"
      },
      "source": [
        "<a href=\"https://colab.research.google.com/github/gloria256/EXPERIMENTOS/blob/master/Multiply-Tanh-250-64-VGG_16.ipynb\" target=\"_parent\"><img src=\"https://colab.research.google.com/assets/colab-badge.svg\" alt=\"Open In Colab\"/></a>"
      ]
    },
    {
      "cell_type": "markdown",
      "metadata": {
        "id": "5ftLDsREupDL",
        "colab_type": "text"
      },
      "source": [
        "# **CLASIFICADOR BINARIO USANDO LA RED: VGG16**\n",
        "\n",
        "\n",
        "\n",
        "\n",
        "\n"
      ]
    },
    {
      "cell_type": "markdown",
      "metadata": {
        "id": "lnRyzy7hvA2O",
        "colab_type": "text"
      },
      "source": [
        "## **1. Librerías necesarias y descarga de la función para la curva ROC en Drive.**"
      ]
    },
    {
      "cell_type": "code",
      "metadata": {
        "id": "rbNiIwHFdiWA",
        "colab_type": "code",
        "colab": {
          "base_uri": "https://localhost:8080/",
          "height": 34
        },
        "outputId": "2c27bb04-8f34-41f2-e653-cfc68541112d"
      },
      "source": [
        "#IMPORTACION DE LIBRERIAS NECESARIAS\n",
        "import pandas as pd\n",
        "import tensorflow_datasets as tfds\n",
        "import tensorflow as tf\n",
        "import matplotlib.pyplot as plt\n",
        "import cv2\n",
        "import numpy as np\n",
        "import os\n",
        "from keras.applications.resnet import preprocess_input, decode_predictions\n",
        "import sklearn\n",
        "\n",
        "# ACCESO A GOOGLE DRIVE\n",
        "import os\n",
        "from pydrive.auth import GoogleAuth\n",
        "from pydrive.drive import GoogleDrive\n",
        "from google.colab import auth\n",
        "from oauth2client.client import GoogleCredentials\n",
        "auth.authenticate_user()\n",
        "gauth = GoogleAuth()\n",
        "gauth.credentials = GoogleCredentials.get_application_default()\n",
        "drive = GoogleDrive(gauth)\n",
        "\n",
        "#ARCHIVO DE FUNCIONES\n",
        "file_id = '1QTJIzZb4xL9_it6AF4qpz6KJGIpprIVD' \n",
        "downloaded = drive.CreateFile({'id': file_id})\n",
        "downloaded.GetContentFile('funciones_people.py') \n",
        "from funciones_people import roc_multiclass, roc_auc_mc\n"
      ],
      "execution_count": 1,
      "outputs": [
        {
          "output_type": "stream",
          "text": [
            "Using TensorFlow backend.\n"
          ],
          "name": "stderr"
        }
      ]
    },
    {
      "cell_type": "markdown",
      "metadata": {
        "id": "hL2cXKJAkLoA",
        "colab_type": "text"
      },
      "source": [
        "## **4. Descargar imágenes de CIFAR-10**\n",
        "\n",
        "consta de 60000 imágenes en color de 32x32 en 10 clases, con 6000 imágenes por clase. Hay 50000 imágenes de entrenamiento y 10000 imágenes de prueba.\n",
        "\n",
        "El conjunto de datos se divide en cinco lotes de entrenamiento y un lote de prueba, cada uno con 10000 imágenes. El lote de prueba contiene exactamente 1000 imágenes seleccionadas al azar de cada clase. \n",
        "\n",
        "$avión\\hspace{1em}automóvil\\hspace{1em}pájaro\\hspace{1em}gato    \n",
        "ciervo\\hspace{1em}perro\\hspace{1em}rana\\hspace{1em}caballo\\hspace{1em}\n",
        "Embarcacion\\hspace{1em}camión$"
      ]
    },
    {
      "cell_type": "markdown",
      "metadata": {
        "id": "-3cxyDsseRk_",
        "colab_type": "text"
      },
      "source": [
        "#### **A:** Funciones, para seleccionar solo las clases: Gato y perro"
      ]
    },
    {
      "cell_type": "code",
      "metadata": {
        "id": "q1eEICWsfQUB",
        "colab_type": "code",
        "colab": {}
      },
      "source": [
        "def obtener_solo_imagenes_Etiqueta(imagen,etiqueta,num_etiqueta):\n",
        "  Gatos_label=np.where(etiqueta== num_etiqueta)\n",
        "  A=np.zeros([len(Gatos_label[0]),32,32,3],dtype=np.uint8)\n",
        "  for c,i in enumerate(Gatos_label[0]): \n",
        "    A[c]=imagen[i]\n",
        "  return A\n",
        "\n",
        "def cambiar_scala_224x224(imagen):\n",
        "  matriz_imagen1=np.zeros([len(imagen),224,224,3],dtype=np.uint8)\n",
        "  for i in range(len(imagen)):\n",
        "    img=imagen[i]\n",
        "    scale_percent = 700 # percent of original size\n",
        "    width = int(img.shape[1] * scale_percent / 100)\n",
        "    height = int(img.shape[0] * scale_percent / 100)\n",
        "    dim = (width, height)\n",
        "    resized = cv2.resize(img, dim, interpolation = cv2.INTER_AREA)\n",
        "    matriz_imagen1[i]=resized\n",
        "  return matriz_imagen1"
      ],
      "execution_count": 0,
      "outputs": []
    },
    {
      "cell_type": "markdown",
      "metadata": {
        "id": "eegBaLz32hzL",
        "colab_type": "text"
      },
      "source": [
        "#### **B:** Descargar de keras datasets CIFAR10 y seleccionar las imagenes de las clases gato y perro del conjunto de **Train** y **Test**\n",
        "\n",
        "\n"
      ]
    },
    {
      "cell_type": "code",
      "metadata": {
        "id": "jogC9oAGzSuu",
        "colab_type": "code",
        "outputId": "1a8e7b23-9e89-46a1-d6d0-d99b52cd751f",
        "colab": {
          "base_uri": "https://localhost:8080/",
          "height": 70
        }
      },
      "source": [
        "#IMPORTAMOS EL CONJUNTO DE DATOS DE CIFAR10 DONE: Xdata[0][0]-->Train   Xdata[1][0]-->Test  Xdata[0][1]-->Ytrain  Xdata[1][1]-->Ytest\n",
        "import tensorflow as tf\n",
        "from keras.datasets import cifar10\n",
        "\n",
        "Xdata = tf.keras.datasets.cifar10.load_data()\n",
        "Xdata[1][0].shape\n"
      ],
      "execution_count": 3,
      "outputs": [
        {
          "output_type": "stream",
          "text": [
            "Downloading data from https://www.cs.toronto.edu/~kriz/cifar-10-python.tar.gz\n",
            "170500096/170498071 [==============================] - 6s 0us/step\n"
          ],
          "name": "stdout"
        },
        {
          "output_type": "execute_result",
          "data": {
            "text/plain": [
              "(10000, 32, 32, 3)"
            ]
          },
          "metadata": {
            "tags": []
          },
          "execution_count": 3
        }
      ]
    },
    {
      "cell_type": "code",
      "metadata": {
        "id": "aHZBxtVEIRU9",
        "colab_type": "code",
        "outputId": "503a5044-cbe1-4b95-a9d8-eb05635eb9cb",
        "colab": {
          "base_uri": "https://localhost:8080/",
          "height": 265
        }
      },
      "source": [
        "#OBTENEMOS SOLO LAS IMAGENES DE GATO=3 y perro=5 DE TEST DE CIFAR10, SON 1000 IMAGENES DE GATO y 1000 IMAGENES DE PERRO\n",
        "gato_test = obtener_solo_imagenes_Etiqueta(Xdata[1][0],Xdata[1][1],num_etiqueta=3)\n",
        "perro_test = obtener_solo_imagenes_Etiqueta(Xdata[1][0],Xdata[1][1],num_etiqueta=5)\n",
        "\n",
        "#OBTENEMOS SOLO LAS IMAGENES DE GATO=3 y perro=5 DE TRAIN DE CIFAR10, SON 5000 IMAGENES DE GATO y 5000 IMAGENES DE PERRO\n",
        "gato_train = obtener_solo_imagenes_Etiqueta(Xdata[0][0],Xdata[0][1],num_etiqueta=3)\n",
        "perro_train = obtener_solo_imagenes_Etiqueta(Xdata[0][0],Xdata[0][1],num_etiqueta=5)\n",
        "\n",
        "plt.imshow(gato_test[999])\n",
        "plt.show()"
      ],
      "execution_count": 4,
      "outputs": [
        {
          "output_type": "display_data",
          "data": {
            "image/png": "[encoded data removed]",
            "text/plain": [
              "<Figure size 432x288 with 1 Axes>"
            ]
          },
          "metadata": {
            "tags": [],
            "needs_background": "light"
          }
        }
      ]
    },
    {
      "cell_type": "markdown",
      "metadata": {
        "id": "hMWOHRugFe8l",
        "colab_type": "text"
      },
      "source": [
        "## **5. Agrupar conjunto de datos, en uno solo (X)**\n",
        "\n",
        "Gato_test, Conjunto de satos de 1000 imágenes tomadas de CIFAR10 - TEST\n",
        "Gato_train, Conjunto de satos de 5000 imágenes tomadas de CIFAR10 - TRAIN\n",
        "\n",
        "perro_test, Conjunto de satos de 1000 imágenes tomadas de CIFAR10 - TEST\n",
        "perro_train, Conjunto de satos de 5000 imágenes tomadas de CIFAR10 - TRAIN\n",
        "\n",
        "\n",
        "> $X= Cifar10_{gato} + Cifar10_{perro}$\n"
      ]
    },
    {
      "cell_type": "markdown",
      "metadata": {
        "id": "T1tteHSs9YRA",
        "colab_type": "text"
      },
      "source": [
        "####**A:** Unir etiquetas y matrices de cada conjunto para fromar **X** de 2000 imágenes"
      ]
    },
    {
      "cell_type": "code",
      "metadata": {
        "id": "kyfpKkbQVtcH",
        "colab_type": "code",
        "outputId": "a5acba4c-c324-48db-bc12-519aecca8468",
        "colab": {
          "base_uri": "https://localhost:8080/",
          "height": 34
        }
      },
      "source": [
        "#UNIR LAS IMAGENES EN UN SOLO CONJUNTO\n",
        "#X = np.concatenate((gato_test[0:500], gato_train[0:500], perro_test[0:500], perro_train[0:500]), axis=0)\n",
        "#X_label=np.concatenate(([1]*500, [1]*500, [0]*500, [0]*500), axis=0)\n",
        "#UNIR ETIQUETAS EN UN SOLO CONJUNTO \n",
        "# 1-->GATO   0-->PERRO\n",
        "\n",
        "Xtrain = np.concatenate((gato_train[0:800], perro_train[0:800]), axis=0)\n",
        "Xtrain_label=np.concatenate(([1]*800,[0]*800), axis=0)\n",
        "Xtest  = np.concatenate((gato_test[0:200], perro_test[0:200]), axis=0)\n",
        "Xtest_label=np.concatenate(([1]*200,[0]*200), axis=0)\n",
        "\n",
        "print(len(Xtrain),len(Xtrain_label),'  y  ',len(Xtest),len(Xtest_label))"
      ],
      "execution_count": 5,
      "outputs": [
        {
          "output_type": "stream",
          "text": [
            "1600 1600   y   400 400\n"
          ],
          "name": "stdout"
        }
      ]
    },
    {
      "cell_type": "markdown",
      "metadata": {
        "id": "tBhSseFp27Z_",
        "colab_type": "text"
      },
      "source": [
        "#### **B:** Cambiar tamaño de 32x32x3, a scala de: 224x224x3 (**Ver función:** cambiar_scala_224x224(X))\n",
        "\n",
        "\n"
      ]
    },
    {
      "cell_type": "code",
      "metadata": {
        "id": "_YxLJAILu3ql",
        "colab_type": "code",
        "outputId": "9995bed6-f6a0-4af2-804e-54c6b5ef4854",
        "colab": {
          "base_uri": "https://localhost:8080/",
          "height": 34
        }
      },
      "source": [
        "import cv2\n",
        "Xtrain=cambiar_scala_224x224(Xtrain)\n",
        "Xtest=cambiar_scala_224x224(Xtest)\n",
        "print(Xtrain.shape,'  ',Xtest.shape)"
      ],
      "execution_count": 6,
      "outputs": [
        {
          "output_type": "stream",
          "text": [
            "(1600, 224, 224, 3)    (400, 224, 224, 3)\n"
          ],
          "name": "stdout"
        }
      ]
    },
    {
      "cell_type": "code",
      "metadata": {
        "id": "p5e8d0PxpMoQ",
        "colab_type": "code",
        "outputId": "18b66d28-320e-4fab-fee2-85476ccf446b",
        "colab": {
          "base_uri": "https://localhost:8080/",
          "height": 281
        }
      },
      "source": [
        "plt.imshow(Xtrain[5])\n",
        "plt.title('clase:%s'%Xtrain_label[5])\n",
        "plt.show()"
      ],
      "execution_count": 7,
      "outputs": [
        {
          "output_type": "display_data",
          "data": {
            "image/png": "[encoded data removed]",
            "text/plain": [
              "<Figure size 432x288 with 1 Axes>"
            ]
          },
          "metadata": {
            "tags": [],
            "needs_background": "light"
          }
        }
      ]
    },
    {
      "cell_type": "markdown",
      "metadata": {
        "id": "V6wmv0oX9tQ0",
        "colab_type": "text"
      },
      "source": [
        "####**C:** Pasar X, a un pandas, en este caso por cuestiones de espacio en memoria, solo se cojen: X[i][0][0][0:3] y se agrega para cada imagen al pandas X_PD con sus respectivas etiquetas X_label.\n",
        "\n",
        "\n"
      ]
    },
    {
      "cell_type": "code",
      "metadata": {
        "id": "WUoZ0rx1Ajop",
        "colab_type": "code",
        "colab": {}
      },
      "source": [
        "#ARMAR PANDAS CON SOLO 5 DATOS DE CADA UNA DE LAS 12000 IMAGENES PARA PODER PARTICIONAR EL CONJUNTO Y PODER SACAR YTRAIN Y YTEST\n",
        "Xtrain_PD=np.zeros([len(Xtrain),3])\n",
        "Xtest_PD=np.zeros([len(Xtest),3])\n",
        "\n",
        "for i in range(len(Xtrain)):\n",
        "  Xtrain_PD[i]=Xtrain[i][0][0][0:3]\n",
        "\n",
        "for i in range(len(Xtest)):\n",
        "  Xtest_PD[i]=Xtest[i][0][0][0:3]\n"
      ],
      "execution_count": 0,
      "outputs": []
    },
    {
      "cell_type": "code",
      "metadata": {
        "id": "mpoM4c89GilL",
        "colab_type": "code",
        "colab": {}
      },
      "source": [
        "#ARMAR PANDAS DE TODAS LAS IMAGENNES, SE BARAJAN Y SE DEJAN LOS INDICES SIN REINICIAR, PARA LUEGO ENCONTRAR LA IMAGEN QUE LE PERTENECE A CADA ETIQUETA.\n",
        "Xtrain_PD=pd.DataFrame(Xtrain_PD)\n",
        "Xtrain_PD[\"label\"]=Xtrain_label    \n",
        "Xtrain_PD = Xtrain_PD.sample(frac=1)#.reset_index(drop=True) #frac=1significa devolver todas las filas (en orden aleatorio).\n",
        "\n",
        "Xtest_PD=pd.DataFrame(Xtest_PD)\n",
        "Xtest_PD[\"label\"]=Xtest_label    \n",
        "Xtest_PD = Xtest_PD.sample(frac=1)"
      ],
      "execution_count": 0,
      "outputs": []
    },
    {
      "cell_type": "markdown",
      "metadata": {
        "id": "EjdPZOFN-P9d",
        "colab_type": "text"
      },
      "source": [
        "####**C:** Se particiona el conjuto de X_PD en Xtrain y Xtest, con 80%, 20% respectivamente y se sacan los Ytrain, Ytest por aparte."
      ]
    },
    {
      "cell_type": "code",
      "metadata": {
        "id": "qRFhRdcE9qj_",
        "colab_type": "code",
        "outputId": "f6135eef-79bb-47fc-bd24-ee68ef5704bc",
        "colab": {
          "base_uri": "https://localhost:8080/",
          "height": 34
        }
      },
      "source": [
        "#PARTICIONAR EL CONJUNTO DE XDATA EN XTRAIN Y XTEST\n",
        "#from sklearn.model_selection import train_test_split\n",
        "#Xtrain, Xtest = train_test_split(X_PD,test_size=0.2)\n",
        "\n",
        "col_sal=\"label\"\n",
        "Ytrain = Xtrain_PD[col_sal]\n",
        "Xtrain_PD.drop(columns=col_sal,inplace=True)\n",
        "Ytest = Xtest_PD[col_sal]\n",
        "Xtest_PD.drop(columns=col_sal,inplace=True)\n",
        "\n",
        "print(len(Ytrain),len(Ytest))"
      ],
      "execution_count": 10,
      "outputs": [
        {
          "output_type": "stream",
          "text": [
            "1600 400\n"
          ],
          "name": "stdout"
        }
      ]
    },
    {
      "cell_type": "markdown",
      "metadata": {
        "id": "4FlAT9CE-ogZ",
        "colab_type": "text"
      },
      "source": [
        "####**D:** Del pandas **X_PD** creado, se saca Ytrain, luego aquí,se sacan sus indices y se relacionan con la matrix de datos unidos **X** para armar el array **XTRAIN** que es el que va a la entrada de la red neuronal VGG-16."
      ]
    },
    {
      "cell_type": "code",
      "metadata": {
        "id": "xNSoYUIj70QB",
        "colab_type": "code",
        "outputId": "2c519741-544f-4d72-a53a-57e39fd813e9",
        "colab": {
          "base_uri": "https://localhost:8080/",
          "height": 34
        }
      },
      "source": [
        "#SE ARMA EL CONJUNTO XTRAIN FINAL, A PARTIR DE LOS INDICES DE LAS ETIQUETAS.\n",
        "\n",
        "def relacion_indices_etiquetas_con_XTRAIN(X,Y):\n",
        "  A=np.zeros([len(Y),224,224,3],dtype=np.uint8)\n",
        "  B=[]\n",
        "  for c,i in enumerate(Y.index):\n",
        "    A[c]=X[i]\n",
        "    B.append(Y[i])\n",
        "  return A,np.array(B)\n",
        "\n",
        "\n",
        "XTRAIN,YTRAIN = relacion_indices_etiquetas_con_XTRAIN(Xtrain,Ytrain)\n",
        "XTEST,YTEST = relacion_indices_etiquetas_con_XTRAIN(Xtest,Ytest)\n",
        "print('xtrain: ',XTRAIN.shape,YTRAIN.shape,'  xtest: ',XTEST.shape,YTEST.shape)\n",
        "\n",
        "#c = np.all(np.array(YTRAIN) == np.array(Ytrain))\n",
        "#Ytrain.index"
      ],
      "execution_count": 11,
      "outputs": [
        {
          "output_type": "stream",
          "text": [
            "xtrain:  (1600, 224, 224, 3) (1600,)   xtest:  (400, 224, 224, 3) (400,)\n"
          ],
          "name": "stdout"
        }
      ]
    },
    {
      "cell_type": "code",
      "metadata": {
        "id": "M-lxgxSTfm7u",
        "colab_type": "code",
        "outputId": "f179741a-e063-4874-daad-0b96dc5a49c4",
        "colab": {
          "base_uri": "https://localhost:8080/",
          "height": 34
        }
      },
      "source": [
        "#LAS PASAMOS A TENSOR, NO HAYNECESIDAD DE QUE YTRAIN SEA UN TENSOR.\n",
        "XTRAIN=tf.constant(XTRAIN)\n",
        "YTRAIN=tf.constant(YTRAIN)\n",
        "\n",
        "XTEST=tf.constant(XTEST)\n",
        "YTEST=tf.constant(YTEST)\n",
        "print(type(XTRAIN))"
      ],
      "execution_count": 12,
      "outputs": [
        {
          "output_type": "stream",
          "text": [
            "<class 'tensorflow.python.framework.ops.EagerTensor'>\n"
          ],
          "name": "stdout"
        }
      ]
    },
    {
      "cell_type": "code",
      "metadata": {
        "id": "NqVmpVA5-KRM",
        "colab_type": "code",
        "outputId": "7ebf0a94-7c30-4782-e5b4-092d30b2c6b9",
        "colab": {
          "base_uri": "https://localhost:8080/",
          "height": 281
        }
      },
      "source": [
        "plt.imshow(XTRAIN[5])\n",
        "plt.title('clase:%s'%YTRAIN[5])\n",
        "plt.show()\n"
      ],
      "execution_count": 13,
      "outputs": [
        {
          "output_type": "display_data",
          "data": {
            "image/png": "[encoded data removed]",
            "text/plain": [
              "<Figure size 432x288 with 1 Axes>"
            ]
          },
          "metadata": {
            "tags": [],
            "needs_background": "light"
          }
        }
      ]
    },
    {
      "cell_type": "markdown",
      "metadata": {
        "id": "QajCSoSIeCEm",
        "colab_type": "text"
      },
      "source": [
        "##**6. Importar el modelo de la VGG-16 y configurar el último bloque.**\n",
        "\n",
        "### Dejar la ultima capa y agregar la capa densa de salida, para que tenga 1 salida.  "
      ]
    },
    {
      "cell_type": "code",
      "metadata": {
        "id": "tf0CXg9BN5aH",
        "colab_type": "code",
        "outputId": "a7198177-1467-4a65-adf1-44b53b0de33b",
        "colab": {
          "base_uri": "https://localhost:8080/",
          "height": 1000
        }
      },
      "source": [
        "import tensorflow as tf\n",
        "\n",
        "model_VGG16 = tf.keras.applications.vgg16.VGG16(weights='imagenet')#,include_top=False)\n",
        "model_VGG16 = tf.keras.models.Model(inputs=model_VGG16.input, outputs=model_VGG16.layers[-3].output)\n",
        "\n",
        "#X  =  tf.keras.layers.Dropout(0.2)(model_VGG16.output)\n",
        "X  =  tf.keras.layers.Dense(4096,activation='tanh',name='fc2' )(model_VGG16.output)\n",
        "X1  =  tf.keras.layers.Dense(4096,activation='tanh',name='fc2-3' )(X)\n",
        "X3=tf.keras.layers.dot([X1, X], axes=1, normalize=True)#PROBAR CON TRUE\n",
        "#X  =  tf.keras.layers.Dropout(0.2)(X)\n",
        "output = tf.keras.layers.Dense(1, activation=\"sigmoid\", name='salida')(X3)\n",
        "model = tf.keras.models.Model(inputs=model_VGG16.input, outputs=output)\n",
        "\n",
        "\n",
        "model.summary()"
      ],
      "execution_count": 14,
      "outputs": [
        {
          "output_type": "stream",
          "text": [
            "Downloading data from https://storage.googleapis.com/tensorflow/keras-applications/vgg16/vgg16_weights_tf_dim_ordering_tf_kernels.h5\n",
            "553467904/553467096 [==============================] - 9s 0us/step\n",
            "Model: \"model_1\"\n",
            "__________________________________________________________________________________________________\n",
            "Layer (type)                    Output Shape         Param #     Connected to                     \n",
            "==================================================================================================\n",
            "input_1 (InputLayer)            [(None, 224, 224, 3) 0                                            \n",
            "__________________________________________________________________________________________________\n",
            "block1_conv1 (Conv2D)           (None, 224, 224, 64) 1792        input_1[0][0]                    \n",
            "__________________________________________________________________________________________________\n",
            "block1_conv2 (Conv2D)           (None, 224, 224, 64) 36928       block1_conv1[0][0]               \n",
            "__________________________________________________________________________________________________\n",
            "block1_pool (MaxPooling2D)      (None, 112, 112, 64) 0           block1_conv2[0][0]               \n",
            "__________________________________________________________________________________________________\n",
            "block2_conv1 (Conv2D)           (None, 112, 112, 128 73856       block1_pool[0][0]                \n",
            "__________________________________________________________________________________________________\n",
            "block2_conv2 (Conv2D)           (None, 112, 112, 128 147584      block2_conv1[0][0]               \n",
            "__________________________________________________________________________________________________\n",
            "block2_pool (MaxPooling2D)      (None, 56, 56, 128)  0           block2_conv2[0][0]               \n",
            "__________________________________________________________________________________________________\n",
            "block3_conv1 (Conv2D)           (None, 56, 56, 256)  295168      block2_pool[0][0]                \n",
            "__________________________________________________________________________________________________\n",
            "block3_conv2 (Conv2D)           (None, 56, 56, 256)  590080      block3_conv1[0][0]               \n",
            "__________________________________________________________________________________________________\n",
            "block3_conv3 (Conv2D)           (None, 56, 56, 256)  590080      block3_conv2[0][0]               \n",
            "__________________________________________________________________________________________________\n",
            "block3_pool (MaxPooling2D)      (None, 28, 28, 256)  0           block3_conv3[0][0]               \n",
            "__________________________________________________________________________________________________\n",
            "block4_conv1 (Conv2D)           (None, 28, 28, 512)  1180160     block3_pool[0][0]                \n",
            "__________________________________________________________________________________________________\n",
            "block4_conv2 (Conv2D)           (None, 28, 28, 512)  2359808     block4_conv1[0][0]               \n",
            "__________________________________________________________________________________________________\n",
            "block4_conv3 (Conv2D)           (None, 28, 28, 512)  2359808     block4_conv2[0][0]               \n",
            "__________________________________________________________________________________________________\n",
            "block4_pool (MaxPooling2D)      (None, 14, 14, 512)  0           block4_conv3[0][0]               \n",
            "__________________________________________________________________________________________________\n",
            "block5_conv1 (Conv2D)           (None, 14, 14, 512)  2359808     block4_pool[0][0]                \n",
            "__________________________________________________________________________________________________\n",
            "block5_conv2 (Conv2D)           (None, 14, 14, 512)  2359808     block5_conv1[0][0]               \n",
            "__________________________________________________________________________________________________\n",
            "block5_conv3 (Conv2D)           (None, 14, 14, 512)  2359808     block5_conv2[0][0]               \n",
            "__________________________________________________________________________________________________\n",
            "block5_pool (MaxPooling2D)      (None, 7, 7, 512)    0           block5_conv3[0][0]               \n",
            "__________________________________________________________________________________________________\n",
            "flatten (Flatten)               (None, 25088)        0           block5_pool[0][0]                \n",
            "__________________________________________________________________________________________________\n",
            "fc1 (Dense)                     (None, 4096)         102764544   flatten[0][0]                    \n",
            "__________________________________________________________________________________________________\n",
            "fc2 (Dense)                     (None, 4096)         16781312    fc1[0][0]                        \n",
            "__________________________________________________________________________________________________\n",
            "fc2-3 (Dense)                   (None, 4096)         16781312    fc2[0][0]                        \n",
            "__________________________________________________________________________________________________\n",
            "dot (Dot)                       (None, 1)            0           fc2-3[0][0]                      \n",
            "                                                                 fc2[0][0]                        \n",
            "__________________________________________________________________________________________________\n",
            "salida (Dense)                  (None, 1)            2           dot[0][0]                        \n",
            "==================================================================================================\n",
            "Total params: 151,041,858\n",
            "Trainable params: 151,041,858\n",
            "Non-trainable params: 0\n",
            "__________________________________________________________________________________________________\n"
          ],
          "name": "stdout"
        }
      ]
    },
    {
      "cell_type": "code",
      "metadata": {
        "id": "7fGtZsYu191T",
        "colab_type": "code",
        "colab": {}
      },
      "source": [
        "#SE CONGELAN LOS PESOS DE TODAS LAS CAPAS MENOS DE LAS cuatro ULTIMAS CAPAS\n",
        "for layer in model.layers[:-5]:\n",
        "  layer.trainable=False"
      ],
      "execution_count": 0,
      "outputs": []
    },
    {
      "cell_type": "code",
      "metadata": {
        "id": "oa5ctNvRTWuQ",
        "colab_type": "code",
        "outputId": "08a040af-e0f8-4a8c-cb35-d63782996300",
        "colab": {
          "base_uri": "https://localhost:8080/",
          "height": 461
        }
      },
      "source": [
        "#SE VERIFICA QUE LAS CUATRO ULTIMAS CAPAS ESTE EN TRUE Y LAS DEMÁS EN FALSE\n",
        "for layer in model.layers:\n",
        "  layer, layer.trainable\n",
        "  print(layer, layer.trainable)"
      ],
      "execution_count": 16,
      "outputs": [
        {
          "output_type": "stream",
          "text": [
            "<tensorflow.python.keras.engine.input_layer.InputLayer object at 0x7f92800e07b8> False\n",
            "<tensorflow.python.keras.layers.convolutional.Conv2D object at 0x7f928f9c16d8> False\n",
            "<tensorflow.python.keras.layers.convolutional.Conv2D object at 0x7f92800d5390> False\n",
            "<tensorflow.python.keras.layers.pooling.MaxPooling2D object at 0x7f928004c710> False\n",
            "<tensorflow.python.keras.layers.convolutional.Conv2D object at 0x7f928004c588> False\n",
            "<tensorflow.python.keras.layers.convolutional.Conv2D object at 0x7f92800598d0> False\n",
            "<tensorflow.python.keras.layers.pooling.MaxPooling2D object at 0x7f9280063a90> False\n",
            "<tensorflow.python.keras.layers.convolutional.Conv2D object at 0x7f9280063908> False\n",
            "<tensorflow.python.keras.layers.convolutional.Conv2D object at 0x7f9280069c50> False\n",
            "<tensorflow.python.keras.layers.convolutional.Conv2D object at 0x7f9280071390> False\n",
            "<tensorflow.python.keras.layers.pooling.MaxPooling2D object at 0x7f92800772b0> False\n",
            "<tensorflow.python.keras.layers.convolutional.Conv2D object at 0x7f9280077ba8> False\n",
            "<tensorflow.python.keras.layers.convolutional.Conv2D object at 0x7f9235882eb8> False\n",
            "<tensorflow.python.keras.layers.convolutional.Conv2D object at 0x7f9235889470> False\n",
            "<tensorflow.python.keras.layers.pooling.MaxPooling2D object at 0x7f923588e4a8> False\n",
            "<tensorflow.python.keras.layers.convolutional.Conv2D object at 0x7f9235894dd8> False\n",
            "<tensorflow.python.keras.layers.convolutional.Conv2D object at 0x7f9235894fd0> False\n",
            "<tensorflow.python.keras.layers.convolutional.Conv2D object at 0x7f92358a4358> False\n",
            "<tensorflow.python.keras.layers.pooling.MaxPooling2D object at 0x7f92358a4828> False\n",
            "<tensorflow.python.keras.layers.core.Flatten object at 0x7f92358ac518> False\n",
            "<tensorflow.python.keras.layers.core.Dense object at 0x7f92358b65c0> True\n",
            "<tensorflow.python.keras.layers.core.Dense object at 0x7f9235850da0> True\n",
            "<tensorflow.python.keras.layers.core.Dense object at 0x7f9235850f98> True\n",
            "<tensorflow.python.keras.layers.merge.Dot object at 0x7f923586a518> True\n",
            "<tensorflow.python.keras.layers.core.Dense object at 0x7f923586a2b0> True\n"
          ],
          "name": "stdout"
        }
      ]
    },
    {
      "cell_type": "markdown",
      "metadata": {
        "id": "jEGBQQ8j7o1r",
        "colab_type": "text"
      },
      "source": [
        "##**6. Definir el optimizador para la funcion de costo, así como la funcion de pérdida y las metricas de evaluación del odelo a través de la compilacion del modelo.**\n",
        "\n",
        "Loss $\\hspace{1em} \\rightarrow \\hspace{1em}$ $-ylog(x)\\hat{y} + (1-y)log(1-\\hat{y}) $ \n"
      ]
    },
    {
      "cell_type": "code",
      "metadata": {
        "id": "n0VAt8V_1OvU",
        "colab_type": "code",
        "colab": {}
      },
      "source": [
        "#DEFINIR OPTIMIZADOR, FUNCIONES DE PERIDA Y METRICAS\n",
        "#optimizer = tf.keras.optimizers.SGD(learning_rate=0.001, momentum=0.9)\n",
        "optimizer = tf.keras.optimizers.Adam(learning_rate=0.001)#, beta_1=0.9, beta_2=0.999, epsilon=1e-07)\n",
        "#loss='mean_squared_logariic_errorthm'\n",
        "model.compile(loss='binary_crossentropy', optimizer=optimizer, metrics=['mse','mae','accuracy','Recall','Precision'])#,"
      ],
      "execution_count": 0,
      "outputs": []
    },
    {
      "cell_type": "markdown",
      "metadata": {
        "id": "7UUX2Kpy7Ya4",
        "colab_type": "text"
      },
      "source": [
        "##**7. Entrenar el modelo con XTRAIN como un array de 4 dimensiones.**\n",
        "\n",
        "---\n",
        "\n",
        "\n"
      ]
    },
    {
      "cell_type": "code",
      "metadata": {
        "id": "gegszIDZE3C0",
        "colab_type": "code",
        "outputId": "d014c472-ccec-43ea-a4b5-8f1e437c12d7",
        "colab": {
          "base_uri": "https://localhost:8080/",
          "height": 34
        }
      },
      "source": [
        "print(len(XTRAIN),len(YTRAIN))\n"
      ],
      "execution_count": 18,
      "outputs": [
        {
          "output_type": "stream",
          "text": [
            "1600 1600\n"
          ],
          "name": "stdout"
        }
      ]
    },
    {
      "cell_type": "code",
      "metadata": {
        "id": "WHXivSHN9b5_",
        "colab_type": "code",
        "outputId": "892ca092-1b8d-4290-9471-bf765046fa76",
        "colab": {
          "base_uri": "https://localhost:8080/",
          "height": 1000
        }
      },
      "source": [
        "#ENTRENAR EL MODELO CREADO \n",
        "history=model.fit(XTRAIN,YTRAIN,epochs=250,batch_size=64)               "
      ],
      "execution_count": 19,
      "outputs": [
        {
          "output_type": "stream",
          "text": [
            "Epoch 1/250\n",
            "WARNING:tensorflow:From /usr/local/lib/python3.6/dist-packages/tensorflow/python/ops/resource_variable_ops.py:1817: calling BaseResourceVariable.__init__ (from tensorflow.python.ops.resource_variable_ops) with constraint is deprecated and will be removed in a future version.\n",
            "Instructions for updating:\n",
            "If using Keras pass *_constraint arguments to layers.\n",
            "25/25 [==============================] - 14s 575ms/step - loss: 0.6935 - mse: 0.2502 - mae: 0.5001 - accuracy: 0.4975 - recall: 0.2650 - precision: 0.4953\n",
            "Epoch 2/250\n",
            "25/25 [==============================] - 15s 582ms/step - loss: 0.6932 - mse: 0.2500 - mae: 0.4999 - accuracy: 0.5000 - recall: 0.0000e+00 - precision: 0.0000e+00\n",
            "Epoch 3/250\n",
            "25/25 [==============================] - 15s 586ms/step - loss: 0.6932 - mse: 0.2500 - mae: 0.4999 - accuracy: 0.5000 - recall: 0.0000e+00 - precision: 0.0000e+00\n",
            "Epoch 4/250\n",
            "25/25 [==============================] - 15s 591ms/step - loss: 0.6932 - mse: 0.2500 - mae: 0.4999 - accuracy: 0.5000 - recall: 0.0000e+00 - precision: 0.0000e+00\n",
            "Epoch 5/250\n",
            "25/25 [==============================] - 15s 592ms/step - loss: 0.6931 - mse: 0.2500 - mae: 0.4999 - accuracy: 0.5000 - recall: 0.0000e+00 - precision: 0.0000e+00\n",
            "Epoch 6/250\n",
            "25/25 [==============================] - 15s 592ms/step - loss: 0.6930 - mse: 0.2499 - mae: 0.4999 - accuracy: 0.5000 - recall: 0.0000e+00 - precision: 0.0000e+00\n",
            "Epoch 7/250\n",
            "25/25 [==============================] - 15s 592ms/step - loss: 0.6929 - mse: 0.2499 - mae: 0.4998 - accuracy: 0.5000 - recall: 0.0000e+00 - precision: 0.0000e+00\n",
            "Epoch 8/250\n",
            "25/25 [==============================] - 15s 591ms/step - loss: 0.6927 - mse: 0.2498 - mae: 0.4997 - accuracy: 0.5000 - recall: 0.0000e+00 - precision: 0.0000e+00\n",
            "Epoch 9/250\n",
            "25/25 [==============================] - 15s 589ms/step - loss: 0.6925 - mse: 0.2497 - mae: 0.4996 - accuracy: 0.5000 - recall: 0.0000e+00 - precision: 0.0000e+00\n",
            "Epoch 10/250\n",
            "25/25 [==============================] - 15s 588ms/step - loss: 0.6908 - mse: 0.2488 - mae: 0.4988 - accuracy: 0.5000 - recall: 0.0000e+00 - precision: 0.0000e+00\n",
            "Epoch 11/250\n",
            "25/25 [==============================] - 15s 590ms/step - loss: 0.6650 - mse: 0.2359 - mae: 0.4852 - accuracy: 0.7962 - recall: 0.8150 - precision: 0.7855\n",
            "Epoch 12/250\n",
            "25/25 [==============================] - 15s 590ms/step - loss: 0.6248 - mse: 0.2160 - mae: 0.4633 - accuracy: 0.8406 - recall: 0.8462 - precision: 0.8368\n",
            "Epoch 13/250\n",
            "25/25 [==============================] - 15s 590ms/step - loss: 0.5972 - mse: 0.2023 - mae: 0.4477 - accuracy: 0.8725 - recall: 0.8750 - precision: 0.8706\n",
            "Epoch 14/250\n",
            "25/25 [==============================] - 15s 589ms/step - loss: 0.5691 - mse: 0.1885 - mae: 0.4317 - accuracy: 0.9050 - recall: 0.9137 - precision: 0.8980\n",
            "Epoch 15/250\n",
            "25/25 [==============================] - 15s 590ms/step - loss: 0.5436 - mse: 0.1761 - mae: 0.4169 - accuracy: 0.9269 - recall: 0.9312 - precision: 0.9232\n",
            "Epoch 16/250\n",
            "25/25 [==============================] - 15s 589ms/step - loss: 0.5175 - mse: 0.1635 - mae: 0.4016 - accuracy: 0.9506 - recall: 0.9550 - precision: 0.9467\n",
            "Epoch 17/250\n",
            "25/25 [==============================] - 15s 590ms/step - loss: 0.5002 - mse: 0.1553 - mae: 0.3909 - accuracy: 0.9544 - recall: 0.9575 - precision: 0.9516\n",
            "Epoch 18/250\n",
            "25/25 [==============================] - 15s 590ms/step - loss: 0.4839 - mse: 0.1476 - mae: 0.3807 - accuracy: 0.9581 - recall: 0.9613 - precision: 0.9553\n",
            "Epoch 19/250\n",
            "25/25 [==============================] - 15s 590ms/step - loss: 0.4695 - mse: 0.1409 - mae: 0.3715 - accuracy: 0.9625 - recall: 0.9638 - precision: 0.9613\n",
            "Epoch 20/250\n",
            "25/25 [==============================] - 15s 589ms/step - loss: 0.4561 - mse: 0.1347 - mae: 0.3629 - accuracy: 0.9644 - recall: 0.9650 - precision: 0.9638\n",
            "Epoch 21/250\n",
            "25/25 [==============================] - 15s 591ms/step - loss: 0.4450 - mse: 0.1296 - mae: 0.3555 - accuracy: 0.9650 - recall: 0.9650 - precision: 0.9650\n",
            "Epoch 22/250\n",
            "25/25 [==============================] - 15s 590ms/step - loss: 0.4347 - mse: 0.1250 - mae: 0.3485 - accuracy: 0.9656 - recall: 0.9663 - precision: 0.9650\n",
            "Epoch 23/250\n",
            "25/25 [==============================] - 15s 590ms/step - loss: 0.4247 - mse: 0.1205 - mae: 0.3417 - accuracy: 0.9663 - recall: 0.9675 - precision: 0.9651\n",
            "Epoch 24/250\n",
            "25/25 [==============================] - 15s 589ms/step - loss: 0.4157 - mse: 0.1166 - mae: 0.3354 - accuracy: 0.9663 - recall: 0.9663 - precision: 0.9663\n",
            "Epoch 25/250\n",
            "25/25 [==============================] - 15s 592ms/step - loss: 0.4062 - mse: 0.1124 - mae: 0.3289 - accuracy: 0.9675 - recall: 0.9675 - precision: 0.9675\n",
            "Epoch 26/250\n",
            "25/25 [==============================] - 15s 590ms/step - loss: 0.3979 - mse: 0.1088 - mae: 0.3230 - accuracy: 0.9675 - recall: 0.9675 - precision: 0.9675\n",
            "Epoch 27/250\n",
            "25/25 [==============================] - 15s 590ms/step - loss: 0.3902 - mse: 0.1055 - mae: 0.3174 - accuracy: 0.9675 - recall: 0.9675 - precision: 0.9675\n",
            "Epoch 28/250\n",
            "25/25 [==============================] - 15s 590ms/step - loss: 0.3829 - mse: 0.1024 - mae: 0.3120 - accuracy: 0.9675 - recall: 0.9675 - precision: 0.9675\n",
            "Epoch 29/250\n",
            "25/25 [==============================] - 15s 591ms/step - loss: 0.3759 - mse: 0.0995 - mae: 0.3068 - accuracy: 0.9675 - recall: 0.9675 - precision: 0.9675\n",
            "Epoch 30/250\n",
            "25/25 [==============================] - 15s 590ms/step - loss: 0.3692 - mse: 0.0968 - mae: 0.3018 - accuracy: 0.9675 - recall: 0.9675 - precision: 0.9675\n",
            "Epoch 31/250\n",
            "25/25 [==============================] - 15s 591ms/step - loss: 0.3629 - mse: 0.0942 - mae: 0.2971 - accuracy: 0.9675 - recall: 0.9675 - precision: 0.9675\n",
            "Epoch 32/250\n",
            "25/25 [==============================] - 15s 590ms/step - loss: 0.3567 - mse: 0.0917 - mae: 0.2924 - accuracy: 0.9675 - recall: 0.9675 - precision: 0.9675\n",
            "Epoch 33/250\n",
            "25/25 [==============================] - 15s 591ms/step - loss: 0.3509 - mse: 0.0894 - mae: 0.2879 - accuracy: 0.9675 - recall: 0.9675 - precision: 0.9675\n",
            "Epoch 34/250\n",
            "25/25 [==============================] - 15s 591ms/step - loss: 0.3452 - mse: 0.0871 - mae: 0.2836 - accuracy: 0.9675 - recall: 0.9675 - precision: 0.9675\n",
            "Epoch 35/250\n",
            "25/25 [==============================] - 15s 590ms/step - loss: 0.3398 - mse: 0.0850 - mae: 0.2793 - accuracy: 0.9675 - recall: 0.9675 - precision: 0.9675\n",
            "Epoch 36/250\n",
            "25/25 [==============================] - 15s 591ms/step - loss: 0.3344 - mse: 0.0829 - mae: 0.2750 - accuracy: 0.9675 - recall: 0.9675 - precision: 0.9675\n",
            "Epoch 37/250\n",
            "25/25 [==============================] - 15s 590ms/step - loss: 0.3293 - mse: 0.0810 - mae: 0.2710 - accuracy: 0.9675 - recall: 0.9675 - precision: 0.9675\n",
            "Epoch 38/250\n",
            "25/25 [==============================] - 15s 590ms/step - loss: 0.3243 - mse: 0.0791 - mae: 0.2670 - accuracy: 0.9675 - recall: 0.9675 - precision: 0.9675\n",
            "Epoch 39/250\n",
            "25/25 [==============================] - 15s 589ms/step - loss: 0.3196 - mse: 0.0773 - mae: 0.2632 - accuracy: 0.9675 - recall: 0.9675 - precision: 0.9675\n",
            "Epoch 40/250\n",
            "25/25 [==============================] - 15s 589ms/step - loss: 0.3149 - mse: 0.0756 - mae: 0.2594 - accuracy: 0.9675 - recall: 0.9675 - precision: 0.9675\n",
            "Epoch 41/250\n",
            "25/25 [==============================] - 15s 592ms/step - loss: 0.3105 - mse: 0.0740 - mae: 0.2558 - accuracy: 0.9675 - recall: 0.9675 - precision: 0.9675\n",
            "Epoch 42/250\n",
            "25/25 [==============================] - 15s 591ms/step - loss: 0.3062 - mse: 0.0724 - mae: 0.2522 - accuracy: 0.9675 - recall: 0.9675 - precision: 0.9675\n",
            "Epoch 43/250\n",
            "25/25 [==============================] - 15s 589ms/step - loss: 0.3021 - mse: 0.0710 - mae: 0.2487 - accuracy: 0.9675 - recall: 0.9675 - precision: 0.9675\n",
            "Epoch 44/250\n",
            "25/25 [==============================] - 15s 590ms/step - loss: 0.2980 - mse: 0.0695 - mae: 0.2453 - accuracy: 0.9675 - recall: 0.9675 - precision: 0.9675\n",
            "Epoch 45/250\n",
            "25/25 [==============================] - 15s 589ms/step - loss: 0.2941 - mse: 0.0682 - mae: 0.2421 - accuracy: 0.9675 - recall: 0.9675 - precision: 0.9675\n",
            "Epoch 46/250\n",
            "25/25 [==============================] - 15s 590ms/step - loss: 0.2903 - mse: 0.0669 - mae: 0.2388 - accuracy: 0.9675 - recall: 0.9675 - precision: 0.9675\n",
            "Epoch 47/250\n",
            "25/25 [==============================] - 15s 590ms/step - loss: 0.2867 - mse: 0.0656 - mae: 0.2357 - accuracy: 0.9675 - recall: 0.9675 - precision: 0.9675\n",
            "Epoch 48/250\n",
            "25/25 [==============================] - 15s 589ms/step - loss: 0.2831 - mse: 0.0644 - mae: 0.2326 - accuracy: 0.9675 - recall: 0.9675 - precision: 0.9675\n",
            "Epoch 49/250\n",
            "25/25 [==============================] - 15s 589ms/step - loss: 0.2796 - mse: 0.0632 - mae: 0.2296 - accuracy: 0.9675 - recall: 0.9675 - precision: 0.9675\n",
            "Epoch 50/250\n",
            "25/25 [==============================] - 15s 591ms/step - loss: 0.2763 - mse: 0.0621 - mae: 0.2266 - accuracy: 0.9675 - recall: 0.9675 - precision: 0.9675\n",
            "Epoch 51/250\n",
            "25/25 [==============================] - 15s 590ms/step - loss: 0.2729 - mse: 0.0610 - mae: 0.2237 - accuracy: 0.9675 - recall: 0.9675 - precision: 0.9675\n",
            "Epoch 52/250\n",
            "25/25 [==============================] - 15s 590ms/step - loss: 0.2698 - mse: 0.0600 - mae: 0.2209 - accuracy: 0.9675 - recall: 0.9675 - precision: 0.9675\n",
            "Epoch 53/250\n",
            "25/25 [==============================] - 15s 588ms/step - loss: 0.2667 - mse: 0.0590 - mae: 0.2181 - accuracy: 0.9675 - recall: 0.9675 - precision: 0.9675\n",
            "Epoch 54/250\n",
            "25/25 [==============================] - 15s 589ms/step - loss: 0.2637 - mse: 0.0581 - mae: 0.2154 - accuracy: 0.9675 - recall: 0.9675 - precision: 0.9675\n",
            "Epoch 55/250\n",
            "25/25 [==============================] - 15s 587ms/step - loss: 0.2607 - mse: 0.0571 - mae: 0.2128 - accuracy: 0.9675 - recall: 0.9675 - precision: 0.9675\n",
            "Epoch 56/250\n",
            "25/25 [==============================] - 15s 589ms/step - loss: 0.2579 - mse: 0.0563 - mae: 0.2102 - accuracy: 0.9675 - recall: 0.9675 - precision: 0.9675\n",
            "Epoch 57/250\n",
            "25/25 [==============================] - 15s 588ms/step - loss: 0.2551 - mse: 0.0554 - mae: 0.2077 - accuracy: 0.9675 - recall: 0.9675 - precision: 0.9675\n",
            "Epoch 58/250\n",
            "25/25 [==============================] - 15s 588ms/step - loss: 0.2524 - mse: 0.0546 - mae: 0.2052 - accuracy: 0.9675 - recall: 0.9675 - precision: 0.9675\n",
            "Epoch 59/250\n",
            "25/25 [==============================] - 15s 590ms/step - loss: 0.2498 - mse: 0.0538 - mae: 0.2027 - accuracy: 0.9675 - recall: 0.9675 - precision: 0.9675\n",
            "Epoch 60/250\n",
            "25/25 [==============================] - 15s 590ms/step - loss: 0.2471 - mse: 0.0530 - mae: 0.2002 - accuracy: 0.9675 - recall: 0.9675 - precision: 0.9675\n",
            "Epoch 61/250\n",
            "25/25 [==============================] - 15s 590ms/step - loss: 0.2446 - mse: 0.0523 - mae: 0.1978 - accuracy: 0.9675 - recall: 0.9675 - precision: 0.9675\n",
            "Epoch 62/250\n",
            "25/25 [==============================] - 15s 590ms/step - loss: 0.2421 - mse: 0.0516 - mae: 0.1955 - accuracy: 0.9675 - recall: 0.9675 - precision: 0.9675\n",
            "Epoch 63/250\n",
            "25/25 [==============================] - 15s 590ms/step - loss: 0.2397 - mse: 0.0509 - mae: 0.1932 - accuracy: 0.9675 - recall: 0.9675 - precision: 0.9675\n",
            "Epoch 64/250\n",
            "25/25 [==============================] - 15s 592ms/step - loss: 0.2374 - mse: 0.0502 - mae: 0.1910 - accuracy: 0.9675 - recall: 0.9675 - precision: 0.9675\n",
            "Epoch 65/250\n",
            "25/25 [==============================] - 15s 590ms/step - loss: 0.2352 - mse: 0.0496 - mae: 0.1889 - accuracy: 0.9675 - recall: 0.9675 - precision: 0.9675\n",
            "Epoch 66/250\n",
            "25/25 [==============================] - 15s 590ms/step - loss: 0.2330 - mse: 0.0490 - mae: 0.1867 - accuracy: 0.9675 - recall: 0.9675 - precision: 0.9675\n",
            "Epoch 67/250\n",
            "25/25 [==============================] - 15s 591ms/step - loss: 0.2309 - mse: 0.0484 - mae: 0.1846 - accuracy: 0.9675 - recall: 0.9675 - precision: 0.9675\n",
            "Epoch 68/250\n",
            "25/25 [==============================] - 15s 589ms/step - loss: 0.2288 - mse: 0.0478 - mae: 0.1826 - accuracy: 0.9675 - recall: 0.9675 - precision: 0.9675\n",
            "Epoch 69/250\n",
            "25/25 [==============================] - 15s 591ms/step - loss: 0.2267 - mse: 0.0473 - mae: 0.1806 - accuracy: 0.9675 - recall: 0.9675 - precision: 0.9675\n",
            "Epoch 70/250\n",
            "25/25 [==============================] - 15s 590ms/step - loss: 0.2248 - mse: 0.0468 - mae: 0.1787 - accuracy: 0.9675 - recall: 0.9675 - precision: 0.9675\n",
            "Epoch 71/250\n",
            "25/25 [==============================] - 15s 591ms/step - loss: 0.2228 - mse: 0.0463 - mae: 0.1767 - accuracy: 0.9675 - recall: 0.9675 - precision: 0.9675\n",
            "Epoch 72/250\n",
            "25/25 [==============================] - 15s 591ms/step - loss: 0.2209 - mse: 0.0458 - mae: 0.1748 - accuracy: 0.9675 - recall: 0.9675 - precision: 0.9675\n",
            "Epoch 73/250\n",
            "25/25 [==============================] - 15s 590ms/step - loss: 0.2191 - mse: 0.0453 - mae: 0.1729 - accuracy: 0.9675 - recall: 0.9675 - precision: 0.9675\n",
            "Epoch 74/250\n",
            "25/25 [==============================] - 15s 590ms/step - loss: 0.2173 - mse: 0.0448 - mae: 0.1711 - accuracy: 0.9675 - recall: 0.9675 - precision: 0.9675\n",
            "Epoch 75/250\n",
            "25/25 [==============================] - 15s 588ms/step - loss: 0.2155 - mse: 0.0444 - mae: 0.1693 - accuracy: 0.9675 - recall: 0.9675 - precision: 0.9675\n",
            "Epoch 76/250\n",
            "25/25 [==============================] - 15s 590ms/step - loss: 0.2138 - mse: 0.0440 - mae: 0.1675 - accuracy: 0.9675 - recall: 0.9675 - precision: 0.9675\n",
            "Epoch 77/250\n",
            "25/25 [==============================] - 15s 590ms/step - loss: 0.2121 - mse: 0.0435 - mae: 0.1657 - accuracy: 0.9675 - recall: 0.9675 - precision: 0.9675\n",
            "Epoch 78/250\n",
            "25/25 [==============================] - 15s 589ms/step - loss: 0.2104 - mse: 0.0431 - mae: 0.1640 - accuracy: 0.9675 - recall: 0.9675 - precision: 0.9675\n",
            "Epoch 79/250\n",
            "25/25 [==============================] - 15s 590ms/step - loss: 0.2088 - mse: 0.0428 - mae: 0.1623 - accuracy: 0.9675 - recall: 0.9675 - precision: 0.9675\n",
            "Epoch 80/250\n",
            "25/25 [==============================] - 15s 591ms/step - loss: 0.2072 - mse: 0.0424 - mae: 0.1607 - accuracy: 0.9675 - recall: 0.9675 - precision: 0.9675\n",
            "Epoch 81/250\n",
            "25/25 [==============================] - 15s 590ms/step - loss: 0.2057 - mse: 0.0420 - mae: 0.1590 - accuracy: 0.9675 - recall: 0.9675 - precision: 0.9675\n",
            "Epoch 82/250\n",
            "25/25 [==============================] - 15s 590ms/step - loss: 0.2042 - mse: 0.0417 - mae: 0.1575 - accuracy: 0.9675 - recall: 0.9675 - precision: 0.9675\n",
            "Epoch 83/250\n",
            "25/25 [==============================] - 15s 590ms/step - loss: 0.2028 - mse: 0.0413 - mae: 0.1559 - accuracy: 0.9675 - recall: 0.9675 - precision: 0.9675\n",
            "Epoch 84/250\n",
            "25/25 [==============================] - 15s 590ms/step - loss: 0.2014 - mse: 0.0410 - mae: 0.1544 - accuracy: 0.9675 - recall: 0.9675 - precision: 0.9675\n",
            "Epoch 85/250\n",
            "25/25 [==============================] - 15s 590ms/step - loss: 0.2000 - mse: 0.0407 - mae: 0.1529 - accuracy: 0.9675 - recall: 0.9675 - precision: 0.9675\n",
            "Epoch 86/250\n",
            "25/25 [==============================] - 15s 590ms/step - loss: 0.1987 - mse: 0.0404 - mae: 0.1514 - accuracy: 0.9675 - recall: 0.9675 - precision: 0.9675\n",
            "Epoch 87/250\n",
            "25/25 [==============================] - 15s 590ms/step - loss: 0.1973 - mse: 0.0401 - mae: 0.1500 - accuracy: 0.9675 - recall: 0.9675 - precision: 0.9675\n",
            "Epoch 88/250\n",
            "25/25 [==============================] - 15s 589ms/step - loss: 0.1961 - mse: 0.0398 - mae: 0.1486 - accuracy: 0.9675 - recall: 0.9675 - precision: 0.9675\n",
            "Epoch 89/250\n",
            "25/25 [==============================] - 15s 589ms/step - loss: 0.1948 - mse: 0.0396 - mae: 0.1472 - accuracy: 0.9675 - recall: 0.9675 - precision: 0.9675\n",
            "Epoch 90/250\n",
            "25/25 [==============================] - 15s 590ms/step - loss: 0.1936 - mse: 0.0393 - mae: 0.1458 - accuracy: 0.9675 - recall: 0.9675 - precision: 0.9675\n",
            "Epoch 91/250\n",
            "25/25 [==============================] - 15s 591ms/step - loss: 0.1924 - mse: 0.0391 - mae: 0.1445 - accuracy: 0.9675 - recall: 0.9675 - precision: 0.9675\n",
            "Epoch 92/250\n",
            "25/25 [==============================] - 15s 589ms/step - loss: 0.1912 - mse: 0.0388 - mae: 0.1431 - accuracy: 0.9675 - recall: 0.9675 - precision: 0.9675\n",
            "Epoch 93/250\n",
            "25/25 [==============================] - 15s 590ms/step - loss: 0.1901 - mse: 0.0386 - mae: 0.1418 - accuracy: 0.9675 - recall: 0.9675 - precision: 0.9675\n",
            "Epoch 94/250\n",
            "25/25 [==============================] - 15s 590ms/step - loss: 0.1890 - mse: 0.0383 - mae: 0.1406 - accuracy: 0.9675 - recall: 0.9675 - precision: 0.9675\n",
            "Epoch 95/250\n",
            "25/25 [==============================] - 15s 590ms/step - loss: 0.1879 - mse: 0.0381 - mae: 0.1393 - accuracy: 0.9675 - recall: 0.9675 - precision: 0.9675\n",
            "Epoch 96/250\n",
            "25/25 [==============================] - 15s 590ms/step - loss: 0.1868 - mse: 0.0379 - mae: 0.1381 - accuracy: 0.9675 - recall: 0.9675 - precision: 0.9675\n",
            "Epoch 97/250\n",
            "25/25 [==============================] - 15s 590ms/step - loss: 0.1858 - mse: 0.0377 - mae: 0.1368 - accuracy: 0.9675 - recall: 0.9675 - precision: 0.9675\n",
            "Epoch 98/250\n",
            "25/25 [==============================] - 15s 590ms/step - loss: 0.1847 - mse: 0.0375 - mae: 0.1356 - accuracy: 0.9675 - recall: 0.9675 - precision: 0.9675\n",
            "Epoch 99/250\n",
            "25/25 [==============================] - 15s 590ms/step - loss: 0.1837 - mse: 0.0373 - mae: 0.1345 - accuracy: 0.9675 - recall: 0.9675 - precision: 0.9675\n",
            "Epoch 100/250\n",
            "25/25 [==============================] - 15s 591ms/step - loss: 0.1827 - mse: 0.0371 - mae: 0.1333 - accuracy: 0.9675 - recall: 0.9675 - precision: 0.9675\n",
            "Epoch 101/250\n",
            "25/25 [==============================] - 15s 589ms/step - loss: 0.1818 - mse: 0.0369 - mae: 0.1321 - accuracy: 0.9675 - recall: 0.9675 - precision: 0.9675\n",
            "Epoch 102/250\n",
            "25/25 [==============================] - 15s 589ms/step - loss: 0.1809 - mse: 0.0368 - mae: 0.1310 - accuracy: 0.9675 - recall: 0.9675 - precision: 0.9675\n",
            "Epoch 103/250\n",
            "25/25 [==============================] - 15s 591ms/step - loss: 0.1799 - mse: 0.0366 - mae: 0.1299 - accuracy: 0.9675 - recall: 0.9675 - precision: 0.9675\n",
            "Epoch 104/250\n",
            "25/25 [==============================] - 15s 590ms/step - loss: 0.1790 - mse: 0.0364 - mae: 0.1288 - accuracy: 0.9675 - recall: 0.9675 - precision: 0.9675\n",
            "Epoch 105/250\n",
            "25/25 [==============================] - 15s 588ms/step - loss: 0.1782 - mse: 0.0363 - mae: 0.1277 - accuracy: 0.9675 - recall: 0.9675 - precision: 0.9675\n",
            "Epoch 106/250\n",
            "25/25 [==============================] - 15s 588ms/step - loss: 0.1773 - mse: 0.0361 - mae: 0.1267 - accuracy: 0.9675 - recall: 0.9675 - precision: 0.9675\n",
            "Epoch 107/250\n",
            "25/25 [==============================] - 15s 587ms/step - loss: 0.1765 - mse: 0.0360 - mae: 0.1257 - accuracy: 0.9675 - recall: 0.9675 - precision: 0.9675\n",
            "Epoch 108/250\n",
            "25/25 [==============================] - 15s 585ms/step - loss: 0.1757 - mse: 0.0358 - mae: 0.1246 - accuracy: 0.9675 - recall: 0.9675 - precision: 0.9675\n",
            "Epoch 109/250\n",
            "25/25 [==============================] - 15s 583ms/step - loss: 0.1749 - mse: 0.0357 - mae: 0.1236 - accuracy: 0.9675 - recall: 0.9675 - precision: 0.9675\n",
            "Epoch 110/250\n",
            "25/25 [==============================] - 15s 582ms/step - loss: 0.1741 - mse: 0.0355 - mae: 0.1226 - accuracy: 0.9675 - recall: 0.9675 - precision: 0.9675\n",
            "Epoch 111/250\n",
            "25/25 [==============================] - 15s 584ms/step - loss: 0.1734 - mse: 0.0354 - mae: 0.1217 - accuracy: 0.9675 - recall: 0.9675 - precision: 0.9675\n",
            "Epoch 112/250\n",
            "25/25 [==============================] - 15s 585ms/step - loss: 0.1726 - mse: 0.0353 - mae: 0.1207 - accuracy: 0.9675 - recall: 0.9675 - precision: 0.9675\n",
            "Epoch 113/250\n",
            "25/25 [==============================] - 15s 582ms/step - loss: 0.1719 - mse: 0.0351 - mae: 0.1198 - accuracy: 0.9675 - recall: 0.9675 - precision: 0.9675\n",
            "Epoch 114/250\n",
            "25/25 [==============================] - 15s 584ms/step - loss: 0.1712 - mse: 0.0350 - mae: 0.1189 - accuracy: 0.9675 - recall: 0.9675 - precision: 0.9675\n",
            "Epoch 115/250\n",
            "25/25 [==============================] - 15s 586ms/step - loss: 0.1704 - mse: 0.0349 - mae: 0.1179 - accuracy: 0.9675 - recall: 0.9675 - precision: 0.9675\n",
            "Epoch 116/250\n",
            "25/25 [==============================] - 15s 588ms/step - loss: 0.1698 - mse: 0.0348 - mae: 0.1169 - accuracy: 0.9675 - recall: 0.9675 - precision: 0.9675\n",
            "Epoch 117/250\n",
            "25/25 [==============================] - 15s 587ms/step - loss: 0.1690 - mse: 0.0347 - mae: 0.1160 - accuracy: 0.9675 - recall: 0.9675 - precision: 0.9675\n",
            "Epoch 118/250\n",
            "25/25 [==============================] - 15s 586ms/step - loss: 0.1684 - mse: 0.0346 - mae: 0.1152 - accuracy: 0.9675 - recall: 0.9675 - precision: 0.9675\n",
            "Epoch 119/250\n",
            "25/25 [==============================] - 15s 587ms/step - loss: 0.1678 - mse: 0.0345 - mae: 0.1143 - accuracy: 0.9675 - recall: 0.9675 - precision: 0.9675\n",
            "Epoch 120/250\n",
            "25/25 [==============================] - 15s 587ms/step - loss: 0.1672 - mse: 0.0344 - mae: 0.1135 - accuracy: 0.9675 - recall: 0.9675 - precision: 0.9675\n",
            "Epoch 121/250\n",
            "25/25 [==============================] - 15s 586ms/step - loss: 0.1666 - mse: 0.0343 - mae: 0.1127 - accuracy: 0.9675 - recall: 0.9675 - precision: 0.9675\n",
            "Epoch 122/250\n",
            "25/25 [==============================] - 15s 587ms/step - loss: 0.1660 - mse: 0.0342 - mae: 0.1119 - accuracy: 0.9675 - recall: 0.9675 - precision: 0.9675\n",
            "Epoch 123/250\n",
            "25/25 [==============================] - 15s 587ms/step - loss: 0.1654 - mse: 0.0341 - mae: 0.1110 - accuracy: 0.9675 - recall: 0.9675 - precision: 0.9675\n",
            "Epoch 124/250\n",
            "25/25 [==============================] - 15s 588ms/step - loss: 0.1648 - mse: 0.0340 - mae: 0.1102 - accuracy: 0.9675 - recall: 0.9675 - precision: 0.9675\n",
            "Epoch 125/250\n",
            "25/25 [==============================] - 15s 587ms/step - loss: 0.1643 - mse: 0.0339 - mae: 0.1095 - accuracy: 0.9675 - recall: 0.9675 - precision: 0.9675\n",
            "Epoch 126/250\n",
            "25/25 [==============================] - 15s 587ms/step - loss: 0.1637 - mse: 0.0338 - mae: 0.1087 - accuracy: 0.9675 - recall: 0.9675 - precision: 0.9675\n",
            "Epoch 127/250\n",
            "25/25 [==============================] - 15s 587ms/step - loss: 0.1632 - mse: 0.0338 - mae: 0.1079 - accuracy: 0.9675 - recall: 0.9675 - precision: 0.9675\n",
            "Epoch 128/250\n",
            "25/25 [==============================] - 15s 587ms/step - loss: 0.1627 - mse: 0.0337 - mae: 0.1072 - accuracy: 0.9675 - recall: 0.9675 - precision: 0.9675\n",
            "Epoch 129/250\n",
            "25/25 [==============================] - 15s 588ms/step - loss: 0.1622 - mse: 0.0336 - mae: 0.1065 - accuracy: 0.9675 - recall: 0.9675 - precision: 0.9675\n",
            "Epoch 130/250\n",
            "25/25 [==============================] - 15s 588ms/step - loss: 0.1617 - mse: 0.0336 - mae: 0.1058 - accuracy: 0.9675 - recall: 0.9675 - precision: 0.9675\n",
            "Epoch 131/250\n",
            "25/25 [==============================] - 15s 588ms/step - loss: 0.1612 - mse: 0.0335 - mae: 0.1051 - accuracy: 0.9675 - recall: 0.9675 - precision: 0.9675\n",
            "Epoch 132/250\n",
            "25/25 [==============================] - 15s 589ms/step - loss: 0.1608 - mse: 0.0334 - mae: 0.1044 - accuracy: 0.9675 - recall: 0.9675 - precision: 0.9675\n",
            "Epoch 133/250\n",
            "25/25 [==============================] - 15s 589ms/step - loss: 0.1603 - mse: 0.0333 - mae: 0.1037 - accuracy: 0.9675 - recall: 0.9675 - precision: 0.9675\n",
            "Epoch 134/250\n",
            "25/25 [==============================] - 15s 589ms/step - loss: 0.1598 - mse: 0.0333 - mae: 0.1030 - accuracy: 0.9675 - recall: 0.9675 - precision: 0.9675\n",
            "Epoch 135/250\n",
            "25/25 [==============================] - 15s 589ms/step - loss: 0.1594 - mse: 0.0332 - mae: 0.1023 - accuracy: 0.9675 - recall: 0.9675 - precision: 0.9675\n",
            "Epoch 136/250\n",
            "25/25 [==============================] - 15s 590ms/step - loss: 0.1590 - mse: 0.0332 - mae: 0.1017 - accuracy: 0.9675 - recall: 0.9675 - precision: 0.9675\n",
            "Epoch 137/250\n",
            "25/25 [==============================] - 15s 590ms/step - loss: 0.1586 - mse: 0.0331 - mae: 0.1010 - accuracy: 0.9675 - recall: 0.9675 - precision: 0.9675\n",
            "Epoch 138/250\n",
            "25/25 [==============================] - 15s 590ms/step - loss: 0.1582 - mse: 0.0331 - mae: 0.1004 - accuracy: 0.9675 - recall: 0.9675 - precision: 0.9675\n",
            "Epoch 139/250\n",
            "25/25 [==============================] - 15s 589ms/step - loss: 0.1578 - mse: 0.0330 - mae: 0.0998 - accuracy: 0.9675 - recall: 0.9675 - precision: 0.9675\n",
            "Epoch 140/250\n",
            "25/25 [==============================] - 15s 590ms/step - loss: 0.1574 - mse: 0.0329 - mae: 0.0991 - accuracy: 0.9675 - recall: 0.9675 - precision: 0.9675\n",
            "Epoch 141/250\n",
            "25/25 [==============================] - 15s 587ms/step - loss: 0.1570 - mse: 0.0329 - mae: 0.0985 - accuracy: 0.9675 - recall: 0.9675 - precision: 0.9675\n",
            "Epoch 142/250\n",
            "25/25 [==============================] - 15s 589ms/step - loss: 0.1566 - mse: 0.0328 - mae: 0.0979 - accuracy: 0.9675 - recall: 0.9675 - precision: 0.9675\n",
            "Epoch 143/250\n",
            "25/25 [==============================] - 15s 588ms/step - loss: 0.1563 - mse: 0.0328 - mae: 0.0973 - accuracy: 0.9675 - recall: 0.9675 - precision: 0.9675\n",
            "Epoch 144/250\n",
            "25/25 [==============================] - 15s 589ms/step - loss: 0.1559 - mse: 0.0328 - mae: 0.0968 - accuracy: 0.9675 - recall: 0.9675 - precision: 0.9675\n",
            "Epoch 145/250\n",
            "25/25 [==============================] - 15s 588ms/step - loss: 0.1556 - mse: 0.0327 - mae: 0.0962 - accuracy: 0.9675 - recall: 0.9675 - precision: 0.9675\n",
            "Epoch 146/250\n",
            "25/25 [==============================] - 15s 589ms/step - loss: 0.1552 - mse: 0.0327 - mae: 0.0956 - accuracy: 0.9675 - recall: 0.9675 - precision: 0.9675\n",
            "Epoch 147/250\n",
            "25/25 [==============================] - 15s 588ms/step - loss: 0.1549 - mse: 0.0326 - mae: 0.0951 - accuracy: 0.9675 - recall: 0.9675 - precision: 0.9675\n",
            "Epoch 148/250\n",
            "25/25 [==============================] - 15s 587ms/step - loss: 0.1546 - mse: 0.0326 - mae: 0.0945 - accuracy: 0.9675 - recall: 0.9675 - precision: 0.9675\n",
            "Epoch 149/250\n",
            "25/25 [==============================] - 15s 587ms/step - loss: 0.1543 - mse: 0.0325 - mae: 0.0940 - accuracy: 0.9675 - recall: 0.9675 - precision: 0.9675\n",
            "Epoch 150/250\n",
            "25/25 [==============================] - 15s 589ms/step - loss: 0.1540 - mse: 0.0325 - mae: 0.0935 - accuracy: 0.9675 - recall: 0.9675 - precision: 0.9675\n",
            "Epoch 151/250\n",
            "25/25 [==============================] - 15s 588ms/step - loss: 0.1537 - mse: 0.0325 - mae: 0.0929 - accuracy: 0.9675 - recall: 0.9675 - precision: 0.9675\n",
            "Epoch 152/250\n",
            "25/25 [==============================] - 15s 588ms/step - loss: 0.1534 - mse: 0.0324 - mae: 0.0923 - accuracy: 0.9675 - recall: 0.9675 - precision: 0.9675\n",
            "Epoch 153/250\n",
            "25/25 [==============================] - 15s 587ms/step - loss: 0.1531 - mse: 0.0324 - mae: 0.0919 - accuracy: 0.9675 - recall: 0.9675 - precision: 0.9675\n",
            "Epoch 154/250\n",
            "25/25 [==============================] - 15s 588ms/step - loss: 0.1528 - mse: 0.0324 - mae: 0.0914 - accuracy: 0.9675 - recall: 0.9675 - precision: 0.9675\n",
            "Epoch 155/250\n",
            "25/25 [==============================] - 15s 589ms/step - loss: 0.1525 - mse: 0.0323 - mae: 0.0909 - accuracy: 0.9675 - recall: 0.9675 - precision: 0.9675\n",
            "Epoch 156/250\n",
            "25/25 [==============================] - 15s 589ms/step - loss: 0.1522 - mse: 0.0323 - mae: 0.0904 - accuracy: 0.9675 - recall: 0.9675 - precision: 0.9675\n",
            "Epoch 157/250\n",
            "25/25 [==============================] - 15s 588ms/step - loss: 0.1520 - mse: 0.0323 - mae: 0.0899 - accuracy: 0.9675 - recall: 0.9675 - precision: 0.9675\n",
            "Epoch 158/250\n",
            "25/25 [==============================] - 15s 589ms/step - loss: 0.1517 - mse: 0.0323 - mae: 0.0894 - accuracy: 0.9675 - recall: 0.9675 - precision: 0.9675\n",
            "Epoch 159/250\n",
            "25/25 [==============================] - 15s 588ms/step - loss: 0.1515 - mse: 0.0322 - mae: 0.0890 - accuracy: 0.9675 - recall: 0.9675 - precision: 0.9675\n",
            "Epoch 160/250\n",
            "25/25 [==============================] - 15s 590ms/step - loss: 0.1513 - mse: 0.0322 - mae: 0.0885 - accuracy: 0.9675 - recall: 0.9675 - precision: 0.9675\n",
            "Epoch 161/250\n",
            "25/25 [==============================] - 15s 589ms/step - loss: 0.1510 - mse: 0.0322 - mae: 0.0880 - accuracy: 0.9675 - recall: 0.9675 - precision: 0.9675\n",
            "Epoch 162/250\n",
            "25/25 [==============================] - 15s 589ms/step - loss: 0.1508 - mse: 0.0321 - mae: 0.0876 - accuracy: 0.9675 - recall: 0.9675 - precision: 0.9675\n",
            "Epoch 163/250\n",
            "25/25 [==============================] - 15s 587ms/step - loss: 0.1506 - mse: 0.0321 - mae: 0.0871 - accuracy: 0.9675 - recall: 0.9675 - precision: 0.9675\n",
            "Epoch 164/250\n",
            "25/25 [==============================] - 15s 589ms/step - loss: 0.1503 - mse: 0.0321 - mae: 0.0867 - accuracy: 0.9675 - recall: 0.9675 - precision: 0.9675\n",
            "Epoch 165/250\n",
            "25/25 [==============================] - 15s 588ms/step - loss: 0.1501 - mse: 0.0321 - mae: 0.0863 - accuracy: 0.9675 - recall: 0.9675 - precision: 0.9675\n",
            "Epoch 166/250\n",
            "25/25 [==============================] - 15s 588ms/step - loss: 0.1499 - mse: 0.0321 - mae: 0.0859 - accuracy: 0.9675 - recall: 0.9675 - precision: 0.9675\n",
            "Epoch 167/250\n",
            "25/25 [==============================] - 15s 588ms/step - loss: 0.1496 - mse: 0.0320 - mae: 0.0856 - accuracy: 0.9675 - recall: 0.9675 - precision: 0.9675\n",
            "Epoch 168/250\n",
            "25/25 [==============================] - 15s 587ms/step - loss: 0.2776 - mse: 0.0769 - mae: 0.1773 - accuracy: 0.9031 - recall: 0.9013 - precision: 0.9046\n",
            "Epoch 169/250\n",
            "25/25 [==============================] - 15s 587ms/step - loss: 0.1889 - mse: 0.0413 - mae: 0.1380 - accuracy: 0.9575 - recall: 0.9538 - precision: 0.9610\n",
            "Epoch 170/250\n",
            "25/25 [==============================] - 15s 588ms/step - loss: 0.1377 - mse: 0.0237 - mae: 0.1066 - accuracy: 0.9819 - recall: 0.9875 - precision: 0.9765\n",
            "Epoch 171/250\n",
            "25/25 [==============================] - 15s 588ms/step - loss: 0.1266 - mse: 0.0214 - mae: 0.0986 - accuracy: 0.9800 - recall: 0.9850 - precision: 0.9752\n",
            "Epoch 172/250\n",
            "25/25 [==============================] - 15s 588ms/step - loss: 0.1140 - mse: 0.0175 - mae: 0.0903 - accuracy: 0.9856 - recall: 0.9900 - precision: 0.9814\n",
            "Epoch 173/250\n",
            "25/25 [==============================] - 15s 590ms/step - loss: 0.1052 - mse: 0.0151 - mae: 0.0835 - accuracy: 0.9887 - recall: 0.9925 - precision: 0.9851\n",
            "Epoch 174/250\n",
            "25/25 [==============================] - 15s 588ms/step - loss: 0.1009 - mse: 0.0141 - mae: 0.0802 - accuracy: 0.9894 - recall: 0.9925 - precision: 0.9863\n",
            "Epoch 175/250\n",
            "25/25 [==============================] - 15s 589ms/step - loss: 0.0981 - mse: 0.0137 - mae: 0.0784 - accuracy: 0.9894 - recall: 0.9925 - precision: 0.9863\n",
            "Epoch 176/250\n",
            "25/25 [==============================] - 15s 590ms/step - loss: 0.0945 - mse: 0.0127 - mae: 0.0761 - accuracy: 0.9906 - recall: 0.9950 - precision: 0.9864\n",
            "Epoch 177/250\n",
            "25/25 [==============================] - 15s 588ms/step - loss: 0.0907 - mse: 0.0117 - mae: 0.0737 - accuracy: 0.9912 - recall: 0.9962 - precision: 0.9864\n",
            "Epoch 178/250\n",
            "25/25 [==============================] - 15s 588ms/step - loss: 0.0885 - mse: 0.0112 - mae: 0.0718 - accuracy: 0.9919 - recall: 0.9975 - precision: 0.9864\n",
            "Epoch 179/250\n",
            "25/25 [==============================] - 15s 589ms/step - loss: 0.0872 - mse: 0.0111 - mae: 0.0705 - accuracy: 0.9919 - recall: 0.9975 - precision: 0.9864\n",
            "Epoch 180/250\n",
            "25/25 [==============================] - 15s 589ms/step - loss: 0.0858 - mse: 0.0109 - mae: 0.0692 - accuracy: 0.9919 - recall: 0.9975 - precision: 0.9864\n",
            "Epoch 181/250\n",
            "25/25 [==============================] - 15s 589ms/step - loss: 0.0834 - mse: 0.0103 - mae: 0.0678 - accuracy: 0.9925 - recall: 0.9975 - precision: 0.9876\n",
            "Epoch 182/250\n",
            "25/25 [==============================] - 15s 588ms/step - loss: 0.0815 - mse: 0.0100 - mae: 0.0671 - accuracy: 0.9925 - recall: 0.9975 - precision: 0.9876\n",
            "Epoch 183/250\n",
            "25/25 [==============================] - 15s 588ms/step - loss: 0.0782 - mse: 0.0090 - mae: 0.0649 - accuracy: 0.9937 - recall: 0.9987 - precision: 0.9889\n",
            "Epoch 184/250\n",
            "25/25 [==============================] - 15s 587ms/step - loss: 0.0762 - mse: 0.0088 - mae: 0.0632 - accuracy: 0.9937 - recall: 0.9987 - precision: 0.9889\n",
            "Epoch 185/250\n",
            "25/25 [==============================] - 15s 586ms/step - loss: 0.0733 - mse: 0.0081 - mae: 0.0615 - accuracy: 0.9944 - recall: 0.9987 - precision: 0.9901\n",
            "Epoch 186/250\n",
            "25/25 [==============================] - 15s 587ms/step - loss: 0.0709 - mse: 0.0075 - mae: 0.0597 - accuracy: 0.9950 - recall: 0.9987 - precision: 0.9913\n",
            "Epoch 187/250\n",
            "25/25 [==============================] - 15s 586ms/step - loss: 0.0699 - mse: 0.0074 - mae: 0.0587 - accuracy: 0.9950 - recall: 0.9987 - precision: 0.9913\n",
            "Epoch 188/250\n",
            "25/25 [==============================] - 15s 587ms/step - loss: 0.0688 - mse: 0.0073 - mae: 0.0576 - accuracy: 0.9950 - recall: 0.9987 - precision: 0.9913\n",
            "Epoch 189/250\n",
            "25/25 [==============================] - 15s 589ms/step - loss: 0.0678 - mse: 0.0072 - mae: 0.0566 - accuracy: 0.9950 - recall: 0.9987 - precision: 0.9913\n",
            "Epoch 190/250\n",
            "25/25 [==============================] - 15s 588ms/step - loss: 0.0670 - mse: 0.0071 - mae: 0.0558 - accuracy: 0.9950 - recall: 0.9987 - precision: 0.9913\n",
            "Epoch 191/250\n",
            "25/25 [==============================] - 15s 587ms/step - loss: 0.0663 - mse: 0.0070 - mae: 0.0550 - accuracy: 0.9950 - recall: 0.9987 - precision: 0.9913\n",
            "Epoch 192/250\n",
            "25/25 [==============================] - 15s 586ms/step - loss: 0.0655 - mse: 0.0070 - mae: 0.0542 - accuracy: 0.9950 - recall: 0.9987 - precision: 0.9913\n",
            "Epoch 193/250\n",
            "25/25 [==============================] - 15s 586ms/step - loss: 0.0648 - mse: 0.0069 - mae: 0.0535 - accuracy: 0.9950 - recall: 0.9987 - precision: 0.9913\n",
            "Epoch 194/250\n",
            "25/25 [==============================] - 15s 586ms/step - loss: 0.0641 - mse: 0.0068 - mae: 0.0528 - accuracy: 0.9950 - recall: 0.9987 - precision: 0.9913\n",
            "Epoch 195/250\n",
            "25/25 [==============================] - 15s 587ms/step - loss: 0.0634 - mse: 0.0068 - mae: 0.0521 - accuracy: 0.9950 - recall: 0.9987 - precision: 0.9913\n",
            "Epoch 196/250\n",
            "25/25 [==============================] - 15s 586ms/step - loss: 0.0614 - mse: 0.0062 - mae: 0.0512 - accuracy: 0.9956 - recall: 0.9987 - precision: 0.9925\n",
            "Epoch 197/250\n",
            "25/25 [==============================] - 15s 588ms/step - loss: 0.0605 - mse: 0.0061 - mae: 0.0503 - accuracy: 0.9956 - recall: 0.9987 - precision: 0.9925\n",
            "Epoch 198/250\n",
            "25/25 [==============================] - 15s 587ms/step - loss: 0.0597 - mse: 0.0060 - mae: 0.0495 - accuracy: 0.9956 - recall: 0.9987 - precision: 0.9925\n",
            "Epoch 199/250\n",
            "25/25 [==============================] - 15s 587ms/step - loss: 0.0590 - mse: 0.0060 - mae: 0.0488 - accuracy: 0.9956 - recall: 0.9987 - precision: 0.9925\n",
            "Epoch 200/250\n",
            "25/25 [==============================] - 15s 587ms/step - loss: 0.0583 - mse: 0.0059 - mae: 0.0480 - accuracy: 0.9956 - recall: 0.9987 - precision: 0.9925\n",
            "Epoch 201/250\n",
            "25/25 [==============================] - 15s 588ms/step - loss: 0.0577 - mse: 0.0059 - mae: 0.0474 - accuracy: 0.9956 - recall: 0.9987 - precision: 0.9925\n",
            "Epoch 202/250\n",
            "25/25 [==============================] - 15s 588ms/step - loss: 0.0571 - mse: 0.0058 - mae: 0.0467 - accuracy: 0.9956 - recall: 0.9987 - precision: 0.9925\n",
            "Epoch 203/250\n",
            "25/25 [==============================] - 15s 589ms/step - loss: 0.0565 - mse: 0.0058 - mae: 0.0461 - accuracy: 0.9956 - recall: 0.9987 - precision: 0.9925\n",
            "Epoch 204/250\n",
            "25/25 [==============================] - 15s 589ms/step - loss: 0.0559 - mse: 0.0057 - mae: 0.0455 - accuracy: 0.9956 - recall: 0.9987 - precision: 0.9925\n",
            "Epoch 205/250\n",
            "25/25 [==============================] - 15s 589ms/step - loss: 0.0553 - mse: 0.0057 - mae: 0.0453 - accuracy: 0.9956 - recall: 0.9987 - precision: 0.9925\n",
            "Epoch 206/250\n",
            "25/25 [==============================] - 15s 588ms/step - loss: 0.0533 - mse: 0.0051 - mae: 0.0441 - accuracy: 0.9962 - recall: 0.9987 - precision: 0.9938\n",
            "Epoch 207/250\n",
            "25/25 [==============================] - 15s 588ms/step - loss: 0.0523 - mse: 0.0050 - mae: 0.0431 - accuracy: 0.9962 - recall: 0.9987 - precision: 0.9938\n",
            "Epoch 208/250\n",
            "25/25 [==============================] - 15s 587ms/step - loss: 0.0517 - mse: 0.0050 - mae: 0.0425 - accuracy: 0.9962 - recall: 0.9987 - precision: 0.9938\n",
            "Epoch 209/250\n",
            "25/25 [==============================] - 15s 589ms/step - loss: 0.0512 - mse: 0.0049 - mae: 0.0419 - accuracy: 0.9962 - recall: 0.9987 - precision: 0.9938\n",
            "Epoch 210/250\n",
            "25/25 [==============================] - 15s 588ms/step - loss: 0.0507 - mse: 0.0049 - mae: 0.0415 - accuracy: 0.9962 - recall: 0.9987 - precision: 0.9938\n",
            "Epoch 211/250\n",
            "25/25 [==============================] - 15s 587ms/step - loss: 0.0502 - mse: 0.0049 - mae: 0.0409 - accuracy: 0.9962 - recall: 0.9987 - precision: 0.9938\n",
            "Epoch 212/250\n",
            "25/25 [==============================] - 15s 588ms/step - loss: 0.0497 - mse: 0.0048 - mae: 0.0404 - accuracy: 0.9962 - recall: 0.9987 - precision: 0.9938\n",
            "Epoch 213/250\n",
            "25/25 [==============================] - 15s 587ms/step - loss: 0.0492 - mse: 0.0048 - mae: 0.0399 - accuracy: 0.9962 - recall: 0.9987 - precision: 0.9938\n",
            "Epoch 214/250\n",
            "25/25 [==============================] - 15s 587ms/step - loss: 0.0488 - mse: 0.0048 - mae: 0.0395 - accuracy: 0.9962 - recall: 0.9987 - precision: 0.9938\n",
            "Epoch 215/250\n",
            "25/25 [==============================] - 15s 587ms/step - loss: 0.0484 - mse: 0.0047 - mae: 0.0390 - accuracy: 0.9962 - recall: 0.9987 - precision: 0.9938\n",
            "Epoch 216/250\n",
            "25/25 [==============================] - 15s 589ms/step - loss: 0.0480 - mse: 0.0047 - mae: 0.0386 - accuracy: 0.9962 - recall: 0.9987 - precision: 0.9938\n",
            "Epoch 217/250\n",
            "25/25 [==============================] - 15s 587ms/step - loss: 0.0476 - mse: 0.0047 - mae: 0.0381 - accuracy: 0.9962 - recall: 0.9987 - precision: 0.9938\n",
            "Epoch 218/250\n",
            "25/25 [==============================] - 15s 588ms/step - loss: 0.0472 - mse: 0.0047 - mae: 0.0377 - accuracy: 0.9962 - recall: 0.9987 - precision: 0.9938\n",
            "Epoch 219/250\n",
            "25/25 [==============================] - 15s 587ms/step - loss: 0.0468 - mse: 0.0046 - mae: 0.0373 - accuracy: 0.9962 - recall: 0.9987 - precision: 0.9938\n",
            "Epoch 220/250\n",
            "25/25 [==============================] - 15s 588ms/step - loss: 0.0464 - mse: 0.0046 - mae: 0.0369 - accuracy: 0.9962 - recall: 0.9987 - precision: 0.9938\n",
            "Epoch 221/250\n",
            "25/25 [==============================] - 15s 587ms/step - loss: 0.0460 - mse: 0.0046 - mae: 0.0365 - accuracy: 0.9962 - recall: 0.9987 - precision: 0.9938\n",
            "Epoch 222/250\n",
            "25/25 [==============================] - 15s 588ms/step - loss: 0.0457 - mse: 0.0046 - mae: 0.0361 - accuracy: 0.9962 - recall: 0.9987 - precision: 0.9938\n",
            "Epoch 223/250\n",
            "25/25 [==============================] - 15s 588ms/step - loss: 0.0453 - mse: 0.0045 - mae: 0.0357 - accuracy: 0.9962 - recall: 0.9987 - precision: 0.9938\n",
            "Epoch 224/250\n",
            "25/25 [==============================] - 15s 588ms/step - loss: 0.0450 - mse: 0.0045 - mae: 0.0353 - accuracy: 0.9962 - recall: 0.9987 - precision: 0.9938\n",
            "Epoch 225/250\n",
            "25/25 [==============================] - 15s 588ms/step - loss: 0.0446 - mse: 0.0045 - mae: 0.0350 - accuracy: 0.9962 - recall: 0.9987 - precision: 0.9938\n",
            "Epoch 226/250\n",
            "25/25 [==============================] - 15s 588ms/step - loss: 0.0443 - mse: 0.0045 - mae: 0.0346 - accuracy: 0.9962 - recall: 0.9987 - precision: 0.9938\n",
            "Epoch 227/250\n",
            "25/25 [==============================] - 15s 587ms/step - loss: 0.0439 - mse: 0.0045 - mae: 0.0342 - accuracy: 0.9962 - recall: 0.9987 - precision: 0.9938\n",
            "Epoch 228/250\n",
            "25/25 [==============================] - 15s 588ms/step - loss: 0.0436 - mse: 0.0044 - mae: 0.0338 - accuracy: 0.9962 - recall: 0.9987 - precision: 0.9938\n",
            "Epoch 229/250\n",
            "25/25 [==============================] - 15s 588ms/step - loss: 0.0433 - mse: 0.0044 - mae: 0.0335 - accuracy: 0.9962 - recall: 0.9987 - precision: 0.9938\n",
            "Epoch 230/250\n",
            "25/25 [==============================] - 15s 589ms/step - loss: 0.0430 - mse: 0.0044 - mae: 0.0332 - accuracy: 0.9962 - recall: 0.9987 - precision: 0.9938\n",
            "Epoch 231/250\n",
            "25/25 [==============================] - 15s 589ms/step - loss: 0.0427 - mse: 0.0044 - mae: 0.0328 - accuracy: 0.9962 - recall: 0.9987 - precision: 0.9938\n",
            "Epoch 232/250\n",
            "25/25 [==============================] - 15s 588ms/step - loss: 0.0424 - mse: 0.0044 - mae: 0.0325 - accuracy: 0.9962 - recall: 0.9987 - precision: 0.9938\n",
            "Epoch 233/250\n",
            "25/25 [==============================] - 15s 587ms/step - loss: 0.0421 - mse: 0.0043 - mae: 0.0322 - accuracy: 0.9962 - recall: 0.9987 - precision: 0.9938\n",
            "Epoch 234/250\n",
            "25/25 [==============================] - 15s 588ms/step - loss: 0.0418 - mse: 0.0043 - mae: 0.0318 - accuracy: 0.9962 - recall: 0.9987 - precision: 0.9938\n",
            "Epoch 235/250\n",
            "25/25 [==============================] - 15s 588ms/step - loss: 0.0415 - mse: 0.0043 - mae: 0.0315 - accuracy: 0.9962 - recall: 0.9987 - precision: 0.9938\n",
            "Epoch 236/250\n",
            "25/25 [==============================] - 15s 586ms/step - loss: 0.0412 - mse: 0.0043 - mae: 0.0312 - accuracy: 0.9962 - recall: 0.9987 - precision: 0.9938\n",
            "Epoch 237/250\n",
            "25/25 [==============================] - 15s 586ms/step - loss: 0.0410 - mse: 0.0043 - mae: 0.0309 - accuracy: 0.9962 - recall: 0.9987 - precision: 0.9938\n",
            "Epoch 238/250\n",
            "25/25 [==============================] - 15s 585ms/step - loss: 0.0407 - mse: 0.0043 - mae: 0.0306 - accuracy: 0.9962 - recall: 0.9987 - precision: 0.9938\n",
            "Epoch 239/250\n",
            "25/25 [==============================] - 15s 586ms/step - loss: 0.0404 - mse: 0.0043 - mae: 0.0303 - accuracy: 0.9962 - recall: 0.9987 - precision: 0.9938\n",
            "Epoch 240/250\n",
            "25/25 [==============================] - 15s 589ms/step - loss: 0.0401 - mse: 0.0042 - mae: 0.0300 - accuracy: 0.9962 - recall: 0.9987 - precision: 0.9938\n",
            "Epoch 241/250\n",
            "25/25 [==============================] - 15s 589ms/step - loss: 0.0399 - mse: 0.0042 - mae: 0.0297 - accuracy: 0.9962 - recall: 0.9987 - precision: 0.9938\n",
            "Epoch 242/250\n",
            "25/25 [==============================] - 15s 586ms/step - loss: 0.0396 - mse: 0.0042 - mae: 0.0294 - accuracy: 0.9962 - recall: 0.9987 - precision: 0.9938\n",
            "Epoch 243/250\n",
            "25/25 [==============================] - 15s 588ms/step - loss: 0.0394 - mse: 0.0042 - mae: 0.0291 - accuracy: 0.9962 - recall: 0.9987 - precision: 0.9938\n",
            "Epoch 244/250\n",
            "25/25 [==============================] - 15s 587ms/step - loss: 0.0391 - mse: 0.0042 - mae: 0.0288 - accuracy: 0.9962 - recall: 0.9987 - precision: 0.9938\n",
            "Epoch 245/250\n",
            "25/25 [==============================] - 15s 588ms/step - loss: 0.0389 - mse: 0.0042 - mae: 0.0286 - accuracy: 0.9962 - recall: 0.9987 - precision: 0.9938\n",
            "Epoch 246/250\n",
            "25/25 [==============================] - 15s 589ms/step - loss: 0.0386 - mse: 0.0042 - mae: 0.0283 - accuracy: 0.9962 - recall: 0.9987 - precision: 0.9938\n",
            "Epoch 247/250\n",
            "25/25 [==============================] - 15s 588ms/step - loss: 0.0384 - mse: 0.0042 - mae: 0.0280 - accuracy: 0.9962 - recall: 0.9987 - precision: 0.9938\n",
            "Epoch 248/250\n",
            "25/25 [==============================] - 15s 587ms/step - loss: 0.0382 - mse: 0.0041 - mae: 0.0278 - accuracy: 0.9962 - recall: 0.9987 - precision: 0.9938\n",
            "Epoch 249/250\n",
            "25/25 [==============================] - 15s 587ms/step - loss: 0.0380 - mse: 0.0041 - mae: 0.0275 - accuracy: 0.9962 - recall: 0.9987 - precision: 0.9938\n",
            "Epoch 250/250\n",
            "25/25 [==============================] - 15s 588ms/step - loss: 0.0377 - mse: 0.0041 - mae: 0.0273 - accuracy: 0.9962 - recall: 0.9987 - precision: 0.9938\n"
          ],
          "name": "stdout"
        }
      ]
    },
    {
      "cell_type": "markdown",
      "metadata": {
        "id": "-CkMlUhY7WRU",
        "colab_type": "text"
      },
      "source": [
        "##**8. Generar gráfica de: loss(pérdida) y accuracy(acierto) en cada época realizada.**"
      ]
    },
    {
      "cell_type": "code",
      "metadata": {
        "id": "PwSQTQbUoe14",
        "colab_type": "code",
        "outputId": "42a4d5a6-842d-4b6b-9dc0-c5c2163cae9d",
        "colab": {
          "base_uri": "https://localhost:8080/",
          "height": 377
        }
      },
      "source": [
        "import pandas as pd\n",
        "\n",
        "pd.DataFrame(history.history).plot(figsize=(8, 6))\n",
        "plt.grid(True)\n",
        "plt.gca().set_ylim(0, 1)\n",
        "\n",
        "plt.show()"
      ],
      "execution_count": 20,
      "outputs": [
        {
          "output_type": "display_data",
          "data": {
            "image/png": "[encoded data removed]",
            "text/plain": [
              "<Figure size 576x432 with 1 Axes>"
            ]
          },
          "metadata": {
            "tags": [],
            "needs_background": "light"
          }
        }
      ]
    },
    {
      "cell_type": "markdown",
      "metadata": {
        "id": "axoYkzoOANpI",
        "colab_type": "text"
      },
      "source": [
        "##**9. Predecir con el modelo, la clasificación de cada imagen del conjunto de Test**"
      ]
    },
    {
      "cell_type": "code",
      "metadata": {
        "id": "F2_13iEblUh6",
        "colab_type": "code",
        "colab": {}
      },
      "source": [
        "#SE EVALÚA EL MODELO\n",
        "\n",
        "Valores=(model.predict(XTEST))\n",
        "#Valores"
      ],
      "execution_count": 0,
      "outputs": []
    },
    {
      "cell_type": "code",
      "metadata": {
        "id": "w6t9lnP3lglW",
        "colab_type": "code",
        "outputId": "e4ec39da-6421-44f1-ce9e-d349f5e16893",
        "colab": {
          "base_uri": "https://localhost:8080/",
          "height": 34
        }
      },
      "source": [
        "#Valores_label=np.argmax(Valores, axis=1)\n",
        "#Valores_label\n",
        "Valores_label=np.around(Valores)\n",
        "Valores_label.shape\n"
      ],
      "execution_count": 22,
      "outputs": [
        {
          "output_type": "execute_result",
          "data": {
            "text/plain": [
              "(400, 1)"
            ]
          },
          "metadata": {
            "tags": []
          },
          "execution_count": 22
        }
      ]
    },
    {
      "cell_type": "markdown",
      "metadata": {
        "id": "EhL8DHRdDG_v",
        "colab_type": "text"
      },
      "source": [
        "##**10. Sacar métricas de evaluación, para mirar el rendimiento del modelo.**"
      ]
    },
    {
      "cell_type": "markdown",
      "metadata": {
        "id": "UCkpLdoUDSHP",
        "colab_type": "text"
      },
      "source": [
        "> **A. Matriz de confusión simple.**"
      ]
    },
    {
      "cell_type": "code",
      "metadata": {
        "id": "3sU-M00HmyWR",
        "colab_type": "code",
        "outputId": "83a421b5-4918-4ea8-8fc0-83b8a9c6310f",
        "colab": {
          "base_uri": "https://localhost:8080/",
          "height": 70
        }
      },
      "source": [
        "from sklearn.metrics import confusion_matrix, accuracy_score\n",
        "\n",
        "#YTEST=YTEST.reshape(len(Ytest),1)\n",
        "\n",
        "acc = accuracy_score(YTEST,Valores_label)\n",
        "print('acierto: ',acc)\n",
        "cm=confusion_matrix(YTEST,Valores_label)\n",
        "cm"
      ],
      "execution_count": 23,
      "outputs": [
        {
          "output_type": "stream",
          "text": [
            "acierto:  0.705\n"
          ],
          "name": "stdout"
        },
        {
          "output_type": "execute_result",
          "data": {
            "text/plain": [
              "array([[159,  41],\n",
              "       [ 77, 123]])"
            ]
          },
          "metadata": {
            "tags": []
          },
          "execution_count": 23
        }
      ]
    },
    {
      "cell_type": "markdown",
      "metadata": {
        "id": "rEBXCc4TDjCE",
        "colab_type": "text"
      },
      "source": [
        "\n",
        ">**B. Matriz de confusión, con porcentjes de acierto.**"
      ]
    },
    {
      "cell_type": "code",
      "metadata": {
        "id": "EejIKKgBDjlP",
        "colab_type": "code",
        "outputId": "bf5a7459-cdc0-40e6-8848-3ebd3f05147f",
        "colab": {
          "base_uri": "https://localhost:8080/",
          "height": 365
        }
      },
      "source": [
        "from sklearn.utils.multiclass import unique_labels\n",
        "\n",
        "\n",
        "def plot_confusion_matrix(matrix,Ytest,Valores_label,acc,Valores2):\n",
        "    fig = plt.figure(figsize=(5,5))\n",
        "    ax = fig.add_subplot(111)\n",
        "    cmap=plt.cm.Blues\n",
        "    matrix = 100*matrix.astype('float') / cm.sum(axis=1)[:, np.newaxis]\n",
        "    cax = ax.matshow(matrix, interpolation='nearest', cmap=cmap)\n",
        "    fig.colorbar(cax)\n",
        "    classes = unique_labels(Ytest,Valores_label)\n",
        "    classes1= Valores2\n",
        "    ax.set(xticks=np.arange(matrix.shape[1]),\n",
        "           yticks=np.arange(matrix.shape[0]),\n",
        "           xticklabels=classes1, yticklabels=classes1,\n",
        "           title='ACC = %.1f %%' % (100*acc),\n",
        "           ylabel='True label',\n",
        "           xlabel='Predicted label')\n",
        "    fmt = '.1f'\n",
        "    thresh = matrix.max() / 2.\n",
        "    for i in range(matrix.shape[0]):\n",
        "        for j in range(matrix.shape[1]):\n",
        "            ax.text(j, i, format(matrix[i, j], fmt),\n",
        "                    ha=\"center\", va=\"center\",\n",
        "                    color=\"black\",fontsize=12)\n",
        "    fig.tight_layout()\n",
        "\n",
        "#Valores_label_texto=convertir_salida_texto(Valores_label)\n",
        "plot_confusion_matrix(cm,YTEST,Valores_label,acc,Valores2=[\"Perro\",\"Gato\"])\n",
        "\n"
      ],
      "execution_count": 24,
      "outputs": [
        {
          "output_type": "display_data",
          "data": {
            "image/png": "[encoded data removed]",
            "text/plain": [
              "<Figure size 360x360 with 2 Axes>"
            ]
          },
          "metadata": {
            "tags": [],
            "needs_background": "light"
          }
        }
      ]
    },
    {
      "cell_type": "markdown",
      "metadata": {
        "id": "IZk9eJ4YDwed",
        "colab_type": "text"
      },
      "source": [
        "\n",
        "> **C. Reporte de algunas métricas: Precisión, recall, F1 y Support, para el umbral de clasificación 0,5(por defecto usado por keras).**\n"
      ]
    },
    {
      "cell_type": "code",
      "metadata": {
        "id": "W88lTS1WDxsY",
        "colab_type": "code",
        "outputId": "affdc0e0-82d8-4965-a1b8-9e690484f648",
        "colab": {
          "base_uri": "https://localhost:8080/",
          "height": 176
        }
      },
      "source": [
        "from sklearn.metrics import classification_report\n",
        "\n",
        "target_names = ['Perro','Gato']\n",
        "cr=classification_report(YTEST, Valores_label,labels=range(len(target_names)),target_names=target_names)\n",
        "print(cr) "
      ],
      "execution_count": 25,
      "outputs": [
        {
          "output_type": "stream",
          "text": [
            "              precision    recall  f1-score   support\n",
            "\n",
            "       Perro       0.67      0.80      0.73       200\n",
            "        Gato       0.75      0.61      0.68       200\n",
            "\n",
            "    accuracy                           0.70       400\n",
            "   macro avg       0.71      0.71      0.70       400\n",
            "weighted avg       0.71      0.70      0.70       400\n",
            "\n"
          ],
          "name": "stdout"
        }
      ]
    },
    {
      "cell_type": "markdown",
      "metadata": {
        "id": "ilniZmtTD39E",
        "colab_type": "text"
      },
      "source": [
        ">**D. Curva ROC, para cada clase, variando los umbrales de decisión(Thresold) o, en este caso con la probabilidad de que pertenezca a una de las salidas.**"
      ]
    },
    {
      "cell_type": "code",
      "metadata": {
        "id": "6HRo5uaTml1w",
        "colab_type": "code",
        "outputId": "40cadcf0-54ca-4449-f6de-5aa85ef5915f",
        "colab": {
          "base_uri": "https://localhost:8080/",
          "height": 404
        }
      },
      "source": [
        "from sklearn.preprocessing import label_binarize\n",
        "from sklearn.metrics import roc_curve, auc\n",
        "\n",
        "\n",
        "\n",
        "Ytest_Bin= label_binarize(YTEST, classes=[0,1])\n",
        "Valores_Bin= label_binarize(Valores_label, classes=[0,1])\n",
        "roc_auc, fpr, tpr, n_classes = roc_multiclass(Ytest_Bin,Valores_Bin,colum=1)\n",
        "roc_auc_mc(roc_auc,fpr,tpr,n_classes,'ROC curve ')\n",
        "\n"
      ],
      "execution_count": 26,
      "outputs": [
        {
          "output_type": "display_data",
          "data": {
            "image/png": "[encoded data removed]",
            "text/plain": [
              "<Figure size 432x432 with 1 Axes>"
            ]
          },
          "metadata": {
            "tags": [],
            "needs_background": "light"
          }
        }
      ]
    },
    {
      "cell_type": "code",
      "metadata": {
        "id": "Xe4ek79vGG-B",
        "colab_type": "code",
        "outputId": "09e54086-b786-4e20-d9b2-15e3a26dcdc9",
        "colab": {
          "base_uri": "https://localhost:8080/",
          "height": 141
        }
      },
      "source": [
        "#GRAFICAR LAS PRIMERAS 10 IMAGENES\n",
        "tam=10\n",
        "index=0\n",
        "plt.figure(figsize=(tam*2, 12))\n",
        "for i in range(1,tam):\n",
        "  index += 1\n",
        "  plt.subplot((tam//10), 10, index)\n",
        "  plt.imshow(XTEST[i-1])\n",
        "  plt.title(\"Class: {}\".format(Valores_label[i-1]))\n",
        "  plt.axis(\"off\")\n",
        "plt.show() "
      ],
      "execution_count": 27,
      "outputs": [
        {
          "output_type": "display_data",
          "data": {
            "image/png": "[encoded data removed]",
            "text/plain": [
              "<Figure size 1440x864 with 9 Axes>"
            ]
          },
          "metadata": {
            "tags": [],
            "needs_background": "light"
          }
        }
      ]
    },
    {
      "cell_type": "code",
      "metadata": {
        "id": "63fO56hV4j8i",
        "colab_type": "code",
        "colab": {}
      },
      "source": [
        ""
      ],
      "execution_count": 0,
      "outputs": []
    }
  ]
}