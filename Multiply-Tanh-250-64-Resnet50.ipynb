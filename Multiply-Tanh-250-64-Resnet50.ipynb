{
  "nbformat": 4,
  "nbformat_minor": 0,
  "metadata": {
    "colab": {
      "name": "Resnet50.ipynb",
      "provenance": [],
      "collapsed_sections": [],
      "machine_shape": "hm",
      "include_colab_link": true
    },
    "kernelspec": {
      "name": "python3",
      "display_name": "Python 3"
    },
    "accelerator": "GPU"
  },
  "cells": [
    {
      "cell_type": "markdown",
      "metadata": {
        "id": "view-in-github",
        "colab_type": "text"
      },
      "source": [
        "<a href=\"https://colab.research.google.com/github/gloria256/EXPERIMENTOS/blob/master/Multiply-Tanh-250-64-Resnet50.ipynb\" target=\"_parent\"><img src=\"https://colab.research.google.com/assets/colab-badge.svg\" alt=\"Open In Colab\"/></a>"
      ]
    },
    {
      "cell_type": "markdown",
      "metadata": {
        "id": "5ftLDsREupDL",
        "colab_type": "text"
      },
      "source": [
        "# **CLASIFICADOR BINARIO USANDO LA RED: RESNET50**\n",
        "\n",
        "\n",
        "\n",
        "\n",
        "\n"
      ]
    },
    {
      "cell_type": "markdown",
      "metadata": {
        "id": "lnRyzy7hvA2O",
        "colab_type": "text"
      },
      "source": [
        "## **1. Librerías necesarias y descarga de la función para graficar la curva ROC.**\n"
      ]
    },
    {
      "cell_type": "code",
      "metadata": {
        "id": "rbNiIwHFdiWA",
        "colab_type": "code",
        "outputId": "e836f628-fb35-4f3b-fd27-753733af64d1",
        "colab": {
          "base_uri": "https://localhost:8080/",
          "height": 34
        }
      },
      "source": [
        "#IMPORTACION DE LIBRERIAS NECESARIAS\n",
        "import pandas as pd\n",
        "import tensorflow_datasets as tfds\n",
        "import tensorflow as tf\n",
        "import matplotlib.pyplot as plt\n",
        "import cv2\n",
        "import numpy as np\n",
        "import os\n",
        "from keras.applications.resnet import preprocess_input, decode_predictions\n",
        "import sklearn\n",
        "\n",
        "# ACCESO A GOOGLE DRIVE\n",
        "import os\n",
        "from pydrive.auth import GoogleAuth\n",
        "from pydrive.drive import GoogleDrive\n",
        "from google.colab import auth\n",
        "from oauth2client.client import GoogleCredentials\n",
        "auth.authenticate_user()\n",
        "gauth = GoogleAuth()\n",
        "gauth.credentials = GoogleCredentials.get_application_default()\n",
        "drive = GoogleDrive(gauth)\n",
        "\n",
        "#ARCHIVO DE FUNCIONES\n",
        "file_id = '1QTJIzZb4xL9_it6AF4qpz6KJGIpprIVD' \n",
        "downloaded = drive.CreateFile({'id': file_id})\n",
        "downloaded.GetContentFile('funciones_people.py') \n",
        "from funciones_people import roc_multiclass, roc_auc_mc\n"
      ],
      "execution_count": 1,
      "outputs": [
        {
          "output_type": "stream",
          "text": [
            "Using TensorFlow backend.\n"
          ],
          "name": "stderr"
        }
      ]
    },
    {
      "cell_type": "markdown",
      "metadata": {
        "id": "hL2cXKJAkLoA",
        "colab_type": "text"
      },
      "source": [
        "## **4. Descargar imágenes de CIFAR-10**\n",
        "\n",
        "consta de 60000 imágenes en color de 32x32 en 10 clases, con 6000 imágenes por clase. Hay 50000 imágenes de entrenamiento y 10000 imágenes de prueba.\n",
        "\n",
        "El conjunto de datos se divide en cinco lotes de entrenamiento y un lote de prueba, cada uno con 10000 imágenes. El lote de prueba contiene exactamente 1000 imágenes seleccionadas al azar de cada clase. \n",
        "\n",
        "$avión\\hspace{1em}automóvil\\hspace{1em}pájaro\\hspace{1em}gato    \n",
        "ciervo\\hspace{1em}perro\\hspace{1em}rana\\hspace{1em}caballo\\hspace{1em}\n",
        "Embarcacion\\hspace{1em}camión$"
      ]
    },
    {
      "cell_type": "markdown",
      "metadata": {
        "id": "-3cxyDsseRk_",
        "colab_type": "text"
      },
      "source": [
        "#### **A:** Funciones, para seleccionar solo las clases: Gato y perro"
      ]
    },
    {
      "cell_type": "code",
      "metadata": {
        "id": "q1eEICWsfQUB",
        "colab_type": "code",
        "colab": {}
      },
      "source": [
        "def obtener_solo_imagenes_Etiqueta(imagen,etiqueta,num_etiqueta):\n",
        "  Gatos_label=np.where(etiqueta== num_etiqueta)\n",
        "  A=np.zeros([len(Gatos_label[0]),32,32,3],dtype=np.uint8)\n",
        "  for c,i in enumerate(Gatos_label[0]): \n",
        "    A[c]=imagen[i]\n",
        "  return A\n",
        "\n",
        "def cambiar_scala_224x224(imagen):\n",
        "  matriz_imagen1=np.zeros([len(imagen),224,224,3],dtype=np.uint8)\n",
        "  for i in range(len(imagen)):\n",
        "    img=imagen[i]\n",
        "    scale_percent = 700 # percent of original size\n",
        "    width = int(img.shape[1] * scale_percent / 100)\n",
        "    height = int(img.shape[0] * scale_percent / 100)\n",
        "    dim = (width, height)\n",
        "    resized = cv2.resize(img, dim, interpolation = cv2.INTER_AREA)\n",
        "    matriz_imagen1[i]=resized\n",
        "  return matriz_imagen1"
      ],
      "execution_count": 0,
      "outputs": []
    },
    {
      "cell_type": "markdown",
      "metadata": {
        "id": "eegBaLz32hzL",
        "colab_type": "text"
      },
      "source": [
        "#### **B:** Descargar de keras datasets CIFAR10 y seleccionar las imagenes de las clases gato y perro del conjunto de **Train** y **Test**\n",
        "\n",
        "\n"
      ]
    },
    {
      "cell_type": "code",
      "metadata": {
        "id": "jogC9oAGzSuu",
        "colab_type": "code",
        "outputId": "7e8273ef-6fd3-4e5e-a6c8-79c9ed84d462",
        "colab": {
          "base_uri": "https://localhost:8080/",
          "height": 70
        }
      },
      "source": [
        "#IMPORTAMOS EL CONJUNTO DE DATOS DE CIFAR10 DONE: Xdata[0][0]-->Train   Xdata[1][0]-->Test  Xdata[0][1]-->Ytrain  Xdata[1][1]-->Ytest\n",
        "import tensorflow as tf\n",
        "from keras.datasets import cifar10\n",
        "\n",
        "Xdata = tf.keras.datasets.cifar10.load_data()\n",
        "Xdata[1][0].shape\n"
      ],
      "execution_count": 3,
      "outputs": [
        {
          "output_type": "stream",
          "text": [
            "Downloading data from https://www.cs.toronto.edu/~kriz/cifar-10-python.tar.gz\n",
            "170500096/170498071 [==============================] - 11s 0us/step\n"
          ],
          "name": "stdout"
        },
        {
          "output_type": "execute_result",
          "data": {
            "text/plain": [
              "(10000, 32, 32, 3)"
            ]
          },
          "metadata": {
            "tags": []
          },
          "execution_count": 3
        }
      ]
    },
    {
      "cell_type": "code",
      "metadata": {
        "id": "aHZBxtVEIRU9",
        "colab_type": "code",
        "outputId": "118004b8-20d2-4b74-e797-4f6dcb186672",
        "colab": {
          "base_uri": "https://localhost:8080/",
          "height": 265
        }
      },
      "source": [
        "#OBTENEMOS SOLO LAS IMAGENES DE GATO=3 y perro=5 DE TEST DE CIFAR10, SON 1000 IMAGENES DE GATO y 1000 IMAGENES DE PERRO\n",
        "gato_test = obtener_solo_imagenes_Etiqueta(Xdata[1][0],Xdata[1][1],num_etiqueta=3)\n",
        "perro_test = obtener_solo_imagenes_Etiqueta(Xdata[1][0],Xdata[1][1],num_etiqueta=5)\n",
        "\n",
        "#OBTENEMOS SOLO LAS IMAGENES DE GATO=3 y perro=5 DE TRAIN DE CIFAR10, SON 5000 IMAGENES DE GATO y 5000 IMAGENES DE PERRO\n",
        "gato_train = obtener_solo_imagenes_Etiqueta(Xdata[0][0],Xdata[0][1],num_etiqueta=3)\n",
        "perro_train = obtener_solo_imagenes_Etiqueta(Xdata[0][0],Xdata[0][1],num_etiqueta=5)\n",
        "\n",
        "plt.imshow(gato_test[999])\n",
        "plt.show()"
      ],
      "execution_count": 4,
      "outputs": [
        {
          "output_type": "display_data",
          "data": {
            "image/png": "[encoded data removed]",
            "text/plain": [
              "<Figure size 432x288 with 1 Axes>"
            ]
          },
          "metadata": {
            "tags": [],
            "needs_background": "light"
          }
        }
      ]
    },
    {
      "cell_type": "markdown",
      "metadata": {
        "id": "hMWOHRugFe8l",
        "colab_type": "text"
      },
      "source": [
        "## **5. Agrupar conjunto de datos, en uno solo (X)**\n",
        "\n",
        "Gato_test, Conjunto de satos de 1000 imágenes tomadas de CIFAR10 - TEST\n",
        "Gato_train, Conjunto de satos de 5000 imágenes tomadas de CIFAR10 - TRAIN\n",
        "\n",
        "perro_test, Conjunto de satos de 1000 imágenes tomadas de CIFAR10 - TEST\n",
        "perro_train, Conjunto de satos de 5000 imágenes tomadas de CIFAR10 - TRAIN\n",
        "\n",
        "\n",
        "> $X= Cifar10_{gato} + Cifar10_{perro}$\n"
      ]
    },
    {
      "cell_type": "markdown",
      "metadata": {
        "id": "T1tteHSs9YRA",
        "colab_type": "text"
      },
      "source": [
        "####**A:** Unir etiquetas y matrices de cada conjunto para fromar **X** de 2000 imágenes"
      ]
    },
    {
      "cell_type": "code",
      "metadata": {
        "id": "kyfpKkbQVtcH",
        "colab_type": "code",
        "outputId": "c9b009ef-d4cc-4483-b02e-887d10f2f79d",
        "colab": {
          "base_uri": "https://localhost:8080/",
          "height": 34
        }
      },
      "source": [
        "#UNIR LAS IMAGENES EN UN SOLO CONJUNTO\n",
        "#X = np.concatenate((gato_test[0:500], gato_train[0:500], perro_test[0:500], perro_train[0:500]), axis=0)\n",
        "#X_label=np.concatenate(([1]*500, [1]*500, [0]*500, [0]*500), axis=0)\n",
        "#UNIR ETIQUETAS EN UN SOLO CONJUNTO \n",
        "# 1-->GATO   0-->PERRO\n",
        "\n",
        "Xtrain = np.concatenate((gato_train[0:800], perro_train[0:800]), axis=0)\n",
        "Xtrain_label=np.concatenate(([1]*800,[0]*800), axis=0)\n",
        "Xtest  = np.concatenate((gato_test[0:200], perro_test[0:200]), axis=0)\n",
        "Xtest_label=np.concatenate(([1]*200,[0]*200), axis=0)\n",
        "\n",
        "print(len(Xtrain),len(Xtrain_label),'  y  ',len(Xtest),len(Xtest_label))"
      ],
      "execution_count": 5,
      "outputs": [
        {
          "output_type": "stream",
          "text": [
            "1600 1600   y   400 400\n"
          ],
          "name": "stdout"
        }
      ]
    },
    {
      "cell_type": "markdown",
      "metadata": {
        "id": "tBhSseFp27Z_",
        "colab_type": "text"
      },
      "source": [
        "#### **B:** Cambiar tamaño de 32x32x3, a scala de: 224x224x3 (**Ver función:** cambiar_scala_224x224(X))\n",
        "\n",
        "\n"
      ]
    },
    {
      "cell_type": "code",
      "metadata": {
        "id": "_YxLJAILu3ql",
        "colab_type": "code",
        "outputId": "3351df48-920e-452d-992e-ee0660f2bfe3",
        "colab": {
          "base_uri": "https://localhost:8080/",
          "height": 34
        }
      },
      "source": [
        "import cv2\n",
        "Xtrain=cambiar_scala_224x224(Xtrain)\n",
        "Xtest=cambiar_scala_224x224(Xtest)\n",
        "print(Xtrain.shape,'  ',Xtest.shape)"
      ],
      "execution_count": 6,
      "outputs": [
        {
          "output_type": "stream",
          "text": [
            "(1600, 224, 224, 3)    (400, 224, 224, 3)\n"
          ],
          "name": "stdout"
        }
      ]
    },
    {
      "cell_type": "code",
      "metadata": {
        "id": "p5e8d0PxpMoQ",
        "colab_type": "code",
        "outputId": "c400c0fa-949d-43e4-e215-c63e2776cc0e",
        "colab": {
          "base_uri": "https://localhost:8080/",
          "height": 281
        }
      },
      "source": [
        "plt.imshow(Xtrain[5])\n",
        "plt.title('clase:%s'%Xtrain_label[5])\n",
        "plt.show()"
      ],
      "execution_count": 7,
      "outputs": [
        {
          "output_type": "display_data",
          "data": {
            "image/png": "[encoded data removed]",
            "text/plain": [
              "<Figure size 432x288 with 1 Axes>"
            ]
          },
          "metadata": {
            "tags": [],
            "needs_background": "light"
          }
        }
      ]
    },
    {
      "cell_type": "markdown",
      "metadata": {
        "id": "V6wmv0oX9tQ0",
        "colab_type": "text"
      },
      "source": [
        "####**C:** Pasar X, a un pandas, en este caso por cuestiones de espacio en memoria, solo se cojen: X[i][0][0][0:3] y se agrega para cada imagen al pandas X_PD con sus respectivas etiquetas X_label.\n",
        "\n",
        "\n"
      ]
    },
    {
      "cell_type": "code",
      "metadata": {
        "id": "WUoZ0rx1Ajop",
        "colab_type": "code",
        "colab": {}
      },
      "source": [
        "#ARMAR PANDAS CON SOLO 5 DATOS DE CADA UNA DE LAS 1600 IMAGENES PARA PODER PARTICIONAR EL CONJUNTO Y PODER SACAR YTRAIN Y YTEST\n",
        "Xtrain_PD=np.zeros([len(Xtrain),3])\n",
        "Xtest_PD=np.zeros([len(Xtest),3])\n",
        "\n",
        "for i in range(len(Xtrain)):\n",
        "  Xtrain_PD[i]=Xtrain[i][0][0][0:3]\n",
        "\n",
        "for i in range(len(Xtest)):\n",
        "  Xtest_PD[i]=Xtest[i][0][0][0:3]\n"
      ],
      "execution_count": 0,
      "outputs": []
    },
    {
      "cell_type": "code",
      "metadata": {
        "id": "mpoM4c89GilL",
        "colab_type": "code",
        "colab": {}
      },
      "source": [
        "#ARMAR PANDAS DE TODAS LAS IMAGENNES, SE BARAJAN Y SE DEJAN LOS INDICES SIN REINICIAR, PARA LUEGO ENCONTRAR LA IMAGEN QUE LE PERTENECE A CADA ETIQUETA.\n",
        "Xtrain_PD=pd.DataFrame(Xtrain_PD)\n",
        "Xtrain_PD[\"label\"]=Xtrain_label    \n",
        "Xtrain_PD = Xtrain_PD.sample(frac=1)#.reset_index(drop=True) #frac=1significa devolver todas las filas (en orden aleatorio).\n",
        "\n",
        "Xtest_PD=pd.DataFrame(Xtest_PD)\n",
        "Xtest_PD[\"label\"]=Xtest_label    \n",
        "Xtest_PD = Xtest_PD.sample(frac=1)"
      ],
      "execution_count": 0,
      "outputs": []
    },
    {
      "cell_type": "markdown",
      "metadata": {
        "id": "EjdPZOFN-P9d",
        "colab_type": "text"
      },
      "source": [
        "####**C:** Se particiona el conjuto de X_PD en Xtrain y Xtest, con 80%, 20% respectivamente y se sacan los Ytrain, Ytest por aparte."
      ]
    },
    {
      "cell_type": "code",
      "metadata": {
        "id": "qRFhRdcE9qj_",
        "colab_type": "code",
        "outputId": "1c875fba-71c0-4ec5-d07d-dd44cd593d34",
        "colab": {
          "base_uri": "https://localhost:8080/",
          "height": 34
        }
      },
      "source": [
        "#PARTICIONAR EL CONJUNTO DE XDATA EN XTRAIN Y XTEST\n",
        "#from sklearn.model_selection import train_test_split\n",
        "#Xtrain, Xtest = train_test_split(X_PD,test_size=0.2)\n",
        "\n",
        "col_sal=\"label\"\n",
        "Ytrain = Xtrain_PD[col_sal]\n",
        "Xtrain_PD.drop(columns=col_sal,inplace=True)\n",
        "Ytest = Xtest_PD[col_sal]\n",
        "Xtest_PD.drop(columns=col_sal,inplace=True)\n",
        "\n",
        "print(len(Ytrain),len(Ytest))"
      ],
      "execution_count": 10,
      "outputs": [
        {
          "output_type": "stream",
          "text": [
            "1600 400\n"
          ],
          "name": "stdout"
        }
      ]
    },
    {
      "cell_type": "markdown",
      "metadata": {
        "id": "4FlAT9CE-ogZ",
        "colab_type": "text"
      },
      "source": [
        "####**D:** Del pandas **X_PD** creado, se saca Ytrain, luego aquí,se sacan sus indices y se relacionan con la matrix de datos unidos **X** para armar el array **XTRAIN** que es el que va a la entrada de la red neuronal VGG-16."
      ]
    },
    {
      "cell_type": "code",
      "metadata": {
        "id": "xNSoYUIj70QB",
        "colab_type": "code",
        "outputId": "4166fe48-22ba-43e4-f426-f0522cd114fa",
        "colab": {
          "base_uri": "https://localhost:8080/",
          "height": 34
        }
      },
      "source": [
        "#SE ARMA EL CONJUNTO XTRAIN FINAL, A PARTIR DE LOS INDICES DE LAS ETIQUETAS.\n",
        "\n",
        "def relacion_indices_etiquetas_con_XTRAIN(X,Y):\n",
        "  A=np.zeros([len(Y),224,224,3],dtype=np.uint8)\n",
        "  B=[]\n",
        "  for c,i in enumerate(Y.index):\n",
        "    A[c]=X[i]\n",
        "    B.append(Y[i])\n",
        "  return A,np.array(B)\n",
        "\n",
        "\n",
        "XTRAIN,YTRAIN = relacion_indices_etiquetas_con_XTRAIN(Xtrain,Ytrain)\n",
        "XTEST,YTEST = relacion_indices_etiquetas_con_XTRAIN(Xtest,Ytest)\n",
        "print('xtrain: ',XTRAIN.shape,YTRAIN.shape,'  xtest: ',XTEST.shape,YTEST.shape)\n",
        "\n",
        "#c = np.all(np.array(YTRAIN) == np.array(Ytrain))\n",
        "#Ytrain.index"
      ],
      "execution_count": 11,
      "outputs": [
        {
          "output_type": "stream",
          "text": [
            "xtrain:  (1600, 224, 224, 3) (1600,)   xtest:  (400, 224, 224, 3) (400,)\n"
          ],
          "name": "stdout"
        }
      ]
    },
    {
      "cell_type": "code",
      "metadata": {
        "id": "M-lxgxSTfm7u",
        "colab_type": "code",
        "outputId": "d8ed0b68-39be-49a4-9462-49565de823ab",
        "colab": {
          "base_uri": "https://localhost:8080/",
          "height": 34
        }
      },
      "source": [
        "#LAS PASAMOS A TENSOR, NO HAYNECESIDAD DE QUE YTRAIN SEA UN TENSOR.\n",
        "XTRAIN=tf.constant(XTRAIN)\n",
        "YTRAIN=tf.constant(YTRAIN)\n",
        "\n",
        "XTEST=tf.constant(XTEST)\n",
        "YTEST=tf.constant(YTEST)\n",
        "\n",
        "print(type(XTRAIN))"
      ],
      "execution_count": 12,
      "outputs": [
        {
          "output_type": "stream",
          "text": [
            "<class 'tensorflow.python.framework.ops.EagerTensor'>\n"
          ],
          "name": "stdout"
        }
      ]
    },
    {
      "cell_type": "code",
      "metadata": {
        "id": "NqVmpVA5-KRM",
        "colab_type": "code",
        "outputId": "25f9e893-2b5d-40ef-d436-71844c0e169f",
        "colab": {
          "base_uri": "https://localhost:8080/",
          "height": 281
        }
      },
      "source": [
        "plt.imshow(XTRAIN[5])\n",
        "plt.title('clase:%s'%YTRAIN[5])\n",
        "plt.show()\n"
      ],
      "execution_count": 13,
      "outputs": [
        {
          "output_type": "display_data",
          "data": {
            "image/png": "[encoded data removed]",
            "text/plain": [
              "<Figure size 432x288 with 1 Axes>"
            ]
          },
          "metadata": {
            "tags": [],
            "needs_background": "light"
          }
        }
      ]
    },
    {
      "cell_type": "markdown",
      "metadata": {
        "id": "QajCSoSIeCEm",
        "colab_type": "text"
      },
      "source": [
        "##**6. Importar el modelo de la ResNet50 y configurar el último bloque.**\n",
        "\n",
        "### Dejar la ultima capa y agregar la capa densa de salida, para que tenga 1 salida.  "
      ]
    },
    {
      "cell_type": "code",
      "metadata": {
        "id": "tf0CXg9BN5aH",
        "colab_type": "code",
        "outputId": "9f7f58e5-6a08-4a30-d002-b17f0859998e",
        "colab": {
          "base_uri": "https://localhost:8080/",
          "height": 1000
        }
      },
      "source": [
        "import tensorflow as tf\n",
        "\n",
        "model = tf.keras.applications.ResNet50(weights='imagenet')#,include_top=False)\n",
        "model= tf.keras.models.Model(inputs=model.input, outputs=model.layers[-2].output)#-2, quita solo la ultima capa\n",
        "\n",
        "#X =  tf.keras.layers.Dropout(0.2)(model.output)\n",
        "X = tf.keras.layers.Dense(1000, activation=\"tanh\", name='predictions')(model.output)\n",
        "X1 = tf.keras.layers.Dense(1000, activation=\"tanh\", name='predictions1')(X)\n",
        "X3=tf.keras.layers.dot([X1, X], axes=1, normalize=True)#PROBAR CON TRUE\n",
        "output = tf.keras.layers.Dense(1, activation=\"sigmoid\", name='salida')(X3)\n",
        "model = tf.keras.models.Model(inputs=model.input, outputs=output)\n",
        "\n",
        "model.summary()\n",
        "#tf.keras.utils.plot_model(model_GoogleNet,show_shapes=True, show_layer_names=True)"
      ],
      "execution_count": 14,
      "outputs": [
        {
          "output_type": "stream",
          "text": [
            "Downloading data from https://storage.googleapis.com/tensorflow/keras-applications/resnet/resnet50_weights_tf_dim_ordering_tf_kernels.h5\n",
            "102973440/102967424 [==============================] - 2s 0us/step\n",
            "Model: \"model_1\"\n",
            "__________________________________________________________________________________________________\n",
            "Layer (type)                    Output Shape         Param #     Connected to                     \n",
            "==================================================================================================\n",
            "input_1 (InputLayer)            [(None, 224, 224, 3) 0                                            \n",
            "__________________________________________________________________________________________________\n",
            "conv1_pad (ZeroPadding2D)       (None, 230, 230, 3)  0           input_1[0][0]                    \n",
            "__________________________________________________________________________________________________\n",
            "conv1_conv (Conv2D)             (None, 112, 112, 64) 9472        conv1_pad[0][0]                  \n",
            "__________________________________________________________________________________________________\n",
            "conv1_bn (BatchNormalization)   (None, 112, 112, 64) 256         conv1_conv[0][0]                 \n",
            "__________________________________________________________________________________________________\n",
            "conv1_relu (Activation)         (None, 112, 112, 64) 0           conv1_bn[0][0]                   \n",
            "__________________________________________________________________________________________________\n",
            "pool1_pad (ZeroPadding2D)       (None, 114, 114, 64) 0           conv1_relu[0][0]                 \n",
            "__________________________________________________________________________________________________\n",
            "pool1_pool (MaxPooling2D)       (None, 56, 56, 64)   0           pool1_pad[0][0]                  \n",
            "__________________________________________________________________________________________________\n",
            "conv2_block1_1_conv (Conv2D)    (None, 56, 56, 64)   4160        pool1_pool[0][0]                 \n",
            "__________________________________________________________________________________________________\n",
            "conv2_block1_1_bn (BatchNormali (None, 56, 56, 64)   256         conv2_block1_1_conv[0][0]        \n",
            "__________________________________________________________________________________________________\n",
            "conv2_block1_1_relu (Activation (None, 56, 56, 64)   0           conv2_block1_1_bn[0][0]          \n",
            "__________________________________________________________________________________________________\n",
            "conv2_block1_2_conv (Conv2D)    (None, 56, 56, 64)   36928       conv2_block1_1_relu[0][0]        \n",
            "__________________________________________________________________________________________________\n",
            "conv2_block1_2_bn (BatchNormali (None, 56, 56, 64)   256         conv2_block1_2_conv[0][0]        \n",
            "__________________________________________________________________________________________________\n",
            "conv2_block1_2_relu (Activation (None, 56, 56, 64)   0           conv2_block1_2_bn[0][0]          \n",
            "__________________________________________________________________________________________________\n",
            "conv2_block1_0_conv (Conv2D)    (None, 56, 56, 256)  16640       pool1_pool[0][0]                 \n",
            "__________________________________________________________________________________________________\n",
            "conv2_block1_3_conv (Conv2D)    (None, 56, 56, 256)  16640       conv2_block1_2_relu[0][0]        \n",
            "__________________________________________________________________________________________________\n",
            "conv2_block1_0_bn (BatchNormali (None, 56, 56, 256)  1024        conv2_block1_0_conv[0][0]        \n",
            "__________________________________________________________________________________________________\n",
            "conv2_block1_3_bn (BatchNormali (None, 56, 56, 256)  1024        conv2_block1_3_conv[0][0]        \n",
            "__________________________________________________________________________________________________\n",
            "conv2_block1_add (Add)          (None, 56, 56, 256)  0           conv2_block1_0_bn[0][0]          \n",
            "                                                                 conv2_block1_3_bn[0][0]          \n",
            "__________________________________________________________________________________________________\n",
            "conv2_block1_out (Activation)   (None, 56, 56, 256)  0           conv2_block1_add[0][0]           \n",
            "__________________________________________________________________________________________________\n",
            "conv2_block2_1_conv (Conv2D)    (None, 56, 56, 64)   16448       conv2_block1_out[0][0]           \n",
            "__________________________________________________________________________________________________\n",
            "conv2_block2_1_bn (BatchNormali (None, 56, 56, 64)   256         conv2_block2_1_conv[0][0]        \n",
            "__________________________________________________________________________________________________\n",
            "conv2_block2_1_relu (Activation (None, 56, 56, 64)   0           conv2_block2_1_bn[0][0]          \n",
            "__________________________________________________________________________________________________\n",
            "conv2_block2_2_conv (Conv2D)    (None, 56, 56, 64)   36928       conv2_block2_1_relu[0][0]        \n",
            "__________________________________________________________________________________________________\n",
            "conv2_block2_2_bn (BatchNormali (None, 56, 56, 64)   256         conv2_block2_2_conv[0][0]        \n",
            "__________________________________________________________________________________________________\n",
            "conv2_block2_2_relu (Activation (None, 56, 56, 64)   0           conv2_block2_2_bn[0][0]          \n",
            "__________________________________________________________________________________________________\n",
            "conv2_block2_3_conv (Conv2D)    (None, 56, 56, 256)  16640       conv2_block2_2_relu[0][0]        \n",
            "__________________________________________________________________________________________________\n",
            "conv2_block2_3_bn (BatchNormali (None, 56, 56, 256)  1024        conv2_block2_3_conv[0][0]        \n",
            "__________________________________________________________________________________________________\n",
            "conv2_block2_add (Add)          (None, 56, 56, 256)  0           conv2_block1_out[0][0]           \n",
            "                                                                 conv2_block2_3_bn[0][0]          \n",
            "__________________________________________________________________________________________________\n",
            "conv2_block2_out (Activation)   (None, 56, 56, 256)  0           conv2_block2_add[0][0]           \n",
            "__________________________________________________________________________________________________\n",
            "conv2_block3_1_conv (Conv2D)    (None, 56, 56, 64)   16448       conv2_block2_out[0][0]           \n",
            "__________________________________________________________________________________________________\n",
            "conv2_block3_1_bn (BatchNormali (None, 56, 56, 64)   256         conv2_block3_1_conv[0][0]        \n",
            "__________________________________________________________________________________________________\n",
            "conv2_block3_1_relu (Activation (None, 56, 56, 64)   0           conv2_block3_1_bn[0][0]          \n",
            "__________________________________________________________________________________________________\n",
            "conv2_block3_2_conv (Conv2D)    (None, 56, 56, 64)   36928       conv2_block3_1_relu[0][0]        \n",
            "__________________________________________________________________________________________________\n",
            "conv2_block3_2_bn (BatchNormali (None, 56, 56, 64)   256         conv2_block3_2_conv[0][0]        \n",
            "__________________________________________________________________________________________________\n",
            "conv2_block3_2_relu (Activation (None, 56, 56, 64)   0           conv2_block3_2_bn[0][0]          \n",
            "__________________________________________________________________________________________________\n",
            "conv2_block3_3_conv (Conv2D)    (None, 56, 56, 256)  16640       conv2_block3_2_relu[0][0]        \n",
            "__________________________________________________________________________________________________\n",
            "conv2_block3_3_bn (BatchNormali (None, 56, 56, 256)  1024        conv2_block3_3_conv[0][0]        \n",
            "__________________________________________________________________________________________________\n",
            "conv2_block3_add (Add)          (None, 56, 56, 256)  0           conv2_block2_out[0][0]           \n",
            "                                                                 conv2_block3_3_bn[0][0]          \n",
            "__________________________________________________________________________________________________\n",
            "conv2_block3_out (Activation)   (None, 56, 56, 256)  0           conv2_block3_add[0][0]           \n",
            "__________________________________________________________________________________________________\n",
            "conv3_block1_1_conv (Conv2D)    (None, 28, 28, 128)  32896       conv2_block3_out[0][0]           \n",
            "__________________________________________________________________________________________________\n",
            "conv3_block1_1_bn (BatchNormali (None, 28, 28, 128)  512         conv3_block1_1_conv[0][0]        \n",
            "__________________________________________________________________________________________________\n",
            "conv3_block1_1_relu (Activation (None, 28, 28, 128)  0           conv3_block1_1_bn[0][0]          \n",
            "__________________________________________________________________________________________________\n",
            "conv3_block1_2_conv (Conv2D)    (None, 28, 28, 128)  147584      conv3_block1_1_relu[0][0]        \n",
            "__________________________________________________________________________________________________\n",
            "conv3_block1_2_bn (BatchNormali (None, 28, 28, 128)  512         conv3_block1_2_conv[0][0]        \n",
            "__________________________________________________________________________________________________\n",
            "conv3_block1_2_relu (Activation (None, 28, 28, 128)  0           conv3_block1_2_bn[0][0]          \n",
            "__________________________________________________________________________________________________\n",
            "conv3_block1_0_conv (Conv2D)    (None, 28, 28, 512)  131584      conv2_block3_out[0][0]           \n",
            "__________________________________________________________________________________________________\n",
            "conv3_block1_3_conv (Conv2D)    (None, 28, 28, 512)  66048       conv3_block1_2_relu[0][0]        \n",
            "__________________________________________________________________________________________________\n",
            "conv3_block1_0_bn (BatchNormali (None, 28, 28, 512)  2048        conv3_block1_0_conv[0][0]        \n",
            "__________________________________________________________________________________________________\n",
            "conv3_block1_3_bn (BatchNormali (None, 28, 28, 512)  2048        conv3_block1_3_conv[0][0]        \n",
            "__________________________________________________________________________________________________\n",
            "conv3_block1_add (Add)          (None, 28, 28, 512)  0           conv3_block1_0_bn[0][0]          \n",
            "                                                                 conv3_block1_3_bn[0][0]          \n",
            "__________________________________________________________________________________________________\n",
            "conv3_block1_out (Activation)   (None, 28, 28, 512)  0           conv3_block1_add[0][0]           \n",
            "__________________________________________________________________________________________________\n",
            "conv3_block2_1_conv (Conv2D)    (None, 28, 28, 128)  65664       conv3_block1_out[0][0]           \n",
            "__________________________________________________________________________________________________\n",
            "conv3_block2_1_bn (BatchNormali (None, 28, 28, 128)  512         conv3_block2_1_conv[0][0]        \n",
            "__________________________________________________________________________________________________\n",
            "conv3_block2_1_relu (Activation (None, 28, 28, 128)  0           conv3_block2_1_bn[0][0]          \n",
            "__________________________________________________________________________________________________\n",
            "conv3_block2_2_conv (Conv2D)    (None, 28, 28, 128)  147584      conv3_block2_1_relu[0][0]        \n",
            "__________________________________________________________________________________________________\n",
            "conv3_block2_2_bn (BatchNormali (None, 28, 28, 128)  512         conv3_block2_2_conv[0][0]        \n",
            "__________________________________________________________________________________________________\n",
            "conv3_block2_2_relu (Activation (None, 28, 28, 128)  0           conv3_block2_2_bn[0][0]          \n",
            "__________________________________________________________________________________________________\n",
            "conv3_block2_3_conv (Conv2D)    (None, 28, 28, 512)  66048       conv3_block2_2_relu[0][0]        \n",
            "__________________________________________________________________________________________________\n",
            "conv3_block2_3_bn (BatchNormali (None, 28, 28, 512)  2048        conv3_block2_3_conv[0][0]        \n",
            "__________________________________________________________________________________________________\n",
            "conv3_block2_add (Add)          (None, 28, 28, 512)  0           conv3_block1_out[0][0]           \n",
            "                                                                 conv3_block2_3_bn[0][0]          \n",
            "__________________________________________________________________________________________________\n",
            "conv3_block2_out (Activation)   (None, 28, 28, 512)  0           conv3_block2_add[0][0]           \n",
            "__________________________________________________________________________________________________\n",
            "conv3_block3_1_conv (Conv2D)    (None, 28, 28, 128)  65664       conv3_block2_out[0][0]           \n",
            "__________________________________________________________________________________________________\n",
            "conv3_block3_1_bn (BatchNormali (None, 28, 28, 128)  512         conv3_block3_1_conv[0][0]        \n",
            "__________________________________________________________________________________________________\n",
            "conv3_block3_1_relu (Activation (None, 28, 28, 128)  0           conv3_block3_1_bn[0][0]          \n",
            "__________________________________________________________________________________________________\n",
            "conv3_block3_2_conv (Conv2D)    (None, 28, 28, 128)  147584      conv3_block3_1_relu[0][0]        \n",
            "__________________________________________________________________________________________________\n",
            "conv3_block3_2_bn (BatchNormali (None, 28, 28, 128)  512         conv3_block3_2_conv[0][0]        \n",
            "__________________________________________________________________________________________________\n",
            "conv3_block3_2_relu (Activation (None, 28, 28, 128)  0           conv3_block3_2_bn[0][0]          \n",
            "__________________________________________________________________________________________________\n",
            "conv3_block3_3_conv (Conv2D)    (None, 28, 28, 512)  66048       conv3_block3_2_relu[0][0]        \n",
            "__________________________________________________________________________________________________\n",
            "conv3_block3_3_bn (BatchNormali (None, 28, 28, 512)  2048        conv3_block3_3_conv[0][0]        \n",
            "__________________________________________________________________________________________________\n",
            "conv3_block3_add (Add)          (None, 28, 28, 512)  0           conv3_block2_out[0][0]           \n",
            "                                                                 conv3_block3_3_bn[0][0]          \n",
            "__________________________________________________________________________________________________\n",
            "conv3_block3_out (Activation)   (None, 28, 28, 512)  0           conv3_block3_add[0][0]           \n",
            "__________________________________________________________________________________________________\n",
            "conv3_block4_1_conv (Conv2D)    (None, 28, 28, 128)  65664       conv3_block3_out[0][0]           \n",
            "__________________________________________________________________________________________________\n",
            "conv3_block4_1_bn (BatchNormali (None, 28, 28, 128)  512         conv3_block4_1_conv[0][0]        \n",
            "__________________________________________________________________________________________________\n",
            "conv3_block4_1_relu (Activation (None, 28, 28, 128)  0           conv3_block4_1_bn[0][0]          \n",
            "__________________________________________________________________________________________________\n",
            "conv3_block4_2_conv (Conv2D)    (None, 28, 28, 128)  147584      conv3_block4_1_relu[0][0]        \n",
            "__________________________________________________________________________________________________\n",
            "conv3_block4_2_bn (BatchNormali (None, 28, 28, 128)  512         conv3_block4_2_conv[0][0]        \n",
            "__________________________________________________________________________________________________\n",
            "conv3_block4_2_relu (Activation (None, 28, 28, 128)  0           conv3_block4_2_bn[0][0]          \n",
            "__________________________________________________________________________________________________\n",
            "conv3_block4_3_conv (Conv2D)    (None, 28, 28, 512)  66048       conv3_block4_2_relu[0][0]        \n",
            "__________________________________________________________________________________________________\n",
            "conv3_block4_3_bn (BatchNormali (None, 28, 28, 512)  2048        conv3_block4_3_conv[0][0]        \n",
            "__________________________________________________________________________________________________\n",
            "conv3_block4_add (Add)          (None, 28, 28, 512)  0           conv3_block3_out[0][0]           \n",
            "                                                                 conv3_block4_3_bn[0][0]          \n",
            "__________________________________________________________________________________________________\n",
            "conv3_block4_out (Activation)   (None, 28, 28, 512)  0           conv3_block4_add[0][0]           \n",
            "__________________________________________________________________________________________________\n",
            "conv4_block1_1_conv (Conv2D)    (None, 14, 14, 256)  131328      conv3_block4_out[0][0]           \n",
            "__________________________________________________________________________________________________\n",
            "conv4_block1_1_bn (BatchNormali (None, 14, 14, 256)  1024        conv4_block1_1_conv[0][0]        \n",
            "__________________________________________________________________________________________________\n",
            "conv4_block1_1_relu (Activation (None, 14, 14, 256)  0           conv4_block1_1_bn[0][0]          \n",
            "__________________________________________________________________________________________________\n",
            "conv4_block1_2_conv (Conv2D)    (None, 14, 14, 256)  590080      conv4_block1_1_relu[0][0]        \n",
            "__________________________________________________________________________________________________\n",
            "conv4_block1_2_bn (BatchNormali (None, 14, 14, 256)  1024        conv4_block1_2_conv[0][0]        \n",
            "__________________________________________________________________________________________________\n",
            "conv4_block1_2_relu (Activation (None, 14, 14, 256)  0           conv4_block1_2_bn[0][0]          \n",
            "__________________________________________________________________________________________________\n",
            "conv4_block1_0_conv (Conv2D)    (None, 14, 14, 1024) 525312      conv3_block4_out[0][0]           \n",
            "__________________________________________________________________________________________________\n",
            "conv4_block1_3_conv (Conv2D)    (None, 14, 14, 1024) 263168      conv4_block1_2_relu[0][0]        \n",
            "__________________________________________________________________________________________________\n",
            "conv4_block1_0_bn (BatchNormali (None, 14, 14, 1024) 4096        conv4_block1_0_conv[0][0]        \n",
            "__________________________________________________________________________________________________\n",
            "conv4_block1_3_bn (BatchNormali (None, 14, 14, 1024) 4096        conv4_block1_3_conv[0][0]        \n",
            "__________________________________________________________________________________________________\n",
            "conv4_block1_add (Add)          (None, 14, 14, 1024) 0           conv4_block1_0_bn[0][0]          \n",
            "                                                                 conv4_block1_3_bn[0][0]          \n",
            "__________________________________________________________________________________________________\n",
            "conv4_block1_out (Activation)   (None, 14, 14, 1024) 0           conv4_block1_add[0][0]           \n",
            "__________________________________________________________________________________________________\n",
            "conv4_block2_1_conv (Conv2D)    (None, 14, 14, 256)  262400      conv4_block1_out[0][0]           \n",
            "__________________________________________________________________________________________________\n",
            "conv4_block2_1_bn (BatchNormali (None, 14, 14, 256)  1024        conv4_block2_1_conv[0][0]        \n",
            "__________________________________________________________________________________________________\n",
            "conv4_block2_1_relu (Activation (None, 14, 14, 256)  0           conv4_block2_1_bn[0][0]          \n",
            "__________________________________________________________________________________________________\n",
            "conv4_block2_2_conv (Conv2D)    (None, 14, 14, 256)  590080      conv4_block2_1_relu[0][0]        \n",
            "__________________________________________________________________________________________________\n",
            "conv4_block2_2_bn (BatchNormali (None, 14, 14, 256)  1024        conv4_block2_2_conv[0][0]        \n",
            "__________________________________________________________________________________________________\n",
            "conv4_block2_2_relu (Activation (None, 14, 14, 256)  0           conv4_block2_2_bn[0][0]          \n",
            "__________________________________________________________________________________________________\n",
            "conv4_block2_3_conv (Conv2D)    (None, 14, 14, 1024) 263168      conv4_block2_2_relu[0][0]        \n",
            "__________________________________________________________________________________________________\n",
            "conv4_block2_3_bn (BatchNormali (None, 14, 14, 1024) 4096        conv4_block2_3_conv[0][0]        \n",
            "__________________________________________________________________________________________________\n",
            "conv4_block2_add (Add)          (None, 14, 14, 1024) 0           conv4_block1_out[0][0]           \n",
            "                                                                 conv4_block2_3_bn[0][0]          \n",
            "__________________________________________________________________________________________________\n",
            "conv4_block2_out (Activation)   (None, 14, 14, 1024) 0           conv4_block2_add[0][0]           \n",
            "__________________________________________________________________________________________________\n",
            "conv4_block3_1_conv (Conv2D)    (None, 14, 14, 256)  262400      conv4_block2_out[0][0]           \n",
            "__________________________________________________________________________________________________\n",
            "conv4_block3_1_bn (BatchNormali (None, 14, 14, 256)  1024        conv4_block3_1_conv[0][0]        \n",
            "__________________________________________________________________________________________________\n",
            "conv4_block3_1_relu (Activation (None, 14, 14, 256)  0           conv4_block3_1_bn[0][0]          \n",
            "__________________________________________________________________________________________________\n",
            "conv4_block3_2_conv (Conv2D)    (None, 14, 14, 256)  590080      conv4_block3_1_relu[0][0]        \n",
            "__________________________________________________________________________________________________\n",
            "conv4_block3_2_bn (BatchNormali (None, 14, 14, 256)  1024        conv4_block3_2_conv[0][0]        \n",
            "__________________________________________________________________________________________________\n",
            "conv4_block3_2_relu (Activation (None, 14, 14, 256)  0           conv4_block3_2_bn[0][0]          \n",
            "__________________________________________________________________________________________________\n",
            "conv4_block3_3_conv (Conv2D)    (None, 14, 14, 1024) 263168      conv4_block3_2_relu[0][0]        \n",
            "__________________________________________________________________________________________________\n",
            "conv4_block3_3_bn (BatchNormali (None, 14, 14, 1024) 4096        conv4_block3_3_conv[0][0]        \n",
            "__________________________________________________________________________________________________\n",
            "conv4_block3_add (Add)          (None, 14, 14, 1024) 0           conv4_block2_out[0][0]           \n",
            "                                                                 conv4_block3_3_bn[0][0]          \n",
            "__________________________________________________________________________________________________\n",
            "conv4_block3_out (Activation)   (None, 14, 14, 1024) 0           conv4_block3_add[0][0]           \n",
            "__________________________________________________________________________________________________\n",
            "conv4_block4_1_conv (Conv2D)    (None, 14, 14, 256)  262400      conv4_block3_out[0][0]           \n",
            "__________________________________________________________________________________________________\n",
            "conv4_block4_1_bn (BatchNormali (None, 14, 14, 256)  1024        conv4_block4_1_conv[0][0]        \n",
            "__________________________________________________________________________________________________\n",
            "conv4_block4_1_relu (Activation (None, 14, 14, 256)  0           conv4_block4_1_bn[0][0]          \n",
            "__________________________________________________________________________________________________\n",
            "conv4_block4_2_conv (Conv2D)    (None, 14, 14, 256)  590080      conv4_block4_1_relu[0][0]        \n",
            "__________________________________________________________________________________________________\n",
            "conv4_block4_2_bn (BatchNormali (None, 14, 14, 256)  1024        conv4_block4_2_conv[0][0]        \n",
            "__________________________________________________________________________________________________\n",
            "conv4_block4_2_relu (Activation (None, 14, 14, 256)  0           conv4_block4_2_bn[0][0]          \n",
            "__________________________________________________________________________________________________\n",
            "conv4_block4_3_conv (Conv2D)    (None, 14, 14, 1024) 263168      conv4_block4_2_relu[0][0]        \n",
            "__________________________________________________________________________________________________\n",
            "conv4_block4_3_bn (BatchNormali (None, 14, 14, 1024) 4096        conv4_block4_3_conv[0][0]        \n",
            "__________________________________________________________________________________________________\n",
            "conv4_block4_add (Add)          (None, 14, 14, 1024) 0           conv4_block3_out[0][0]           \n",
            "                                                                 conv4_block4_3_bn[0][0]          \n",
            "__________________________________________________________________________________________________\n",
            "conv4_block4_out (Activation)   (None, 14, 14, 1024) 0           conv4_block4_add[0][0]           \n",
            "__________________________________________________________________________________________________\n",
            "conv4_block5_1_conv (Conv2D)    (None, 14, 14, 256)  262400      conv4_block4_out[0][0]           \n",
            "__________________________________________________________________________________________________\n",
            "conv4_block5_1_bn (BatchNormali (None, 14, 14, 256)  1024        conv4_block5_1_conv[0][0]        \n",
            "__________________________________________________________________________________________________\n",
            "conv4_block5_1_relu (Activation (None, 14, 14, 256)  0           conv4_block5_1_bn[0][0]          \n",
            "__________________________________________________________________________________________________\n",
            "conv4_block5_2_conv (Conv2D)    (None, 14, 14, 256)  590080      conv4_block5_1_relu[0][0]        \n",
            "__________________________________________________________________________________________________\n",
            "conv4_block5_2_bn (BatchNormali (None, 14, 14, 256)  1024        conv4_block5_2_conv[0][0]        \n",
            "__________________________________________________________________________________________________\n",
            "conv4_block5_2_relu (Activation (None, 14, 14, 256)  0           conv4_block5_2_bn[0][0]          \n",
            "__________________________________________________________________________________________________\n",
            "conv4_block5_3_conv (Conv2D)    (None, 14, 14, 1024) 263168      conv4_block5_2_relu[0][0]        \n",
            "__________________________________________________________________________________________________\n",
            "conv4_block5_3_bn (BatchNormali (None, 14, 14, 1024) 4096        conv4_block5_3_conv[0][0]        \n",
            "__________________________________________________________________________________________________\n",
            "conv4_block5_add (Add)          (None, 14, 14, 1024) 0           conv4_block4_out[0][0]           \n",
            "                                                                 conv4_block5_3_bn[0][0]          \n",
            "__________________________________________________________________________________________________\n",
            "conv4_block5_out (Activation)   (None, 14, 14, 1024) 0           conv4_block5_add[0][0]           \n",
            "__________________________________________________________________________________________________\n",
            "conv4_block6_1_conv (Conv2D)    (None, 14, 14, 256)  262400      conv4_block5_out[0][0]           \n",
            "__________________________________________________________________________________________________\n",
            "conv4_block6_1_bn (BatchNormali (None, 14, 14, 256)  1024        conv4_block6_1_conv[0][0]        \n",
            "__________________________________________________________________________________________________\n",
            "conv4_block6_1_relu (Activation (None, 14, 14, 256)  0           conv4_block6_1_bn[0][0]          \n",
            "__________________________________________________________________________________________________\n",
            "conv4_block6_2_conv (Conv2D)    (None, 14, 14, 256)  590080      conv4_block6_1_relu[0][0]        \n",
            "__________________________________________________________________________________________________\n",
            "conv4_block6_2_bn (BatchNormali (None, 14, 14, 256)  1024        conv4_block6_2_conv[0][0]        \n",
            "__________________________________________________________________________________________________\n",
            "conv4_block6_2_relu (Activation (None, 14, 14, 256)  0           conv4_block6_2_bn[0][0]          \n",
            "__________________________________________________________________________________________________\n",
            "conv4_block6_3_conv (Conv2D)    (None, 14, 14, 1024) 263168      conv4_block6_2_relu[0][0]        \n",
            "__________________________________________________________________________________________________\n",
            "conv4_block6_3_bn (BatchNormali (None, 14, 14, 1024) 4096        conv4_block6_3_conv[0][0]        \n",
            "__________________________________________________________________________________________________\n",
            "conv4_block6_add (Add)          (None, 14, 14, 1024) 0           conv4_block5_out[0][0]           \n",
            "                                                                 conv4_block6_3_bn[0][0]          \n",
            "__________________________________________________________________________________________________\n",
            "conv4_block6_out (Activation)   (None, 14, 14, 1024) 0           conv4_block6_add[0][0]           \n",
            "__________________________________________________________________________________________________\n",
            "conv5_block1_1_conv (Conv2D)    (None, 7, 7, 512)    524800      conv4_block6_out[0][0]           \n",
            "__________________________________________________________________________________________________\n",
            "conv5_block1_1_bn (BatchNormali (None, 7, 7, 512)    2048        conv5_block1_1_conv[0][0]        \n",
            "__________________________________________________________________________________________________\n",
            "conv5_block1_1_relu (Activation (None, 7, 7, 512)    0           conv5_block1_1_bn[0][0]          \n",
            "__________________________________________________________________________________________________\n",
            "conv5_block1_2_conv (Conv2D)    (None, 7, 7, 512)    2359808     conv5_block1_1_relu[0][0]        \n",
            "__________________________________________________________________________________________________\n",
            "conv5_block1_2_bn (BatchNormali (None, 7, 7, 512)    2048        conv5_block1_2_conv[0][0]        \n",
            "__________________________________________________________________________________________________\n",
            "conv5_block1_2_relu (Activation (None, 7, 7, 512)    0           conv5_block1_2_bn[0][0]          \n",
            "__________________________________________________________________________________________________\n",
            "conv5_block1_0_conv (Conv2D)    (None, 7, 7, 2048)   2099200     conv4_block6_out[0][0]           \n",
            "__________________________________________________________________________________________________\n",
            "conv5_block1_3_conv (Conv2D)    (None, 7, 7, 2048)   1050624     conv5_block1_2_relu[0][0]        \n",
            "__________________________________________________________________________________________________\n",
            "conv5_block1_0_bn (BatchNormali (None, 7, 7, 2048)   8192        conv5_block1_0_conv[0][0]        \n",
            "__________________________________________________________________________________________________\n",
            "conv5_block1_3_bn (BatchNormali (None, 7, 7, 2048)   8192        conv5_block1_3_conv[0][0]        \n",
            "__________________________________________________________________________________________________\n",
            "conv5_block1_add (Add)          (None, 7, 7, 2048)   0           conv5_block1_0_bn[0][0]          \n",
            "                                                                 conv5_block1_3_bn[0][0]          \n",
            "__________________________________________________________________________________________________\n",
            "conv5_block1_out (Activation)   (None, 7, 7, 2048)   0           conv5_block1_add[0][0]           \n",
            "__________________________________________________________________________________________________\n",
            "conv5_block2_1_conv (Conv2D)    (None, 7, 7, 512)    1049088     conv5_block1_out[0][0]           \n",
            "__________________________________________________________________________________________________\n",
            "conv5_block2_1_bn (BatchNormali (None, 7, 7, 512)    2048        conv5_block2_1_conv[0][0]        \n",
            "__________________________________________________________________________________________________\n",
            "conv5_block2_1_relu (Activation (None, 7, 7, 512)    0           conv5_block2_1_bn[0][0]          \n",
            "__________________________________________________________________________________________________\n",
            "conv5_block2_2_conv (Conv2D)    (None, 7, 7, 512)    2359808     conv5_block2_1_relu[0][0]        \n",
            "__________________________________________________________________________________________________\n",
            "conv5_block2_2_bn (BatchNormali (None, 7, 7, 512)    2048        conv5_block2_2_conv[0][0]        \n",
            "__________________________________________________________________________________________________\n",
            "conv5_block2_2_relu (Activation (None, 7, 7, 512)    0           conv5_block2_2_bn[0][0]          \n",
            "__________________________________________________________________________________________________\n",
            "conv5_block2_3_conv (Conv2D)    (None, 7, 7, 2048)   1050624     conv5_block2_2_relu[0][0]        \n",
            "__________________________________________________________________________________________________\n",
            "conv5_block2_3_bn (BatchNormali (None, 7, 7, 2048)   8192        conv5_block2_3_conv[0][0]        \n",
            "__________________________________________________________________________________________________\n",
            "conv5_block2_add (Add)          (None, 7, 7, 2048)   0           conv5_block1_out[0][0]           \n",
            "                                                                 conv5_block2_3_bn[0][0]          \n",
            "__________________________________________________________________________________________________\n",
            "conv5_block2_out (Activation)   (None, 7, 7, 2048)   0           conv5_block2_add[0][0]           \n",
            "__________________________________________________________________________________________________\n",
            "conv5_block3_1_conv (Conv2D)    (None, 7, 7, 512)    1049088     conv5_block2_out[0][0]           \n",
            "__________________________________________________________________________________________________\n",
            "conv5_block3_1_bn (BatchNormali (None, 7, 7, 512)    2048        conv5_block3_1_conv[0][0]        \n",
            "__________________________________________________________________________________________________\n",
            "conv5_block3_1_relu (Activation (None, 7, 7, 512)    0           conv5_block3_1_bn[0][0]          \n",
            "__________________________________________________________________________________________________\n",
            "conv5_block3_2_conv (Conv2D)    (None, 7, 7, 512)    2359808     conv5_block3_1_relu[0][0]        \n",
            "__________________________________________________________________________________________________\n",
            "conv5_block3_2_bn (BatchNormali (None, 7, 7, 512)    2048        conv5_block3_2_conv[0][0]        \n",
            "__________________________________________________________________________________________________\n",
            "conv5_block3_2_relu (Activation (None, 7, 7, 512)    0           conv5_block3_2_bn[0][0]          \n",
            "__________________________________________________________________________________________________\n",
            "conv5_block3_3_conv (Conv2D)    (None, 7, 7, 2048)   1050624     conv5_block3_2_relu[0][0]        \n",
            "__________________________________________________________________________________________________\n",
            "conv5_block3_3_bn (BatchNormali (None, 7, 7, 2048)   8192        conv5_block3_3_conv[0][0]        \n",
            "__________________________________________________________________________________________________\n",
            "conv5_block3_add (Add)          (None, 7, 7, 2048)   0           conv5_block2_out[0][0]           \n",
            "                                                                 conv5_block3_3_bn[0][0]          \n",
            "__________________________________________________________________________________________________\n",
            "conv5_block3_out (Activation)   (None, 7, 7, 2048)   0           conv5_block3_add[0][0]           \n",
            "__________________________________________________________________________________________________\n",
            "avg_pool (GlobalAveragePooling2 (None, 2048)         0           conv5_block3_out[0][0]           \n",
            "__________________________________________________________________________________________________\n",
            "predictions (Dense)             (None, 1000)         2049000     avg_pool[0][0]                   \n",
            "__________________________________________________________________________________________________\n",
            "predictions1 (Dense)            (None, 1000)         1001000     predictions[0][0]                \n",
            "__________________________________________________________________________________________________\n",
            "dot (Dot)                       (None, 1)            0           predictions1[0][0]               \n",
            "                                                                 predictions[0][0]                \n",
            "__________________________________________________________________________________________________\n",
            "salida (Dense)                  (None, 1)            2           dot[0][0]                        \n",
            "==================================================================================================\n",
            "Total params: 26,637,714\n",
            "Trainable params: 26,584,594\n",
            "Non-trainable params: 53,120\n",
            "__________________________________________________________________________________________________\n"
          ],
          "name": "stdout"
        }
      ]
    },
    {
      "cell_type": "code",
      "metadata": {
        "id": "7fGtZsYu191T",
        "colab_type": "code",
        "colab": {}
      },
      "source": [
        "#SE CONGELAN LOS PESOS DE TODAS LAS CAPAS MENOS DE LAS cuatro ULTIMAS CAPAS\n",
        "for layer in model.layers[:-4]:\n",
        "  layer.trainable=False"
      ],
      "execution_count": 0,
      "outputs": []
    },
    {
      "cell_type": "code",
      "metadata": {
        "id": "HDSJgVPMUKoK",
        "colab_type": "code",
        "outputId": "0c359cd0-fb38-4ecf-c559-d1b4adb2f833",
        "colab": {
          "base_uri": "https://localhost:8080/",
          "height": 1000
        }
      },
      "source": [
        "#SE VERIFICA QUE LAS CUATRO ULTIMAS CAPAS ESTE EN TRUE Y LAS DEMÁS EN FALSE\n",
        "for layer in model.layers:\n",
        "  layer, layer.trainable\n",
        "  print(layer, layer.trainable)"
      ],
      "execution_count": 16,
      "outputs": [
        {
          "output_type": "stream",
          "text": [
            "<tensorflow.python.keras.engine.input_layer.InputLayer object at 0x7fb2fc0a16d8> False\n",
            "<tensorflow.python.keras.layers.convolutional.ZeroPadding2D object at 0x7fb37ebf3e80> False\n",
            "<tensorflow.python.keras.layers.convolutional.Conv2D object at 0x7fb2fc086128> False\n",
            "<tensorflow.python.keras.layers.normalization_v2.BatchNormalization object at 0x7fb2fc0950b8> False\n",
            "<tensorflow.python.keras.layers.core.Activation object at 0x7fb2fc0b0f28> False\n",
            "<tensorflow.python.keras.layers.convolutional.ZeroPadding2D object at 0x7fb2e5fd3828> False\n",
            "<tensorflow.python.keras.layers.pooling.MaxPooling2D object at 0x7fb2e5f9eac8> False\n",
            "<tensorflow.python.keras.layers.convolutional.Conv2D object at 0x7fb2fc054f60> False\n",
            "<tensorflow.python.keras.layers.normalization_v2.BatchNormalization object at 0x7fb2e5f557f0> False\n",
            "<tensorflow.python.keras.layers.core.Activation object at 0x7fb2e5f55eb8> False\n",
            "<tensorflow.python.keras.layers.convolutional.Conv2D object at 0x7fb2e5f5e358> False\n",
            "<tensorflow.python.keras.layers.normalization_v2.BatchNormalization object at 0x7fb2e5f02c50> False\n",
            "<tensorflow.python.keras.layers.core.Activation object at 0x7fb2e5f0ae10> False\n",
            "<tensorflow.python.keras.layers.convolutional.Conv2D object at 0x7fb2fc054668> False\n",
            "<tensorflow.python.keras.layers.convolutional.Conv2D object at 0x7fb2e5f0a5c0> False\n",
            "<tensorflow.python.keras.layers.normalization_v2.BatchNormalization object at 0x7fb2fc0549e8> False\n",
            "<tensorflow.python.keras.layers.normalization_v2.BatchNormalization object at 0x7fb2e5f380f0> False\n",
            "<tensorflow.python.keras.layers.merge.Add object at 0x7fb2e5f38630> False\n",
            "<tensorflow.python.keras.layers.core.Activation object at 0x7fb2e5ebd278> False\n",
            "<tensorflow.python.keras.layers.convolutional.Conv2D object at 0x7fb2e5ee46d8> False\n",
            "<tensorflow.python.keras.layers.normalization_v2.BatchNormalization object at 0x7fb2e5ee4a20> False\n",
            "<tensorflow.python.keras.layers.core.Activation object at 0x7fb2e5eebc18> False\n",
            "<tensorflow.python.keras.layers.convolutional.Conv2D object at 0x7fb2e5eeb400> False\n",
            "<tensorflow.python.keras.layers.normalization_v2.BatchNormalization object at 0x7fb2e5e93f60> False\n",
            "<tensorflow.python.keras.layers.core.Activation object at 0x7fb2e5e9df98> False\n",
            "<tensorflow.python.keras.layers.convolutional.Conv2D object at 0x7fb2e5e40da0> False\n",
            "<tensorflow.python.keras.layers.normalization_v2.BatchNormalization object at 0x7fb2e5e49390> False\n",
            "<tensorflow.python.keras.layers.merge.Add object at 0x7fb2e5e498d0> False\n",
            "<tensorflow.python.keras.layers.core.Activation object at 0x7fb2e5e51470> False\n",
            "<tensorflow.python.keras.layers.convolutional.Conv2D object at 0x7fb2e5e78978> False\n",
            "<tensorflow.python.keras.layers.normalization_v2.BatchNormalization object at 0x7fb2e5e78cf8> False\n",
            "<tensorflow.python.keras.layers.core.Activation object at 0x7fb2e5dfdeb8> False\n",
            "<tensorflow.python.keras.layers.convolutional.Conv2D object at 0x7fb2e5dfd668> False\n",
            "<tensorflow.python.keras.layers.normalization_v2.BatchNormalization object at 0x7fb2e5e2c198> False\n",
            "<tensorflow.python.keras.layers.core.Activation object at 0x7fb2e5e2ca20> False\n",
            "<tensorflow.python.keras.layers.convolutional.Conv2D object at 0x7fb2e5e33358> False\n",
            "<tensorflow.python.keras.layers.normalization_v2.BatchNormalization object at 0x7fb35af12cf8> False\n",
            "<tensorflow.python.keras.layers.merge.Add object at 0x7fb2fc07fc18> False\n",
            "<tensorflow.python.keras.layers.core.Activation object at 0x7fb2fc07f6a0> False\n",
            "<tensorflow.python.keras.layers.convolutional.Conv2D object at 0x7fb2fc0a1a58> False\n",
            "<tensorflow.python.keras.layers.normalization_v2.BatchNormalization object at 0x7fb35a2f46a0> False\n",
            "<tensorflow.python.keras.layers.core.Activation object at 0x7fb35a39d908> False\n",
            "<tensorflow.python.keras.layers.convolutional.Conv2D object at 0x7fb35a39d278> False\n",
            "<tensorflow.python.keras.layers.normalization_v2.BatchNormalization object at 0x7fb35a8130b8> False\n",
            "<tensorflow.python.keras.layers.core.Activation object at 0x7fb35a813e48> False\n",
            "<tensorflow.python.keras.layers.convolutional.Conv2D object at 0x7fb35a2c36a0> False\n",
            "<tensorflow.python.keras.layers.convolutional.Conv2D object at 0x7fb35a387438> False\n",
            "<tensorflow.python.keras.layers.normalization_v2.BatchNormalization object at 0x7fb35a2c3f98> False\n",
            "<tensorflow.python.keras.layers.normalization_v2.BatchNormalization object at 0x7fb35a34d8d0> False\n",
            "<tensorflow.python.keras.layers.merge.Add object at 0x7fb35a380710> False\n",
            "<tensorflow.python.keras.layers.core.Activation object at 0x7fb35a3801d0> False\n",
            "<tensorflow.python.keras.layers.convolutional.Conv2D object at 0x7fb35a867b38> False\n",
            "<tensorflow.python.keras.layers.normalization_v2.BatchNormalization object at 0x7fb35a85a208> False\n",
            "<tensorflow.python.keras.layers.core.Activation object at 0x7fb35a85aa90> False\n",
            "<tensorflow.python.keras.layers.convolutional.Conv2D object at 0x7fb35a863400> False\n",
            "<tensorflow.python.keras.layers.normalization_v2.BatchNormalization object at 0x7fb2e5df56d8> False\n",
            "<tensorflow.python.keras.layers.core.Activation object at 0x7fb2e5df5eb8> False\n",
            "<tensorflow.python.keras.layers.convolutional.Conv2D object at 0x7fb2e5df98d0> False\n",
            "<tensorflow.python.keras.layers.normalization_v2.BatchNormalization object at 0x7fb35a32dc18> False\n",
            "<tensorflow.python.keras.layers.merge.Add object at 0x7fb2e5d7e390> False\n",
            "<tensorflow.python.keras.layers.core.Activation object at 0x7fb2e5d7ed68> False\n",
            "<tensorflow.python.keras.layers.convolutional.Conv2D object at 0x7fb2e5da3fd0> False\n",
            "<tensorflow.python.keras.layers.normalization_v2.BatchNormalization object at 0x7fb2e5dab5c0> False\n",
            "<tensorflow.python.keras.layers.core.Activation object at 0x7fb2e5dabe48> False\n",
            "<tensorflow.python.keras.layers.convolutional.Conv2D object at 0x7fb2e5db17b8> False\n",
            "<tensorflow.python.keras.layers.normalization_v2.BatchNormalization object at 0x7fb2e5d58a90> False\n",
            "<tensorflow.python.keras.layers.core.Activation object at 0x7fb2e5d5ec88> False\n",
            "<tensorflow.python.keras.layers.convolutional.Conv2D object at 0x7fb2e5d5e470> False\n",
            "<tensorflow.python.keras.layers.normalization_v2.BatchNormalization object at 0x7fb2e5d0b4e0> False\n",
            "<tensorflow.python.keras.layers.merge.Add object at 0x7fb2e5d0b518> False\n",
            "<tensorflow.python.keras.layers.core.Activation object at 0x7fb2e5d10160> False\n",
            "<tensorflow.python.keras.layers.convolutional.Conv2D object at 0x7fb2e5d37630> False\n",
            "<tensorflow.python.keras.layers.normalization_v2.BatchNormalization object at 0x7fb2e5d37978> False\n",
            "<tensorflow.python.keras.layers.core.Activation object at 0x7fb2e5cbdb70> False\n",
            "<tensorflow.python.keras.layers.convolutional.Conv2D object at 0x7fb2e5cbd358> False\n",
            "<tensorflow.python.keras.layers.normalization_v2.BatchNormalization object at 0x7fb2e5ce6ef0> False\n",
            "<tensorflow.python.keras.layers.core.Activation object at 0x7fb2e5cecf28> False\n",
            "<tensorflow.python.keras.layers.convolutional.Conv2D object at 0x7fb2e5cec748> False\n",
            "<tensorflow.python.keras.layers.normalization_v2.BatchNormalization object at 0x7fb2e5c9a390> False\n",
            "<tensorflow.python.keras.layers.merge.Add object at 0x7fb2e5c9a8d0> False\n",
            "<tensorflow.python.keras.layers.core.Activation object at 0x7fb2e5ca1470> False\n",
            "<tensorflow.python.keras.layers.convolutional.Conv2D object at 0x7fb2e5c504e0> False\n",
            "<tensorflow.python.keras.layers.normalization_v2.BatchNormalization object at 0x7fb2e5c782b0> False\n",
            "<tensorflow.python.keras.layers.core.Activation object at 0x7fb2e5c78f28> False\n",
            "<tensorflow.python.keras.layers.convolutional.Conv2D object at 0x7fb2e5c782e8> False\n",
            "<tensorflow.python.keras.layers.normalization_v2.BatchNormalization object at 0x7fb2e5c282b0> False\n",
            "<tensorflow.python.keras.layers.core.Activation object at 0x7fb2e5c28b38> False\n",
            "<tensorflow.python.keras.layers.convolutional.Conv2D object at 0x7fb2e5c489e8> False\n",
            "<tensorflow.python.keras.layers.convolutional.Conv2D object at 0x7fb2e5c324a8> False\n",
            "<tensorflow.python.keras.layers.normalization_v2.BatchNormalization object at 0x7fb2e5c48d68> False\n",
            "<tensorflow.python.keras.layers.normalization_v2.BatchNormalization object at 0x7fb2e5bd77b8> False\n",
            "<tensorflow.python.keras.layers.merge.Add object at 0x7fb2e5bd7f98> False\n",
            "<tensorflow.python.keras.layers.core.Activation object at 0x7fb2e5bde940> False\n",
            "<tensorflow.python.keras.layers.convolutional.Conv2D object at 0x7fb2e5b87ac8> False\n",
            "<tensorflow.python.keras.layers.normalization_v2.BatchNormalization object at 0x7fb2e5b8d198> False\n",
            "<tensorflow.python.keras.layers.core.Activation object at 0x7fb2e5b8da20> False\n",
            "<tensorflow.python.keras.layers.convolutional.Conv2D object at 0x7fb2e5b94358> False\n",
            "<tensorflow.python.keras.layers.normalization_v2.BatchNormalization object at 0x7fb2e5bb9668> False\n",
            "<tensorflow.python.keras.layers.core.Activation object at 0x7fb2e5bb9e10> False\n",
            "<tensorflow.python.keras.layers.convolutional.Conv2D object at 0x7fb2e5b41860> False\n",
            "<tensorflow.python.keras.layers.normalization_v2.BatchNormalization object at 0x7fb2e5b69ba8> False\n",
            "<tensorflow.python.keras.layers.merge.Add object at 0x7fb2e5b6d320> False\n",
            "<tensorflow.python.keras.layers.core.Activation object at 0x7fb2e5b6dcf8> False\n",
            "<tensorflow.python.keras.layers.convolutional.Conv2D object at 0x7fb2e5b14f60> False\n",
            "<tensorflow.python.keras.layers.normalization_v2.BatchNormalization object at 0x7fb2e5b1c550> False\n",
            "<tensorflow.python.keras.layers.core.Activation object at 0x7fb2e5b1cdd8> False\n",
            "<tensorflow.python.keras.layers.convolutional.Conv2D object at 0x7fb2e5b23748> False\n",
            "<tensorflow.python.keras.layers.normalization_v2.BatchNormalization object at 0x7fb2e5acaa20> False\n",
            "<tensorflow.python.keras.layers.core.Activation object at 0x7fb2e5acfc18> False\n",
            "<tensorflow.python.keras.layers.convolutional.Conv2D object at 0x7fb2e5acf400> False\n",
            "<tensorflow.python.keras.layers.normalization_v2.BatchNormalization object at 0x7fb2e5af7fd0> False\n",
            "<tensorflow.python.keras.layers.merge.Add object at 0x7fb2e5a7e4a8> False\n",
            "<tensorflow.python.keras.layers.core.Activation object at 0x7fb2e5a850f0> False\n",
            "<tensorflow.python.keras.layers.convolutional.Conv2D object at 0x7fb2e5aaf5c0> False\n",
            "<tensorflow.python.keras.layers.normalization_v2.BatchNormalization object at 0x7fb2e5aaf908> False\n",
            "<tensorflow.python.keras.layers.core.Activation object at 0x7fb2e5ab6b00> False\n",
            "<tensorflow.python.keras.layers.convolutional.Conv2D object at 0x7fb2e5ab62e8> False\n",
            "<tensorflow.python.keras.layers.normalization_v2.BatchNormalization object at 0x7fb2e5a5ae10> False\n",
            "<tensorflow.python.keras.layers.core.Activation object at 0x7fb2e5a61fd0> False\n",
            "<tensorflow.python.keras.layers.convolutional.Conv2D object at 0x7fb2e5a616d8> False\n",
            "<tensorflow.python.keras.layers.normalization_v2.BatchNormalization object at 0x7fb2e5a11320> False\n",
            "<tensorflow.python.keras.layers.merge.Add object at 0x7fb2e5a11860> False\n",
            "<tensorflow.python.keras.layers.core.Activation object at 0x7fb2e5a18400> False\n",
            "<tensorflow.python.keras.layers.convolutional.Conv2D object at 0x7fb2e59be978> False\n",
            "<tensorflow.python.keras.layers.normalization_v2.BatchNormalization object at 0x7fb2e59becf8> False\n",
            "<tensorflow.python.keras.layers.core.Activation object at 0x7fb2e59c4eb8> False\n",
            "<tensorflow.python.keras.layers.convolutional.Conv2D object at 0x7fb2e59c4668> False\n",
            "<tensorflow.python.keras.layers.normalization_v2.BatchNormalization object at 0x7fb2e59ed1d0> False\n",
            "<tensorflow.python.keras.layers.core.Activation object at 0x7fb2e59eda58> False\n",
            "<tensorflow.python.keras.layers.convolutional.Conv2D object at 0x7fb2e59fa3c8> False\n",
            "<tensorflow.python.keras.layers.normalization_v2.BatchNormalization object at 0x7fb2e59a06d8> False\n",
            "<tensorflow.python.keras.layers.merge.Add object at 0x7fb2e59a0ef0> False\n",
            "<tensorflow.python.keras.layers.core.Activation object at 0x7fb2e59a7860> False\n",
            "<tensorflow.python.keras.layers.convolutional.Conv2D object at 0x7fb2e594e9e8> False\n",
            "<tensorflow.python.keras.layers.normalization_v2.BatchNormalization object at 0x7fb2e59560b8> False\n",
            "<tensorflow.python.keras.layers.core.Activation object at 0x7fb2e5956940> False\n",
            "<tensorflow.python.keras.layers.convolutional.Conv2D object at 0x7fb2e595c278> False\n",
            "<tensorflow.python.keras.layers.normalization_v2.BatchNormalization object at 0x7fb2e5904588> False\n",
            "<tensorflow.python.keras.layers.core.Activation object at 0x7fb2e5904e10> False\n",
            "<tensorflow.python.keras.layers.convolutional.Conv2D object at 0x7fb2e5908780> False\n",
            "<tensorflow.python.keras.layers.normalization_v2.BatchNormalization object at 0x7fb2e5930a90> False\n",
            "<tensorflow.python.keras.layers.merge.Add object at 0x7fb2e5935240> False\n",
            "<tensorflow.python.keras.layers.core.Activation object at 0x7fb2e5935c18> False\n",
            "<tensorflow.python.keras.layers.convolutional.Conv2D object at 0x7fb2e58e49b0> False\n",
            "<tensorflow.python.keras.layers.normalization_v2.BatchNormalization object at 0x7fb2e5893550> False\n",
            "<tensorflow.python.keras.layers.core.Activation object at 0x7fb2e5893d30> False\n",
            "<tensorflow.python.keras.layers.convolutional.Conv2D object at 0x7fb2e589a6a0> False\n",
            "<tensorflow.python.keras.layers.normalization_v2.BatchNormalization object at 0x7fb2e58429b0> False\n",
            "<tensorflow.python.keras.layers.core.Activation object at 0x7fb2e5847ba8> False\n",
            "<tensorflow.python.keras.layers.convolutional.Conv2D object at 0x7fb2e58dde80> False\n",
            "<tensorflow.python.keras.layers.convolutional.Conv2D object at 0x7fb2e5847390> False\n",
            "<tensorflow.python.keras.layers.normalization_v2.BatchNormalization object at 0x7fb2e58e4470> False\n",
            "<tensorflow.python.keras.layers.normalization_v2.BatchNormalization object at 0x7fb2e586ef60> False\n",
            "<tensorflow.python.keras.layers.merge.Add object at 0x7fb2e5876438> False\n",
            "<tensorflow.python.keras.layers.core.Activation object at 0x7fb2e5879080> False\n",
            "<tensorflow.python.keras.layers.convolutional.Conv2D object at 0x7fb2e5822550> False\n",
            "<tensorflow.python.keras.layers.normalization_v2.BatchNormalization object at 0x7fb2e5822898> False\n",
            "<tensorflow.python.keras.layers.core.Activation object at 0x7fb2e582ba58> False\n",
            "<tensorflow.python.keras.layers.convolutional.Conv2D object at 0x7fb2e582b080> False\n",
            "<tensorflow.python.keras.layers.normalization_v2.BatchNormalization object at 0x7fb2e57cfda0> False\n",
            "<tensorflow.python.keras.layers.core.Activation object at 0x7fb2e57d8f28> False\n",
            "<tensorflow.python.keras.layers.convolutional.Conv2D object at 0x7fb2e57d82e8> False\n",
            "<tensorflow.python.keras.layers.normalization_v2.BatchNormalization object at 0x7fb2e57842b0> False\n",
            "<tensorflow.python.keras.layers.merge.Add object at 0x7fb2e57847f0> False\n",
            "<tensorflow.python.keras.layers.core.Activation object at 0x7fb2e578d390> False\n",
            "<tensorflow.python.keras.layers.convolutional.Conv2D object at 0x7fb2e57b2908> False\n",
            "<tensorflow.python.keras.layers.normalization_v2.BatchNormalization object at 0x7fb2e57b2c88> False\n",
            "<tensorflow.python.keras.layers.core.Activation object at 0x7fb2e57b6e48> False\n",
            "<tensorflow.python.keras.layers.convolutional.Conv2D object at 0x7fb2e57b65f8> False\n",
            "<tensorflow.python.keras.layers.normalization_v2.BatchNormalization object at 0x7fb2e5762160> False\n",
            "<tensorflow.python.keras.layers.core.Activation object at 0x7fb2e57629e8> False\n",
            "<tensorflow.python.keras.layers.convolutional.Conv2D object at 0x7fb2e576d320> False\n",
            "<tensorflow.python.keras.layers.normalization_v2.BatchNormalization object at 0x7fb2e5715668> False\n",
            "<tensorflow.python.keras.layers.merge.Add object at 0x7fb2e5715da0> False\n",
            "<tensorflow.python.keras.layers.core.Activation object at 0x7fb2e571d7f0> False\n",
            "<tensorflow.python.keras.layers.pooling.GlobalAveragePooling2D object at 0x7fb2e56c2978> False\n",
            "<tensorflow.python.keras.layers.core.Dense object at 0x7fb2e56a2358> True\n",
            "<tensorflow.python.keras.layers.core.Dense object at 0x7fb2e56a27f0> True\n",
            "<tensorflow.python.keras.layers.merge.Dot object at 0x7fb2e56a2908> True\n",
            "<tensorflow.python.keras.layers.core.Dense object at 0x7fb2e5647f28> True\n"
          ],
          "name": "stdout"
        }
      ]
    },
    {
      "cell_type": "markdown",
      "metadata": {
        "id": "jEGBQQ8j7o1r",
        "colab_type": "text"
      },
      "source": [
        "##**6. Definir el optimizador para la funcion de costo, así como la funcion de pérdida y las metricas de evaluación del odelo a través de la compilacion del modelo.**\n",
        "\n",
        "Loss $\\hspace{1em} \\rightarrow \\hspace{1em}$ $-ylog(x)\\hat{y} + (1-y)log(1-\\hat{y}) $ \n"
      ]
    },
    {
      "cell_type": "code",
      "metadata": {
        "id": "n0VAt8V_1OvU",
        "colab_type": "code",
        "colab": {}
      },
      "source": [
        "#DEFINIR OPTIMIZADOR, FUNCIONES DE PERIDA Y METRICAS\n",
        "#optimizer = tf.keras.optimizers.SGD(learning_rate=0.001, momentum=0.9)\n",
        "optimizer = tf.keras.optimizers.Adam(learning_rate=0.001)#, beta_1=0.9, beta_2=0.999, epsilon=1e-07)\n",
        "#loss='mean_squared_logariic_errorthm'\n",
        "model.compile(loss='binary_crossentropy', optimizer=optimizer, metrics=['mse','mae','accuracy','Recall','Precision'])#,"
      ],
      "execution_count": 0,
      "outputs": []
    },
    {
      "cell_type": "markdown",
      "metadata": {
        "id": "7UUX2Kpy7Ya4",
        "colab_type": "text"
      },
      "source": [
        "##**7. Entrenar el modelo con XTRAIN como un array de 4 dimensiones.**\n",
        "\n",
        "---\n",
        "\n",
        "\n"
      ]
    },
    {
      "cell_type": "code",
      "metadata": {
        "id": "gegszIDZE3C0",
        "colab_type": "code",
        "outputId": "1056a36b-a176-4bfd-b320-01fe3bd37048",
        "colab": {
          "base_uri": "https://localhost:8080/",
          "height": 34
        }
      },
      "source": [
        "print(len(XTRAIN),len(YTRAIN))\n"
      ],
      "execution_count": 18,
      "outputs": [
        {
          "output_type": "stream",
          "text": [
            "1600 1600\n"
          ],
          "name": "stdout"
        }
      ]
    },
    {
      "cell_type": "code",
      "metadata": {
        "id": "WHXivSHN9b5_",
        "colab_type": "code",
        "outputId": "35198757-f218-4744-926e-15fea28cb04e",
        "colab": {
          "base_uri": "https://localhost:8080/",
          "height": 1000
        }
      },
      "source": [
        "#ENTRENAR EL MODELO CREADO\n",
        "history=model.fit(XTRAIN,YTRAIN,epochs=250,batch_size=64)               "
      ],
      "execution_count": 19,
      "outputs": [
        {
          "output_type": "stream",
          "text": [
            "Epoch 1/250\n",
            "WARNING:tensorflow:From /usr/local/lib/python3.6/dist-packages/tensorflow/python/ops/resource_variable_ops.py:1817: calling BaseResourceVariable.__init__ (from tensorflow.python.ops.resource_variable_ops) with constraint is deprecated and will be removed in a future version.\n",
            "Instructions for updating:\n",
            "If using Keras pass *_constraint arguments to layers.\n",
            "25/25 [==============================] - 2s 94ms/step - loss: 0.6348 - mse: 0.2212 - mae: 0.4658 - accuracy: 0.7025 - recall: 0.7000 - precision: 0.7035\n",
            "Epoch 2/250\n",
            "25/25 [==============================] - 2s 93ms/step - loss: 0.5909 - mse: 0.1997 - mae: 0.4385 - accuracy: 0.7694 - recall: 0.7650 - precision: 0.7718\n",
            "Epoch 3/250\n",
            "25/25 [==============================] - 2s 93ms/step - loss: 0.5746 - mse: 0.1919 - mae: 0.4285 - accuracy: 0.7881 - recall: 0.8537 - precision: 0.7547\n",
            "Epoch 4/250\n",
            "25/25 [==============================] - 2s 93ms/step - loss: 0.5567 - mse: 0.1832 - mae: 0.4184 - accuracy: 0.8112 - recall: 0.8325 - precision: 0.7986\n",
            "Epoch 5/250\n",
            "25/25 [==============================] - 2s 93ms/step - loss: 0.5434 - mse: 0.1769 - mae: 0.4100 - accuracy: 0.8294 - recall: 0.8612 - precision: 0.8096\n",
            "Epoch 6/250\n",
            "25/25 [==============================] - 2s 93ms/step - loss: 0.5243 - mse: 0.1677 - mae: 0.3989 - accuracy: 0.8581 - recall: 0.8712 - precision: 0.8490\n",
            "Epoch 7/250\n",
            "25/25 [==============================] - 2s 93ms/step - loss: 0.5151 - mse: 0.1634 - mae: 0.3928 - accuracy: 0.8637 - recall: 0.8850 - precision: 0.8489\n",
            "Epoch 8/250\n",
            "25/25 [==============================] - 2s 93ms/step - loss: 0.5244 - mse: 0.1681 - mae: 0.3964 - accuracy: 0.8381 - recall: 0.8450 - precision: 0.8335\n",
            "Epoch 9/250\n",
            "25/25 [==============================] - 2s 92ms/step - loss: 0.5231 - mse: 0.1677 - mae: 0.3947 - accuracy: 0.8269 - recall: 0.8213 - precision: 0.8306\n",
            "Epoch 10/250\n",
            "25/25 [==============================] - 2s 92ms/step - loss: 0.4967 - mse: 0.1551 - mae: 0.3796 - accuracy: 0.8612 - recall: 0.8712 - precision: 0.8542\n",
            "Epoch 11/250\n",
            "25/25 [==============================] - 2s 92ms/step - loss: 0.4882 - mse: 0.1512 - mae: 0.3742 - accuracy: 0.8687 - recall: 0.8863 - precision: 0.8563\n",
            "Epoch 12/250\n",
            "25/25 [==============================] - 2s 92ms/step - loss: 0.4698 - mse: 0.1426 - mae: 0.3630 - accuracy: 0.8919 - recall: 0.9112 - precision: 0.8773\n",
            "Epoch 13/250\n",
            "25/25 [==============================] - 2s 92ms/step - loss: 0.4659 - mse: 0.1409 - mae: 0.3598 - accuracy: 0.8881 - recall: 0.8838 - precision: 0.8916\n",
            "Epoch 14/250\n",
            "25/25 [==============================] - 2s 92ms/step - loss: 0.4599 - mse: 0.1383 - mae: 0.3555 - accuracy: 0.8850 - recall: 0.8988 - precision: 0.8747\n",
            "Epoch 15/250\n",
            "25/25 [==============================] - 2s 92ms/step - loss: 0.4558 - mse: 0.1366 - mae: 0.3522 - accuracy: 0.8881 - recall: 0.8938 - precision: 0.8838\n",
            "Epoch 16/250\n",
            "25/25 [==============================] - 2s 92ms/step - loss: 0.4416 - mse: 0.1301 - mae: 0.3436 - accuracy: 0.9013 - recall: 0.9100 - precision: 0.8943\n",
            "Epoch 17/250\n",
            "25/25 [==============================] - 2s 92ms/step - loss: 0.4239 - mse: 0.1219 - mae: 0.3327 - accuracy: 0.9162 - recall: 0.9250 - precision: 0.9091\n",
            "Epoch 18/250\n",
            "25/25 [==============================] - 2s 92ms/step - loss: 0.4353 - mse: 0.1277 - mae: 0.3372 - accuracy: 0.8963 - recall: 0.8963 - precision: 0.8963\n",
            "Epoch 19/250\n",
            "25/25 [==============================] - 2s 92ms/step - loss: 0.4123 - mse: 0.1171 - mae: 0.3239 - accuracy: 0.9181 - recall: 0.9325 - precision: 0.9064\n",
            "Epoch 20/250\n",
            "25/25 [==============================] - 2s 92ms/step - loss: 0.3963 - mse: 0.1100 - mae: 0.3141 - accuracy: 0.9300 - recall: 0.9413 - precision: 0.9205\n",
            "Epoch 21/250\n",
            "25/25 [==============================] - 2s 92ms/step - loss: 0.3947 - mse: 0.1096 - mae: 0.3119 - accuracy: 0.9250 - recall: 0.9337 - precision: 0.9177\n",
            "Epoch 22/250\n",
            "25/25 [==============================] - 2s 92ms/step - loss: 0.3860 - mse: 0.1059 - mae: 0.3060 - accuracy: 0.9287 - recall: 0.9400 - precision: 0.9193\n",
            "Epoch 23/250\n",
            "25/25 [==============================] - 2s 92ms/step - loss: 0.3755 - mse: 0.1014 - mae: 0.2989 - accuracy: 0.9344 - recall: 0.9413 - precision: 0.9285\n",
            "Epoch 24/250\n",
            "25/25 [==============================] - 2s 92ms/step - loss: 0.3706 - mse: 0.0994 - mae: 0.2957 - accuracy: 0.9350 - recall: 0.9463 - precision: 0.9254\n",
            "Epoch 25/250\n",
            "25/25 [==============================] - 2s 92ms/step - loss: 0.3695 - mse: 0.0993 - mae: 0.2938 - accuracy: 0.9300 - recall: 0.9425 - precision: 0.9195\n",
            "Epoch 26/250\n",
            "25/25 [==============================] - 2s 92ms/step - loss: 0.3533 - mse: 0.0923 - mae: 0.2834 - accuracy: 0.9413 - recall: 0.9500 - precision: 0.9337\n",
            "Epoch 27/250\n",
            "25/25 [==============================] - 2s 93ms/step - loss: 0.3454 - mse: 0.0891 - mae: 0.2780 - accuracy: 0.9444 - recall: 0.9538 - precision: 0.9362\n",
            "Epoch 28/250\n",
            "25/25 [==============================] - 2s 93ms/step - loss: 0.3596 - mse: 0.0959 - mae: 0.2849 - accuracy: 0.9256 - recall: 0.9337 - precision: 0.9188\n",
            "Epoch 29/250\n",
            "25/25 [==============================] - 2s 92ms/step - loss: 0.3602 - mse: 0.0964 - mae: 0.2849 - accuracy: 0.9250 - recall: 0.9250 - precision: 0.9250\n",
            "Epoch 30/250\n",
            "25/25 [==============================] - 2s 92ms/step - loss: 0.3371 - mse: 0.0862 - mae: 0.2713 - accuracy: 0.9419 - recall: 0.9463 - precision: 0.9380\n",
            "Epoch 31/250\n",
            "25/25 [==============================] - 2s 93ms/step - loss: 0.3217 - mse: 0.0797 - mae: 0.2614 - accuracy: 0.9506 - recall: 0.9575 - precision: 0.9445\n",
            "Epoch 32/250\n",
            "25/25 [==============================] - 2s 92ms/step - loss: 0.3174 - mse: 0.0783 - mae: 0.2578 - accuracy: 0.9494 - recall: 0.9538 - precision: 0.9455\n",
            "Epoch 33/250\n",
            "25/25 [==============================] - 2s 92ms/step - loss: 0.3094 - mse: 0.0750 - mae: 0.2523 - accuracy: 0.9538 - recall: 0.9538 - precision: 0.9538\n",
            "Epoch 34/250\n",
            "25/25 [==============================] - 2s 92ms/step - loss: 0.3273 - mse: 0.0834 - mae: 0.2612 - accuracy: 0.9356 - recall: 0.9425 - precision: 0.9297\n",
            "Epoch 35/250\n",
            "25/25 [==============================] - 2s 93ms/step - loss: 0.3009 - mse: 0.0721 - mae: 0.2454 - accuracy: 0.9531 - recall: 0.9563 - precision: 0.9503\n",
            "Epoch 36/250\n",
            "25/25 [==============================] - 2s 93ms/step - loss: 0.2918 - mse: 0.0685 - mae: 0.2394 - accuracy: 0.9594 - recall: 0.9625 - precision: 0.9565\n",
            "Epoch 37/250\n",
            "25/25 [==============================] - 2s 92ms/step - loss: 0.2873 - mse: 0.0668 - mae: 0.2361 - accuracy: 0.9600 - recall: 0.9625 - precision: 0.9577\n",
            "Epoch 38/250\n",
            "25/25 [==============================] - 2s 93ms/step - loss: 0.2785 - mse: 0.0635 - mae: 0.2298 - accuracy: 0.9625 - recall: 0.9638 - precision: 0.9613\n",
            "Epoch 39/250\n",
            "25/25 [==============================] - 2s 93ms/step - loss: 0.2714 - mse: 0.0609 - mae: 0.2249 - accuracy: 0.9650 - recall: 0.9675 - precision: 0.9627\n",
            "Epoch 40/250\n",
            "25/25 [==============================] - 2s 92ms/step - loss: 0.2640 - mse: 0.0583 - mae: 0.2193 - accuracy: 0.9656 - recall: 0.9688 - precision: 0.9627\n",
            "Epoch 41/250\n",
            "25/25 [==============================] - 2s 93ms/step - loss: 0.2629 - mse: 0.0581 - mae: 0.2185 - accuracy: 0.9644 - recall: 0.9688 - precision: 0.9603\n",
            "Epoch 42/250\n",
            "25/25 [==============================] - 2s 92ms/step - loss: 0.2631 - mse: 0.0586 - mae: 0.2174 - accuracy: 0.9606 - recall: 0.9675 - precision: 0.9544\n",
            "Epoch 43/250\n",
            "25/25 [==============================] - 2s 92ms/step - loss: 0.2495 - mse: 0.0532 - mae: 0.2090 - accuracy: 0.9694 - recall: 0.9750 - precision: 0.9642\n",
            "Epoch 44/250\n",
            "25/25 [==============================] - 2s 92ms/step - loss: 0.2421 - mse: 0.0505 - mae: 0.2039 - accuracy: 0.9712 - recall: 0.9762 - precision: 0.9666\n",
            "Epoch 45/250\n",
            "25/25 [==============================] - 2s 93ms/step - loss: 0.3025 - mse: 0.0766 - mae: 0.2382 - accuracy: 0.9256 - recall: 0.9362 - precision: 0.9168\n",
            "Epoch 46/250\n",
            "25/25 [==============================] - 2s 92ms/step - loss: 0.2455 - mse: 0.0519 - mae: 0.2057 - accuracy: 0.9700 - recall: 0.9737 - precision: 0.9665\n",
            "Epoch 47/250\n",
            "25/25 [==============================] - 2s 92ms/step - loss: 0.2330 - mse: 0.0475 - mae: 0.1967 - accuracy: 0.9744 - recall: 0.9812 - precision: 0.9679\n",
            "Epoch 48/250\n",
            "25/25 [==============================] - 2s 92ms/step - loss: 0.2298 - mse: 0.0464 - mae: 0.1943 - accuracy: 0.9750 - recall: 0.9825 - precision: 0.9680\n",
            "Epoch 49/250\n",
            "25/25 [==============================] - 2s 92ms/step - loss: 0.2324 - mse: 0.0480 - mae: 0.1947 - accuracy: 0.9712 - recall: 0.9775 - precision: 0.9654\n",
            "Epoch 50/250\n",
            "25/25 [==============================] - 2s 93ms/step - loss: 0.2246 - mse: 0.0452 - mae: 0.1896 - accuracy: 0.9725 - recall: 0.9800 - precision: 0.9655\n",
            "Epoch 51/250\n",
            "25/25 [==============================] - 2s 93ms/step - loss: 0.2150 - mse: 0.0417 - mae: 0.1827 - accuracy: 0.9769 - recall: 0.9837 - precision: 0.9704\n",
            "Epoch 52/250\n",
            "25/25 [==============================] - 2s 92ms/step - loss: 0.2084 - mse: 0.0395 - mae: 0.1779 - accuracy: 0.9794 - recall: 0.9875 - precision: 0.9717\n",
            "Epoch 53/250\n",
            "25/25 [==============================] - 2s 93ms/step - loss: 0.2022 - mse: 0.0376 - mae: 0.1729 - accuracy: 0.9794 - recall: 0.9875 - precision: 0.9717\n",
            "Epoch 54/250\n",
            "25/25 [==============================] - 2s 93ms/step - loss: 0.1977 - mse: 0.0363 - mae: 0.1695 - accuracy: 0.9794 - recall: 0.9875 - precision: 0.9717\n",
            "Epoch 55/250\n",
            "25/25 [==============================] - 2s 93ms/step - loss: 0.1929 - mse: 0.0348 - mae: 0.1663 - accuracy: 0.9800 - recall: 0.9875 - precision: 0.9729\n",
            "Epoch 56/250\n",
            "25/25 [==============================] - 2s 92ms/step - loss: 0.1875 - mse: 0.0329 - mae: 0.1625 - accuracy: 0.9837 - recall: 0.9887 - precision: 0.9790\n",
            "Epoch 57/250\n",
            "25/25 [==============================] - 2s 92ms/step - loss: 0.1829 - mse: 0.0315 - mae: 0.1590 - accuracy: 0.9844 - recall: 0.9900 - precision: 0.9790\n",
            "Epoch 58/250\n",
            "25/25 [==============================] - 2s 92ms/step - loss: 0.1792 - mse: 0.0304 - mae: 0.1559 - accuracy: 0.9850 - recall: 0.9900 - precision: 0.9802\n",
            "Epoch 59/250\n",
            "25/25 [==============================] - 2s 92ms/step - loss: 0.1758 - mse: 0.0295 - mae: 0.1533 - accuracy: 0.9850 - recall: 0.9900 - precision: 0.9802\n",
            "Epoch 60/250\n",
            "25/25 [==============================] - 2s 92ms/step - loss: 0.1724 - mse: 0.0286 - mae: 0.1507 - accuracy: 0.9856 - recall: 0.9900 - precision: 0.9814\n",
            "Epoch 61/250\n",
            "25/25 [==============================] - 2s 92ms/step - loss: 0.1687 - mse: 0.0275 - mae: 0.1479 - accuracy: 0.9862 - recall: 0.9900 - precision: 0.9826\n",
            "Epoch 62/250\n",
            "25/25 [==============================] - 2s 92ms/step - loss: 0.1656 - mse: 0.0265 - mae: 0.1457 - accuracy: 0.9869 - recall: 0.9912 - precision: 0.9827\n",
            "Epoch 63/250\n",
            "25/25 [==============================] - 2s 92ms/step - loss: 0.1620 - mse: 0.0254 - mae: 0.1431 - accuracy: 0.9887 - recall: 0.9925 - precision: 0.9851\n",
            "Epoch 64/250\n",
            "25/25 [==============================] - 2s 92ms/step - loss: 0.1572 - mse: 0.0239 - mae: 0.1393 - accuracy: 0.9900 - recall: 0.9937 - precision: 0.9864\n",
            "Epoch 65/250\n",
            "25/25 [==============================] - 2s 92ms/step - loss: 0.1538 - mse: 0.0231 - mae: 0.1365 - accuracy: 0.9900 - recall: 0.9937 - precision: 0.9864\n",
            "Epoch 66/250\n",
            "25/25 [==============================] - 2s 92ms/step - loss: 0.1512 - mse: 0.0225 - mae: 0.1343 - accuracy: 0.9900 - recall: 0.9937 - precision: 0.9864\n",
            "Epoch 67/250\n",
            "25/25 [==============================] - 2s 92ms/step - loss: 0.1487 - mse: 0.0218 - mae: 0.1326 - accuracy: 0.9900 - recall: 0.9937 - precision: 0.9864\n",
            "Epoch 68/250\n",
            "25/25 [==============================] - 2s 92ms/step - loss: 0.1457 - mse: 0.0210 - mae: 0.1301 - accuracy: 0.9906 - recall: 0.9937 - precision: 0.9876\n",
            "Epoch 69/250\n",
            "25/25 [==============================] - 2s 92ms/step - loss: 0.1422 - mse: 0.0201 - mae: 0.1274 - accuracy: 0.9912 - recall: 0.9937 - precision: 0.9888\n",
            "Epoch 70/250\n",
            "25/25 [==============================] - 2s 92ms/step - loss: 0.1394 - mse: 0.0194 - mae: 0.1251 - accuracy: 0.9919 - recall: 0.9937 - precision: 0.9900\n",
            "Epoch 71/250\n",
            "25/25 [==============================] - 2s 92ms/step - loss: 0.1372 - mse: 0.0188 - mae: 0.1236 - accuracy: 0.9919 - recall: 0.9937 - precision: 0.9900\n",
            "Epoch 72/250\n",
            "25/25 [==============================] - 2s 92ms/step - loss: 0.1336 - mse: 0.0179 - mae: 0.1208 - accuracy: 0.9925 - recall: 0.9937 - precision: 0.9913\n",
            "Epoch 73/250\n",
            "25/25 [==============================] - 2s 92ms/step - loss: 0.1310 - mse: 0.0171 - mae: 0.1189 - accuracy: 0.9937 - recall: 0.9937 - precision: 0.9937\n",
            "Epoch 74/250\n",
            "25/25 [==============================] - 2s 92ms/step - loss: 0.1279 - mse: 0.0163 - mae: 0.1165 - accuracy: 0.9937 - recall: 0.9937 - precision: 0.9937\n",
            "Epoch 75/250\n",
            "25/25 [==============================] - 2s 92ms/step - loss: 0.1250 - mse: 0.0154 - mae: 0.1146 - accuracy: 0.9950 - recall: 0.9950 - precision: 0.9950\n",
            "Epoch 76/250\n",
            "25/25 [==============================] - 2s 92ms/step - loss: 0.1228 - mse: 0.0148 - mae: 0.1130 - accuracy: 0.9962 - recall: 0.9950 - precision: 0.9975\n",
            "Epoch 77/250\n",
            "25/25 [==============================] - 2s 92ms/step - loss: 0.1195 - mse: 0.0140 - mae: 0.1102 - accuracy: 0.9962 - recall: 0.9950 - precision: 0.9975\n",
            "Epoch 78/250\n",
            "25/25 [==============================] - 2s 92ms/step - loss: 0.1165 - mse: 0.0133 - mae: 0.1076 - accuracy: 0.9962 - recall: 0.9950 - precision: 0.9975\n",
            "Epoch 79/250\n",
            "25/25 [==============================] - 2s 92ms/step - loss: 0.1142 - mse: 0.0128 - mae: 0.1058 - accuracy: 0.9969 - recall: 0.9962 - precision: 0.9975\n",
            "Epoch 80/250\n",
            "25/25 [==============================] - 2s 92ms/step - loss: 0.1114 - mse: 0.0119 - mae: 0.1040 - accuracy: 0.9975 - recall: 0.9975 - precision: 0.9975\n",
            "Epoch 81/250\n",
            "25/25 [==============================] - 2s 93ms/step - loss: 0.1090 - mse: 0.0113 - mae: 0.1020 - accuracy: 0.9987 - recall: 1.0000 - precision: 0.9975\n",
            "Epoch 82/250\n",
            "25/25 [==============================] - 2s 92ms/step - loss: 0.1063 - mse: 0.0107 - mae: 0.0996 - accuracy: 0.9987 - recall: 1.0000 - precision: 0.9975\n",
            "Epoch 83/250\n",
            "25/25 [==============================] - 2s 92ms/step - loss: 0.1043 - mse: 0.0104 - mae: 0.0979 - accuracy: 0.9987 - recall: 1.0000 - precision: 0.9975\n",
            "Epoch 84/250\n",
            "25/25 [==============================] - 2s 92ms/step - loss: 0.1025 - mse: 0.0100 - mae: 0.0963 - accuracy: 0.9987 - recall: 1.0000 - precision: 0.9975\n",
            "Epoch 85/250\n",
            "25/25 [==============================] - 2s 92ms/step - loss: 0.1008 - mse: 0.0097 - mae: 0.0948 - accuracy: 0.9987 - recall: 1.0000 - precision: 0.9975\n",
            "Epoch 86/250\n",
            "25/25 [==============================] - 2s 92ms/step - loss: 0.0992 - mse: 0.0095 - mae: 0.0933 - accuracy: 0.9987 - recall: 1.0000 - precision: 0.9975\n",
            "Epoch 87/250\n",
            "25/25 [==============================] - 2s 92ms/step - loss: 0.0975 - mse: 0.0092 - mae: 0.0917 - accuracy: 0.9987 - recall: 1.0000 - precision: 0.9975\n",
            "Epoch 88/250\n",
            "25/25 [==============================] - 2s 92ms/step - loss: 0.0959 - mse: 0.0089 - mae: 0.0903 - accuracy: 0.9987 - recall: 1.0000 - precision: 0.9975\n",
            "Epoch 89/250\n",
            "25/25 [==============================] - 2s 92ms/step - loss: 0.0944 - mse: 0.0087 - mae: 0.0890 - accuracy: 0.9987 - recall: 1.0000 - precision: 0.9975\n",
            "Epoch 90/250\n",
            "25/25 [==============================] - 2s 92ms/step - loss: 0.0929 - mse: 0.0084 - mae: 0.0876 - accuracy: 0.9987 - recall: 1.0000 - precision: 0.9975\n",
            "Epoch 91/250\n",
            "25/25 [==============================] - 2s 92ms/step - loss: 0.0915 - mse: 0.0082 - mae: 0.0863 - accuracy: 0.9987 - recall: 1.0000 - precision: 0.9975\n",
            "Epoch 92/250\n",
            "25/25 [==============================] - 2s 92ms/step - loss: 0.0901 - mse: 0.0080 - mae: 0.0851 - accuracy: 0.9987 - recall: 1.0000 - precision: 0.9975\n",
            "Epoch 93/250\n",
            "25/25 [==============================] - 2s 92ms/step - loss: 0.0887 - mse: 0.0077 - mae: 0.0838 - accuracy: 0.9987 - recall: 1.0000 - precision: 0.9975\n",
            "Epoch 94/250\n",
            "25/25 [==============================] - 2s 92ms/step - loss: 0.1544 - mse: 0.0322 - mae: 0.1236 - accuracy: 0.9600 - recall: 0.9550 - precision: 0.9646\n",
            "Epoch 95/250\n",
            "25/25 [==============================] - 2s 92ms/step - loss: 0.2133 - mse: 0.0491 - mae: 0.1681 - accuracy: 0.9475 - recall: 0.9563 - precision: 0.9398\n",
            "Epoch 96/250\n",
            "25/25 [==============================] - 2s 92ms/step - loss: 0.3082 - mse: 0.0866 - mae: 0.2242 - accuracy: 0.8925 - recall: 0.8925 - precision: 0.8925\n",
            "Epoch 97/250\n",
            "25/25 [==============================] - 2s 92ms/step - loss: 0.1735 - mse: 0.0320 - mae: 0.1465 - accuracy: 0.9769 - recall: 0.9775 - precision: 0.9763\n",
            "Epoch 98/250\n",
            "25/25 [==============================] - 2s 92ms/step - loss: 0.1537 - mse: 0.0250 - mae: 0.1324 - accuracy: 0.9850 - recall: 0.9887 - precision: 0.9814\n",
            "Epoch 99/250\n",
            "25/25 [==============================] - 2s 92ms/step - loss: 0.1671 - mse: 0.0311 - mae: 0.1397 - accuracy: 0.9731 - recall: 0.9812 - precision: 0.9656\n",
            "Epoch 100/250\n",
            "25/25 [==============================] - 2s 92ms/step - loss: 0.1765 - mse: 0.0348 - mae: 0.1453 - accuracy: 0.9694 - recall: 0.9812 - precision: 0.9585\n",
            "Epoch 101/250\n",
            "25/25 [==============================] - 2s 92ms/step - loss: 0.1501 - mse: 0.0243 - mae: 0.1302 - accuracy: 0.9831 - recall: 0.9850 - precision: 0.9813\n",
            "Epoch 102/250\n",
            "25/25 [==============================] - 2s 92ms/step - loss: 0.1308 - mse: 0.0172 - mae: 0.1176 - accuracy: 0.9937 - recall: 0.9987 - precision: 0.9889\n",
            "Epoch 103/250\n",
            "25/25 [==============================] - 2s 92ms/step - loss: 0.1249 - mse: 0.0158 - mae: 0.1127 - accuracy: 0.9950 - recall: 1.0000 - precision: 0.9901\n",
            "Epoch 104/250\n",
            "25/25 [==============================] - 2s 92ms/step - loss: 0.1205 - mse: 0.0146 - mae: 0.1092 - accuracy: 0.9956 - recall: 1.0000 - precision: 0.9913\n",
            "Epoch 105/250\n",
            "25/25 [==============================] - 2s 92ms/step - loss: 0.1160 - mse: 0.0136 - mae: 0.1055 - accuracy: 0.9962 - recall: 1.0000 - precision: 0.9926\n",
            "Epoch 106/250\n",
            "25/25 [==============================] - 2s 92ms/step - loss: 0.1131 - mse: 0.0130 - mae: 0.1028 - accuracy: 0.9962 - recall: 1.0000 - precision: 0.9926\n",
            "Epoch 107/250\n",
            "25/25 [==============================] - 2s 93ms/step - loss: 0.1108 - mse: 0.0126 - mae: 0.1007 - accuracy: 0.9962 - recall: 1.0000 - precision: 0.9926\n",
            "Epoch 108/250\n",
            "25/25 [==============================] - 2s 92ms/step - loss: 0.1087 - mse: 0.0122 - mae: 0.0987 - accuracy: 0.9962 - recall: 1.0000 - precision: 0.9926\n",
            "Epoch 109/250\n",
            "25/25 [==============================] - 2s 92ms/step - loss: 0.1062 - mse: 0.0118 - mae: 0.0964 - accuracy: 0.9962 - recall: 1.0000 - precision: 0.9926\n",
            "Epoch 110/250\n",
            "25/25 [==============================] - 2s 92ms/step - loss: 0.1044 - mse: 0.0115 - mae: 0.0947 - accuracy: 0.9962 - recall: 1.0000 - precision: 0.9926\n",
            "Epoch 111/250\n",
            "25/25 [==============================] - 2s 92ms/step - loss: 0.1027 - mse: 0.0112 - mae: 0.0932 - accuracy: 0.9962 - recall: 1.0000 - precision: 0.9926\n",
            "Epoch 112/250\n",
            "25/25 [==============================] - 2s 92ms/step - loss: 0.1009 - mse: 0.0109 - mae: 0.0915 - accuracy: 0.9962 - recall: 1.0000 - precision: 0.9926\n",
            "Epoch 113/250\n",
            "25/25 [==============================] - 2s 92ms/step - loss: 0.0990 - mse: 0.0106 - mae: 0.0898 - accuracy: 0.9962 - recall: 1.0000 - precision: 0.9926\n",
            "Epoch 114/250\n",
            "25/25 [==============================] - 2s 92ms/step - loss: 0.0973 - mse: 0.0104 - mae: 0.0882 - accuracy: 0.9962 - recall: 1.0000 - precision: 0.9926\n",
            "Epoch 115/250\n",
            "25/25 [==============================] - 2s 92ms/step - loss: 0.0955 - mse: 0.0101 - mae: 0.0864 - accuracy: 0.9962 - recall: 1.0000 - precision: 0.9926\n",
            "Epoch 116/250\n",
            "25/25 [==============================] - 2s 92ms/step - loss: 0.0939 - mse: 0.0098 - mae: 0.0850 - accuracy: 0.9962 - recall: 1.0000 - precision: 0.9926\n",
            "Epoch 117/250\n",
            "25/25 [==============================] - 2s 92ms/step - loss: 0.0922 - mse: 0.0096 - mae: 0.0834 - accuracy: 0.9962 - recall: 1.0000 - precision: 0.9926\n",
            "Epoch 118/250\n",
            "25/25 [==============================] - 2s 92ms/step - loss: 0.0908 - mse: 0.0094 - mae: 0.0821 - accuracy: 0.9962 - recall: 1.0000 - precision: 0.9926\n",
            "Epoch 119/250\n",
            "25/25 [==============================] - 2s 92ms/step - loss: 0.0894 - mse: 0.0092 - mae: 0.0809 - accuracy: 0.9962 - recall: 1.0000 - precision: 0.9926\n",
            "Epoch 120/250\n",
            "25/25 [==============================] - 2s 92ms/step - loss: 0.0881 - mse: 0.0090 - mae: 0.0798 - accuracy: 0.9962 - recall: 1.0000 - precision: 0.9926\n",
            "Epoch 121/250\n",
            "25/25 [==============================] - 2s 92ms/step - loss: 0.0867 - mse: 0.0087 - mae: 0.0788 - accuracy: 0.9962 - recall: 1.0000 - precision: 0.9926\n",
            "Epoch 122/250\n",
            "25/25 [==============================] - 2s 92ms/step - loss: 0.0843 - mse: 0.0080 - mae: 0.0774 - accuracy: 0.9969 - recall: 1.0000 - precision: 0.9938\n",
            "Epoch 123/250\n",
            "25/25 [==============================] - 2s 92ms/step - loss: 0.0822 - mse: 0.0075 - mae: 0.0756 - accuracy: 0.9975 - recall: 1.0000 - precision: 0.9950\n",
            "Epoch 124/250\n",
            "25/25 [==============================] - 2s 92ms/step - loss: 0.0810 - mse: 0.0074 - mae: 0.0745 - accuracy: 0.9975 - recall: 1.0000 - precision: 0.9950\n",
            "Epoch 125/250\n",
            "25/25 [==============================] - 2s 92ms/step - loss: 0.0798 - mse: 0.0072 - mae: 0.0733 - accuracy: 0.9975 - recall: 1.0000 - precision: 0.9950\n",
            "Epoch 126/250\n",
            "25/25 [==============================] - 2s 92ms/step - loss: 0.0784 - mse: 0.0070 - mae: 0.0721 - accuracy: 0.9975 - recall: 1.0000 - precision: 0.9950\n",
            "Epoch 127/250\n",
            "25/25 [==============================] - 2s 92ms/step - loss: 0.0773 - mse: 0.0069 - mae: 0.0711 - accuracy: 0.9975 - recall: 1.0000 - precision: 0.9950\n",
            "Epoch 128/250\n",
            "25/25 [==============================] - 2s 92ms/step - loss: 0.0761 - mse: 0.0067 - mae: 0.0699 - accuracy: 0.9975 - recall: 1.0000 - precision: 0.9950\n",
            "Epoch 129/250\n",
            "25/25 [==============================] - 2s 92ms/step - loss: 0.0751 - mse: 0.0066 - mae: 0.0690 - accuracy: 0.9975 - recall: 1.0000 - precision: 0.9950\n",
            "Epoch 130/250\n",
            "25/25 [==============================] - 2s 93ms/step - loss: 0.0741 - mse: 0.0065 - mae: 0.0681 - accuracy: 0.9975 - recall: 1.0000 - precision: 0.9950\n",
            "Epoch 131/250\n",
            "25/25 [==============================] - 2s 93ms/step - loss: 0.0731 - mse: 0.0063 - mae: 0.0671 - accuracy: 0.9975 - recall: 1.0000 - precision: 0.9950\n",
            "Epoch 132/250\n",
            "25/25 [==============================] - 2s 93ms/step - loss: 0.0721 - mse: 0.0062 - mae: 0.0662 - accuracy: 0.9975 - recall: 1.0000 - precision: 0.9950\n",
            "Epoch 133/250\n",
            "25/25 [==============================] - 2s 93ms/step - loss: 0.0709 - mse: 0.0061 - mae: 0.0651 - accuracy: 0.9975 - recall: 1.0000 - precision: 0.9950\n",
            "Epoch 134/250\n",
            "25/25 [==============================] - 2s 92ms/step - loss: 0.0699 - mse: 0.0060 - mae: 0.0643 - accuracy: 0.9975 - recall: 1.0000 - precision: 0.9950\n",
            "Epoch 135/250\n",
            "25/25 [==============================] - 2s 92ms/step - loss: 0.0689 - mse: 0.0058 - mae: 0.0634 - accuracy: 0.9975 - recall: 1.0000 - precision: 0.9950\n",
            "Epoch 136/250\n",
            "25/25 [==============================] - 2s 92ms/step - loss: 0.0677 - mse: 0.0056 - mae: 0.0627 - accuracy: 0.9975 - recall: 1.0000 - precision: 0.9950\n",
            "Epoch 137/250\n",
            "25/25 [==============================] - 2s 92ms/step - loss: 0.0656 - mse: 0.0050 - mae: 0.0616 - accuracy: 0.9981 - recall: 1.0000 - precision: 0.9963\n",
            "Epoch 138/250\n",
            "25/25 [==============================] - 2s 92ms/step - loss: 0.0642 - mse: 0.0046 - mae: 0.0605 - accuracy: 0.9987 - recall: 1.0000 - precision: 0.9975\n",
            "Epoch 139/250\n",
            "25/25 [==============================] - 2s 92ms/step - loss: 0.0630 - mse: 0.0045 - mae: 0.0595 - accuracy: 0.9987 - recall: 1.0000 - precision: 0.9975\n",
            "Epoch 140/250\n",
            "25/25 [==============================] - 2s 92ms/step - loss: 0.0620 - mse: 0.0043 - mae: 0.0587 - accuracy: 0.9987 - recall: 1.0000 - precision: 0.9975\n",
            "Epoch 141/250\n",
            "25/25 [==============================] - 2s 92ms/step - loss: 0.0609 - mse: 0.0042 - mae: 0.0579 - accuracy: 0.9987 - recall: 1.0000 - precision: 0.9975\n",
            "Epoch 142/250\n",
            "25/25 [==============================] - 2s 92ms/step - loss: 0.0598 - mse: 0.0040 - mae: 0.0572 - accuracy: 0.9987 - recall: 1.0000 - precision: 0.9975\n",
            "Epoch 143/250\n",
            "25/25 [==============================] - 2s 92ms/step - loss: 0.0585 - mse: 0.0037 - mae: 0.0564 - accuracy: 0.9987 - recall: 1.0000 - precision: 0.9975\n",
            "Epoch 144/250\n",
            "25/25 [==============================] - 2s 93ms/step - loss: 0.0571 - mse: 0.0033 - mae: 0.0553 - accuracy: 1.0000 - recall: 1.0000 - precision: 1.0000\n",
            "Epoch 145/250\n",
            "25/25 [==============================] - 2s 92ms/step - loss: 0.0560 - mse: 0.0031 - mae: 0.0544 - accuracy: 1.0000 - recall: 1.0000 - precision: 1.0000\n",
            "Epoch 146/250\n",
            "25/25 [==============================] - 2s 92ms/step - loss: 0.0551 - mse: 0.0030 - mae: 0.0536 - accuracy: 1.0000 - recall: 1.0000 - precision: 1.0000\n",
            "Epoch 147/250\n",
            "25/25 [==============================] - 2s 93ms/step - loss: 0.0543 - mse: 0.0029 - mae: 0.0528 - accuracy: 1.0000 - recall: 1.0000 - precision: 1.0000\n",
            "Epoch 148/250\n",
            "25/25 [==============================] - 2s 93ms/step - loss: 0.0535 - mse: 0.0028 - mae: 0.0520 - accuracy: 1.0000 - recall: 1.0000 - precision: 1.0000\n",
            "Epoch 149/250\n",
            "25/25 [==============================] - 2s 92ms/step - loss: 0.0527 - mse: 0.0027 - mae: 0.0513 - accuracy: 1.0000 - recall: 1.0000 - precision: 1.0000\n",
            "Epoch 150/250\n",
            "25/25 [==============================] - 2s 92ms/step - loss: 0.0518 - mse: 0.0026 - mae: 0.0505 - accuracy: 1.0000 - recall: 1.0000 - precision: 1.0000\n",
            "Epoch 151/250\n",
            "25/25 [==============================] - 2s 93ms/step - loss: 0.0511 - mse: 0.0025 - mae: 0.0498 - accuracy: 1.0000 - recall: 1.0000 - precision: 1.0000\n",
            "Epoch 152/250\n",
            "25/25 [==============================] - 2s 92ms/step - loss: 0.0504 - mse: 0.0025 - mae: 0.0491 - accuracy: 1.0000 - recall: 1.0000 - precision: 1.0000\n",
            "Epoch 153/250\n",
            "25/25 [==============================] - 2s 92ms/step - loss: 0.0497 - mse: 0.0024 - mae: 0.0485 - accuracy: 1.0000 - recall: 1.0000 - precision: 1.0000\n",
            "Epoch 154/250\n",
            "25/25 [==============================] - 2s 92ms/step - loss: 0.0491 - mse: 0.0023 - mae: 0.0479 - accuracy: 1.0000 - recall: 1.0000 - precision: 1.0000\n",
            "Epoch 155/250\n",
            "25/25 [==============================] - 2s 93ms/step - loss: 0.0483 - mse: 0.0023 - mae: 0.0471 - accuracy: 1.0000 - recall: 1.0000 - precision: 1.0000\n",
            "Epoch 156/250\n",
            "25/25 [==============================] - 2s 92ms/step - loss: 0.0477 - mse: 0.0022 - mae: 0.0465 - accuracy: 1.0000 - recall: 1.0000 - precision: 1.0000\n",
            "Epoch 157/250\n",
            "25/25 [==============================] - 2s 93ms/step - loss: 0.0471 - mse: 0.0022 - mae: 0.0460 - accuracy: 1.0000 - recall: 1.0000 - precision: 1.0000\n",
            "Epoch 158/250\n",
            "25/25 [==============================] - 2s 92ms/step - loss: 0.0465 - mse: 0.0021 - mae: 0.0454 - accuracy: 1.0000 - recall: 1.0000 - precision: 1.0000\n",
            "Epoch 159/250\n",
            "25/25 [==============================] - 2s 93ms/step - loss: 0.0459 - mse: 0.0021 - mae: 0.0448 - accuracy: 1.0000 - recall: 1.0000 - precision: 1.0000\n",
            "Epoch 160/250\n",
            "25/25 [==============================] - 2s 93ms/step - loss: 0.0453 - mse: 0.0020 - mae: 0.0443 - accuracy: 1.0000 - recall: 1.0000 - precision: 1.0000\n",
            "Epoch 161/250\n",
            "25/25 [==============================] - 2s 92ms/step - loss: 0.0447 - mse: 0.0020 - mae: 0.0437 - accuracy: 1.0000 - recall: 1.0000 - precision: 1.0000\n",
            "Epoch 162/250\n",
            "25/25 [==============================] - 2s 92ms/step - loss: 0.0440 - mse: 0.0019 - mae: 0.0431 - accuracy: 1.0000 - recall: 1.0000 - precision: 1.0000\n",
            "Epoch 163/250\n",
            "25/25 [==============================] - 2s 92ms/step - loss: 0.0432 - mse: 0.0018 - mae: 0.0423 - accuracy: 1.0000 - recall: 1.0000 - precision: 1.0000\n",
            "Epoch 164/250\n",
            "25/25 [==============================] - 2s 92ms/step - loss: 0.0427 - mse: 0.0018 - mae: 0.0418 - accuracy: 1.0000 - recall: 1.0000 - precision: 1.0000\n",
            "Epoch 165/250\n",
            "25/25 [==============================] - 2s 92ms/step - loss: 0.0422 - mse: 0.0017 - mae: 0.0413 - accuracy: 1.0000 - recall: 1.0000 - precision: 1.0000\n",
            "Epoch 166/250\n",
            "25/25 [==============================] - 2s 92ms/step - loss: 0.0417 - mse: 0.0017 - mae: 0.0408 - accuracy: 1.0000 - recall: 1.0000 - precision: 1.0000\n",
            "Epoch 167/250\n",
            "25/25 [==============================] - 2s 93ms/step - loss: 0.0411 - mse: 0.0017 - mae: 0.0403 - accuracy: 1.0000 - recall: 1.0000 - precision: 1.0000\n",
            "Epoch 168/250\n",
            "25/25 [==============================] - 2s 92ms/step - loss: 0.0406 - mse: 0.0016 - mae: 0.0398 - accuracy: 1.0000 - recall: 1.0000 - precision: 1.0000\n",
            "Epoch 169/250\n",
            "25/25 [==============================] - 2s 92ms/step - loss: 0.0401 - mse: 0.0016 - mae: 0.0393 - accuracy: 1.0000 - recall: 1.0000 - precision: 1.0000\n",
            "Epoch 170/250\n",
            "25/25 [==============================] - 2s 93ms/step - loss: 0.0397 - mse: 0.0015 - mae: 0.0389 - accuracy: 1.0000 - recall: 1.0000 - precision: 1.0000\n",
            "Epoch 171/250\n",
            "25/25 [==============================] - 2s 92ms/step - loss: 0.0392 - mse: 0.0015 - mae: 0.0384 - accuracy: 1.0000 - recall: 1.0000 - precision: 1.0000\n",
            "Epoch 172/250\n",
            "25/25 [==============================] - 2s 93ms/step - loss: 0.0387 - mse: 0.0015 - mae: 0.0380 - accuracy: 1.0000 - recall: 1.0000 - precision: 1.0000\n",
            "Epoch 173/250\n",
            "25/25 [==============================] - 2s 93ms/step - loss: 0.0382 - mse: 0.0014 - mae: 0.0375 - accuracy: 1.0000 - recall: 1.0000 - precision: 1.0000\n",
            "Epoch 174/250\n",
            "25/25 [==============================] - 2s 93ms/step - loss: 0.0378 - mse: 0.0014 - mae: 0.0371 - accuracy: 1.0000 - recall: 1.0000 - precision: 1.0000\n",
            "Epoch 175/250\n",
            "25/25 [==============================] - 2s 93ms/step - loss: 0.0373 - mse: 0.0014 - mae: 0.0366 - accuracy: 1.0000 - recall: 1.0000 - precision: 1.0000\n",
            "Epoch 176/250\n",
            "25/25 [==============================] - 2s 92ms/step - loss: 0.0369 - mse: 0.0013 - mae: 0.0362 - accuracy: 1.0000 - recall: 1.0000 - precision: 1.0000\n",
            "Epoch 177/250\n",
            "25/25 [==============================] - 2s 92ms/step - loss: 0.0364 - mse: 0.0013 - mae: 0.0357 - accuracy: 1.0000 - recall: 1.0000 - precision: 1.0000\n",
            "Epoch 178/250\n",
            "25/25 [==============================] - 2s 93ms/step - loss: 0.0360 - mse: 0.0013 - mae: 0.0353 - accuracy: 1.0000 - recall: 1.0000 - precision: 1.0000\n",
            "Epoch 179/250\n",
            "25/25 [==============================] - 2s 93ms/step - loss: 0.0355 - mse: 0.0012 - mae: 0.0349 - accuracy: 1.0000 - recall: 1.0000 - precision: 1.0000\n",
            "Epoch 180/250\n",
            "25/25 [==============================] - 2s 93ms/step - loss: 0.0351 - mse: 0.0012 - mae: 0.0345 - accuracy: 1.0000 - recall: 1.0000 - precision: 1.0000\n",
            "Epoch 181/250\n",
            "25/25 [==============================] - 2s 92ms/step - loss: 0.0347 - mse: 0.0012 - mae: 0.0341 - accuracy: 1.0000 - recall: 1.0000 - precision: 1.0000\n",
            "Epoch 182/250\n",
            "25/25 [==============================] - 2s 93ms/step - loss: 0.0343 - mse: 0.0012 - mae: 0.0337 - accuracy: 1.0000 - recall: 1.0000 - precision: 1.0000\n",
            "Epoch 183/250\n",
            "25/25 [==============================] - 2s 93ms/step - loss: 0.0338 - mse: 0.0011 - mae: 0.0333 - accuracy: 1.0000 - recall: 1.0000 - precision: 1.0000\n",
            "Epoch 184/250\n",
            "25/25 [==============================] - 2s 93ms/step - loss: 0.0335 - mse: 0.0011 - mae: 0.0329 - accuracy: 1.0000 - recall: 1.0000 - precision: 1.0000\n",
            "Epoch 185/250\n",
            "25/25 [==============================] - 2s 92ms/step - loss: 0.0329 - mse: 0.0011 - mae: 0.0324 - accuracy: 1.0000 - recall: 1.0000 - precision: 1.0000\n",
            "Epoch 186/250\n",
            "25/25 [==============================] - 2s 92ms/step - loss: 0.0325 - mse: 0.0010 - mae: 0.0320 - accuracy: 1.0000 - recall: 1.0000 - precision: 1.0000\n",
            "Epoch 187/250\n",
            "25/25 [==============================] - 2s 92ms/step - loss: 0.0321 - mse: 0.0010 - mae: 0.0316 - accuracy: 1.0000 - recall: 1.0000 - precision: 1.0000\n",
            "Epoch 188/250\n",
            "25/25 [==============================] - 2s 93ms/step - loss: 0.0317 - mse: 9.9908e-04 - mae: 0.0312 - accuracy: 1.0000 - recall: 1.0000 - precision: 1.0000\n",
            "Epoch 189/250\n",
            "25/25 [==============================] - 2s 93ms/step - loss: 0.0314 - mse: 9.7677e-04 - mae: 0.0309 - accuracy: 1.0000 - recall: 1.0000 - precision: 1.0000\n",
            "Epoch 190/250\n",
            "25/25 [==============================] - 2s 93ms/step - loss: 0.0310 - mse: 9.5336e-04 - mae: 0.0305 - accuracy: 1.0000 - recall: 1.0000 - precision: 1.0000\n",
            "Epoch 191/250\n",
            "25/25 [==============================] - 2s 92ms/step - loss: 0.0306 - mse: 9.3036e-04 - mae: 0.0301 - accuracy: 1.0000 - recall: 1.0000 - precision: 1.0000\n",
            "Epoch 192/250\n",
            "25/25 [==============================] - 2s 92ms/step - loss: 0.0302 - mse: 9.0899e-04 - mae: 0.0298 - accuracy: 1.0000 - recall: 1.0000 - precision: 1.0000\n",
            "Epoch 193/250\n",
            "25/25 [==============================] - 2s 92ms/step - loss: 0.0299 - mse: 8.8757e-04 - mae: 0.0294 - accuracy: 1.0000 - recall: 1.0000 - precision: 1.0000\n",
            "Epoch 194/250\n",
            "25/25 [==============================] - 2s 93ms/step - loss: 0.0295 - mse: 8.6698e-04 - mae: 0.0291 - accuracy: 1.0000 - recall: 1.0000 - precision: 1.0000\n",
            "Epoch 195/250\n",
            "25/25 [==============================] - 2s 92ms/step - loss: 0.0291 - mse: 8.4360e-04 - mae: 0.0287 - accuracy: 1.0000 - recall: 1.0000 - precision: 1.0000\n",
            "Epoch 196/250\n",
            "25/25 [==============================] - 2s 93ms/step - loss: 0.0287 - mse: 8.2446e-04 - mae: 0.0283 - accuracy: 1.0000 - recall: 1.0000 - precision: 1.0000\n",
            "Epoch 197/250\n",
            "25/25 [==============================] - 2s 92ms/step - loss: 0.0284 - mse: 8.0579e-04 - mae: 0.0280 - accuracy: 1.0000 - recall: 1.0000 - precision: 1.0000\n",
            "Epoch 198/250\n",
            "25/25 [==============================] - 2s 93ms/step - loss: 0.0281 - mse: 7.8776e-04 - mae: 0.0277 - accuracy: 1.0000 - recall: 1.0000 - precision: 1.0000\n",
            "Epoch 199/250\n",
            "25/25 [==============================] - 2s 93ms/step - loss: 0.0278 - mse: 7.7039e-04 - mae: 0.0274 - accuracy: 1.0000 - recall: 1.0000 - precision: 1.0000\n",
            "Epoch 200/250\n",
            "25/25 [==============================] - 2s 93ms/step - loss: 0.0275 - mse: 7.5282e-04 - mae: 0.0271 - accuracy: 1.0000 - recall: 1.0000 - precision: 1.0000\n",
            "Epoch 201/250\n",
            "25/25 [==============================] - 2s 92ms/step - loss: 0.0271 - mse: 7.3603e-04 - mae: 0.0268 - accuracy: 1.0000 - recall: 1.0000 - precision: 1.0000\n",
            "Epoch 202/250\n",
            "25/25 [==============================] - 2s 92ms/step - loss: 0.0268 - mse: 7.1981e-04 - mae: 0.0265 - accuracy: 1.0000 - recall: 1.0000 - precision: 1.0000\n",
            "Epoch 203/250\n",
            "25/25 [==============================] - 2s 92ms/step - loss: 0.0265 - mse: 7.0349e-04 - mae: 0.0262 - accuracy: 1.0000 - recall: 1.0000 - precision: 1.0000\n",
            "Epoch 204/250\n",
            "25/25 [==============================] - 2s 92ms/step - loss: 0.0262 - mse: 6.8739e-04 - mae: 0.0259 - accuracy: 1.0000 - recall: 1.0000 - precision: 1.0000\n",
            "Epoch 205/250\n",
            "25/25 [==============================] - 2s 92ms/step - loss: 0.0259 - mse: 6.7141e-04 - mae: 0.0256 - accuracy: 1.0000 - recall: 1.0000 - precision: 1.0000\n",
            "Epoch 206/250\n",
            "25/25 [==============================] - 2s 93ms/step - loss: 0.0256 - mse: 6.5614e-04 - mae: 0.0253 - accuracy: 1.0000 - recall: 1.0000 - precision: 1.0000\n",
            "Epoch 207/250\n",
            "25/25 [==============================] - 2s 93ms/step - loss: 0.0253 - mse: 6.4111e-04 - mae: 0.0250 - accuracy: 1.0000 - recall: 1.0000 - precision: 1.0000\n",
            "Epoch 208/250\n",
            "25/25 [==============================] - 2s 93ms/step - loss: 0.0250 - mse: 6.2657e-04 - mae: 0.0247 - accuracy: 1.0000 - recall: 1.0000 - precision: 1.0000\n",
            "Epoch 209/250\n",
            "25/25 [==============================] - 2s 93ms/step - loss: 0.0247 - mse: 6.1178e-04 - mae: 0.0244 - accuracy: 1.0000 - recall: 1.0000 - precision: 1.0000\n",
            "Epoch 210/250\n",
            "25/25 [==============================] - 2s 93ms/step - loss: 0.0244 - mse: 5.9796e-04 - mae: 0.0241 - accuracy: 1.0000 - recall: 1.0000 - precision: 1.0000\n",
            "Epoch 211/250\n",
            "25/25 [==============================] - 2s 92ms/step - loss: 0.0241 - mse: 5.8461e-04 - mae: 0.0238 - accuracy: 1.0000 - recall: 1.0000 - precision: 1.0000\n",
            "Epoch 212/250\n",
            "25/25 [==============================] - 2s 93ms/step - loss: 0.0238 - mse: 5.7040e-04 - mae: 0.0235 - accuracy: 1.0000 - recall: 1.0000 - precision: 1.0000\n",
            "Epoch 213/250\n",
            "25/25 [==============================] - 2s 92ms/step - loss: 0.0235 - mse: 5.5714e-04 - mae: 0.0233 - accuracy: 1.0000 - recall: 1.0000 - precision: 1.0000\n",
            "Epoch 214/250\n",
            "25/25 [==============================] - 2s 92ms/step - loss: 0.0232 - mse: 5.4222e-04 - mae: 0.0229 - accuracy: 1.0000 - recall: 1.0000 - precision: 1.0000\n",
            "Epoch 215/250\n",
            "25/25 [==============================] - 2s 92ms/step - loss: 0.0229 - mse: 5.2960e-04 - mae: 0.0227 - accuracy: 1.0000 - recall: 1.0000 - precision: 1.0000\n",
            "Epoch 216/250\n",
            "25/25 [==============================] - 2s 92ms/step - loss: 0.0227 - mse: 5.1785e-04 - mae: 0.0224 - accuracy: 1.0000 - recall: 1.0000 - precision: 1.0000\n",
            "Epoch 217/250\n",
            "25/25 [==============================] - 2s 93ms/step - loss: 0.0224 - mse: 5.0613e-04 - mae: 0.0222 - accuracy: 1.0000 - recall: 1.0000 - precision: 1.0000\n",
            "Epoch 218/250\n",
            "25/25 [==============================] - 2s 92ms/step - loss: 0.0222 - mse: 4.9531e-04 - mae: 0.0219 - accuracy: 1.0000 - recall: 1.0000 - precision: 1.0000\n",
            "Epoch 219/250\n",
            "25/25 [==============================] - 2s 93ms/step - loss: 0.0219 - mse: 4.8235e-04 - mae: 0.0216 - accuracy: 1.0000 - recall: 1.0000 - precision: 1.0000\n",
            "Epoch 220/250\n",
            "25/25 [==============================] - 2s 92ms/step - loss: 0.0216 - mse: 4.7123e-04 - mae: 0.0214 - accuracy: 1.0000 - recall: 1.0000 - precision: 1.0000\n",
            "Epoch 221/250\n",
            "25/25 [==============================] - 2s 92ms/step - loss: 0.0214 - mse: 4.6051e-04 - mae: 0.0211 - accuracy: 1.0000 - recall: 1.0000 - precision: 1.0000\n",
            "Epoch 222/250\n",
            "25/25 [==============================] - 2s 93ms/step - loss: 0.0211 - mse: 4.5034e-04 - mae: 0.0209 - accuracy: 1.0000 - recall: 1.0000 - precision: 1.0000\n",
            "Epoch 223/250\n",
            "25/25 [==============================] - 2s 92ms/step - loss: 0.0209 - mse: 4.4068e-04 - mae: 0.0207 - accuracy: 1.0000 - recall: 1.0000 - precision: 1.0000\n",
            "Epoch 224/250\n",
            "25/25 [==============================] - 2s 92ms/step - loss: 0.0207 - mse: 4.3105e-04 - mae: 0.0204 - accuracy: 1.0000 - recall: 1.0000 - precision: 1.0000\n",
            "Epoch 225/250\n",
            "25/25 [==============================] - 2s 93ms/step - loss: 0.0204 - mse: 4.2212e-04 - mae: 0.0202 - accuracy: 1.0000 - recall: 1.0000 - precision: 1.0000\n",
            "Epoch 226/250\n",
            "25/25 [==============================] - 2s 93ms/step - loss: 0.0202 - mse: 4.1258e-04 - mae: 0.0200 - accuracy: 1.0000 - recall: 1.0000 - precision: 1.0000\n",
            "Epoch 227/250\n",
            "25/25 [==============================] - 2s 93ms/step - loss: 0.0200 - mse: 4.0223e-04 - mae: 0.0197 - accuracy: 1.0000 - recall: 1.0000 - precision: 1.0000\n",
            "Epoch 228/250\n",
            "25/25 [==============================] - 2s 92ms/step - loss: 0.0197 - mse: 3.9325e-04 - mae: 0.0195 - accuracy: 1.0000 - recall: 1.0000 - precision: 1.0000\n",
            "Epoch 229/250\n",
            "25/25 [==============================] - 2s 92ms/step - loss: 0.0195 - mse: 3.8461e-04 - mae: 0.0193 - accuracy: 1.0000 - recall: 1.0000 - precision: 1.0000\n",
            "Epoch 230/250\n",
            "25/25 [==============================] - 2s 93ms/step - loss: 0.0193 - mse: 3.7581e-04 - mae: 0.0191 - accuracy: 1.0000 - recall: 1.0000 - precision: 1.0000\n",
            "Epoch 231/250\n",
            "25/25 [==============================] - 2s 92ms/step - loss: 0.0191 - mse: 3.6801e-04 - mae: 0.0189 - accuracy: 1.0000 - recall: 1.0000 - precision: 1.0000\n",
            "Epoch 232/250\n",
            "25/25 [==============================] - 2s 92ms/step - loss: 0.0189 - mse: 3.6010e-04 - mae: 0.0187 - accuracy: 1.0000 - recall: 1.0000 - precision: 1.0000\n",
            "Epoch 233/250\n",
            "25/25 [==============================] - 2s 93ms/step - loss: 0.0186 - mse: 3.5200e-04 - mae: 0.0185 - accuracy: 1.0000 - recall: 1.0000 - precision: 1.0000\n",
            "Epoch 234/250\n",
            "25/25 [==============================] - 2s 93ms/step - loss: 0.0184 - mse: 3.4451e-04 - mae: 0.0183 - accuracy: 1.0000 - recall: 1.0000 - precision: 1.0000\n",
            "Epoch 235/250\n",
            "25/25 [==============================] - 2s 93ms/step - loss: 0.0182 - mse: 3.3694e-04 - mae: 0.0181 - accuracy: 1.0000 - recall: 1.0000 - precision: 1.0000\n",
            "Epoch 236/250\n",
            "25/25 [==============================] - 2s 93ms/step - loss: 0.0180 - mse: 3.2996e-04 - mae: 0.0179 - accuracy: 1.0000 - recall: 1.0000 - precision: 1.0000\n",
            "Epoch 237/250\n",
            "25/25 [==============================] - 2s 92ms/step - loss: 0.0178 - mse: 3.2296e-04 - mae: 0.0177 - accuracy: 1.0000 - recall: 1.0000 - precision: 1.0000\n",
            "Epoch 238/250\n",
            "25/25 [==============================] - 2s 92ms/step - loss: 0.0176 - mse: 3.1584e-04 - mae: 0.0175 - accuracy: 1.0000 - recall: 1.0000 - precision: 1.0000\n",
            "Epoch 239/250\n",
            "25/25 [==============================] - 2s 93ms/step - loss: 0.0175 - mse: 3.0962e-04 - mae: 0.0173 - accuracy: 1.0000 - recall: 1.0000 - precision: 1.0000\n",
            "Epoch 240/250\n",
            "25/25 [==============================] - 2s 93ms/step - loss: 0.0173 - mse: 3.0281e-04 - mae: 0.0171 - accuracy: 1.0000 - recall: 1.0000 - precision: 1.0000\n",
            "Epoch 241/250\n",
            "25/25 [==============================] - 2s 93ms/step - loss: 0.0171 - mse: 2.9638e-04 - mae: 0.0169 - accuracy: 1.0000 - recall: 1.0000 - precision: 1.0000\n",
            "Epoch 242/250\n",
            "25/25 [==============================] - 2s 92ms/step - loss: 0.0169 - mse: 2.9000e-04 - mae: 0.0168 - accuracy: 1.0000 - recall: 1.0000 - precision: 1.0000\n",
            "Epoch 243/250\n",
            "25/25 [==============================] - 2s 93ms/step - loss: 0.0167 - mse: 2.8417e-04 - mae: 0.0166 - accuracy: 1.0000 - recall: 1.0000 - precision: 1.0000\n",
            "Epoch 244/250\n",
            "25/25 [==============================] - 2s 93ms/step - loss: 0.0165 - mse: 2.7702e-04 - mae: 0.0164 - accuracy: 1.0000 - recall: 1.0000 - precision: 1.0000\n",
            "Epoch 245/250\n",
            "25/25 [==============================] - 2s 93ms/step - loss: 0.0163 - mse: 2.6957e-04 - mae: 0.0162 - accuracy: 1.0000 - recall: 1.0000 - precision: 1.0000\n",
            "Epoch 246/250\n",
            "25/25 [==============================] - 2s 93ms/step - loss: 0.0161 - mse: 2.6275e-04 - mae: 0.0159 - accuracy: 1.0000 - recall: 1.0000 - precision: 1.0000\n",
            "Epoch 247/250\n",
            "25/25 [==============================] - 2s 92ms/step - loss: 0.0159 - mse: 2.5644e-04 - mae: 0.0158 - accuracy: 1.0000 - recall: 1.0000 - precision: 1.0000\n",
            "Epoch 248/250\n",
            "25/25 [==============================] - 2s 92ms/step - loss: 0.0157 - mse: 2.5084e-04 - mae: 0.0156 - accuracy: 1.0000 - recall: 1.0000 - precision: 1.0000\n",
            "Epoch 249/250\n",
            "25/25 [==============================] - 2s 93ms/step - loss: 0.0155 - mse: 2.4561e-04 - mae: 0.0154 - accuracy: 1.0000 - recall: 1.0000 - precision: 1.0000\n",
            "Epoch 250/250\n",
            "25/25 [==============================] - 2s 93ms/step - loss: 0.0154 - mse: 2.4039e-04 - mae: 0.0153 - accuracy: 1.0000 - recall: 1.0000 - precision: 1.0000\n"
          ],
          "name": "stdout"
        }
      ]
    },
    {
      "cell_type": "markdown",
      "metadata": {
        "id": "-CkMlUhY7WRU",
        "colab_type": "text"
      },
      "source": [
        "##**8. Generar gráfica de: loss(pérdida) y accuracy(acierto) en cada época realizada.**"
      ]
    },
    {
      "cell_type": "code",
      "metadata": {
        "id": "PwSQTQbUoe14",
        "colab_type": "code",
        "outputId": "45762dad-59b2-40f8-fcb4-d15d8de614ee",
        "colab": {
          "base_uri": "https://localhost:8080/",
          "height": 377
        }
      },
      "source": [
        "import pandas as pd\n",
        "\n",
        "pd.DataFrame(history.history).plot(figsize=(8, 6))\n",
        "plt.grid(True)\n",
        "plt.gca().set_ylim(0, 1)\n",
        "plt.show()"
      ],
      "execution_count": 20,
      "outputs": [
        {
          "output_type": "display_data",
          "data": {
            "image/png": "[encoded data removed]",
            "text/plain": [
              "<Figure size 576x432 with 1 Axes>"
            ]
          },
          "metadata": {
            "tags": [],
            "needs_background": "light"
          }
        }
      ]
    },
    {
      "cell_type": "markdown",
      "metadata": {
        "id": "axoYkzoOANpI",
        "colab_type": "text"
      },
      "source": [
        "##**9. Predecir con el modelo, la clasificación de cada imagen del conjunto de Test**"
      ]
    },
    {
      "cell_type": "code",
      "metadata": {
        "id": "F2_13iEblUh6",
        "colab_type": "code",
        "colab": {}
      },
      "source": [
        "#SE EVALÚA EL MODELO\n",
        "Valores=(model.predict(XTEST))\n",
        "#Valores"
      ],
      "execution_count": 0,
      "outputs": []
    },
    {
      "cell_type": "code",
      "metadata": {
        "id": "w6t9lnP3lglW",
        "colab_type": "code",
        "outputId": "107eefe8-7bb5-43b8-916d-098ad44d89c4",
        "colab": {
          "base_uri": "https://localhost:8080/",
          "height": 34
        }
      },
      "source": [
        "#Valores_label=np.argmax(Valores, axis=1)\n",
        "#Valores_label\n",
        "Valores_label=np.around(Valores)\n",
        "Valores_label.shape"
      ],
      "execution_count": 22,
      "outputs": [
        {
          "output_type": "execute_result",
          "data": {
            "text/plain": [
              "(400, 1)"
            ]
          },
          "metadata": {
            "tags": []
          },
          "execution_count": 22
        }
      ]
    },
    {
      "cell_type": "markdown",
      "metadata": {
        "id": "EhL8DHRdDG_v",
        "colab_type": "text"
      },
      "source": [
        "##**10. Sacar métricas de evaluación, para mirar el rendimiento del modelo.**"
      ]
    },
    {
      "cell_type": "markdown",
      "metadata": {
        "id": "UCkpLdoUDSHP",
        "colab_type": "text"
      },
      "source": [
        "> **A. Matriz de confusión simple.**"
      ]
    },
    {
      "cell_type": "code",
      "metadata": {
        "id": "3sU-M00HmyWR",
        "colab_type": "code",
        "outputId": "c4e6f13d-699f-4211-ecb7-d8bf83797598",
        "colab": {
          "base_uri": "https://localhost:8080/",
          "height": 70
        }
      },
      "source": [
        "from sklearn.metrics import confusion_matrix, accuracy_score\n",
        "\n",
        "#YTEST=YTEST.reshape(len(Ytest),1)\n",
        "\n",
        "acc = accuracy_score(YTEST,Valores_label)\n",
        "print('acierto: ',acc)\n",
        "cm=confusion_matrix(YTEST,Valores_label)\n",
        "cm"
      ],
      "execution_count": 23,
      "outputs": [
        {
          "output_type": "stream",
          "text": [
            "acierto:  0.7775\n"
          ],
          "name": "stdout"
        },
        {
          "output_type": "execute_result",
          "data": {
            "text/plain": [
              "array([[157,  43],\n",
              "       [ 46, 154]])"
            ]
          },
          "metadata": {
            "tags": []
          },
          "execution_count": 23
        }
      ]
    },
    {
      "cell_type": "markdown",
      "metadata": {
        "id": "rEBXCc4TDjCE",
        "colab_type": "text"
      },
      "source": [
        "\n",
        ">**B. Matriz de confusión, con porcentjes de acierto.**"
      ]
    },
    {
      "cell_type": "code",
      "metadata": {
        "id": "EejIKKgBDjlP",
        "colab_type": "code",
        "outputId": "27829318-7fa1-4028-95a1-7f2df13b8fee",
        "colab": {
          "base_uri": "https://localhost:8080/",
          "height": 365
        }
      },
      "source": [
        "from sklearn.utils.multiclass import unique_labels\n",
        "\n",
        "\n",
        "def plot_confusion_matrix(matrix,Ytest,Valores_label,acc,Valores2):\n",
        "    fig = plt.figure(figsize=(5,5))\n",
        "    ax = fig.add_subplot(111)\n",
        "    cmap=plt.cm.Blues\n",
        "    matrix = 100*matrix.astype('float') / cm.sum(axis=1)[:, np.newaxis]\n",
        "    cax = ax.matshow(matrix, interpolation='nearest', cmap=cmap)\n",
        "    fig.colorbar(cax)\n",
        "    classes = unique_labels(Ytest,Valores_label)\n",
        "    classes1= Valores2\n",
        "    ax.set(xticks=np.arange(matrix.shape[1]),\n",
        "           yticks=np.arange(matrix.shape[0]),\n",
        "           xticklabels=classes1, yticklabels=classes1,\n",
        "           title='ACC = %.1f %%' % (100*acc),\n",
        "           ylabel='True label',\n",
        "           xlabel='Predicted label')\n",
        "    fmt = '.1f'\n",
        "    thresh = matrix.max() / 2.\n",
        "    for i in range(matrix.shape[0]):\n",
        "        for j in range(matrix.shape[1]):\n",
        "            ax.text(j, i, format(matrix[i, j], fmt),\n",
        "                    ha=\"center\", va=\"center\",\n",
        "                    color=\"black\",fontsize=14)\n",
        "    fig.tight_layout()\n",
        "\n",
        "#Valores_label_texto=convertir_salida_texto(Valores_label)\n",
        "plot_confusion_matrix(cm,YTEST,Valores_label,acc,Valores2=[\"Perro\",\"Gato\"])\n",
        "\n"
      ],
      "execution_count": 24,
      "outputs": [
        {
          "output_type": "display_data",
          "data": {
            "image/png": "[encoded data removed]",
            "text/plain": [
              "<Figure size 360x360 with 2 Axes>"
            ]
          },
          "metadata": {
            "tags": [],
            "needs_background": "light"
          }
        }
      ]
    },
    {
      "cell_type": "markdown",
      "metadata": {
        "id": "IZk9eJ4YDwed",
        "colab_type": "text"
      },
      "source": [
        "\n",
        "> **C. Reporte de algunas métricas: Precisión, recall, F1 y Support, para el umbral de clasificación 0,5(por defecto usado por keras).**\n"
      ]
    },
    {
      "cell_type": "code",
      "metadata": {
        "id": "W88lTS1WDxsY",
        "colab_type": "code",
        "outputId": "c5bae5fc-d9e5-4cf0-f800-1454156b0d6f",
        "colab": {
          "base_uri": "https://localhost:8080/",
          "height": 176
        }
      },
      "source": [
        "from sklearn.metrics import classification_report\n",
        "\n",
        "target_names = ['Perro', 'Gato']\n",
        "cr=classification_report(YTEST, Valores_label,labels=range(len(target_names)),target_names=target_names)\n",
        "print(cr) "
      ],
      "execution_count": 25,
      "outputs": [
        {
          "output_type": "stream",
          "text": [
            "              precision    recall  f1-score   support\n",
            "\n",
            "       Perro       0.77      0.79      0.78       200\n",
            "        Gato       0.78      0.77      0.78       200\n",
            "\n",
            "    accuracy                           0.78       400\n",
            "   macro avg       0.78      0.78      0.78       400\n",
            "weighted avg       0.78      0.78      0.78       400\n",
            "\n"
          ],
          "name": "stdout"
        }
      ]
    },
    {
      "cell_type": "markdown",
      "metadata": {
        "id": "ilniZmtTD39E",
        "colab_type": "text"
      },
      "source": [
        ">**D. Curva ROC, para cada clase, variando los umbrales de decisión(Thresold) o, en este caso con la probabilidad de que pertenezca a una de las salidas.**"
      ]
    },
    {
      "cell_type": "code",
      "metadata": {
        "id": "6HRo5uaTml1w",
        "colab_type": "code",
        "outputId": "add45ac6-2338-4945-e84b-79c535ed0caa",
        "colab": {
          "base_uri": "https://localhost:8080/",
          "height": 404
        }
      },
      "source": [
        "from sklearn.preprocessing import label_binarize\n",
        "from sklearn.metrics import roc_curve, auc\n",
        "\n",
        "\n",
        "\n",
        "Ytest_Bin= label_binarize(YTEST, classes=[0,1])\n",
        "Valores_Bin= label_binarize(Valores_label, classes=[0,1])\n",
        "roc_auc, fpr, tpr, n_classes = roc_multiclass(Ytest_Bin,Valores_Bin,colum=1)\n",
        "roc_auc_mc(roc_auc,fpr,tpr,n_classes,'ROC curve ')\n",
        "\n"
      ],
      "execution_count": 26,
      "outputs": [
        {
          "output_type": "display_data",
          "data": {
            "image/png": "[encoded data removed]",
            "text/plain": [
              "<Figure size 432x432 with 1 Axes>"
            ]
          },
          "metadata": {
            "tags": [],
            "needs_background": "light"
          }
        }
      ]
    },
    {
      "cell_type": "code",
      "metadata": {
        "id": "Xe4ek79vGG-B",
        "colab_type": "code",
        "outputId": "5a697bfb-07a3-40fa-8ef4-78622a8b3186",
        "colab": {
          "base_uri": "https://localhost:8080/",
          "height": 426
        }
      },
      "source": [
        "#GRAFICAR LAS PRIMERAS 10 CLASES\n",
        "tam=10\n",
        "index=0\n",
        "plt.figure(figsize=(tam*2, 7))\n",
        "for i in range(1,tam):\n",
        "  index += 1\n",
        "  plt.subplot((tam//10)+1, 5, index)\n",
        "  plt.imshow(XTEST[i-1])\n",
        "  plt.title(\"Class: {}\".format(Valores_label[i-1]))\n",
        "  plt.axis(\"off\")\n",
        "plt.show() "
      ],
      "execution_count": 27,
      "outputs": [
        {
          "output_type": "display_data",
          "data": {
            "image/png": "[encoded data removed]",
            "text/plain": [
              "<Figure size 1440x504 with 9 Axes>"
            ]
          },
          "metadata": {
            "tags": [],
            "needs_background": "light"
          }
        }
      ]
    },
    {
      "cell_type": "code",
      "metadata": {
        "id": "rCfjxCMLriBd",
        "colab_type": "code",
        "colab": {}
      },
      "source": [
        "\n"
      ],
      "execution_count": 0,
      "outputs": []
    },
    {
      "cell_type": "code",
      "metadata": {
        "id": "78qXclPMu2t8",
        "colab_type": "code",
        "colab": {}
      },
      "source": [
        ""
      ],
      "execution_count": 0,
      "outputs": []
    }
  ]
}