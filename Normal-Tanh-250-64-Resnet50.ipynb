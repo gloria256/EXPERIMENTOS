{
  "nbformat": 4,
  "nbformat_minor": 0,
  "metadata": {
    "colab": {
      "name": "Resnet50.ipynb",
      "provenance": [],
      "collapsed_sections": [],
      "machine_shape": "hm",
      "include_colab_link": true
    },
    "kernelspec": {
      "name": "python3",
      "display_name": "Python 3"
    },
    "accelerator": "GPU"
  },
  "cells": [
    {
      "cell_type": "markdown",
      "metadata": {
        "id": "view-in-github",
        "colab_type": "text"
      },
      "source": [
        "<a href=\"https://colab.research.google.com/github/gloria256/EXPERIMENTOS/blob/master/Normal-Tanh-250-64-Resnet50.ipynb\" target=\"_parent\"><img src=\"https://colab.research.google.com/assets/colab-badge.svg\" alt=\"Open In Colab\"/></a>"
      ]
    },
    {
      "cell_type": "markdown",
      "metadata": {
        "id": "5ftLDsREupDL",
        "colab_type": "text"
      },
      "source": [
        "# **CLASIFICADOR BINARIO USANDO LA RED: RESNET50**\n",
        "\n",
        "\n",
        "\n",
        "\n",
        "\n"
      ]
    },
    {
      "cell_type": "markdown",
      "metadata": {
        "id": "lnRyzy7hvA2O",
        "colab_type": "text"
      },
      "source": [
        "## **1. Librerías necesarias y descarga de la función para graficar la curva ROC.**\n"
      ]
    },
    {
      "cell_type": "code",
      "metadata": {
        "id": "rbNiIwHFdiWA",
        "colab_type": "code",
        "outputId": "6c35d257-b5a3-47dc-bf8a-a3594c4e438f",
        "colab": {
          "base_uri": "https://localhost:8080/",
          "height": 34
        }
      },
      "source": [
        "#IMPORTACION DE LIBRERIAS NECESARIAS\n",
        "import pandas as pd\n",
        "import tensorflow_datasets as tfds\n",
        "import tensorflow as tf\n",
        "import matplotlib.pyplot as plt\n",
        "import cv2\n",
        "import numpy as np\n",
        "import os\n",
        "from keras.applications.resnet import preprocess_input, decode_predictions\n",
        "import sklearn\n",
        "\n",
        "# ACCESO A GOOGLE DRIVE\n",
        "import os\n",
        "from pydrive.auth import GoogleAuth\n",
        "from pydrive.drive import GoogleDrive\n",
        "from google.colab import auth\n",
        "from oauth2client.client import GoogleCredentials\n",
        "auth.authenticate_user()\n",
        "gauth = GoogleAuth()\n",
        "gauth.credentials = GoogleCredentials.get_application_default()\n",
        "drive = GoogleDrive(gauth)\n",
        "\n",
        "#ARCHIVO DE FUNCIONES\n",
        "file_id = '1QTJIzZb4xL9_it6AF4qpz6KJGIpprIVD' \n",
        "downloaded = drive.CreateFile({'id': file_id})\n",
        "downloaded.GetContentFile('funciones_people.py') \n",
        "from funciones_people import roc_multiclass, roc_auc_mc\n"
      ],
      "execution_count": 1,
      "outputs": [
        {
          "output_type": "stream",
          "text": [
            "Using TensorFlow backend.\n"
          ],
          "name": "stderr"
        }
      ]
    },
    {
      "cell_type": "markdown",
      "metadata": {
        "id": "hL2cXKJAkLoA",
        "colab_type": "text"
      },
      "source": [
        "## **4. Descargar imágenes de CIFAR-10**\n",
        "\n",
        "consta de 60000 imágenes en color de 32x32 en 10 clases, con 6000 imágenes por clase. Hay 50000 imágenes de entrenamiento y 10000 imágenes de prueba.\n",
        "\n",
        "El conjunto de datos se divide en cinco lotes de entrenamiento y un lote de prueba, cada uno con 10000 imágenes. El lote de prueba contiene exactamente 1000 imágenes seleccionadas al azar de cada clase. \n",
        "\n",
        "$avión\\hspace{1em}automóvil\\hspace{1em}pájaro\\hspace{1em}gato    \n",
        "ciervo\\hspace{1em}perro\\hspace{1em}rana\\hspace{1em}caballo\\hspace{1em}\n",
        "Embarcacion\\hspace{1em}camión$"
      ]
    },
    {
      "cell_type": "markdown",
      "metadata": {
        "id": "-3cxyDsseRk_",
        "colab_type": "text"
      },
      "source": [
        "#### **A:** Funciones, para seleccionar solo las clases: Gato y perro"
      ]
    },
    {
      "cell_type": "code",
      "metadata": {
        "id": "q1eEICWsfQUB",
        "colab_type": "code",
        "colab": {}
      },
      "source": [
        "def obtener_solo_imagenes_Etiqueta(imagen,etiqueta,num_etiqueta):\n",
        "  Gatos_label=np.where(etiqueta== num_etiqueta)\n",
        "  A=np.zeros([len(Gatos_label[0]),32,32,3],dtype=np.uint8)\n",
        "  for c,i in enumerate(Gatos_label[0]): \n",
        "    A[c]=imagen[i]\n",
        "  return A\n",
        "\n",
        "def cambiar_scala_224x224(imagen):\n",
        "  matriz_imagen1=np.zeros([len(imagen),224,224,3],dtype=np.uint8)\n",
        "  for i in range(len(imagen)):\n",
        "    img=imagen[i]\n",
        "    scale_percent = 700 # percent of original size\n",
        "    width = int(img.shape[1] * scale_percent / 100)\n",
        "    height = int(img.shape[0] * scale_percent / 100)\n",
        "    dim = (width, height)\n",
        "    resized = cv2.resize(img, dim, interpolation = cv2.INTER_AREA)\n",
        "    matriz_imagen1[i]=resized\n",
        "  return matriz_imagen1"
      ],
      "execution_count": 0,
      "outputs": []
    },
    {
      "cell_type": "markdown",
      "metadata": {
        "id": "eegBaLz32hzL",
        "colab_type": "text"
      },
      "source": [
        "#### **B:** Descargar de keras datasets CIFAR10 y seleccionar las imagenes de las clases gato y perro del conjunto de **Train** y **Test**\n",
        "\n",
        "\n"
      ]
    },
    {
      "cell_type": "code",
      "metadata": {
        "id": "jogC9oAGzSuu",
        "colab_type": "code",
        "outputId": "ace39251-34ae-466c-de1e-7bd5104db4cb",
        "colab": {
          "base_uri": "https://localhost:8080/",
          "height": 70
        }
      },
      "source": [
        "#IMPORTAMOS EL CONJUNTO DE DATOS DE CIFAR10 DONE: Xdata[0][0]-->Train   Xdata[1][0]-->Test  Xdata[0][1]-->Ytrain  Xdata[1][1]-->Ytest\n",
        "import tensorflow as tf\n",
        "from keras.datasets import cifar10\n",
        "\n",
        "Xdata = tf.keras.datasets.cifar10.load_data()\n",
        "Xdata[1][0].shape\n"
      ],
      "execution_count": 3,
      "outputs": [
        {
          "output_type": "stream",
          "text": [
            "Downloading data from https://www.cs.toronto.edu/~kriz/cifar-10-python.tar.gz\n",
            "170500096/170498071 [==============================] - 6s 0us/step\n"
          ],
          "name": "stdout"
        },
        {
          "output_type": "execute_result",
          "data": {
            "text/plain": [
              "(10000, 32, 32, 3)"
            ]
          },
          "metadata": {
            "tags": []
          },
          "execution_count": 3
        }
      ]
    },
    {
      "cell_type": "code",
      "metadata": {
        "id": "aHZBxtVEIRU9",
        "colab_type": "code",
        "outputId": "30edb5c8-8eeb-4bed-8ccf-476d469e17ff",
        "colab": {
          "base_uri": "https://localhost:8080/",
          "height": 265
        }
      },
      "source": [
        "#OBTENEMOS SOLO LAS IMAGENES DE GATO=3 y perro=5 DE TEST DE CIFAR10, SON 1000 IMAGENES DE GATO y 1000 IMAGENES DE PERRO\n",
        "gato_test = obtener_solo_imagenes_Etiqueta(Xdata[1][0],Xdata[1][1],num_etiqueta=3)\n",
        "perro_test = obtener_solo_imagenes_Etiqueta(Xdata[1][0],Xdata[1][1],num_etiqueta=5)\n",
        "\n",
        "#OBTENEMOS SOLO LAS IMAGENES DE GATO=3 y perro=5 DE TRAIN DE CIFAR10, SON 5000 IMAGENES DE GATO y 5000 IMAGENES DE PERRO\n",
        "gato_train = obtener_solo_imagenes_Etiqueta(Xdata[0][0],Xdata[0][1],num_etiqueta=3)\n",
        "perro_train = obtener_solo_imagenes_Etiqueta(Xdata[0][0],Xdata[0][1],num_etiqueta=5)\n",
        "\n",
        "plt.imshow(gato_test[999])\n",
        "plt.show()"
      ],
      "execution_count": 4,
      "outputs": [
        {
          "output_type": "display_data",
          "data": {
            "image/png": "[encoded data removed]",
            "text/plain": [
              "<Figure size 432x288 with 1 Axes>"
            ]
          },
          "metadata": {
            "tags": [],
            "needs_background": "light"
          }
        }
      ]
    },
    {
      "cell_type": "markdown",
      "metadata": {
        "id": "hMWOHRugFe8l",
        "colab_type": "text"
      },
      "source": [
        "## **5. Agrupar conjunto de datos, en uno solo (X)**\n",
        "\n",
        "Gato_test, Conjunto de satos de 1000 imágenes tomadas de CIFAR10 - TEST\n",
        "Gato_train, Conjunto de satos de 5000 imágenes tomadas de CIFAR10 - TRAIN\n",
        "\n",
        "perro_test, Conjunto de satos de 1000 imágenes tomadas de CIFAR10 - TEST\n",
        "perro_train, Conjunto de satos de 5000 imágenes tomadas de CIFAR10 - TRAIN\n",
        "\n",
        "\n",
        "> $X= Cifar10_{gato} + Cifar10_{perro}$\n"
      ]
    },
    {
      "cell_type": "markdown",
      "metadata": {
        "id": "T1tteHSs9YRA",
        "colab_type": "text"
      },
      "source": [
        "####**A:** Unir etiquetas y matrices de cada conjunto para fromar **X** de 2000 imágenes"
      ]
    },
    {
      "cell_type": "code",
      "metadata": {
        "id": "kyfpKkbQVtcH",
        "colab_type": "code",
        "outputId": "0a49afd3-51aa-472f-ffde-4423a5f13846",
        "colab": {
          "base_uri": "https://localhost:8080/",
          "height": 34
        }
      },
      "source": [
        "#UNIR LAS IMAGENES EN UN SOLO CONJUNTO\n",
        "#X = np.concatenate((gato_test[0:500], gato_train[0:500], perro_test[0:500], perro_train[0:500]), axis=0)\n",
        "#X_label=np.concatenate(([1]*500, [1]*500, [0]*500, [0]*500), axis=0)\n",
        "#UNIR ETIQUETAS EN UN SOLO CONJUNTO \n",
        "# 1-->GATO   0-->PERRO\n",
        "\n",
        "Xtrain = np.concatenate((gato_train[0:800], perro_train[0:800]), axis=0)\n",
        "Xtrain_label=np.concatenate(([1]*800,[0]*800), axis=0)\n",
        "Xtest  = np.concatenate((gato_test[0:200], perro_test[0:200]), axis=0)\n",
        "Xtest_label=np.concatenate(([1]*200,[0]*200), axis=0)\n",
        "\n",
        "print(len(Xtrain),len(Xtrain_label),'  y  ',len(Xtest),len(Xtest_label))"
      ],
      "execution_count": 5,
      "outputs": [
        {
          "output_type": "stream",
          "text": [
            "1600 1600   y   400 400\n"
          ],
          "name": "stdout"
        }
      ]
    },
    {
      "cell_type": "markdown",
      "metadata": {
        "id": "tBhSseFp27Z_",
        "colab_type": "text"
      },
      "source": [
        "#### **B:** Cambiar tamaño de 32x32x3, a scala de: 224x224x3 (**Ver función:** cambiar_scala_224x224(X))\n",
        "\n",
        "\n"
      ]
    },
    {
      "cell_type": "code",
      "metadata": {
        "id": "_YxLJAILu3ql",
        "colab_type": "code",
        "outputId": "3d7912a0-0f44-421e-a9db-bb3efe81486e",
        "colab": {
          "base_uri": "https://localhost:8080/",
          "height": 34
        }
      },
      "source": [
        "import cv2\n",
        "Xtrain=cambiar_scala_224x224(Xtrain)\n",
        "Xtest=cambiar_scala_224x224(Xtest)\n",
        "print(Xtrain.shape,'  ',Xtest.shape)"
      ],
      "execution_count": 6,
      "outputs": [
        {
          "output_type": "stream",
          "text": [
            "(1600, 224, 224, 3)    (400, 224, 224, 3)\n"
          ],
          "name": "stdout"
        }
      ]
    },
    {
      "cell_type": "code",
      "metadata": {
        "id": "p5e8d0PxpMoQ",
        "colab_type": "code",
        "outputId": "91c86a9d-10f0-45a7-cf46-f287b55dd06c",
        "colab": {
          "base_uri": "https://localhost:8080/",
          "height": 281
        }
      },
      "source": [
        "plt.imshow(Xtrain[5])\n",
        "plt.title('clase:%s'%Xtrain_label[5])\n",
        "plt.show()"
      ],
      "execution_count": 7,
      "outputs": [
        {
          "output_type": "display_data",
          "data": {
            "image/png": "[encoded data removed]",
            "text/plain": [
              "<Figure size 432x288 with 1 Axes>"
            ]
          },
          "metadata": {
            "tags": [],
            "needs_background": "light"
          }
        }
      ]
    },
    {
      "cell_type": "markdown",
      "metadata": {
        "id": "V6wmv0oX9tQ0",
        "colab_type": "text"
      },
      "source": [
        "####**C:** Pasar X, a un pandas, en este caso por cuestiones de espacio en memoria, solo se cojen: X[i][0][0][0:3] y se agrega para cada imagen al pandas X_PD con sus respectivas etiquetas X_label.\n",
        "\n",
        "\n"
      ]
    },
    {
      "cell_type": "code",
      "metadata": {
        "id": "WUoZ0rx1Ajop",
        "colab_type": "code",
        "colab": {}
      },
      "source": [
        "#ARMAR PANDAS CON SOLO 5 DATOS DE CADA UNA DE LAS 1600 IMAGENES PARA PODER PARTICIONAR EL CONJUNTO Y PODER SACAR YTRAIN Y YTEST\n",
        "Xtrain_PD=np.zeros([len(Xtrain),3])\n",
        "Xtest_PD=np.zeros([len(Xtest),3])\n",
        "\n",
        "for i in range(len(Xtrain)):\n",
        "  Xtrain_PD[i]=Xtrain[i][0][0][0:3]\n",
        "\n",
        "for i in range(len(Xtest)):\n",
        "  Xtest_PD[i]=Xtest[i][0][0][0:3]\n"
      ],
      "execution_count": 0,
      "outputs": []
    },
    {
      "cell_type": "code",
      "metadata": {
        "id": "mpoM4c89GilL",
        "colab_type": "code",
        "colab": {}
      },
      "source": [
        "#ARMAR PANDAS DE TODAS LAS IMAGENNES, SE BARAJAN Y SE DEJAN LOS INDICES SIN REINICIAR, PARA LUEGO ENCONTRAR LA IMAGEN QUE LE PERTENECE A CADA ETIQUETA.\n",
        "Xtrain_PD=pd.DataFrame(Xtrain_PD)\n",
        "Xtrain_PD[\"label\"]=Xtrain_label    \n",
        "Xtrain_PD = Xtrain_PD.sample(frac=1)#.reset_index(drop=True) #frac=1significa devolver todas las filas (en orden aleatorio).\n",
        "\n",
        "Xtest_PD=pd.DataFrame(Xtest_PD)\n",
        "Xtest_PD[\"label\"]=Xtest_label    \n",
        "Xtest_PD = Xtest_PD.sample(frac=1)"
      ],
      "execution_count": 0,
      "outputs": []
    },
    {
      "cell_type": "markdown",
      "metadata": {
        "id": "EjdPZOFN-P9d",
        "colab_type": "text"
      },
      "source": [
        "####**C:** Se particiona el conjuto de X_PD en Xtrain y Xtest, con 80%, 20% respectivamente y se sacan los Ytrain, Ytest por aparte."
      ]
    },
    {
      "cell_type": "code",
      "metadata": {
        "id": "qRFhRdcE9qj_",
        "colab_type": "code",
        "outputId": "84f03a2e-c132-415a-bc73-855d8a8d341a",
        "colab": {
          "base_uri": "https://localhost:8080/",
          "height": 34
        }
      },
      "source": [
        "#PARTICIONAR EL CONJUNTO DE XDATA EN XTRAIN Y XTEST\n",
        "#from sklearn.model_selection import train_test_split\n",
        "#Xtrain, Xtest = train_test_split(X_PD,test_size=0.2)\n",
        "\n",
        "col_sal=\"label\"\n",
        "Ytrain = Xtrain_PD[col_sal]\n",
        "Xtrain_PD.drop(columns=col_sal,inplace=True)\n",
        "Ytest = Xtest_PD[col_sal]\n",
        "Xtest_PD.drop(columns=col_sal,inplace=True)\n",
        "\n",
        "print(len(Ytrain),len(Ytest))"
      ],
      "execution_count": 10,
      "outputs": [
        {
          "output_type": "stream",
          "text": [
            "1600 400\n"
          ],
          "name": "stdout"
        }
      ]
    },
    {
      "cell_type": "markdown",
      "metadata": {
        "id": "4FlAT9CE-ogZ",
        "colab_type": "text"
      },
      "source": [
        "####**D:** Del pandas **X_PD** creado, se saca Ytrain, luego aquí,se sacan sus indices y se relacionan con la matrix de datos unidos **X** para armar el array **XTRAIN** que es el que va a la entrada de la red neuronal VGG-16."
      ]
    },
    {
      "cell_type": "code",
      "metadata": {
        "id": "xNSoYUIj70QB",
        "colab_type": "code",
        "outputId": "168ec988-1464-4a52-9a75-279e455c6f89",
        "colab": {
          "base_uri": "https://localhost:8080/",
          "height": 34
        }
      },
      "source": [
        "#SE ARMA EL CONJUNTO XTRAIN FINAL, A PARTIR DE LOS INDICES DE LAS ETIQUETAS.\n",
        "\n",
        "def relacion_indices_etiquetas_con_XTRAIN(X,Y):\n",
        "  A=np.zeros([len(Y),224,224,3],dtype=np.uint8)\n",
        "  B=[]\n",
        "  for c,i in enumerate(Y.index):\n",
        "    A[c]=X[i]\n",
        "    B.append(Y[i])\n",
        "  return A,np.array(B)\n",
        "\n",
        "\n",
        "XTRAIN,YTRAIN = relacion_indices_etiquetas_con_XTRAIN(Xtrain,Ytrain)\n",
        "XTEST,YTEST = relacion_indices_etiquetas_con_XTRAIN(Xtest,Ytest)\n",
        "print('xtrain: ',XTRAIN.shape,YTRAIN.shape,'  xtest: ',XTEST.shape,YTEST.shape)\n",
        "\n",
        "#c = np.all(np.array(YTRAIN) == np.array(Ytrain))\n",
        "#Ytrain.index"
      ],
      "execution_count": 11,
      "outputs": [
        {
          "output_type": "stream",
          "text": [
            "xtrain:  (1600, 224, 224, 3) (1600,)   xtest:  (400, 224, 224, 3) (400,)\n"
          ],
          "name": "stdout"
        }
      ]
    },
    {
      "cell_type": "code",
      "metadata": {
        "id": "M-lxgxSTfm7u",
        "colab_type": "code",
        "outputId": "4f0d8178-1fb7-4b41-f3ad-2892b90bc1ed",
        "colab": {
          "base_uri": "https://localhost:8080/",
          "height": 34
        }
      },
      "source": [
        "#LAS PASAMOS A TENSOR, NO HAYNECESIDAD DE QUE YTRAIN SEA UN TENSOR.\n",
        "XTRAIN=tf.constant(XTRAIN)\n",
        "YTRAIN=tf.constant(YTRAIN)\n",
        "\n",
        "XTEST=tf.constant(XTEST)\n",
        "YTEST=tf.constant(YTEST)\n",
        "\n",
        "print(type(XTRAIN))"
      ],
      "execution_count": 12,
      "outputs": [
        {
          "output_type": "stream",
          "text": [
            "<class 'tensorflow.python.framework.ops.EagerTensor'>\n"
          ],
          "name": "stdout"
        }
      ]
    },
    {
      "cell_type": "code",
      "metadata": {
        "id": "NqVmpVA5-KRM",
        "colab_type": "code",
        "outputId": "6286cc98-3b81-40f4-c5b1-db0338e3ee35",
        "colab": {
          "base_uri": "https://localhost:8080/",
          "height": 281
        }
      },
      "source": [
        "plt.imshow(XTRAIN[5])\n",
        "plt.title('clase:%s'%YTRAIN[5])\n",
        "plt.show()\n"
      ],
      "execution_count": 13,
      "outputs": [
        {
          "output_type": "display_data",
          "data": {
            "image/png": "[encoded data removed]",
            "text/plain": [
              "<Figure size 432x288 with 1 Axes>"
            ]
          },
          "metadata": {
            "tags": [],
            "needs_background": "light"
          }
        }
      ]
    },
    {
      "cell_type": "markdown",
      "metadata": {
        "id": "QajCSoSIeCEm",
        "colab_type": "text"
      },
      "source": [
        "##**6. Importar el modelo de la ResNet50 y configurar el último bloque.**\n",
        "\n",
        "### Dejar la ultima capa y agregar la capa densa de salida, para que tenga 1 salida.  "
      ]
    },
    {
      "cell_type": "code",
      "metadata": {
        "id": "tf0CXg9BN5aH",
        "colab_type": "code",
        "outputId": "71b637e0-572e-498f-be6c-ad791b71bce6",
        "colab": {
          "base_uri": "https://localhost:8080/",
          "height": 1000
        }
      },
      "source": [
        "import tensorflow as tf\n",
        "\n",
        "model = tf.keras.applications.ResNet50(weights='imagenet')#,include_top=False)\n",
        "model= tf.keras.models.Model(inputs=model.input, outputs=model.layers[-2].output)#-2, quita solo la ultima capa\n",
        "\n",
        "#X =  tf.keras.layers.Dropout(0.2)(model.output)\n",
        "#X= tf.keras.layers.GlobalMaxPool2D()(model.output) \n",
        "X = tf.keras.layers.Dense(1000, activation=\"tanh\", name='predictions')(model.output) \n",
        "#X2 = tf.keras.layers.Dense(1000, activation=\"tanh\", name='predictions1')(X1)\n",
        "#X3=tf.keras.layers.dot([X2, X1], axes=1, normalize=True)#PROBAR CON TRUE\n",
        "output = tf.keras.layers.Dense(1, activation=\"sigmoid\", name='salida')(X)\n",
        "model = tf.keras.models.Model(inputs=model.input, outputs=output)\n",
        "\n",
        "model.summary()\n",
        "#tf.keras.utils.plot_model(model_GoogleNet,show_shapes=True, show_layer_names=True)"
      ],
      "execution_count": 14,
      "outputs": [
        {
          "output_type": "stream",
          "text": [
            "Downloading data from https://storage.googleapis.com/tensorflow/keras-applications/resnet/resnet50_weights_tf_dim_ordering_tf_kernels.h5\n",
            "102973440/102967424 [==============================] - 2s 0us/step\n",
            "Model: \"model_1\"\n",
            "__________________________________________________________________________________________________\n",
            "Layer (type)                    Output Shape         Param #     Connected to                     \n",
            "==================================================================================================\n",
            "input_1 (InputLayer)            [(None, 224, 224, 3) 0                                            \n",
            "__________________________________________________________________________________________________\n",
            "conv1_pad (ZeroPadding2D)       (None, 230, 230, 3)  0           input_1[0][0]                    \n",
            "__________________________________________________________________________________________________\n",
            "conv1_conv (Conv2D)             (None, 112, 112, 64) 9472        conv1_pad[0][0]                  \n",
            "__________________________________________________________________________________________________\n",
            "conv1_bn (BatchNormalization)   (None, 112, 112, 64) 256         conv1_conv[0][0]                 \n",
            "__________________________________________________________________________________________________\n",
            "conv1_relu (Activation)         (None, 112, 112, 64) 0           conv1_bn[0][0]                   \n",
            "__________________________________________________________________________________________________\n",
            "pool1_pad (ZeroPadding2D)       (None, 114, 114, 64) 0           conv1_relu[0][0]                 \n",
            "__________________________________________________________________________________________________\n",
            "pool1_pool (MaxPooling2D)       (None, 56, 56, 64)   0           pool1_pad[0][0]                  \n",
            "__________________________________________________________________________________________________\n",
            "conv2_block1_1_conv (Conv2D)    (None, 56, 56, 64)   4160        pool1_pool[0][0]                 \n",
            "__________________________________________________________________________________________________\n",
            "conv2_block1_1_bn (BatchNormali (None, 56, 56, 64)   256         conv2_block1_1_conv[0][0]        \n",
            "__________________________________________________________________________________________________\n",
            "conv2_block1_1_relu (Activation (None, 56, 56, 64)   0           conv2_block1_1_bn[0][0]          \n",
            "__________________________________________________________________________________________________\n",
            "conv2_block1_2_conv (Conv2D)    (None, 56, 56, 64)   36928       conv2_block1_1_relu[0][0]        \n",
            "__________________________________________________________________________________________________\n",
            "conv2_block1_2_bn (BatchNormali (None, 56, 56, 64)   256         conv2_block1_2_conv[0][0]        \n",
            "__________________________________________________________________________________________________\n",
            "conv2_block1_2_relu (Activation (None, 56, 56, 64)   0           conv2_block1_2_bn[0][0]          \n",
            "__________________________________________________________________________________________________\n",
            "conv2_block1_0_conv (Conv2D)    (None, 56, 56, 256)  16640       pool1_pool[0][0]                 \n",
            "__________________________________________________________________________________________________\n",
            "conv2_block1_3_conv (Conv2D)    (None, 56, 56, 256)  16640       conv2_block1_2_relu[0][0]        \n",
            "__________________________________________________________________________________________________\n",
            "conv2_block1_0_bn (BatchNormali (None, 56, 56, 256)  1024        conv2_block1_0_conv[0][0]        \n",
            "__________________________________________________________________________________________________\n",
            "conv2_block1_3_bn (BatchNormali (None, 56, 56, 256)  1024        conv2_block1_3_conv[0][0]        \n",
            "__________________________________________________________________________________________________\n",
            "conv2_block1_add (Add)          (None, 56, 56, 256)  0           conv2_block1_0_bn[0][0]          \n",
            "                                                                 conv2_block1_3_bn[0][0]          \n",
            "__________________________________________________________________________________________________\n",
            "conv2_block1_out (Activation)   (None, 56, 56, 256)  0           conv2_block1_add[0][0]           \n",
            "__________________________________________________________________________________________________\n",
            "conv2_block2_1_conv (Conv2D)    (None, 56, 56, 64)   16448       conv2_block1_out[0][0]           \n",
            "__________________________________________________________________________________________________\n",
            "conv2_block2_1_bn (BatchNormali (None, 56, 56, 64)   256         conv2_block2_1_conv[0][0]        \n",
            "__________________________________________________________________________________________________\n",
            "conv2_block2_1_relu (Activation (None, 56, 56, 64)   0           conv2_block2_1_bn[0][0]          \n",
            "__________________________________________________________________________________________________\n",
            "conv2_block2_2_conv (Conv2D)    (None, 56, 56, 64)   36928       conv2_block2_1_relu[0][0]        \n",
            "__________________________________________________________________________________________________\n",
            "conv2_block2_2_bn (BatchNormali (None, 56, 56, 64)   256         conv2_block2_2_conv[0][0]        \n",
            "__________________________________________________________________________________________________\n",
            "conv2_block2_2_relu (Activation (None, 56, 56, 64)   0           conv2_block2_2_bn[0][0]          \n",
            "__________________________________________________________________________________________________\n",
            "conv2_block2_3_conv (Conv2D)    (None, 56, 56, 256)  16640       conv2_block2_2_relu[0][0]        \n",
            "__________________________________________________________________________________________________\n",
            "conv2_block2_3_bn (BatchNormali (None, 56, 56, 256)  1024        conv2_block2_3_conv[0][0]        \n",
            "__________________________________________________________________________________________________\n",
            "conv2_block2_add (Add)          (None, 56, 56, 256)  0           conv2_block1_out[0][0]           \n",
            "                                                                 conv2_block2_3_bn[0][0]          \n",
            "__________________________________________________________________________________________________\n",
            "conv2_block2_out (Activation)   (None, 56, 56, 256)  0           conv2_block2_add[0][0]           \n",
            "__________________________________________________________________________________________________\n",
            "conv2_block3_1_conv (Conv2D)    (None, 56, 56, 64)   16448       conv2_block2_out[0][0]           \n",
            "__________________________________________________________________________________________________\n",
            "conv2_block3_1_bn (BatchNormali (None, 56, 56, 64)   256         conv2_block3_1_conv[0][0]        \n",
            "__________________________________________________________________________________________________\n",
            "conv2_block3_1_relu (Activation (None, 56, 56, 64)   0           conv2_block3_1_bn[0][0]          \n",
            "__________________________________________________________________________________________________\n",
            "conv2_block3_2_conv (Conv2D)    (None, 56, 56, 64)   36928       conv2_block3_1_relu[0][0]        \n",
            "__________________________________________________________________________________________________\n",
            "conv2_block3_2_bn (BatchNormali (None, 56, 56, 64)   256         conv2_block3_2_conv[0][0]        \n",
            "__________________________________________________________________________________________________\n",
            "conv2_block3_2_relu (Activation (None, 56, 56, 64)   0           conv2_block3_2_bn[0][0]          \n",
            "__________________________________________________________________________________________________\n",
            "conv2_block3_3_conv (Conv2D)    (None, 56, 56, 256)  16640       conv2_block3_2_relu[0][0]        \n",
            "__________________________________________________________________________________________________\n",
            "conv2_block3_3_bn (BatchNormali (None, 56, 56, 256)  1024        conv2_block3_3_conv[0][0]        \n",
            "__________________________________________________________________________________________________\n",
            "conv2_block3_add (Add)          (None, 56, 56, 256)  0           conv2_block2_out[0][0]           \n",
            "                                                                 conv2_block3_3_bn[0][0]          \n",
            "__________________________________________________________________________________________________\n",
            "conv2_block3_out (Activation)   (None, 56, 56, 256)  0           conv2_block3_add[0][0]           \n",
            "__________________________________________________________________________________________________\n",
            "conv3_block1_1_conv (Conv2D)    (None, 28, 28, 128)  32896       conv2_block3_out[0][0]           \n",
            "__________________________________________________________________________________________________\n",
            "conv3_block1_1_bn (BatchNormali (None, 28, 28, 128)  512         conv3_block1_1_conv[0][0]        \n",
            "__________________________________________________________________________________________________\n",
            "conv3_block1_1_relu (Activation (None, 28, 28, 128)  0           conv3_block1_1_bn[0][0]          \n",
            "__________________________________________________________________________________________________\n",
            "conv3_block1_2_conv (Conv2D)    (None, 28, 28, 128)  147584      conv3_block1_1_relu[0][0]        \n",
            "__________________________________________________________________________________________________\n",
            "conv3_block1_2_bn (BatchNormali (None, 28, 28, 128)  512         conv3_block1_2_conv[0][0]        \n",
            "__________________________________________________________________________________________________\n",
            "conv3_block1_2_relu (Activation (None, 28, 28, 128)  0           conv3_block1_2_bn[0][0]          \n",
            "__________________________________________________________________________________________________\n",
            "conv3_block1_0_conv (Conv2D)    (None, 28, 28, 512)  131584      conv2_block3_out[0][0]           \n",
            "__________________________________________________________________________________________________\n",
            "conv3_block1_3_conv (Conv2D)    (None, 28, 28, 512)  66048       conv3_block1_2_relu[0][0]        \n",
            "__________________________________________________________________________________________________\n",
            "conv3_block1_0_bn (BatchNormali (None, 28, 28, 512)  2048        conv3_block1_0_conv[0][0]        \n",
            "__________________________________________________________________________________________________\n",
            "conv3_block1_3_bn (BatchNormali (None, 28, 28, 512)  2048        conv3_block1_3_conv[0][0]        \n",
            "__________________________________________________________________________________________________\n",
            "conv3_block1_add (Add)          (None, 28, 28, 512)  0           conv3_block1_0_bn[0][0]          \n",
            "                                                                 conv3_block1_3_bn[0][0]          \n",
            "__________________________________________________________________________________________________\n",
            "conv3_block1_out (Activation)   (None, 28, 28, 512)  0           conv3_block1_add[0][0]           \n",
            "__________________________________________________________________________________________________\n",
            "conv3_block2_1_conv (Conv2D)    (None, 28, 28, 128)  65664       conv3_block1_out[0][0]           \n",
            "__________________________________________________________________________________________________\n",
            "conv3_block2_1_bn (BatchNormali (None, 28, 28, 128)  512         conv3_block2_1_conv[0][0]        \n",
            "__________________________________________________________________________________________________\n",
            "conv3_block2_1_relu (Activation (None, 28, 28, 128)  0           conv3_block2_1_bn[0][0]          \n",
            "__________________________________________________________________________________________________\n",
            "conv3_block2_2_conv (Conv2D)    (None, 28, 28, 128)  147584      conv3_block2_1_relu[0][0]        \n",
            "__________________________________________________________________________________________________\n",
            "conv3_block2_2_bn (BatchNormali (None, 28, 28, 128)  512         conv3_block2_2_conv[0][0]        \n",
            "__________________________________________________________________________________________________\n",
            "conv3_block2_2_relu (Activation (None, 28, 28, 128)  0           conv3_block2_2_bn[0][0]          \n",
            "__________________________________________________________________________________________________\n",
            "conv3_block2_3_conv (Conv2D)    (None, 28, 28, 512)  66048       conv3_block2_2_relu[0][0]        \n",
            "__________________________________________________________________________________________________\n",
            "conv3_block2_3_bn (BatchNormali (None, 28, 28, 512)  2048        conv3_block2_3_conv[0][0]        \n",
            "__________________________________________________________________________________________________\n",
            "conv3_block2_add (Add)          (None, 28, 28, 512)  0           conv3_block1_out[0][0]           \n",
            "                                                                 conv3_block2_3_bn[0][0]          \n",
            "__________________________________________________________________________________________________\n",
            "conv3_block2_out (Activation)   (None, 28, 28, 512)  0           conv3_block2_add[0][0]           \n",
            "__________________________________________________________________________________________________\n",
            "conv3_block3_1_conv (Conv2D)    (None, 28, 28, 128)  65664       conv3_block2_out[0][0]           \n",
            "__________________________________________________________________________________________________\n",
            "conv3_block3_1_bn (BatchNormali (None, 28, 28, 128)  512         conv3_block3_1_conv[0][0]        \n",
            "__________________________________________________________________________________________________\n",
            "conv3_block3_1_relu (Activation (None, 28, 28, 128)  0           conv3_block3_1_bn[0][0]          \n",
            "__________________________________________________________________________________________________\n",
            "conv3_block3_2_conv (Conv2D)    (None, 28, 28, 128)  147584      conv3_block3_1_relu[0][0]        \n",
            "__________________________________________________________________________________________________\n",
            "conv3_block3_2_bn (BatchNormali (None, 28, 28, 128)  512         conv3_block3_2_conv[0][0]        \n",
            "__________________________________________________________________________________________________\n",
            "conv3_block3_2_relu (Activation (None, 28, 28, 128)  0           conv3_block3_2_bn[0][0]          \n",
            "__________________________________________________________________________________________________\n",
            "conv3_block3_3_conv (Conv2D)    (None, 28, 28, 512)  66048       conv3_block3_2_relu[0][0]        \n",
            "__________________________________________________________________________________________________\n",
            "conv3_block3_3_bn (BatchNormali (None, 28, 28, 512)  2048        conv3_block3_3_conv[0][0]        \n",
            "__________________________________________________________________________________________________\n",
            "conv3_block3_add (Add)          (None, 28, 28, 512)  0           conv3_block2_out[0][0]           \n",
            "                                                                 conv3_block3_3_bn[0][0]          \n",
            "__________________________________________________________________________________________________\n",
            "conv3_block3_out (Activation)   (None, 28, 28, 512)  0           conv3_block3_add[0][0]           \n",
            "__________________________________________________________________________________________________\n",
            "conv3_block4_1_conv (Conv2D)    (None, 28, 28, 128)  65664       conv3_block3_out[0][0]           \n",
            "__________________________________________________________________________________________________\n",
            "conv3_block4_1_bn (BatchNormali (None, 28, 28, 128)  512         conv3_block4_1_conv[0][0]        \n",
            "__________________________________________________________________________________________________\n",
            "conv3_block4_1_relu (Activation (None, 28, 28, 128)  0           conv3_block4_1_bn[0][0]          \n",
            "__________________________________________________________________________________________________\n",
            "conv3_block4_2_conv (Conv2D)    (None, 28, 28, 128)  147584      conv3_block4_1_relu[0][0]        \n",
            "__________________________________________________________________________________________________\n",
            "conv3_block4_2_bn (BatchNormali (None, 28, 28, 128)  512         conv3_block4_2_conv[0][0]        \n",
            "__________________________________________________________________________________________________\n",
            "conv3_block4_2_relu (Activation (None, 28, 28, 128)  0           conv3_block4_2_bn[0][0]          \n",
            "__________________________________________________________________________________________________\n",
            "conv3_block4_3_conv (Conv2D)    (None, 28, 28, 512)  66048       conv3_block4_2_relu[0][0]        \n",
            "__________________________________________________________________________________________________\n",
            "conv3_block4_3_bn (BatchNormali (None, 28, 28, 512)  2048        conv3_block4_3_conv[0][0]        \n",
            "__________________________________________________________________________________________________\n",
            "conv3_block4_add (Add)          (None, 28, 28, 512)  0           conv3_block3_out[0][0]           \n",
            "                                                                 conv3_block4_3_bn[0][0]          \n",
            "__________________________________________________________________________________________________\n",
            "conv3_block4_out (Activation)   (None, 28, 28, 512)  0           conv3_block4_add[0][0]           \n",
            "__________________________________________________________________________________________________\n",
            "conv4_block1_1_conv (Conv2D)    (None, 14, 14, 256)  131328      conv3_block4_out[0][0]           \n",
            "__________________________________________________________________________________________________\n",
            "conv4_block1_1_bn (BatchNormali (None, 14, 14, 256)  1024        conv4_block1_1_conv[0][0]        \n",
            "__________________________________________________________________________________________________\n",
            "conv4_block1_1_relu (Activation (None, 14, 14, 256)  0           conv4_block1_1_bn[0][0]          \n",
            "__________________________________________________________________________________________________\n",
            "conv4_block1_2_conv (Conv2D)    (None, 14, 14, 256)  590080      conv4_block1_1_relu[0][0]        \n",
            "__________________________________________________________________________________________________\n",
            "conv4_block1_2_bn (BatchNormali (None, 14, 14, 256)  1024        conv4_block1_2_conv[0][0]        \n",
            "__________________________________________________________________________________________________\n",
            "conv4_block1_2_relu (Activation (None, 14, 14, 256)  0           conv4_block1_2_bn[0][0]          \n",
            "__________________________________________________________________________________________________\n",
            "conv4_block1_0_conv (Conv2D)    (None, 14, 14, 1024) 525312      conv3_block4_out[0][0]           \n",
            "__________________________________________________________________________________________________\n",
            "conv4_block1_3_conv (Conv2D)    (None, 14, 14, 1024) 263168      conv4_block1_2_relu[0][0]        \n",
            "__________________________________________________________________________________________________\n",
            "conv4_block1_0_bn (BatchNormali (None, 14, 14, 1024) 4096        conv4_block1_0_conv[0][0]        \n",
            "__________________________________________________________________________________________________\n",
            "conv4_block1_3_bn (BatchNormali (None, 14, 14, 1024) 4096        conv4_block1_3_conv[0][0]        \n",
            "__________________________________________________________________________________________________\n",
            "conv4_block1_add (Add)          (None, 14, 14, 1024) 0           conv4_block1_0_bn[0][0]          \n",
            "                                                                 conv4_block1_3_bn[0][0]          \n",
            "__________________________________________________________________________________________________\n",
            "conv4_block1_out (Activation)   (None, 14, 14, 1024) 0           conv4_block1_add[0][0]           \n",
            "__________________________________________________________________________________________________\n",
            "conv4_block2_1_conv (Conv2D)    (None, 14, 14, 256)  262400      conv4_block1_out[0][0]           \n",
            "__________________________________________________________________________________________________\n",
            "conv4_block2_1_bn (BatchNormali (None, 14, 14, 256)  1024        conv4_block2_1_conv[0][0]        \n",
            "__________________________________________________________________________________________________\n",
            "conv4_block2_1_relu (Activation (None, 14, 14, 256)  0           conv4_block2_1_bn[0][0]          \n",
            "__________________________________________________________________________________________________\n",
            "conv4_block2_2_conv (Conv2D)    (None, 14, 14, 256)  590080      conv4_block2_1_relu[0][0]        \n",
            "__________________________________________________________________________________________________\n",
            "conv4_block2_2_bn (BatchNormali (None, 14, 14, 256)  1024        conv4_block2_2_conv[0][0]        \n",
            "__________________________________________________________________________________________________\n",
            "conv4_block2_2_relu (Activation (None, 14, 14, 256)  0           conv4_block2_2_bn[0][0]          \n",
            "__________________________________________________________________________________________________\n",
            "conv4_block2_3_conv (Conv2D)    (None, 14, 14, 1024) 263168      conv4_block2_2_relu[0][0]        \n",
            "__________________________________________________________________________________________________\n",
            "conv4_block2_3_bn (BatchNormali (None, 14, 14, 1024) 4096        conv4_block2_3_conv[0][0]        \n",
            "__________________________________________________________________________________________________\n",
            "conv4_block2_add (Add)          (None, 14, 14, 1024) 0           conv4_block1_out[0][0]           \n",
            "                                                                 conv4_block2_3_bn[0][0]          \n",
            "__________________________________________________________________________________________________\n",
            "conv4_block2_out (Activation)   (None, 14, 14, 1024) 0           conv4_block2_add[0][0]           \n",
            "__________________________________________________________________________________________________\n",
            "conv4_block3_1_conv (Conv2D)    (None, 14, 14, 256)  262400      conv4_block2_out[0][0]           \n",
            "__________________________________________________________________________________________________\n",
            "conv4_block3_1_bn (BatchNormali (None, 14, 14, 256)  1024        conv4_block3_1_conv[0][0]        \n",
            "__________________________________________________________________________________________________\n",
            "conv4_block3_1_relu (Activation (None, 14, 14, 256)  0           conv4_block3_1_bn[0][0]          \n",
            "__________________________________________________________________________________________________\n",
            "conv4_block3_2_conv (Conv2D)    (None, 14, 14, 256)  590080      conv4_block3_1_relu[0][0]        \n",
            "__________________________________________________________________________________________________\n",
            "conv4_block3_2_bn (BatchNormali (None, 14, 14, 256)  1024        conv4_block3_2_conv[0][0]        \n",
            "__________________________________________________________________________________________________\n",
            "conv4_block3_2_relu (Activation (None, 14, 14, 256)  0           conv4_block3_2_bn[0][0]          \n",
            "__________________________________________________________________________________________________\n",
            "conv4_block3_3_conv (Conv2D)    (None, 14, 14, 1024) 263168      conv4_block3_2_relu[0][0]        \n",
            "__________________________________________________________________________________________________\n",
            "conv4_block3_3_bn (BatchNormali (None, 14, 14, 1024) 4096        conv4_block3_3_conv[0][0]        \n",
            "__________________________________________________________________________________________________\n",
            "conv4_block3_add (Add)          (None, 14, 14, 1024) 0           conv4_block2_out[0][0]           \n",
            "                                                                 conv4_block3_3_bn[0][0]          \n",
            "__________________________________________________________________________________________________\n",
            "conv4_block3_out (Activation)   (None, 14, 14, 1024) 0           conv4_block3_add[0][0]           \n",
            "__________________________________________________________________________________________________\n",
            "conv4_block4_1_conv (Conv2D)    (None, 14, 14, 256)  262400      conv4_block3_out[0][0]           \n",
            "__________________________________________________________________________________________________\n",
            "conv4_block4_1_bn (BatchNormali (None, 14, 14, 256)  1024        conv4_block4_1_conv[0][0]        \n",
            "__________________________________________________________________________________________________\n",
            "conv4_block4_1_relu (Activation (None, 14, 14, 256)  0           conv4_block4_1_bn[0][0]          \n",
            "__________________________________________________________________________________________________\n",
            "conv4_block4_2_conv (Conv2D)    (None, 14, 14, 256)  590080      conv4_block4_1_relu[0][0]        \n",
            "__________________________________________________________________________________________________\n",
            "conv4_block4_2_bn (BatchNormali (None, 14, 14, 256)  1024        conv4_block4_2_conv[0][0]        \n",
            "__________________________________________________________________________________________________\n",
            "conv4_block4_2_relu (Activation (None, 14, 14, 256)  0           conv4_block4_2_bn[0][0]          \n",
            "__________________________________________________________________________________________________\n",
            "conv4_block4_3_conv (Conv2D)    (None, 14, 14, 1024) 263168      conv4_block4_2_relu[0][0]        \n",
            "__________________________________________________________________________________________________\n",
            "conv4_block4_3_bn (BatchNormali (None, 14, 14, 1024) 4096        conv4_block4_3_conv[0][0]        \n",
            "__________________________________________________________________________________________________\n",
            "conv4_block4_add (Add)          (None, 14, 14, 1024) 0           conv4_block3_out[0][0]           \n",
            "                                                                 conv4_block4_3_bn[0][0]          \n",
            "__________________________________________________________________________________________________\n",
            "conv4_block4_out (Activation)   (None, 14, 14, 1024) 0           conv4_block4_add[0][0]           \n",
            "__________________________________________________________________________________________________\n",
            "conv4_block5_1_conv (Conv2D)    (None, 14, 14, 256)  262400      conv4_block4_out[0][0]           \n",
            "__________________________________________________________________________________________________\n",
            "conv4_block5_1_bn (BatchNormali (None, 14, 14, 256)  1024        conv4_block5_1_conv[0][0]        \n",
            "__________________________________________________________________________________________________\n",
            "conv4_block5_1_relu (Activation (None, 14, 14, 256)  0           conv4_block5_1_bn[0][0]          \n",
            "__________________________________________________________________________________________________\n",
            "conv4_block5_2_conv (Conv2D)    (None, 14, 14, 256)  590080      conv4_block5_1_relu[0][0]        \n",
            "__________________________________________________________________________________________________\n",
            "conv4_block5_2_bn (BatchNormali (None, 14, 14, 256)  1024        conv4_block5_2_conv[0][0]        \n",
            "__________________________________________________________________________________________________\n",
            "conv4_block5_2_relu (Activation (None, 14, 14, 256)  0           conv4_block5_2_bn[0][0]          \n",
            "__________________________________________________________________________________________________\n",
            "conv4_block5_3_conv (Conv2D)    (None, 14, 14, 1024) 263168      conv4_block5_2_relu[0][0]        \n",
            "__________________________________________________________________________________________________\n",
            "conv4_block5_3_bn (BatchNormali (None, 14, 14, 1024) 4096        conv4_block5_3_conv[0][0]        \n",
            "__________________________________________________________________________________________________\n",
            "conv4_block5_add (Add)          (None, 14, 14, 1024) 0           conv4_block4_out[0][0]           \n",
            "                                                                 conv4_block5_3_bn[0][0]          \n",
            "__________________________________________________________________________________________________\n",
            "conv4_block5_out (Activation)   (None, 14, 14, 1024) 0           conv4_block5_add[0][0]           \n",
            "__________________________________________________________________________________________________\n",
            "conv4_block6_1_conv (Conv2D)    (None, 14, 14, 256)  262400      conv4_block5_out[0][0]           \n",
            "__________________________________________________________________________________________________\n",
            "conv4_block6_1_bn (BatchNormali (None, 14, 14, 256)  1024        conv4_block6_1_conv[0][0]        \n",
            "__________________________________________________________________________________________________\n",
            "conv4_block6_1_relu (Activation (None, 14, 14, 256)  0           conv4_block6_1_bn[0][0]          \n",
            "__________________________________________________________________________________________________\n",
            "conv4_block6_2_conv (Conv2D)    (None, 14, 14, 256)  590080      conv4_block6_1_relu[0][0]        \n",
            "__________________________________________________________________________________________________\n",
            "conv4_block6_2_bn (BatchNormali (None, 14, 14, 256)  1024        conv4_block6_2_conv[0][0]        \n",
            "__________________________________________________________________________________________________\n",
            "conv4_block6_2_relu (Activation (None, 14, 14, 256)  0           conv4_block6_2_bn[0][0]          \n",
            "__________________________________________________________________________________________________\n",
            "conv4_block6_3_conv (Conv2D)    (None, 14, 14, 1024) 263168      conv4_block6_2_relu[0][0]        \n",
            "__________________________________________________________________________________________________\n",
            "conv4_block6_3_bn (BatchNormali (None, 14, 14, 1024) 4096        conv4_block6_3_conv[0][0]        \n",
            "__________________________________________________________________________________________________\n",
            "conv4_block6_add (Add)          (None, 14, 14, 1024) 0           conv4_block5_out[0][0]           \n",
            "                                                                 conv4_block6_3_bn[0][0]          \n",
            "__________________________________________________________________________________________________\n",
            "conv4_block6_out (Activation)   (None, 14, 14, 1024) 0           conv4_block6_add[0][0]           \n",
            "__________________________________________________________________________________________________\n",
            "conv5_block1_1_conv (Conv2D)    (None, 7, 7, 512)    524800      conv4_block6_out[0][0]           \n",
            "__________________________________________________________________________________________________\n",
            "conv5_block1_1_bn (BatchNormali (None, 7, 7, 512)    2048        conv5_block1_1_conv[0][0]        \n",
            "__________________________________________________________________________________________________\n",
            "conv5_block1_1_relu (Activation (None, 7, 7, 512)    0           conv5_block1_1_bn[0][0]          \n",
            "__________________________________________________________________________________________________\n",
            "conv5_block1_2_conv (Conv2D)    (None, 7, 7, 512)    2359808     conv5_block1_1_relu[0][0]        \n",
            "__________________________________________________________________________________________________\n",
            "conv5_block1_2_bn (BatchNormali (None, 7, 7, 512)    2048        conv5_block1_2_conv[0][0]        \n",
            "__________________________________________________________________________________________________\n",
            "conv5_block1_2_relu (Activation (None, 7, 7, 512)    0           conv5_block1_2_bn[0][0]          \n",
            "__________________________________________________________________________________________________\n",
            "conv5_block1_0_conv (Conv2D)    (None, 7, 7, 2048)   2099200     conv4_block6_out[0][0]           \n",
            "__________________________________________________________________________________________________\n",
            "conv5_block1_3_conv (Conv2D)    (None, 7, 7, 2048)   1050624     conv5_block1_2_relu[0][0]        \n",
            "__________________________________________________________________________________________________\n",
            "conv5_block1_0_bn (BatchNormali (None, 7, 7, 2048)   8192        conv5_block1_0_conv[0][0]        \n",
            "__________________________________________________________________________________________________\n",
            "conv5_block1_3_bn (BatchNormali (None, 7, 7, 2048)   8192        conv5_block1_3_conv[0][0]        \n",
            "__________________________________________________________________________________________________\n",
            "conv5_block1_add (Add)          (None, 7, 7, 2048)   0           conv5_block1_0_bn[0][0]          \n",
            "                                                                 conv5_block1_3_bn[0][0]          \n",
            "__________________________________________________________________________________________________\n",
            "conv5_block1_out (Activation)   (None, 7, 7, 2048)   0           conv5_block1_add[0][0]           \n",
            "__________________________________________________________________________________________________\n",
            "conv5_block2_1_conv (Conv2D)    (None, 7, 7, 512)    1049088     conv5_block1_out[0][0]           \n",
            "__________________________________________________________________________________________________\n",
            "conv5_block2_1_bn (BatchNormali (None, 7, 7, 512)    2048        conv5_block2_1_conv[0][0]        \n",
            "__________________________________________________________________________________________________\n",
            "conv5_block2_1_relu (Activation (None, 7, 7, 512)    0           conv5_block2_1_bn[0][0]          \n",
            "__________________________________________________________________________________________________\n",
            "conv5_block2_2_conv (Conv2D)    (None, 7, 7, 512)    2359808     conv5_block2_1_relu[0][0]        \n",
            "__________________________________________________________________________________________________\n",
            "conv5_block2_2_bn (BatchNormali (None, 7, 7, 512)    2048        conv5_block2_2_conv[0][0]        \n",
            "__________________________________________________________________________________________________\n",
            "conv5_block2_2_relu (Activation (None, 7, 7, 512)    0           conv5_block2_2_bn[0][0]          \n",
            "__________________________________________________________________________________________________\n",
            "conv5_block2_3_conv (Conv2D)    (None, 7, 7, 2048)   1050624     conv5_block2_2_relu[0][0]        \n",
            "__________________________________________________________________________________________________\n",
            "conv5_block2_3_bn (BatchNormali (None, 7, 7, 2048)   8192        conv5_block2_3_conv[0][0]        \n",
            "__________________________________________________________________________________________________\n",
            "conv5_block2_add (Add)          (None, 7, 7, 2048)   0           conv5_block1_out[0][0]           \n",
            "                                                                 conv5_block2_3_bn[0][0]          \n",
            "__________________________________________________________________________________________________\n",
            "conv5_block2_out (Activation)   (None, 7, 7, 2048)   0           conv5_block2_add[0][0]           \n",
            "__________________________________________________________________________________________________\n",
            "conv5_block3_1_conv (Conv2D)    (None, 7, 7, 512)    1049088     conv5_block2_out[0][0]           \n",
            "__________________________________________________________________________________________________\n",
            "conv5_block3_1_bn (BatchNormali (None, 7, 7, 512)    2048        conv5_block3_1_conv[0][0]        \n",
            "__________________________________________________________________________________________________\n",
            "conv5_block3_1_relu (Activation (None, 7, 7, 512)    0           conv5_block3_1_bn[0][0]          \n",
            "__________________________________________________________________________________________________\n",
            "conv5_block3_2_conv (Conv2D)    (None, 7, 7, 512)    2359808     conv5_block3_1_relu[0][0]        \n",
            "__________________________________________________________________________________________________\n",
            "conv5_block3_2_bn (BatchNormali (None, 7, 7, 512)    2048        conv5_block3_2_conv[0][0]        \n",
            "__________________________________________________________________________________________________\n",
            "conv5_block3_2_relu (Activation (None, 7, 7, 512)    0           conv5_block3_2_bn[0][0]          \n",
            "__________________________________________________________________________________________________\n",
            "conv5_block3_3_conv (Conv2D)    (None, 7, 7, 2048)   1050624     conv5_block3_2_relu[0][0]        \n",
            "__________________________________________________________________________________________________\n",
            "conv5_block3_3_bn (BatchNormali (None, 7, 7, 2048)   8192        conv5_block3_3_conv[0][0]        \n",
            "__________________________________________________________________________________________________\n",
            "conv5_block3_add (Add)          (None, 7, 7, 2048)   0           conv5_block2_out[0][0]           \n",
            "                                                                 conv5_block3_3_bn[0][0]          \n",
            "__________________________________________________________________________________________________\n",
            "conv5_block3_out (Activation)   (None, 7, 7, 2048)   0           conv5_block3_add[0][0]           \n",
            "__________________________________________________________________________________________________\n",
            "avg_pool (GlobalAveragePooling2 (None, 2048)         0           conv5_block3_out[0][0]           \n",
            "__________________________________________________________________________________________________\n",
            "predictions (Dense)             (None, 1000)         2049000     avg_pool[0][0]                   \n",
            "__________________________________________________________________________________________________\n",
            "salida (Dense)                  (None, 1)            1001        predictions[0][0]                \n",
            "==================================================================================================\n",
            "Total params: 25,637,713\n",
            "Trainable params: 25,584,593\n",
            "Non-trainable params: 53,120\n",
            "__________________________________________________________________________________________________\n"
          ],
          "name": "stdout"
        }
      ]
    },
    {
      "cell_type": "code",
      "metadata": {
        "id": "7fGtZsYu191T",
        "colab_type": "code",
        "colab": {}
      },
      "source": [
        "#SE CONGELAN LOS PESOS DE TODAS LAS CAPAS MENOS DE LAS cuatro ULTIMAS CAPAS\n",
        "for layer in model.layers[:-2]:\n",
        "  layer.trainable=False"
      ],
      "execution_count": 0,
      "outputs": []
    },
    {
      "cell_type": "code",
      "metadata": {
        "id": "HDSJgVPMUKoK",
        "colab_type": "code",
        "outputId": "04a75ca6-a0e4-48e2-aafa-1712887a3fb5",
        "colab": {
          "base_uri": "https://localhost:8080/",
          "height": 1000
        }
      },
      "source": [
        "#SE VERIFICA QUE LAS CUATRO ULTIMAS CAPAS ESTE EN TRUE Y LAS DEMÁS EN FALSE\n",
        "for layer in model.layers:\n",
        "  layer, layer.trainable\n",
        "  print(layer, layer.trainable)"
      ],
      "execution_count": 16,
      "outputs": [
        {
          "output_type": "stream",
          "text": [
            "<tensorflow.python.keras.engine.input_layer.InputLayer object at 0x7f54d02beeb8> False\n",
            "<tensorflow.python.keras.layers.convolutional.ZeroPadding2D object at 0x7f54ff432eb8> False\n",
            "<tensorflow.python.keras.layers.convolutional.Conv2D object at 0x7f54dab20d68> False\n",
            "<tensorflow.python.keras.layers.normalization_v2.BatchNormalization object at 0x7f54d02a6048> False\n",
            "<tensorflow.python.keras.layers.core.Activation object at 0x7f54d02cf160> False\n",
            "<tensorflow.python.keras.layers.convolutional.ZeroPadding2D object at 0x7f54d01efc50> False\n",
            "<tensorflow.python.keras.layers.pooling.MaxPooling2D object at 0x7f54d01ffb38> False\n",
            "<tensorflow.python.keras.layers.convolutional.Conv2D object at 0x7f54d02717f0> False\n",
            "<tensorflow.python.keras.layers.normalization_v2.BatchNormalization object at 0x7f54d01b4358> False\n",
            "<tensorflow.python.keras.layers.core.Activation object at 0x7f54d01b4b38> False\n",
            "<tensorflow.python.keras.layers.convolutional.Conv2D object at 0x7f54d01bc4a8> False\n",
            "<tensorflow.python.keras.layers.normalization_v2.BatchNormalization object at 0x7f54d0161748> False\n",
            "<tensorflow.python.keras.layers.core.Activation object at 0x7f54d0161f28> False\n",
            "<tensorflow.python.keras.layers.convolutional.Conv2D object at 0x7f54d01ff748> False\n",
            "<tensorflow.python.keras.layers.convolutional.Conv2D object at 0x7f54d0166940> False\n",
            "<tensorflow.python.keras.layers.normalization_v2.BatchNormalization object at 0x7f54d0271518> False\n",
            "<tensorflow.python.keras.layers.normalization_v2.BatchNormalization object at 0x7f54d018ec18> False\n",
            "<tensorflow.python.keras.layers.merge.Add object at 0x7f54d0195390> False\n",
            "<tensorflow.python.keras.layers.core.Activation object at 0x7f54d0195d68> False\n",
            "<tensorflow.python.keras.layers.convolutional.Conv2D object at 0x7f54d013af60> False\n",
            "<tensorflow.python.keras.layers.normalization_v2.BatchNormalization object at 0x7f54d0142550> False\n",
            "<tensorflow.python.keras.layers.core.Activation object at 0x7f54d0142dd8> False\n",
            "<tensorflow.python.keras.layers.convolutional.Conv2D object at 0x7f54d014a748> False\n",
            "<tensorflow.python.keras.layers.normalization_v2.BatchNormalization object at 0x7f54d00f09e8> False\n",
            "<tensorflow.python.keras.layers.core.Activation object at 0x7f54d00f9be0> False\n",
            "<tensorflow.python.keras.layers.convolutional.Conv2D object at 0x7f54d00f93c8> False\n",
            "<tensorflow.python.keras.layers.normalization_v2.BatchNormalization object at 0x7f54d009ef28> False\n",
            "<tensorflow.python.keras.layers.merge.Add object at 0x7f54d00a5400> False\n",
            "<tensorflow.python.keras.layers.core.Activation object at 0x7f54d00a9048> False\n",
            "<tensorflow.python.keras.layers.convolutional.Conv2D object at 0x7f54d00d44a8> False\n",
            "<tensorflow.python.keras.layers.normalization_v2.BatchNormalization object at 0x7f54d00d47f0> False\n",
            "<tensorflow.python.keras.layers.core.Activation object at 0x7f54d00d4f28> False\n",
            "<tensorflow.python.keras.layers.convolutional.Conv2D object at 0x7f54d00db8d0> False\n",
            "<tensorflow.python.keras.layers.normalization_v2.BatchNormalization object at 0x7f54d0080cc0> False\n",
            "<tensorflow.python.keras.layers.core.Activation object at 0x7f54d0088e80> False\n",
            "<tensorflow.python.keras.layers.convolutional.Conv2D object at 0x7f54d0088630> False\n",
            "<tensorflow.python.keras.layers.normalization_v2.BatchNormalization object at 0x7f54d0037160> False\n",
            "<tensorflow.python.keras.layers.merge.Add object at 0x7f54d00376a0> False\n",
            "<tensorflow.python.keras.layers.core.Activation object at 0x7f54d02bb048> False\n",
            "<tensorflow.python.keras.layers.convolutional.Conv2D object at 0x7f54dab013c8> False\n",
            "<tensorflow.python.keras.layers.normalization_v2.BatchNormalization object at 0x7f54dab43080> False\n",
            "<tensorflow.python.keras.layers.core.Activation object at 0x7f54dab27ef0> False\n",
            "<tensorflow.python.keras.layers.convolutional.Conv2D object at 0x7f54dabd24e0> False\n",
            "<tensorflow.python.keras.layers.normalization_v2.BatchNormalization object at 0x7f54db0a94e0> False\n",
            "<tensorflow.python.keras.layers.core.Activation object at 0x7f54db043518> False\n",
            "<tensorflow.python.keras.layers.convolutional.Conv2D object at 0x7f54daaf1c88> False\n",
            "<tensorflow.python.keras.layers.convolutional.Conv2D object at 0x7f54db043e10> False\n",
            "<tensorflow.python.keras.layers.normalization_v2.BatchNormalization object at 0x7f54daaf1400> False\n",
            "<tensorflow.python.keras.layers.normalization_v2.BatchNormalization object at 0x7f54db4d3ef0> False\n",
            "<tensorflow.python.keras.layers.merge.Add object at 0x7f54dab99a58> False\n",
            "<tensorflow.python.keras.layers.core.Activation object at 0x7f54dab39cf8> False\n",
            "<tensorflow.python.keras.layers.convolutional.Conv2D object at 0x7f54d00478d0> False\n",
            "<tensorflow.python.keras.layers.normalization_v2.BatchNormalization object at 0x7f54d0047c50> False\n",
            "<tensorflow.python.keras.layers.core.Activation object at 0x7f54d0048e10> False\n",
            "<tensorflow.python.keras.layers.convolutional.Conv2D object at 0x7f54d00485c0> False\n",
            "<tensorflow.python.keras.layers.normalization_v2.BatchNormalization object at 0x7f54dab65128> False\n",
            "<tensorflow.python.keras.layers.core.Activation object at 0x7f54dab659b0> False\n",
            "<tensorflow.python.keras.layers.convolutional.Conv2D object at 0x7f54dab7c2e8> False\n",
            "<tensorflow.python.keras.layers.normalization_v2.BatchNormalization object at 0x7f54db088630> False\n",
            "<tensorflow.python.keras.layers.merge.Add object at 0x7f54db088b70> False\n",
            "<tensorflow.python.keras.layers.core.Activation object at 0x7f54808187b8> False\n",
            "<tensorflow.python.keras.layers.convolutional.Conv2D object at 0x7f5480842940> False\n",
            "<tensorflow.python.keras.layers.normalization_v2.BatchNormalization object at 0x7f54808461d0> False\n",
            "<tensorflow.python.keras.layers.core.Activation object at 0x7f5480846898> False\n",
            "<tensorflow.python.keras.layers.convolutional.Conv2D object at 0x7f548084b1d0> False\n",
            "<tensorflow.python.keras.layers.normalization_v2.BatchNormalization object at 0x7f54807f04e0> False\n",
            "<tensorflow.python.keras.layers.core.Activation object at 0x7f54807f0d68> False\n",
            "<tensorflow.python.keras.layers.convolutional.Conv2D object at 0x7f54807f76d8> False\n",
            "<tensorflow.python.keras.layers.normalization_v2.BatchNormalization object at 0x7f548079d9e8> False\n",
            "<tensorflow.python.keras.layers.merge.Add object at 0x7f54807a2198> False\n",
            "<tensorflow.python.keras.layers.core.Activation object at 0x7f54807a2b70> False\n",
            "<tensorflow.python.keras.layers.convolutional.Conv2D object at 0x7f54807c6dd8> False\n",
            "<tensorflow.python.keras.layers.normalization_v2.BatchNormalization object at 0x7f54807ce3c8> False\n",
            "<tensorflow.python.keras.layers.core.Activation object at 0x7f54807cec50> False\n",
            "<tensorflow.python.keras.layers.convolutional.Conv2D object at 0x7f54807d65c0> False\n",
            "<tensorflow.python.keras.layers.normalization_v2.BatchNormalization object at 0x7f5480780898> False\n",
            "<tensorflow.python.keras.layers.core.Activation object at 0x7f5480787a58> False\n",
            "<tensorflow.python.keras.layers.convolutional.Conv2D object at 0x7f5480787080> False\n",
            "<tensorflow.python.keras.layers.normalization_v2.BatchNormalization object at 0x7f548072cdd8> False\n",
            "<tensorflow.python.keras.layers.merge.Add object at 0x7f5480733550> False\n",
            "<tensorflow.python.keras.layers.core.Activation object at 0x7f5480733f28> False\n",
            "<tensorflow.python.keras.layers.convolutional.Conv2D object at 0x7f54806e1f60> False\n",
            "<tensorflow.python.keras.layers.normalization_v2.BatchNormalization object at 0x7f548070c828> False\n",
            "<tensorflow.python.keras.layers.core.Activation object at 0x7f548070cef0> False\n",
            "<tensorflow.python.keras.layers.convolutional.Conv2D object at 0x7f5480713898> False\n",
            "<tensorflow.python.keras.layers.normalization_v2.BatchNormalization object at 0x7f54806bdcf8> False\n",
            "<tensorflow.python.keras.layers.core.Activation object at 0x7f54806c1eb8> False\n",
            "<tensorflow.python.keras.layers.convolutional.Conv2D object at 0x7f54806e1438> False\n",
            "<tensorflow.python.keras.layers.convolutional.Conv2D object at 0x7f54806c1668> False\n",
            "<tensorflow.python.keras.layers.normalization_v2.BatchNormalization object at 0x7f54806e1780> False\n",
            "<tensorflow.python.keras.layers.normalization_v2.BatchNormalization object at 0x7f548066e208> False\n",
            "<tensorflow.python.keras.layers.merge.Add object at 0x7f548066e748> False\n",
            "<tensorflow.python.keras.layers.core.Activation object at 0x7f54806772e8> False\n",
            "<tensorflow.python.keras.layers.convolutional.Conv2D object at 0x7f5480620860> False\n",
            "<tensorflow.python.keras.layers.normalization_v2.BatchNormalization object at 0x7f5480620be0> False\n",
            "<tensorflow.python.keras.layers.core.Activation object at 0x7f5480625da0> False\n",
            "<tensorflow.python.keras.layers.convolutional.Conv2D object at 0x7f5480625550> False\n",
            "<tensorflow.python.keras.layers.normalization_v2.BatchNormalization object at 0x7f54806520b8> False\n",
            "<tensorflow.python.keras.layers.core.Activation object at 0x7f5480652940> False\n",
            "<tensorflow.python.keras.layers.convolutional.Conv2D object at 0x7f54805d9278> False\n",
            "<tensorflow.python.keras.layers.normalization_v2.BatchNormalization object at 0x7f54806025c0> False\n",
            "<tensorflow.python.keras.layers.merge.Add object at 0x7f5480602b00> False\n",
            "<tensorflow.python.keras.layers.core.Activation object at 0x7f5480606748> False\n",
            "<tensorflow.python.keras.layers.convolutional.Conv2D object at 0x7f54805aec18> False\n",
            "<tensorflow.python.keras.layers.normalization_v2.BatchNormalization object at 0x7f54805b6470> False\n",
            "<tensorflow.python.keras.layers.core.Activation object at 0x7f54805b6828> False\n",
            "<tensorflow.python.keras.layers.convolutional.Conv2D object at 0x7f54805bb160> False\n",
            "<tensorflow.python.keras.layers.normalization_v2.BatchNormalization object at 0x7f5480563470> False\n",
            "<tensorflow.python.keras.layers.core.Activation object at 0x7f5480563cf8> False\n",
            "<tensorflow.python.keras.layers.convolutional.Conv2D object at 0x7f5480567668> False\n",
            "<tensorflow.python.keras.layers.normalization_v2.BatchNormalization object at 0x7f548058f978> False\n",
            "<tensorflow.python.keras.layers.merge.Add object at 0x7f5480517160> False\n",
            "<tensorflow.python.keras.layers.core.Activation object at 0x7f5480517b00> False\n",
            "<tensorflow.python.keras.layers.convolutional.Conv2D object at 0x7f548053cc88> False\n",
            "<tensorflow.python.keras.layers.normalization_v2.BatchNormalization object at 0x7f5480546358> False\n",
            "<tensorflow.python.keras.layers.core.Activation object at 0x7f5480546be0> False\n",
            "<tensorflow.python.keras.layers.convolutional.Conv2D object at 0x7f548054f550> False\n",
            "<tensorflow.python.keras.layers.normalization_v2.BatchNormalization object at 0x7f54804f4828> False\n",
            "<tensorflow.python.keras.layers.core.Activation object at 0x7f54804f4f98> False\n",
            "<tensorflow.python.keras.layers.convolutional.Conv2D object at 0x7f54804fc908> False\n",
            "<tensorflow.python.keras.layers.normalization_v2.BatchNormalization object at 0x7f54804a2d68> False\n",
            "<tensorflow.python.keras.layers.merge.Add object at 0x7f54804a9f28> False\n",
            "<tensorflow.python.keras.layers.core.Activation object at 0x7f54804a95f8> False\n",
            "<tensorflow.python.keras.layers.convolutional.Conv2D object at 0x7f54804d43c8> False\n",
            "<tensorflow.python.keras.layers.normalization_v2.BatchNormalization object at 0x7f54804d4710> False\n",
            "<tensorflow.python.keras.layers.core.Activation object at 0x7f54804d4ef0> False\n",
            "<tensorflow.python.keras.layers.convolutional.Conv2D object at 0x7f548045c8d0> False\n",
            "<tensorflow.python.keras.layers.normalization_v2.BatchNormalization object at 0x7f5480483c18> False\n",
            "<tensorflow.python.keras.layers.core.Activation object at 0x7f548048bdd8> False\n",
            "<tensorflow.python.keras.layers.convolutional.Conv2D object at 0x7f548048b588> False\n",
            "<tensorflow.python.keras.layers.normalization_v2.BatchNormalization object at 0x7f5480433128> False\n",
            "<tensorflow.python.keras.layers.merge.Add object at 0x7f5480433668> False\n",
            "<tensorflow.python.keras.layers.core.Activation object at 0x7f548043f2b0> False\n",
            "<tensorflow.python.keras.layers.convolutional.Conv2D object at 0x7f54803e7780> False\n",
            "<tensorflow.python.keras.layers.normalization_v2.BatchNormalization object at 0x7f54803e7ac8> False\n",
            "<tensorflow.python.keras.layers.core.Activation object at 0x7f54803edcc0> False\n",
            "<tensorflow.python.keras.layers.convolutional.Conv2D object at 0x7f54803ed470> False\n",
            "<tensorflow.python.keras.layers.normalization_v2.BatchNormalization object at 0x7f548039c4e0> False\n",
            "<tensorflow.python.keras.layers.core.Activation object at 0x7f548039c860> False\n",
            "<tensorflow.python.keras.layers.convolutional.Conv2D object at 0x7f54803a1198> False\n",
            "<tensorflow.python.keras.layers.normalization_v2.BatchNormalization object at 0x7f54803c84e0> False\n",
            "<tensorflow.python.keras.layers.merge.Add object at 0x7f54803c8a20> False\n",
            "<tensorflow.python.keras.layers.core.Activation object at 0x7f54803ce5c0> False\n",
            "<tensorflow.python.keras.layers.convolutional.Conv2D object at 0x7f548037e400> False\n",
            "<tensorflow.python.keras.layers.normalization_v2.BatchNormalization object at 0x7f548032a0f0> False\n",
            "<tensorflow.python.keras.layers.core.Activation object at 0x7f548032af98> False\n",
            "<tensorflow.python.keras.layers.convolutional.Conv2D object at 0x7f5480350e10> False\n",
            "<tensorflow.python.keras.layers.normalization_v2.BatchNormalization object at 0x7f54802d8400> False\n",
            "<tensorflow.python.keras.layers.core.Activation object at 0x7f54802d8c88> False\n",
            "<tensorflow.python.keras.layers.convolutional.Conv2D object at 0x7f5480376b38> False\n",
            "<tensorflow.python.keras.layers.convolutional.Conv2D object at 0x7f54802e05f8> False\n",
            "<tensorflow.python.keras.layers.normalization_v2.BatchNormalization object at 0x7f5480376f28> False\n",
            "<tensorflow.python.keras.layers.normalization_v2.BatchNormalization object at 0x7f5480306908> False\n",
            "<tensorflow.python.keras.layers.merge.Add object at 0x7f548030f0b8> False\n",
            "<tensorflow.python.keras.layers.core.Activation object at 0x7f548030fa90> False\n",
            "<tensorflow.python.keras.layers.convolutional.Conv2D object at 0x7f54802b4c18> False\n",
            "<tensorflow.python.keras.layers.normalization_v2.BatchNormalization object at 0x7f54802b92e8> False\n",
            "<tensorflow.python.keras.layers.core.Activation object at 0x7f54802b9b70> False\n",
            "<tensorflow.python.keras.layers.convolutional.Conv2D object at 0x7f54802c44e0> False\n",
            "<tensorflow.python.keras.layers.normalization_v2.BatchNormalization object at 0x7f548026a7b8> False\n",
            "<tensorflow.python.keras.layers.core.Activation object at 0x7f548026aef0> False\n",
            "<tensorflow.python.keras.layers.convolutional.Conv2D object at 0x7f5480272898> False\n",
            "<tensorflow.python.keras.layers.normalization_v2.BatchNormalization object at 0x7f5480296cf8> False\n",
            "<tensorflow.python.keras.layers.merge.Add object at 0x7f548021c470> False\n",
            "<tensorflow.python.keras.layers.core.Activation object at 0x7f548021ce48> False\n",
            "<tensorflow.python.keras.layers.convolutional.Conv2D object at 0x7f548024a2e8> False\n",
            "<tensorflow.python.keras.layers.normalization_v2.BatchNormalization object at 0x7f548024a6a0> False\n",
            "<tensorflow.python.keras.layers.core.Activation object at 0x7f548024ae80> False\n",
            "<tensorflow.python.keras.layers.convolutional.Conv2D object at 0x7f5480251898> False\n",
            "<tensorflow.python.keras.layers.normalization_v2.BatchNormalization object at 0x7f54801fcba8> False\n",
            "<tensorflow.python.keras.layers.core.Activation object at 0x7f54801f8d68> False\n",
            "<tensorflow.python.keras.layers.convolutional.Conv2D object at 0x7f54801f8518> False\n",
            "<tensorflow.python.keras.layers.normalization_v2.BatchNormalization object at 0x7f54801ae0b8> False\n",
            "<tensorflow.python.keras.layers.merge.Add object at 0x7f54801ae5f8> False\n",
            "<tensorflow.python.keras.layers.core.Activation object at 0x7f54801b6240> False\n",
            "<tensorflow.python.keras.layers.pooling.GlobalAveragePooling2D object at 0x7f548015b710> False\n",
            "<tensorflow.python.keras.layers.core.Dense object at 0x7f5480136d68> True\n",
            "<tensorflow.python.keras.layers.core.Dense object at 0x7f5480136f60> True\n"
          ],
          "name": "stdout"
        }
      ]
    },
    {
      "cell_type": "markdown",
      "metadata": {
        "id": "jEGBQQ8j7o1r",
        "colab_type": "text"
      },
      "source": [
        "##**6. Definir el optimizador para la funcion de costo, así como la funcion de pérdida y las metricas de evaluación del odelo a través de la compilacion del modelo.**\n",
        "\n",
        "Loss $\\hspace{1em} \\rightarrow \\hspace{1em}$ $-ylog(x)\\hat{y} + (1-y)log(1-\\hat{y}) $ \n"
      ]
    },
    {
      "cell_type": "code",
      "metadata": {
        "id": "n0VAt8V_1OvU",
        "colab_type": "code",
        "colab": {}
      },
      "source": [
        "#DEFINIR OPTIMIZADOR, FUNCIONES DE PERIDA Y METRICAS\n",
        "#optimizer = tf.keras.optimizers.SGD(learning_rate=0.001, momentum=0.9)\n",
        "optimizer = tf.keras.optimizers.Adam(learning_rate=0.001)#, beta_1=0.9, beta_2=0.999, epsilon=1e-07)\n",
        "#loss='mean_squared_logariic_errorthm'\n",
        "model.compile(loss='binary_crossentropy', optimizer=optimizer, metrics=['mse','mae','accuracy','Recall','Precision'])#,"
      ],
      "execution_count": 0,
      "outputs": []
    },
    {
      "cell_type": "markdown",
      "metadata": {
        "id": "7UUX2Kpy7Ya4",
        "colab_type": "text"
      },
      "source": [
        "##**7. Entrenar el modelo con XTRAIN como un array de 4 dimensiones.**\n",
        "\n",
        "---\n",
        "\n",
        "\n"
      ]
    },
    {
      "cell_type": "code",
      "metadata": {
        "id": "gegszIDZE3C0",
        "colab_type": "code",
        "outputId": "3290d8bd-e520-4cf3-a254-fc2da552752c",
        "colab": {
          "base_uri": "https://localhost:8080/",
          "height": 34
        }
      },
      "source": [
        "print(len(XTRAIN),len(YTRAIN))\n"
      ],
      "execution_count": 18,
      "outputs": [
        {
          "output_type": "stream",
          "text": [
            "1600 1600\n"
          ],
          "name": "stdout"
        }
      ]
    },
    {
      "cell_type": "code",
      "metadata": {
        "id": "WHXivSHN9b5_",
        "colab_type": "code",
        "outputId": "7290881e-d125-4957-ea3c-46cb48d7c478",
        "colab": {
          "base_uri": "https://localhost:8080/",
          "height": 1000
        }
      },
      "source": [
        "#ENTRENAR EL MODELO CREADO\n",
        "history=model.fit(XTRAIN,YTRAIN,epochs=250,batch_size=64)               "
      ],
      "execution_count": 19,
      "outputs": [
        {
          "output_type": "stream",
          "text": [
            "Epoch 1/250\n",
            "WARNING:tensorflow:From /usr/local/lib/python3.6/dist-packages/tensorflow/python/ops/resource_variable_ops.py:1817: calling BaseResourceVariable.__init__ (from tensorflow.python.ops.resource_variable_ops) with constraint is deprecated and will be removed in a future version.\n",
            "Instructions for updating:\n",
            "If using Keras pass *_constraint arguments to layers.\n",
            "25/25 [==============================] - 10s 409ms/step - loss: 0.9156 - mse: 0.2468 - mae: 0.3718 - accuracy: 0.6556 - recall: 0.6500 - precision: 0.6574\n",
            "Epoch 2/250\n",
            "25/25 [==============================] - 10s 409ms/step - loss: 0.4396 - mse: 0.1439 - mae: 0.2996 - accuracy: 0.7887 - recall: 0.8075 - precision: 0.7783\n",
            "Epoch 3/250\n",
            "25/25 [==============================] - 10s 405ms/step - loss: 0.3846 - mse: 0.1230 - mae: 0.2560 - accuracy: 0.8263 - recall: 0.8400 - precision: 0.8175\n",
            "Epoch 4/250\n",
            "25/25 [==============================] - 10s 404ms/step - loss: 0.3280 - mse: 0.1028 - mae: 0.2278 - accuracy: 0.8562 - recall: 0.8575 - precision: 0.8554\n",
            "Epoch 5/250\n",
            "25/25 [==============================] - 10s 404ms/step - loss: 0.2733 - mse: 0.0823 - mae: 0.1937 - accuracy: 0.8938 - recall: 0.9075 - precision: 0.8832\n",
            "Epoch 6/250\n",
            "25/25 [==============================] - 10s 403ms/step - loss: 0.2429 - mse: 0.0719 - mae: 0.1745 - accuracy: 0.9062 - recall: 0.9038 - precision: 0.9083\n",
            "Epoch 7/250\n",
            "25/25 [==============================] - 10s 403ms/step - loss: 0.2189 - mse: 0.0648 - mae: 0.1561 - accuracy: 0.9150 - recall: 0.9187 - precision: 0.9119\n",
            "Epoch 8/250\n",
            "25/25 [==============================] - 10s 403ms/step - loss: 0.2072 - mse: 0.0605 - mae: 0.1454 - accuracy: 0.9269 - recall: 0.9200 - precision: 0.9328\n",
            "Epoch 9/250\n",
            "25/25 [==============================] - 10s 402ms/step - loss: 0.1450 - mse: 0.0379 - mae: 0.1128 - accuracy: 0.9556 - recall: 0.9600 - precision: 0.9517\n",
            "Epoch 10/250\n",
            "25/25 [==============================] - 10s 403ms/step - loss: 0.1123 - mse: 0.0267 - mae: 0.0907 - accuracy: 0.9725 - recall: 0.9762 - precision: 0.9690\n",
            "Epoch 11/250\n",
            "25/25 [==============================] - 10s 402ms/step - loss: 0.0874 - mse: 0.0183 - mae: 0.0743 - accuracy: 0.9869 - recall: 0.9900 - precision: 0.9839\n",
            "Epoch 12/250\n",
            "25/25 [==============================] - 10s 402ms/step - loss: 0.0724 - mse: 0.0142 - mae: 0.0619 - accuracy: 0.9900 - recall: 0.9912 - precision: 0.9888\n",
            "Epoch 13/250\n",
            "25/25 [==============================] - 10s 401ms/step - loss: 0.0892 - mse: 0.0221 - mae: 0.0719 - accuracy: 0.9737 - recall: 0.9775 - precision: 0.9702\n",
            "Epoch 14/250\n",
            "25/25 [==============================] - 10s 402ms/step - loss: 0.0522 - mse: 0.0088 - mae: 0.0460 - accuracy: 0.9956 - recall: 0.9987 - precision: 0.9925\n",
            "Epoch 15/250\n",
            "25/25 [==============================] - 10s 402ms/step - loss: 0.0383 - mse: 0.0052 - mae: 0.0351 - accuracy: 0.9981 - recall: 0.9987 - precision: 0.9975\n",
            "Epoch 16/250\n",
            "25/25 [==============================] - 10s 402ms/step - loss: 0.0362 - mse: 0.0048 - mae: 0.0333 - accuracy: 0.9994 - recall: 0.9987 - precision: 1.0000\n",
            "Epoch 17/250\n",
            "25/25 [==============================] - 10s 402ms/step - loss: 0.0264 - mse: 0.0026 - mae: 0.0248 - accuracy: 0.9994 - recall: 1.0000 - precision: 0.9988\n",
            "Epoch 18/250\n",
            "25/25 [==============================] - 10s 401ms/step - loss: 0.0223 - mse: 0.0019 - mae: 0.0212 - accuracy: 1.0000 - recall: 1.0000 - precision: 1.0000\n",
            "Epoch 19/250\n",
            "25/25 [==============================] - 10s 402ms/step - loss: 0.0178 - mse: 0.0013 - mae: 0.0171 - accuracy: 1.0000 - recall: 1.0000 - precision: 1.0000\n",
            "Epoch 20/250\n",
            "25/25 [==============================] - 10s 402ms/step - loss: 0.0161 - mse: 0.0011 - mae: 0.0155 - accuracy: 1.0000 - recall: 1.0000 - precision: 1.0000\n",
            "Epoch 21/250\n",
            "25/25 [==============================] - 10s 401ms/step - loss: 0.0133 - mse: 6.6928e-04 - mae: 0.0130 - accuracy: 1.0000 - recall: 1.0000 - precision: 1.0000\n",
            "Epoch 22/250\n",
            "25/25 [==============================] - 10s 402ms/step - loss: 0.0104 - mse: 3.7610e-04 - mae: 0.0102 - accuracy: 1.0000 - recall: 1.0000 - precision: 1.0000\n",
            "Epoch 23/250\n",
            "25/25 [==============================] - 10s 402ms/step - loss: 0.0096 - mse: 3.3256e-04 - mae: 0.0094 - accuracy: 1.0000 - recall: 1.0000 - precision: 1.0000\n",
            "Epoch 24/250\n",
            "25/25 [==============================] - 10s 402ms/step - loss: 0.0084 - mse: 2.4025e-04 - mae: 0.0083 - accuracy: 1.0000 - recall: 1.0000 - precision: 1.0000\n",
            "Epoch 25/250\n",
            "25/25 [==============================] - 10s 402ms/step - loss: 0.0074 - mse: 1.7504e-04 - mae: 0.0073 - accuracy: 1.0000 - recall: 1.0000 - precision: 1.0000\n",
            "Epoch 26/250\n",
            "25/25 [==============================] - 10s 403ms/step - loss: 0.0068 - mse: 1.5806e-04 - mae: 0.0067 - accuracy: 1.0000 - recall: 1.0000 - precision: 1.0000\n",
            "Epoch 27/250\n",
            "25/25 [==============================] - 10s 402ms/step - loss: 0.0061 - mse: 1.1439e-04 - mae: 0.0060 - accuracy: 1.0000 - recall: 1.0000 - precision: 1.0000\n",
            "Epoch 28/250\n",
            "25/25 [==============================] - 10s 402ms/step - loss: 0.0055 - mse: 9.5679e-05 - mae: 0.0055 - accuracy: 1.0000 - recall: 1.0000 - precision: 1.0000\n",
            "Epoch 29/250\n",
            "25/25 [==============================] - 10s 402ms/step - loss: 0.0056 - mse: 1.1542e-04 - mae: 0.0056 - accuracy: 1.0000 - recall: 1.0000 - precision: 1.0000\n",
            "Epoch 30/250\n",
            "25/25 [==============================] - 10s 403ms/step - loss: 0.0047 - mse: 6.8260e-05 - mae: 0.0046 - accuracy: 1.0000 - recall: 1.0000 - precision: 1.0000\n",
            "Epoch 31/250\n",
            "25/25 [==============================] - 10s 402ms/step - loss: 0.0044 - mse: 6.0360e-05 - mae: 0.0043 - accuracy: 1.0000 - recall: 1.0000 - precision: 1.0000\n",
            "Epoch 32/250\n",
            "25/25 [==============================] - 10s 402ms/step - loss: 0.0040 - mse: 4.8492e-05 - mae: 0.0040 - accuracy: 1.0000 - recall: 1.0000 - precision: 1.0000\n",
            "Epoch 33/250\n",
            "25/25 [==============================] - 10s 403ms/step - loss: 0.0037 - mse: 4.2606e-05 - mae: 0.0037 - accuracy: 1.0000 - recall: 1.0000 - precision: 1.0000\n",
            "Epoch 34/250\n",
            "25/25 [==============================] - 10s 404ms/step - loss: 0.0035 - mse: 3.8895e-05 - mae: 0.0035 - accuracy: 1.0000 - recall: 1.0000 - precision: 1.0000\n",
            "Epoch 35/250\n",
            "25/25 [==============================] - 10s 402ms/step - loss: 0.0033 - mse: 3.3420e-05 - mae: 0.0033 - accuracy: 1.0000 - recall: 1.0000 - precision: 1.0000\n",
            "Epoch 36/250\n",
            "25/25 [==============================] - 10s 402ms/step - loss: 0.0031 - mse: 2.8393e-05 - mae: 0.0030 - accuracy: 1.0000 - recall: 1.0000 - precision: 1.0000\n",
            "Epoch 37/250\n",
            "25/25 [==============================] - 10s 403ms/step - loss: 0.0030 - mse: 3.0144e-05 - mae: 0.0030 - accuracy: 1.0000 - recall: 1.0000 - precision: 1.0000\n",
            "Epoch 38/250\n",
            "25/25 [==============================] - 10s 401ms/step - loss: 0.0027 - mse: 2.2955e-05 - mae: 0.0027 - accuracy: 1.0000 - recall: 1.0000 - precision: 1.0000\n",
            "Epoch 39/250\n",
            "25/25 [==============================] - 10s 402ms/step - loss: 0.0026 - mse: 2.1782e-05 - mae: 0.0026 - accuracy: 1.0000 - recall: 1.0000 - precision: 1.0000\n",
            "Epoch 40/250\n",
            "25/25 [==============================] - 10s 403ms/step - loss: 0.0025 - mse: 2.0145e-05 - mae: 0.0025 - accuracy: 1.0000 - recall: 1.0000 - precision: 1.0000\n",
            "Epoch 41/250\n",
            "25/25 [==============================] - 10s 403ms/step - loss: 0.0024 - mse: 1.7649e-05 - mae: 0.0023 - accuracy: 1.0000 - recall: 1.0000 - precision: 1.0000\n",
            "Epoch 42/250\n",
            "25/25 [==============================] - 10s 400ms/step - loss: 0.0023 - mse: 1.7983e-05 - mae: 0.0023 - accuracy: 1.0000 - recall: 1.0000 - precision: 1.0000\n",
            "Epoch 43/250\n",
            "25/25 [==============================] - 10s 402ms/step - loss: 0.0021 - mse: 1.2571e-05 - mae: 0.0020 - accuracy: 1.0000 - recall: 1.0000 - precision: 1.0000\n",
            "Epoch 44/250\n",
            "25/25 [==============================] - 10s 402ms/step - loss: 0.0019 - mse: 1.1389e-05 - mae: 0.0019 - accuracy: 1.0000 - recall: 1.0000 - precision: 1.0000\n",
            "Epoch 45/250\n",
            "25/25 [==============================] - 10s 401ms/step - loss: 0.0019 - mse: 1.2137e-05 - mae: 0.0019 - accuracy: 1.0000 - recall: 1.0000 - precision: 1.0000\n",
            "Epoch 46/250\n",
            "25/25 [==============================] - 10s 402ms/step - loss: 0.0018 - mse: 9.6914e-06 - mae: 0.0018 - accuracy: 1.0000 - recall: 1.0000 - precision: 1.0000\n",
            "Epoch 47/250\n",
            "25/25 [==============================] - 10s 403ms/step - loss: 0.0017 - mse: 8.0930e-06 - mae: 0.0017 - accuracy: 1.0000 - recall: 1.0000 - precision: 1.0000\n",
            "Epoch 48/250\n",
            "25/25 [==============================] - 10s 402ms/step - loss: 0.0017 - mse: 1.0027e-05 - mae: 0.0017 - accuracy: 1.0000 - recall: 1.0000 - precision: 1.0000\n",
            "Epoch 49/250\n",
            "25/25 [==============================] - 10s 402ms/step - loss: 0.0016 - mse: 8.3856e-06 - mae: 0.0016 - accuracy: 1.0000 - recall: 1.0000 - precision: 1.0000\n",
            "Epoch 50/250\n",
            "25/25 [==============================] - 10s 404ms/step - loss: 0.0015 - mse: 7.6133e-06 - mae: 0.0015 - accuracy: 1.0000 - recall: 1.0000 - precision: 1.0000\n",
            "Epoch 51/250\n",
            "25/25 [==============================] - 10s 403ms/step - loss: 0.0014 - mse: 5.6541e-06 - mae: 0.0014 - accuracy: 1.0000 - recall: 1.0000 - precision: 1.0000\n",
            "Epoch 52/250\n",
            "25/25 [==============================] - 10s 402ms/step - loss: 0.0013 - mse: 5.0509e-06 - mae: 0.0013 - accuracy: 1.0000 - recall: 1.0000 - precision: 1.0000\n",
            "Epoch 53/250\n",
            "25/25 [==============================] - 10s 404ms/step - loss: 0.0013 - mse: 4.6746e-06 - mae: 0.0013 - accuracy: 1.0000 - recall: 1.0000 - precision: 1.0000\n",
            "Epoch 54/250\n",
            "25/25 [==============================] - 10s 403ms/step - loss: 0.0012 - mse: 4.3926e-06 - mae: 0.0012 - accuracy: 1.0000 - recall: 1.0000 - precision: 1.0000\n",
            "Epoch 55/250\n",
            "25/25 [==============================] - 10s 402ms/step - loss: 0.0012 - mse: 4.0830e-06 - mae: 0.0012 - accuracy: 1.0000 - recall: 1.0000 - precision: 1.0000\n",
            "Epoch 56/250\n",
            "25/25 [==============================] - 10s 403ms/step - loss: 0.0011 - mse: 3.7773e-06 - mae: 0.0011 - accuracy: 1.0000 - recall: 1.0000 - precision: 1.0000\n",
            "Epoch 57/250\n",
            "25/25 [==============================] - 10s 403ms/step - loss: 0.0011 - mse: 3.4291e-06 - mae: 0.0011 - accuracy: 1.0000 - recall: 1.0000 - precision: 1.0000\n",
            "Epoch 58/250\n",
            "25/25 [==============================] - 10s 402ms/step - loss: 0.0010 - mse: 3.2809e-06 - mae: 0.0010 - accuracy: 1.0000 - recall: 1.0000 - precision: 1.0000\n",
            "Epoch 59/250\n",
            "25/25 [==============================] - 10s 403ms/step - loss: 0.0010 - mse: 2.9625e-06 - mae: 0.0010 - accuracy: 1.0000 - recall: 1.0000 - precision: 1.0000\n",
            "Epoch 60/250\n",
            "25/25 [==============================] - 10s 402ms/step - loss: 9.5815e-04 - mse: 2.6719e-06 - mae: 9.5681e-04 - accuracy: 1.0000 - recall: 1.0000 - precision: 1.0000\n",
            "Epoch 61/250\n",
            "25/25 [==============================] - 10s 403ms/step - loss: 9.3821e-04 - mse: 2.6682e-06 - mae: 9.3687e-04 - accuracy: 1.0000 - recall: 1.0000 - precision: 1.0000\n",
            "Epoch 62/250\n",
            "25/25 [==============================] - 10s 403ms/step - loss: 8.9263e-04 - mse: 2.3273e-06 - mae: 8.9146e-04 - accuracy: 1.0000 - recall: 1.0000 - precision: 1.0000\n",
            "Epoch 63/250\n",
            "25/25 [==============================] - 10s 403ms/step - loss: 8.6180e-04 - mse: 2.1750e-06 - mae: 8.6071e-04 - accuracy: 1.0000 - recall: 1.0000 - precision: 1.0000\n",
            "Epoch 64/250\n",
            "25/25 [==============================] - 10s 403ms/step - loss: 8.3279e-04 - mse: 2.0399e-06 - mae: 8.3176e-04 - accuracy: 1.0000 - recall: 1.0000 - precision: 1.0000\n",
            "Epoch 65/250\n",
            "25/25 [==============================] - 10s 402ms/step - loss: 8.2030e-04 - mse: 2.0174e-06 - mae: 8.1929e-04 - accuracy: 1.0000 - recall: 1.0000 - precision: 1.0000\n",
            "Epoch 66/250\n",
            "25/25 [==============================] - 10s 404ms/step - loss: 7.8300e-04 - mse: 1.8477e-06 - mae: 7.8208e-04 - accuracy: 1.0000 - recall: 1.0000 - precision: 1.0000\n",
            "Epoch 67/250\n",
            "25/25 [==============================] - 10s 402ms/step - loss: 7.6491e-04 - mse: 1.7527e-06 - mae: 7.6404e-04 - accuracy: 1.0000 - recall: 1.0000 - precision: 1.0000\n",
            "Epoch 68/250\n",
            "25/25 [==============================] - 10s 402ms/step - loss: 7.2171e-04 - mse: 1.4821e-06 - mae: 7.2097e-04 - accuracy: 1.0000 - recall: 1.0000 - precision: 1.0000\n",
            "Epoch 69/250\n",
            "25/25 [==============================] - 10s 403ms/step - loss: 7.0670e-04 - mse: 1.4939e-06 - mae: 7.0595e-04 - accuracy: 1.0000 - recall: 1.0000 - precision: 1.0000\n",
            "Epoch 70/250\n",
            "25/25 [==============================] - 10s 401ms/step - loss: 6.8946e-04 - mse: 1.4377e-06 - mae: 6.8874e-04 - accuracy: 1.0000 - recall: 1.0000 - precision: 1.0000\n",
            "Epoch 71/250\n",
            "25/25 [==============================] - 10s 403ms/step - loss: 6.5561e-04 - mse: 1.2539e-06 - mae: 6.5498e-04 - accuracy: 1.0000 - recall: 1.0000 - precision: 1.0000\n",
            "Epoch 72/250\n",
            "25/25 [==============================] - 10s 403ms/step - loss: 6.2978e-04 - mse: 1.1385e-06 - mae: 6.2921e-04 - accuracy: 1.0000 - recall: 1.0000 - precision: 1.0000\n",
            "Epoch 73/250\n",
            "25/25 [==============================] - 10s 402ms/step - loss: 6.1275e-04 - mse: 1.0685e-06 - mae: 6.1221e-04 - accuracy: 1.0000 - recall: 1.0000 - precision: 1.0000\n",
            "Epoch 74/250\n",
            "25/25 [==============================] - 10s 403ms/step - loss: 6.0340e-04 - mse: 1.0632e-06 - mae: 6.0287e-04 - accuracy: 1.0000 - recall: 1.0000 - precision: 1.0000\n",
            "Epoch 75/250\n",
            "25/25 [==============================] - 10s 402ms/step - loss: 5.7607e-04 - mse: 9.5711e-07 - mae: 5.7559e-04 - accuracy: 1.0000 - recall: 1.0000 - precision: 1.0000\n",
            "Epoch 76/250\n",
            "25/25 [==============================] - 10s 403ms/step - loss: 5.6069e-04 - mse: 9.2412e-07 - mae: 5.6023e-04 - accuracy: 1.0000 - recall: 1.0000 - precision: 1.0000\n",
            "Epoch 77/250\n",
            "25/25 [==============================] - 10s 402ms/step - loss: 5.4261e-04 - mse: 8.5021e-07 - mae: 5.4219e-04 - accuracy: 1.0000 - recall: 1.0000 - precision: 1.0000\n",
            "Epoch 78/250\n",
            "25/25 [==============================] - 10s 402ms/step - loss: 5.2378e-04 - mse: 7.9074e-07 - mae: 5.2339e-04 - accuracy: 1.0000 - recall: 1.0000 - precision: 1.0000\n",
            "Epoch 79/250\n",
            "25/25 [==============================] - 10s 403ms/step - loss: 5.1707e-04 - mse: 7.7606e-07 - mae: 5.1668e-04 - accuracy: 1.0000 - recall: 1.0000 - precision: 1.0000\n",
            "Epoch 80/250\n",
            "25/25 [==============================] - 10s 403ms/step - loss: 5.0332e-04 - mse: 7.5159e-07 - mae: 5.0294e-04 - accuracy: 1.0000 - recall: 1.0000 - precision: 1.0000\n",
            "Epoch 81/250\n",
            "25/25 [==============================] - 10s 402ms/step - loss: 4.8777e-04 - mse: 6.9077e-07 - mae: 4.8743e-04 - accuracy: 1.0000 - recall: 1.0000 - precision: 1.0000\n",
            "Epoch 82/250\n",
            "25/25 [==============================] - 10s 403ms/step - loss: 4.7003e-04 - mse: 6.5486e-07 - mae: 4.6970e-04 - accuracy: 1.0000 - recall: 1.0000 - precision: 1.0000\n",
            "Epoch 83/250\n",
            "25/25 [==============================] - 10s 404ms/step - loss: 4.5580e-04 - mse: 5.9402e-07 - mae: 4.5550e-04 - accuracy: 1.0000 - recall: 1.0000 - precision: 1.0000\n",
            "Epoch 84/250\n",
            "25/25 [==============================] - 10s 404ms/step - loss: 4.4226e-04 - mse: 5.6535e-07 - mae: 4.4198e-04 - accuracy: 1.0000 - recall: 1.0000 - precision: 1.0000\n",
            "Epoch 85/250\n",
            "25/25 [==============================] - 10s 403ms/step - loss: 4.2820e-04 - mse: 5.2764e-07 - mae: 4.2793e-04 - accuracy: 1.0000 - recall: 1.0000 - precision: 1.0000\n",
            "Epoch 86/250\n",
            "25/25 [==============================] - 10s 404ms/step - loss: 4.1845e-04 - mse: 5.0397e-07 - mae: 4.1820e-04 - accuracy: 1.0000 - recall: 1.0000 - precision: 1.0000\n",
            "Epoch 87/250\n",
            "25/25 [==============================] - 10s 404ms/step - loss: 4.1020e-04 - mse: 4.8379e-07 - mae: 4.0996e-04 - accuracy: 1.0000 - recall: 1.0000 - precision: 1.0000\n",
            "Epoch 88/250\n",
            "25/25 [==============================] - 10s 402ms/step - loss: 3.9407e-04 - mse: 4.4206e-07 - mae: 3.9385e-04 - accuracy: 1.0000 - recall: 1.0000 - precision: 1.0000\n",
            "Epoch 89/250\n",
            "25/25 [==============================] - 10s 403ms/step - loss: 3.8356e-04 - mse: 4.1673e-07 - mae: 3.8335e-04 - accuracy: 1.0000 - recall: 1.0000 - precision: 1.0000\n",
            "Epoch 90/250\n",
            "25/25 [==============================] - 10s 402ms/step - loss: 3.8618e-04 - mse: 4.4693e-07 - mae: 3.8596e-04 - accuracy: 1.0000 - recall: 1.0000 - precision: 1.0000\n",
            "Epoch 91/250\n",
            "25/25 [==============================] - 10s 402ms/step - loss: 3.6792e-04 - mse: 3.9416e-07 - mae: 3.6772e-04 - accuracy: 1.0000 - recall: 1.0000 - precision: 1.0000\n",
            "Epoch 92/250\n",
            "25/25 [==============================] - 10s 404ms/step - loss: 3.5844e-04 - mse: 3.7245e-07 - mae: 3.5825e-04 - accuracy: 1.0000 - recall: 1.0000 - precision: 1.0000\n",
            "Epoch 93/250\n",
            "25/25 [==============================] - 10s 403ms/step - loss: 3.4572e-04 - mse: 3.3620e-07 - mae: 3.4555e-04 - accuracy: 1.0000 - recall: 1.0000 - precision: 1.0000\n",
            "Epoch 94/250\n",
            "25/25 [==============================] - 10s 403ms/step - loss: 3.3709e-04 - mse: 3.2600e-07 - mae: 3.3693e-04 - accuracy: 1.0000 - recall: 1.0000 - precision: 1.0000\n",
            "Epoch 95/250\n",
            "25/25 [==============================] - 10s 404ms/step - loss: 3.3614e-04 - mse: 3.2646e-07 - mae: 3.3598e-04 - accuracy: 1.0000 - recall: 1.0000 - precision: 1.0000\n",
            "Epoch 96/250\n",
            "25/25 [==============================] - 10s 402ms/step - loss: 3.2092e-04 - mse: 2.9149e-07 - mae: 3.2078e-04 - accuracy: 1.0000 - recall: 1.0000 - precision: 1.0000\n",
            "Epoch 97/250\n",
            "25/25 [==============================] - 10s 403ms/step - loss: 3.1593e-04 - mse: 2.9332e-07 - mae: 3.1578e-04 - accuracy: 1.0000 - recall: 1.0000 - precision: 1.0000\n",
            "Epoch 98/250\n",
            "25/25 [==============================] - 10s 403ms/step - loss: 3.0617e-04 - mse: 2.6956e-07 - mae: 3.0604e-04 - accuracy: 1.0000 - recall: 1.0000 - precision: 1.0000\n",
            "Epoch 99/250\n",
            "25/25 [==============================] - 10s 403ms/step - loss: 2.9967e-04 - mse: 2.6135e-07 - mae: 2.9954e-04 - accuracy: 1.0000 - recall: 1.0000 - precision: 1.0000\n",
            "Epoch 100/250\n",
            "25/25 [==============================] - 10s 402ms/step - loss: 2.9428e-04 - mse: 2.5092e-07 - mae: 2.9416e-04 - accuracy: 1.0000 - recall: 1.0000 - precision: 1.0000\n",
            "Epoch 101/250\n",
            "25/25 [==============================] - 10s 403ms/step - loss: 2.8528e-04 - mse: 2.3541e-07 - mae: 2.8517e-04 - accuracy: 1.0000 - recall: 1.0000 - precision: 1.0000\n",
            "Epoch 102/250\n",
            "25/25 [==============================] - 10s 403ms/step - loss: 2.7729e-04 - mse: 2.2001e-07 - mae: 2.7718e-04 - accuracy: 1.0000 - recall: 1.0000 - precision: 1.0000\n",
            "Epoch 103/250\n",
            "25/25 [==============================] - 10s 403ms/step - loss: 2.7212e-04 - mse: 2.1218e-07 - mae: 2.7202e-04 - accuracy: 1.0000 - recall: 1.0000 - precision: 1.0000\n",
            "Epoch 104/250\n",
            "25/25 [==============================] - 10s 403ms/step - loss: 2.6662e-04 - mse: 2.0199e-07 - mae: 2.6652e-04 - accuracy: 1.0000 - recall: 1.0000 - precision: 1.0000\n",
            "Epoch 105/250\n",
            "25/25 [==============================] - 10s 402ms/step - loss: 2.5803e-04 - mse: 1.8793e-07 - mae: 2.5793e-04 - accuracy: 1.0000 - recall: 1.0000 - precision: 1.0000\n",
            "Epoch 106/250\n",
            "25/25 [==============================] - 10s 402ms/step - loss: 2.5615e-04 - mse: 1.9239e-07 - mae: 2.5605e-04 - accuracy: 1.0000 - recall: 1.0000 - precision: 1.0000\n",
            "Epoch 107/250\n",
            "25/25 [==============================] - 10s 402ms/step - loss: 2.4621e-04 - mse: 1.7262e-07 - mae: 2.4612e-04 - accuracy: 1.0000 - recall: 1.0000 - precision: 1.0000\n",
            "Epoch 108/250\n",
            "25/25 [==============================] - 10s 402ms/step - loss: 2.4201e-04 - mse: 1.6711e-07 - mae: 2.4192e-04 - accuracy: 1.0000 - recall: 1.0000 - precision: 1.0000\n",
            "Epoch 109/250\n",
            "25/25 [==============================] - 10s 402ms/step - loss: 2.3641e-04 - mse: 1.6075e-07 - mae: 2.3633e-04 - accuracy: 1.0000 - recall: 1.0000 - precision: 1.0000\n",
            "Epoch 110/250\n",
            "25/25 [==============================] - 10s 402ms/step - loss: 2.3164e-04 - mse: 1.5754e-07 - mae: 2.3156e-04 - accuracy: 1.0000 - recall: 1.0000 - precision: 1.0000\n",
            "Epoch 111/250\n",
            "25/25 [==============================] - 10s 402ms/step - loss: 2.2776e-04 - mse: 1.5167e-07 - mae: 2.2769e-04 - accuracy: 1.0000 - recall: 1.0000 - precision: 1.0000\n",
            "Epoch 112/250\n",
            "25/25 [==============================] - 10s 402ms/step - loss: 2.2037e-04 - mse: 1.3981e-07 - mae: 2.2030e-04 - accuracy: 1.0000 - recall: 1.0000 - precision: 1.0000\n",
            "Epoch 113/250\n",
            "25/25 [==============================] - 10s 403ms/step - loss: 2.1669e-04 - mse: 1.3546e-07 - mae: 2.1663e-04 - accuracy: 1.0000 - recall: 1.0000 - precision: 1.0000\n",
            "Epoch 114/250\n",
            "25/25 [==============================] - 10s 402ms/step - loss: 2.1733e-04 - mse: 1.4021e-07 - mae: 2.1726e-04 - accuracy: 1.0000 - recall: 1.0000 - precision: 1.0000\n",
            "Epoch 115/250\n",
            "25/25 [==============================] - 10s 402ms/step - loss: 2.0520e-04 - mse: 1.2110e-07 - mae: 2.0514e-04 - accuracy: 1.0000 - recall: 1.0000 - precision: 1.0000\n",
            "Epoch 116/250\n",
            "25/25 [==============================] - 10s 402ms/step - loss: 2.0595e-04 - mse: 1.2671e-07 - mae: 2.0589e-04 - accuracy: 1.0000 - recall: 1.0000 - precision: 1.0000\n",
            "Epoch 117/250\n",
            "25/25 [==============================] - 10s 403ms/step - loss: 1.9713e-04 - mse: 1.1085e-07 - mae: 1.9707e-04 - accuracy: 1.0000 - recall: 1.0000 - precision: 1.0000\n",
            "Epoch 118/250\n",
            "25/25 [==============================] - 10s 402ms/step - loss: 1.9164e-04 - mse: 1.0390e-07 - mae: 1.9159e-04 - accuracy: 1.0000 - recall: 1.0000 - precision: 1.0000\n",
            "Epoch 119/250\n",
            "25/25 [==============================] - 10s 402ms/step - loss: 1.8797e-04 - mse: 9.9544e-08 - mae: 1.8792e-04 - accuracy: 1.0000 - recall: 1.0000 - precision: 1.0000\n",
            "Epoch 120/250\n",
            "25/25 [==============================] - 10s 402ms/step - loss: 1.8388e-04 - mse: 9.5518e-08 - mae: 1.8384e-04 - accuracy: 1.0000 - recall: 1.0000 - precision: 1.0000\n",
            "Epoch 121/250\n",
            "25/25 [==============================] - 10s 403ms/step - loss: 1.7972e-04 - mse: 9.1444e-08 - mae: 1.7967e-04 - accuracy: 1.0000 - recall: 1.0000 - precision: 1.0000\n",
            "Epoch 122/250\n",
            "25/25 [==============================] - 10s 403ms/step - loss: 1.7848e-04 - mse: 9.1011e-08 - mae: 1.7843e-04 - accuracy: 1.0000 - recall: 1.0000 - precision: 1.0000\n",
            "Epoch 123/250\n",
            "25/25 [==============================] - 10s 402ms/step - loss: 1.7253e-04 - mse: 8.5662e-08 - mae: 1.7249e-04 - accuracy: 1.0000 - recall: 1.0000 - precision: 1.0000\n",
            "Epoch 124/250\n",
            "25/25 [==============================] - 10s 402ms/step - loss: 1.6916e-04 - mse: 8.1577e-08 - mae: 1.6912e-04 - accuracy: 1.0000 - recall: 1.0000 - precision: 1.0000\n",
            "Epoch 125/250\n",
            "25/25 [==============================] - 10s 403ms/step - loss: 1.6489e-04 - mse: 7.7001e-08 - mae: 1.6485e-04 - accuracy: 1.0000 - recall: 1.0000 - precision: 1.0000\n",
            "Epoch 126/250\n",
            "25/25 [==============================] - 10s 402ms/step - loss: 1.6254e-04 - mse: 7.5548e-08 - mae: 1.6250e-04 - accuracy: 1.0000 - recall: 1.0000 - precision: 1.0000\n",
            "Epoch 127/250\n",
            "25/25 [==============================] - 10s 404ms/step - loss: 1.6096e-04 - mse: 7.6118e-08 - mae: 1.6093e-04 - accuracy: 1.0000 - recall: 1.0000 - precision: 1.0000\n",
            "Epoch 128/250\n",
            "25/25 [==============================] - 10s 402ms/step - loss: 1.5853e-04 - mse: 7.1809e-08 - mae: 1.5849e-04 - accuracy: 1.0000 - recall: 1.0000 - precision: 1.0000\n",
            "Epoch 129/250\n",
            "25/25 [==============================] - 10s 401ms/step - loss: 1.5458e-04 - mse: 7.0018e-08 - mae: 1.5455e-04 - accuracy: 1.0000 - recall: 1.0000 - precision: 1.0000\n",
            "Epoch 130/250\n",
            "25/25 [==============================] - 10s 403ms/step - loss: 1.5099e-04 - mse: 6.5032e-08 - mae: 1.5096e-04 - accuracy: 1.0000 - recall: 1.0000 - precision: 1.0000\n",
            "Epoch 131/250\n",
            "25/25 [==============================] - 10s 402ms/step - loss: 1.4834e-04 - mse: 6.5264e-08 - mae: 1.4831e-04 - accuracy: 1.0000 - recall: 1.0000 - precision: 1.0000\n",
            "Epoch 132/250\n",
            "25/25 [==============================] - 10s 403ms/step - loss: 1.4273e-04 - mse: 5.7759e-08 - mae: 1.4270e-04 - accuracy: 1.0000 - recall: 1.0000 - precision: 1.0000\n",
            "Epoch 133/250\n",
            "25/25 [==============================] - 10s 404ms/step - loss: 1.4085e-04 - mse: 5.5949e-08 - mae: 1.4082e-04 - accuracy: 1.0000 - recall: 1.0000 - precision: 1.0000\n",
            "Epoch 134/250\n",
            "25/25 [==============================] - 10s 403ms/step - loss: 1.3763e-04 - mse: 5.3171e-08 - mae: 1.3760e-04 - accuracy: 1.0000 - recall: 1.0000 - precision: 1.0000\n",
            "Epoch 135/250\n",
            "25/25 [==============================] - 10s 404ms/step - loss: 1.3451e-04 - mse: 5.0748e-08 - mae: 1.3448e-04 - accuracy: 1.0000 - recall: 1.0000 - precision: 1.0000\n",
            "Epoch 136/250\n",
            "25/25 [==============================] - 10s 402ms/step - loss: 1.3294e-04 - mse: 5.0896e-08 - mae: 1.3292e-04 - accuracy: 1.0000 - recall: 1.0000 - precision: 1.0000\n",
            "Epoch 137/250\n",
            "25/25 [==============================] - 10s 404ms/step - loss: 1.3060e-04 - mse: 4.8659e-08 - mae: 1.3058e-04 - accuracy: 1.0000 - recall: 1.0000 - precision: 1.0000\n",
            "Epoch 138/250\n",
            "25/25 [==============================] - 10s 403ms/step - loss: 1.2853e-04 - mse: 4.7678e-08 - mae: 1.2851e-04 - accuracy: 1.0000 - recall: 1.0000 - precision: 1.0000\n",
            "Epoch 139/250\n",
            "25/25 [==============================] - 10s 402ms/step - loss: 1.2440e-04 - mse: 4.3732e-08 - mae: 1.2438e-04 - accuracy: 1.0000 - recall: 1.0000 - precision: 1.0000\n",
            "Epoch 140/250\n",
            "25/25 [==============================] - 10s 400ms/step - loss: 1.2250e-04 - mse: 4.2625e-08 - mae: 1.2248e-04 - accuracy: 1.0000 - recall: 1.0000 - precision: 1.0000\n",
            "Epoch 141/250\n",
            "25/25 [==============================] - 10s 403ms/step - loss: 1.2044e-04 - mse: 4.0905e-08 - mae: 1.2042e-04 - accuracy: 1.0000 - recall: 1.0000 - precision: 1.0000\n",
            "Epoch 142/250\n",
            "25/25 [==============================] - 10s 402ms/step - loss: 1.1831e-04 - mse: 3.9975e-08 - mae: 1.1829e-04 - accuracy: 1.0000 - recall: 1.0000 - precision: 1.0000\n",
            "Epoch 143/250\n",
            "25/25 [==============================] - 10s 402ms/step - loss: 1.1544e-04 - mse: 3.7450e-08 - mae: 1.1542e-04 - accuracy: 1.0000 - recall: 1.0000 - precision: 1.0000\n",
            "Epoch 144/250\n",
            "25/25 [==============================] - 10s 402ms/step - loss: 1.1288e-04 - mse: 3.5711e-08 - mae: 1.1286e-04 - accuracy: 1.0000 - recall: 1.0000 - precision: 1.0000\n",
            "Epoch 145/250\n",
            "25/25 [==============================] - 10s 401ms/step - loss: 1.1063e-04 - mse: 3.4499e-08 - mae: 1.1061e-04 - accuracy: 1.0000 - recall: 1.0000 - precision: 1.0000\n",
            "Epoch 146/250\n",
            "25/25 [==============================] - 10s 402ms/step - loss: 1.0893e-04 - mse: 3.3517e-08 - mae: 1.0891e-04 - accuracy: 1.0000 - recall: 1.0000 - precision: 1.0000\n",
            "Epoch 147/250\n",
            "25/25 [==============================] - 10s 400ms/step - loss: 1.0667e-04 - mse: 3.2200e-08 - mae: 1.0666e-04 - accuracy: 1.0000 - recall: 1.0000 - precision: 1.0000\n",
            "Epoch 148/250\n",
            "25/25 [==============================] - 10s 402ms/step - loss: 1.0563e-04 - mse: 3.1817e-08 - mae: 1.0561e-04 - accuracy: 1.0000 - recall: 1.0000 - precision: 1.0000\n",
            "Epoch 149/250\n",
            "25/25 [==============================] - 10s 401ms/step - loss: 1.0509e-04 - mse: 3.2519e-08 - mae: 1.0508e-04 - accuracy: 1.0000 - recall: 1.0000 - precision: 1.0000\n",
            "Epoch 150/250\n",
            "25/25 [==============================] - 10s 401ms/step - loss: 1.0191e-04 - mse: 2.9786e-08 - mae: 1.0190e-04 - accuracy: 1.0000 - recall: 1.0000 - precision: 1.0000\n",
            "Epoch 151/250\n",
            "25/25 [==============================] - 10s 401ms/step - loss: 1.0055e-04 - mse: 2.9024e-08 - mae: 1.0053e-04 - accuracy: 1.0000 - recall: 1.0000 - precision: 1.0000\n",
            "Epoch 152/250\n",
            "25/25 [==============================] - 10s 402ms/step - loss: 9.8890e-05 - mse: 2.8424e-08 - mae: 9.8876e-05 - accuracy: 1.0000 - recall: 1.0000 - precision: 1.0000\n",
            "Epoch 153/250\n",
            "25/25 [==============================] - 10s 402ms/step - loss: 9.5932e-05 - mse: 2.6320e-08 - mae: 9.5921e-05 - accuracy: 1.0000 - recall: 1.0000 - precision: 1.0000\n",
            "Epoch 154/250\n",
            "25/25 [==============================] - 10s 404ms/step - loss: 9.5757e-05 - mse: 2.6506e-08 - mae: 9.5745e-05 - accuracy: 1.0000 - recall: 1.0000 - precision: 1.0000\n",
            "Epoch 155/250\n",
            "25/25 [==============================] - 10s 404ms/step - loss: 9.2015e-05 - mse: 2.3757e-08 - mae: 9.2004e-05 - accuracy: 1.0000 - recall: 1.0000 - precision: 1.0000\n",
            "Epoch 156/250\n",
            "25/25 [==============================] - 10s 402ms/step - loss: 9.0564e-05 - mse: 2.3480e-08 - mae: 9.0554e-05 - accuracy: 1.0000 - recall: 1.0000 - precision: 1.0000\n",
            "Epoch 157/250\n",
            "25/25 [==============================] - 10s 401ms/step - loss: 8.8827e-05 - mse: 2.2333e-08 - mae: 8.8817e-05 - accuracy: 1.0000 - recall: 1.0000 - precision: 1.0000\n",
            "Epoch 158/250\n",
            "25/25 [==============================] - 10s 403ms/step - loss: 8.7428e-05 - mse: 2.1905e-08 - mae: 8.7418e-05 - accuracy: 1.0000 - recall: 1.0000 - precision: 1.0000\n",
            "Epoch 159/250\n",
            "25/25 [==============================] - 10s 403ms/step - loss: 8.5480e-05 - mse: 2.0605e-08 - mae: 8.5470e-05 - accuracy: 1.0000 - recall: 1.0000 - precision: 1.0000\n",
            "Epoch 160/250\n",
            "25/25 [==============================] - 10s 402ms/step - loss: 8.4190e-05 - mse: 1.9895e-08 - mae: 8.4180e-05 - accuracy: 1.0000 - recall: 1.0000 - precision: 1.0000\n",
            "Epoch 161/250\n",
            "25/25 [==============================] - 10s 402ms/step - loss: 8.2294e-05 - mse: 1.9027e-08 - mae: 8.2285e-05 - accuracy: 1.0000 - recall: 1.0000 - precision: 1.0000\n",
            "Epoch 162/250\n",
            "25/25 [==============================] - 10s 401ms/step - loss: 8.1428e-05 - mse: 1.8885e-08 - mae: 8.1419e-05 - accuracy: 1.0000 - recall: 1.0000 - precision: 1.0000\n",
            "Epoch 163/250\n",
            "25/25 [==============================] - 10s 402ms/step - loss: 7.9390e-05 - mse: 1.7596e-08 - mae: 7.9383e-05 - accuracy: 1.0000 - recall: 1.0000 - precision: 1.0000\n",
            "Epoch 164/250\n",
            "25/25 [==============================] - 10s 402ms/step - loss: 7.8396e-05 - mse: 1.7361e-08 - mae: 7.8388e-05 - accuracy: 1.0000 - recall: 1.0000 - precision: 1.0000\n",
            "Epoch 165/250\n",
            "25/25 [==============================] - 10s 402ms/step - loss: 7.7565e-05 - mse: 1.6989e-08 - mae: 7.7557e-05 - accuracy: 1.0000 - recall: 1.0000 - precision: 1.0000\n",
            "Epoch 166/250\n",
            "25/25 [==============================] - 10s 402ms/step - loss: 7.6379e-05 - mse: 1.6729e-08 - mae: 7.6372e-05 - accuracy: 1.0000 - recall: 1.0000 - precision: 1.0000\n",
            "Epoch 167/250\n",
            "25/25 [==============================] - 10s 404ms/step - loss: 7.4340e-05 - mse: 1.5441e-08 - mae: 7.4332e-05 - accuracy: 1.0000 - recall: 1.0000 - precision: 1.0000\n",
            "Epoch 168/250\n",
            "25/25 [==============================] - 10s 402ms/step - loss: 7.2573e-05 - mse: 1.4967e-08 - mae: 7.2567e-05 - accuracy: 1.0000 - recall: 1.0000 - precision: 1.0000\n",
            "Epoch 169/250\n",
            "25/25 [==============================] - 10s 401ms/step - loss: 7.1284e-05 - mse: 1.4237e-08 - mae: 7.1277e-05 - accuracy: 1.0000 - recall: 1.0000 - precision: 1.0000\n",
            "Epoch 170/250\n",
            "25/25 [==============================] - 10s 401ms/step - loss: 7.0511e-05 - mse: 1.3900e-08 - mae: 7.0504e-05 - accuracy: 1.0000 - recall: 1.0000 - precision: 1.0000\n",
            "Epoch 171/250\n",
            "25/25 [==============================] - 10s 401ms/step - loss: 6.9033e-05 - mse: 1.3380e-08 - mae: 6.9026e-05 - accuracy: 1.0000 - recall: 1.0000 - precision: 1.0000\n",
            "Epoch 172/250\n",
            "25/25 [==============================] - 10s 402ms/step - loss: 6.8232e-05 - mse: 1.3104e-08 - mae: 6.8227e-05 - accuracy: 1.0000 - recall: 1.0000 - precision: 1.0000\n",
            "Epoch 173/250\n",
            "25/25 [==============================] - 10s 401ms/step - loss: 6.7258e-05 - mse: 1.2923e-08 - mae: 6.7251e-05 - accuracy: 1.0000 - recall: 1.0000 - precision: 1.0000\n",
            "Epoch 174/250\n",
            "25/25 [==============================] - 10s 401ms/step - loss: 6.5730e-05 - mse: 1.2089e-08 - mae: 6.5724e-05 - accuracy: 1.0000 - recall: 1.0000 - precision: 1.0000\n",
            "Epoch 175/250\n",
            "25/25 [==============================] - 10s 401ms/step - loss: 6.4577e-05 - mse: 1.2018e-08 - mae: 6.4571e-05 - accuracy: 1.0000 - recall: 1.0000 - precision: 1.0000\n",
            "Epoch 176/250\n",
            "25/25 [==============================] - 10s 401ms/step - loss: 6.3981e-05 - mse: 1.1629e-08 - mae: 6.3977e-05 - accuracy: 1.0000 - recall: 1.0000 - precision: 1.0000\n",
            "Epoch 177/250\n",
            "25/25 [==============================] - 10s 403ms/step - loss: 6.2597e-05 - mse: 1.1380e-08 - mae: 6.2592e-05 - accuracy: 1.0000 - recall: 1.0000 - precision: 1.0000\n",
            "Epoch 178/250\n",
            "25/25 [==============================] - 10s 403ms/step - loss: 6.2030e-05 - mse: 1.1244e-08 - mae: 6.2025e-05 - accuracy: 1.0000 - recall: 1.0000 - precision: 1.0000\n",
            "Epoch 179/250\n",
            "25/25 [==============================] - 10s 403ms/step - loss: 6.1193e-05 - mse: 1.0708e-08 - mae: 6.1189e-05 - accuracy: 1.0000 - recall: 1.0000 - precision: 1.0000\n",
            "Epoch 180/250\n",
            "25/25 [==============================] - 10s 402ms/step - loss: 5.9355e-05 - mse: 9.9658e-09 - mae: 5.9351e-05 - accuracy: 1.0000 - recall: 1.0000 - precision: 1.0000\n",
            "Epoch 181/250\n",
            "25/25 [==============================] - 10s 402ms/step - loss: 5.8605e-05 - mse: 9.7970e-09 - mae: 5.8599e-05 - accuracy: 1.0000 - recall: 1.0000 - precision: 1.0000\n",
            "Epoch 182/250\n",
            "25/25 [==============================] - 10s 402ms/step - loss: 5.7198e-05 - mse: 9.2028e-09 - mae: 5.7193e-05 - accuracy: 1.0000 - recall: 1.0000 - precision: 1.0000\n",
            "Epoch 183/250\n",
            "25/25 [==============================] - 10s 400ms/step - loss: 5.7200e-05 - mse: 9.2779e-09 - mae: 5.7196e-05 - accuracy: 1.0000 - recall: 1.0000 - precision: 1.0000\n",
            "Epoch 184/250\n",
            "25/25 [==============================] - 10s 403ms/step - loss: 5.5514e-05 - mse: 8.7468e-09 - mae: 5.5511e-05 - accuracy: 1.0000 - recall: 1.0000 - precision: 1.0000\n",
            "Epoch 185/250\n",
            "25/25 [==============================] - 10s 401ms/step - loss: 5.4357e-05 - mse: 8.2562e-09 - mae: 5.4353e-05 - accuracy: 1.0000 - recall: 1.0000 - precision: 1.0000\n",
            "Epoch 186/250\n",
            "25/25 [==============================] - 10s 401ms/step - loss: 5.3035e-05 - mse: 7.8341e-09 - mae: 5.3032e-05 - accuracy: 1.0000 - recall: 1.0000 - precision: 1.0000\n",
            "Epoch 187/250\n",
            "25/25 [==============================] - 10s 401ms/step - loss: 5.3125e-05 - mse: 7.9787e-09 - mae: 5.3123e-05 - accuracy: 1.0000 - recall: 1.0000 - precision: 1.0000\n",
            "Epoch 188/250\n",
            "25/25 [==============================] - 10s 401ms/step - loss: 5.1625e-05 - mse: 7.4151e-09 - mae: 5.1622e-05 - accuracy: 1.0000 - recall: 1.0000 - precision: 1.0000\n",
            "Epoch 189/250\n",
            "25/25 [==============================] - 10s 399ms/step - loss: 5.1148e-05 - mse: 7.3480e-09 - mae: 5.1147e-05 - accuracy: 1.0000 - recall: 1.0000 - precision: 1.0000\n",
            "Epoch 190/250\n",
            "25/25 [==============================] - 10s 401ms/step - loss: 5.0539e-05 - mse: 7.2773e-09 - mae: 5.0536e-05 - accuracy: 1.0000 - recall: 1.0000 - precision: 1.0000\n",
            "Epoch 191/250\n",
            "25/25 [==============================] - 10s 402ms/step - loss: 4.9532e-05 - mse: 6.9913e-09 - mae: 4.9530e-05 - accuracy: 1.0000 - recall: 1.0000 - precision: 1.0000\n",
            "Epoch 192/250\n",
            "25/25 [==============================] - 10s 401ms/step - loss: 4.8416e-05 - mse: 6.5341e-09 - mae: 4.8413e-05 - accuracy: 1.0000 - recall: 1.0000 - precision: 1.0000\n",
            "Epoch 193/250\n",
            "25/25 [==============================] - 10s 401ms/step - loss: 4.7527e-05 - mse: 6.3359e-09 - mae: 4.7523e-05 - accuracy: 1.0000 - recall: 1.0000 - precision: 1.0000\n",
            "Epoch 194/250\n",
            "25/25 [==============================] - 10s 401ms/step - loss: 4.6873e-05 - mse: 6.1815e-09 - mae: 4.6872e-05 - accuracy: 1.0000 - recall: 1.0000 - precision: 1.0000\n",
            "Epoch 195/250\n",
            "25/25 [==============================] - 10s 401ms/step - loss: 4.6028e-05 - mse: 5.8851e-09 - mae: 4.6025e-05 - accuracy: 1.0000 - recall: 1.0000 - precision: 1.0000\n",
            "Epoch 196/250\n",
            "25/25 [==============================] - 10s 402ms/step - loss: 4.5433e-05 - mse: 5.8648e-09 - mae: 4.5431e-05 - accuracy: 1.0000 - recall: 1.0000 - precision: 1.0000\n",
            "Epoch 197/250\n",
            "25/25 [==============================] - 10s 401ms/step - loss: 4.4657e-05 - mse: 5.5890e-09 - mae: 4.4654e-05 - accuracy: 1.0000 - recall: 1.0000 - precision: 1.0000\n",
            "Epoch 198/250\n",
            "25/25 [==============================] - 10s 401ms/step - loss: 4.4001e-05 - mse: 5.4446e-09 - mae: 4.3999e-05 - accuracy: 1.0000 - recall: 1.0000 - precision: 1.0000\n",
            "Epoch 199/250\n",
            "25/25 [==============================] - 10s 402ms/step - loss: 4.3264e-05 - mse: 5.2661e-09 - mae: 4.3264e-05 - accuracy: 1.0000 - recall: 1.0000 - precision: 1.0000\n",
            "Epoch 200/250\n",
            "25/25 [==============================] - 10s 400ms/step - loss: 4.2740e-05 - mse: 5.1201e-09 - mae: 4.2738e-05 - accuracy: 1.0000 - recall: 1.0000 - precision: 1.0000\n",
            "Epoch 201/250\n",
            "25/25 [==============================] - 10s 400ms/step - loss: 4.1922e-05 - mse: 4.9846e-09 - mae: 4.1920e-05 - accuracy: 1.0000 - recall: 1.0000 - precision: 1.0000\n",
            "Epoch 202/250\n",
            "25/25 [==============================] - 10s 401ms/step - loss: 4.1048e-05 - mse: 4.7486e-09 - mae: 4.1045e-05 - accuracy: 1.0000 - recall: 1.0000 - precision: 1.0000\n",
            "Epoch 203/250\n",
            "25/25 [==============================] - 10s 400ms/step - loss: 4.0484e-05 - mse: 4.5835e-09 - mae: 4.0482e-05 - accuracy: 1.0000 - recall: 1.0000 - precision: 1.0000\n",
            "Epoch 204/250\n",
            "25/25 [==============================] - 10s 401ms/step - loss: 4.0215e-05 - mse: 4.6483e-09 - mae: 4.0213e-05 - accuracy: 1.0000 - recall: 1.0000 - precision: 1.0000\n",
            "Epoch 205/250\n",
            "25/25 [==============================] - 10s 401ms/step - loss: 3.9185e-05 - mse: 4.3373e-09 - mae: 3.9184e-05 - accuracy: 1.0000 - recall: 1.0000 - precision: 1.0000\n",
            "Epoch 206/250\n",
            "25/25 [==============================] - 10s 400ms/step - loss: 3.8730e-05 - mse: 4.2919e-09 - mae: 3.8728e-05 - accuracy: 1.0000 - recall: 1.0000 - precision: 1.0000\n",
            "Epoch 207/250\n",
            "25/25 [==============================] - 10s 401ms/step - loss: 3.8055e-05 - mse: 4.0423e-09 - mae: 3.8053e-05 - accuracy: 1.0000 - recall: 1.0000 - precision: 1.0000\n",
            "Epoch 208/250\n",
            "25/25 [==============================] - 10s 401ms/step - loss: 3.7382e-05 - mse: 3.9827e-09 - mae: 3.7381e-05 - accuracy: 1.0000 - recall: 1.0000 - precision: 1.0000\n",
            "Epoch 209/250\n",
            "25/25 [==============================] - 10s 400ms/step - loss: 3.6628e-05 - mse: 3.7208e-09 - mae: 3.6626e-05 - accuracy: 1.0000 - recall: 1.0000 - precision: 1.0000\n",
            "Epoch 210/250\n",
            "25/25 [==============================] - 10s 400ms/step - loss: 3.5970e-05 - mse: 3.6089e-09 - mae: 3.5969e-05 - accuracy: 1.0000 - recall: 1.0000 - precision: 1.0000\n",
            "Epoch 211/250\n",
            "25/25 [==============================] - 10s 401ms/step - loss: 3.5577e-05 - mse: 3.5354e-09 - mae: 3.5575e-05 - accuracy: 1.0000 - recall: 1.0000 - precision: 1.0000\n",
            "Epoch 212/250\n",
            "25/25 [==============================] - 10s 401ms/step - loss: 3.4943e-05 - mse: 3.4029e-09 - mae: 3.4941e-05 - accuracy: 1.0000 - recall: 1.0000 - precision: 1.0000\n",
            "Epoch 213/250\n",
            "25/25 [==============================] - 10s 400ms/step - loss: 3.4503e-05 - mse: 3.3538e-09 - mae: 3.4502e-05 - accuracy: 1.0000 - recall: 1.0000 - precision: 1.0000\n",
            "Epoch 214/250\n",
            "25/25 [==============================] - 10s 400ms/step - loss: 3.4011e-05 - mse: 3.2433e-09 - mae: 3.4010e-05 - accuracy: 1.0000 - recall: 1.0000 - precision: 1.0000\n",
            "Epoch 215/250\n",
            "25/25 [==============================] - 10s 399ms/step - loss: 3.3314e-05 - mse: 3.1095e-09 - mae: 3.3313e-05 - accuracy: 1.0000 - recall: 1.0000 - precision: 1.0000\n",
            "Epoch 216/250\n",
            "25/25 [==============================] - 10s 400ms/step - loss: 3.3114e-05 - mse: 3.1420e-09 - mae: 3.3113e-05 - accuracy: 1.0000 - recall: 1.0000 - precision: 1.0000\n",
            "Epoch 217/250\n",
            "25/25 [==============================] - 10s 401ms/step - loss: 3.2715e-05 - mse: 3.0815e-09 - mae: 3.2713e-05 - accuracy: 1.0000 - recall: 1.0000 - precision: 1.0000\n",
            "Epoch 218/250\n",
            "25/25 [==============================] - 10s 401ms/step - loss: 3.1932e-05 - mse: 2.8579e-09 - mae: 3.1931e-05 - accuracy: 1.0000 - recall: 1.0000 - precision: 1.0000\n",
            "Epoch 219/250\n",
            "25/25 [==============================] - 10s 402ms/step - loss: 3.1337e-05 - mse: 2.7462e-09 - mae: 3.1337e-05 - accuracy: 1.0000 - recall: 1.0000 - precision: 1.0000\n",
            "Epoch 220/250\n",
            "25/25 [==============================] - 10s 402ms/step - loss: 3.0855e-05 - mse: 2.6398e-09 - mae: 3.0855e-05 - accuracy: 1.0000 - recall: 1.0000 - precision: 1.0000\n",
            "Epoch 221/250\n",
            "25/25 [==============================] - 10s 401ms/step - loss: 3.0632e-05 - mse: 2.6704e-09 - mae: 3.0631e-05 - accuracy: 1.0000 - recall: 1.0000 - precision: 1.0000\n",
            "Epoch 222/250\n",
            "25/25 [==============================] - 10s 402ms/step - loss: 3.1020e-05 - mse: 2.8640e-09 - mae: 3.1019e-05 - accuracy: 1.0000 - recall: 1.0000 - precision: 1.0000\n",
            "Epoch 223/250\n",
            "25/25 [==============================] - 10s 401ms/step - loss: 2.9586e-05 - mse: 2.4998e-09 - mae: 2.9586e-05 - accuracy: 1.0000 - recall: 1.0000 - precision: 1.0000\n",
            "Epoch 224/250\n",
            "25/25 [==============================] - 10s 402ms/step - loss: 2.9125e-05 - mse: 2.3927e-09 - mae: 2.9124e-05 - accuracy: 1.0000 - recall: 1.0000 - precision: 1.0000\n",
            "Epoch 225/250\n",
            "25/25 [==============================] - 10s 401ms/step - loss: 2.8567e-05 - mse: 2.2954e-09 - mae: 2.8567e-05 - accuracy: 1.0000 - recall: 1.0000 - precision: 1.0000\n",
            "Epoch 226/250\n",
            "25/25 [==============================] - 10s 402ms/step - loss: 2.8147e-05 - mse: 2.2247e-09 - mae: 2.8146e-05 - accuracy: 1.0000 - recall: 1.0000 - precision: 1.0000\n",
            "Epoch 227/250\n",
            "25/25 [==============================] - 10s 402ms/step - loss: 2.7573e-05 - mse: 2.1360e-09 - mae: 2.7573e-05 - accuracy: 1.0000 - recall: 1.0000 - precision: 1.0000\n",
            "Epoch 228/250\n",
            "25/25 [==============================] - 10s 401ms/step - loss: 2.7518e-05 - mse: 2.1396e-09 - mae: 2.7517e-05 - accuracy: 1.0000 - recall: 1.0000 - precision: 1.0000\n",
            "Epoch 229/250\n",
            "25/25 [==============================] - 10s 402ms/step - loss: 2.6831e-05 - mse: 2.0200e-09 - mae: 2.6831e-05 - accuracy: 1.0000 - recall: 1.0000 - precision: 1.0000\n",
            "Epoch 230/250\n",
            "25/25 [==============================] - 10s 401ms/step - loss: 2.6580e-05 - mse: 2.0015e-09 - mae: 2.6579e-05 - accuracy: 1.0000 - recall: 1.0000 - precision: 1.0000\n",
            "Epoch 231/250\n",
            "25/25 [==============================] - 10s 401ms/step - loss: 2.6101e-05 - mse: 1.9144e-09 - mae: 2.6100e-05 - accuracy: 1.0000 - recall: 1.0000 - precision: 1.0000\n",
            "Epoch 232/250\n",
            "25/25 [==============================] - 10s 402ms/step - loss: 2.5638e-05 - mse: 1.8671e-09 - mae: 2.5638e-05 - accuracy: 1.0000 - recall: 1.0000 - precision: 1.0000\n",
            "Epoch 233/250\n",
            "25/25 [==============================] - 10s 402ms/step - loss: 2.5158e-05 - mse: 1.7943e-09 - mae: 2.5158e-05 - accuracy: 1.0000 - recall: 1.0000 - precision: 1.0000\n",
            "Epoch 234/250\n",
            "25/25 [==============================] - 10s 402ms/step - loss: 2.4942e-05 - mse: 1.7477e-09 - mae: 2.4941e-05 - accuracy: 1.0000 - recall: 1.0000 - precision: 1.0000\n",
            "Epoch 235/250\n",
            "25/25 [==============================] - 10s 402ms/step - loss: 2.4610e-05 - mse: 1.7203e-09 - mae: 2.4609e-05 - accuracy: 1.0000 - recall: 1.0000 - precision: 1.0000\n",
            "Epoch 236/250\n",
            "25/25 [==============================] - 10s 403ms/step - loss: 2.4455e-05 - mse: 1.7241e-09 - mae: 2.4456e-05 - accuracy: 1.0000 - recall: 1.0000 - precision: 1.0000\n",
            "Epoch 237/250\n",
            "25/25 [==============================] - 10s 402ms/step - loss: 2.3714e-05 - mse: 1.5709e-09 - mae: 2.3714e-05 - accuracy: 1.0000 - recall: 1.0000 - precision: 1.0000\n",
            "Epoch 238/250\n",
            "25/25 [==============================] - 10s 403ms/step - loss: 2.3532e-05 - mse: 1.5520e-09 - mae: 2.3531e-05 - accuracy: 1.0000 - recall: 1.0000 - precision: 1.0000\n",
            "Epoch 239/250\n",
            "25/25 [==============================] - 10s 400ms/step - loss: 2.2957e-05 - mse: 1.4664e-09 - mae: 2.2956e-05 - accuracy: 1.0000 - recall: 1.0000 - precision: 1.0000\n",
            "Epoch 240/250\n",
            "25/25 [==============================] - 10s 402ms/step - loss: 2.2558e-05 - mse: 1.4176e-09 - mae: 2.2556e-05 - accuracy: 1.0000 - recall: 1.0000 - precision: 1.0000\n",
            "Epoch 241/250\n",
            "25/25 [==============================] - 10s 402ms/step - loss: 2.2217e-05 - mse: 1.3865e-09 - mae: 2.2218e-05 - accuracy: 1.0000 - recall: 1.0000 - precision: 1.0000\n",
            "Epoch 242/250\n",
            "25/25 [==============================] - 10s 403ms/step - loss: 2.1925e-05 - mse: 1.3524e-09 - mae: 2.1925e-05 - accuracy: 1.0000 - recall: 1.0000 - precision: 1.0000\n",
            "Epoch 243/250\n",
            "25/25 [==============================] - 10s 401ms/step - loss: 2.1745e-05 - mse: 1.3234e-09 - mae: 2.1744e-05 - accuracy: 1.0000 - recall: 1.0000 - precision: 1.0000\n",
            "Epoch 244/250\n",
            "25/25 [==============================] - 10s 403ms/step - loss: 2.1294e-05 - mse: 1.2666e-09 - mae: 2.1294e-05 - accuracy: 1.0000 - recall: 1.0000 - precision: 1.0000\n",
            "Epoch 245/250\n",
            "25/25 [==============================] - 10s 403ms/step - loss: 2.0971e-05 - mse: 1.2277e-09 - mae: 2.0971e-05 - accuracy: 1.0000 - recall: 1.0000 - precision: 1.0000\n",
            "Epoch 246/250\n",
            "25/25 [==============================] - 10s 402ms/step - loss: 2.0891e-05 - mse: 1.2568e-09 - mae: 2.0891e-05 - accuracy: 1.0000 - recall: 1.0000 - precision: 1.0000\n",
            "Epoch 247/250\n",
            "25/25 [==============================] - 10s 402ms/step - loss: 2.0535e-05 - mse: 1.1991e-09 - mae: 2.0533e-05 - accuracy: 1.0000 - recall: 1.0000 - precision: 1.0000\n",
            "Epoch 248/250\n",
            "25/25 [==============================] - 10s 403ms/step - loss: 2.0163e-05 - mse: 1.1430e-09 - mae: 2.0163e-05 - accuracy: 1.0000 - recall: 1.0000 - precision: 1.0000\n",
            "Epoch 249/250\n",
            "25/25 [==============================] - 10s 402ms/step - loss: 1.9692e-05 - mse: 1.0758e-09 - mae: 1.9691e-05 - accuracy: 1.0000 - recall: 1.0000 - precision: 1.0000\n",
            "Epoch 250/250\n",
            "25/25 [==============================] - 10s 402ms/step - loss: 1.9525e-05 - mse: 1.0825e-09 - mae: 1.9525e-05 - accuracy: 1.0000 - recall: 1.0000 - precision: 1.0000\n"
          ],
          "name": "stdout"
        }
      ]
    },
    {
      "cell_type": "markdown",
      "metadata": {
        "id": "-CkMlUhY7WRU",
        "colab_type": "text"
      },
      "source": [
        "##**8. Generar gráfica de: loss(pérdida) y accuracy(acierto) en cada época realizada.**"
      ]
    },
    {
      "cell_type": "code",
      "metadata": {
        "id": "PwSQTQbUoe14",
        "colab_type": "code",
        "outputId": "56f26792-9a49-4ea6-c73e-35c9e83b01b1",
        "colab": {
          "base_uri": "https://localhost:8080/",
          "height": 377
        }
      },
      "source": [
        "import pandas as pd\n",
        "\n",
        "pd.DataFrame(history.history).plot(figsize=(8, 6))\n",
        "plt.grid(True)\n",
        "plt.gca().set_ylim(0, 1)\n",
        "plt.show()"
      ],
      "execution_count": 20,
      "outputs": [
        {
          "output_type": "display_data",
          "data": {
            "image/png": "[encoded data removed]",
            "text/plain": [
              "<Figure size 576x432 with 1 Axes>"
            ]
          },
          "metadata": {
            "tags": [],
            "needs_background": "light"
          }
        }
      ]
    },
    {
      "cell_type": "markdown",
      "metadata": {
        "id": "axoYkzoOANpI",
        "colab_type": "text"
      },
      "source": [
        "##**9. Predecir con el modelo, la clasificación de cada imagen del conjunto de Test**"
      ]
    },
    {
      "cell_type": "code",
      "metadata": {
        "id": "F2_13iEblUh6",
        "colab_type": "code",
        "colab": {}
      },
      "source": [
        "#SE EVALÚA EL MODELO\n",
        "Valores=(model.predict(XTEST))\n",
        "#Valores"
      ],
      "execution_count": 0,
      "outputs": []
    },
    {
      "cell_type": "code",
      "metadata": {
        "id": "w6t9lnP3lglW",
        "colab_type": "code",
        "outputId": "cba1dd0a-f932-4be3-9354-72c8483f35fd",
        "colab": {
          "base_uri": "https://localhost:8080/",
          "height": 34
        }
      },
      "source": [
        "#Valores_label=np.argmax(Valores, axis=1)\n",
        "#Valores_label\n",
        "Valores_label=np.around(Valores)\n",
        "Valores_label.shape"
      ],
      "execution_count": 22,
      "outputs": [
        {
          "output_type": "execute_result",
          "data": {
            "text/plain": [
              "(400, 1)"
            ]
          },
          "metadata": {
            "tags": []
          },
          "execution_count": 22
        }
      ]
    },
    {
      "cell_type": "markdown",
      "metadata": {
        "id": "EhL8DHRdDG_v",
        "colab_type": "text"
      },
      "source": [
        "##**10. Sacar métricas de evaluación, para mirar el rendimiento del modelo.**"
      ]
    },
    {
      "cell_type": "markdown",
      "metadata": {
        "id": "UCkpLdoUDSHP",
        "colab_type": "text"
      },
      "source": [
        "> **A. Matriz de confusión simple.**"
      ]
    },
    {
      "cell_type": "code",
      "metadata": {
        "id": "3sU-M00HmyWR",
        "colab_type": "code",
        "outputId": "3321f4af-555d-4721-98f9-6bb58817ece6",
        "colab": {
          "base_uri": "https://localhost:8080/",
          "height": 70
        }
      },
      "source": [
        "from sklearn.metrics import confusion_matrix, accuracy_score\n",
        "\n",
        "#YTEST=YTEST.reshape(len(Ytest),1)\n",
        "\n",
        "acc = accuracy_score(YTEST,Valores_label)\n",
        "print('acierto: ',acc)\n",
        "cm=confusion_matrix(YTEST,Valores_label)\n",
        "cm"
      ],
      "execution_count": 23,
      "outputs": [
        {
          "output_type": "stream",
          "text": [
            "acierto:  0.7775\n"
          ],
          "name": "stdout"
        },
        {
          "output_type": "execute_result",
          "data": {
            "text/plain": [
              "array([[149,  51],\n",
              "       [ 38, 162]])"
            ]
          },
          "metadata": {
            "tags": []
          },
          "execution_count": 23
        }
      ]
    },
    {
      "cell_type": "markdown",
      "metadata": {
        "id": "rEBXCc4TDjCE",
        "colab_type": "text"
      },
      "source": [
        "\n",
        ">**B. Matriz de confusión, con porcentjes de acierto.**"
      ]
    },
    {
      "cell_type": "code",
      "metadata": {
        "id": "EejIKKgBDjlP",
        "colab_type": "code",
        "outputId": "c2402300-c56f-467f-9526-7474e4bc5351",
        "colab": {
          "base_uri": "https://localhost:8080/",
          "height": 364
        }
      },
      "source": [
        "from sklearn.utils.multiclass import unique_labels\n",
        "\n",
        "\n",
        "def plot_confusion_matrix(matrix,Ytest,Valores_label,acc,Valores2):\n",
        "    fig = plt.figure(figsize=(5,5))\n",
        "    ax = fig.add_subplot(111)\n",
        "    cmap=plt.cm.Blues\n",
        "    matrix = 100*matrix.astype('float') / cm.sum(axis=1)[:, np.newaxis]\n",
        "    cax = ax.matshow(matrix, interpolation='nearest', cmap=cmap)\n",
        "    fig.colorbar(cax)\n",
        "    classes = unique_labels(Ytest,Valores_label)\n",
        "    classes1= Valores2\n",
        "    ax.set(xticks=np.arange(matrix.shape[1]),\n",
        "           yticks=np.arange(matrix.shape[0]),\n",
        "           xticklabels=classes1, yticklabels=classes1,\n",
        "           title='ACC = %.1f %%' % (100*acc),\n",
        "           ylabel='True label',\n",
        "           xlabel='Predicted label')\n",
        "    fmt = '.1f'\n",
        "    thresh = matrix.max() / 2.\n",
        "    for i in range(matrix.shape[0]):\n",
        "        for j in range(matrix.shape[1]):\n",
        "            ax.text(j, i, format(matrix[i, j], fmt),\n",
        "                    ha=\"center\", va=\"center\",\n",
        "                    color=\"black\",fontsize=14)\n",
        "    fig.tight_layout()\n",
        "\n",
        "#Valores_label_texto=convertir_salida_texto(Valores_label)\n",
        "plot_confusion_matrix(cm,YTEST,Valores_label,acc,Valores2=[\"Perro\",\"Gato\"])\n",
        "\n"
      ],
      "execution_count": 24,
      "outputs": [
        {
          "output_type": "display_data",
          "data": {
            "image/png": "[encoded data removed]",
            "text/plain": [
              "<Figure size 360x360 with 2 Axes>"
            ]
          },
          "metadata": {
            "tags": [],
            "needs_background": "light"
          }
        }
      ]
    },
    {
      "cell_type": "markdown",
      "metadata": {
        "id": "IZk9eJ4YDwed",
        "colab_type": "text"
      },
      "source": [
        "\n",
        "> **C. Reporte de algunas métricas: Precisión, recall, F1 y Support, para el umbral de clasificación 0,5(por defecto usado por keras).**\n"
      ]
    },
    {
      "cell_type": "code",
      "metadata": {
        "id": "W88lTS1WDxsY",
        "colab_type": "code",
        "outputId": "be864e3d-d4ed-4929-b57e-e8361810e6ab",
        "colab": {
          "base_uri": "https://localhost:8080/",
          "height": 176
        }
      },
      "source": [
        "from sklearn.metrics import classification_report\n",
        "\n",
        "target_names = ['Perro', 'Gato']\n",
        "cr=classification_report(YTEST, Valores_label,labels=range(len(target_names)),target_names=target_names)\n",
        "print(cr) "
      ],
      "execution_count": 25,
      "outputs": [
        {
          "output_type": "stream",
          "text": [
            "              precision    recall  f1-score   support\n",
            "\n",
            "       Perro       0.80      0.74      0.77       200\n",
            "        Gato       0.76      0.81      0.78       200\n",
            "\n",
            "    accuracy                           0.78       400\n",
            "   macro avg       0.78      0.78      0.78       400\n",
            "weighted avg       0.78      0.78      0.78       400\n",
            "\n"
          ],
          "name": "stdout"
        }
      ]
    },
    {
      "cell_type": "markdown",
      "metadata": {
        "id": "ilniZmtTD39E",
        "colab_type": "text"
      },
      "source": [
        ">**D. Curva ROC, para cada clase, variando los umbrales de decisión(Thresold) o, en este caso con la probabilidad de que pertenezca a una de las salidas.**"
      ]
    },
    {
      "cell_type": "code",
      "metadata": {
        "id": "6HRo5uaTml1w",
        "colab_type": "code",
        "outputId": "73eb4cd4-4061-4c46-afa1-45edf41b4c21",
        "colab": {
          "base_uri": "https://localhost:8080/",
          "height": 404
        }
      },
      "source": [
        "from sklearn.preprocessing import label_binarize\n",
        "from sklearn.metrics import roc_curve, auc\n",
        "\n",
        "\n",
        "\n",
        "Ytest_Bin= label_binarize(YTEST, classes=[0,1])\n",
        "Valores_Bin= label_binarize(Valores_label, classes=[0,1])\n",
        "roc_auc, fpr, tpr, n_classes = roc_multiclass(Ytest_Bin,Valores_Bin,colum=1)\n",
        "roc_auc_mc(roc_auc,fpr,tpr,n_classes,'ROC curve ')\n",
        "\n"
      ],
      "execution_count": 26,
      "outputs": [
        {
          "output_type": "display_data",
          "data": {
            "image/png": "[encoded data removed]",
            "text/plain": [
              "<Figure size 432x432 with 1 Axes>"
            ]
          },
          "metadata": {
            "tags": [],
            "needs_background": "light"
          }
        }
      ]
    },
    {
      "cell_type": "code",
      "metadata": {
        "id": "Xe4ek79vGG-B",
        "colab_type": "code",
        "outputId": "4587e273-8be4-4624-83c9-4f5d7cb6ede3",
        "colab": {
          "base_uri": "https://localhost:8080/",
          "height": 426
        }
      },
      "source": [
        "#GRAFICAR LAS PRIMERAS 10 CLASES\n",
        "tam=10\n",
        "index=0\n",
        "plt.figure(figsize=(tam*2, 7))\n",
        "for i in range(1,tam):\n",
        "  index += 1\n",
        "  plt.subplot((tam//10)+1, 5, index)\n",
        "  plt.imshow(XTEST[i-1])\n",
        "  plt.title(\"Class: {}\".format(Valores_label[i-1]))\n",
        "  plt.axis(\"off\")\n",
        "plt.show() "
      ],
      "execution_count": 27,
      "outputs": [
        {
          "output_type": "display_data",
          "data": {
            "image/png": "[encoded data removed]",
            "text/plain": [
              "<Figure size 1440x504 with 9 Axes>"
            ]
          },
          "metadata": {
            "tags": [],
            "needs_background": "light"
          }
        }
      ]
    },
    {
      "cell_type": "code",
      "metadata": {
        "id": "rCfjxCMLriBd",
        "colab_type": "code",
        "colab": {}
      },
      "source": [
        "\n"
      ],
      "execution_count": 0,
      "outputs": []
    },
    {
      "cell_type": "code",
      "metadata": {
        "id": "78qXclPMu2t8",
        "colab_type": "code",
        "colab": {}
      },
      "source": [
        ""
      ],
      "execution_count": 0,
      "outputs": []
    }
  ]
}