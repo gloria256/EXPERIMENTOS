{
  "nbformat": 4,
  "nbformat_minor": 0,
  "metadata": {
    "colab": {
      "name": "VGG-16.ipynb",
      "provenance": [],
      "collapsed_sections": [],
      "machine_shape": "hm",
      "include_colab_link": true
    },
    "kernelspec": {
      "name": "python3",
      "display_name": "Python 3"
    },
    "accelerator": "GPU"
  },
  "cells": [
    {
      "cell_type": "markdown",
      "metadata": {
        "id": "view-in-github",
        "colab_type": "text"
      },
      "source": [
        "<a href=\"https://colab.research.google.com/github/gloria256/EXPERIMENTOS/blob/master/VGG_16.ipynb\" target=\"_parent\"><img src=\"https://colab.research.google.com/assets/colab-badge.svg\" alt=\"Open In Colab\"/></a>"
      ]
    },
    {
      "cell_type": "markdown",
      "metadata": {
        "id": "5ftLDsREupDL",
        "colab_type": "text"
      },
      "source": [
        "# **CLASIFICADOR BINARIO USANDO LA RED: VGG16**\n",
        "\n",
        "\n",
        "\n",
        "\n",
        "\n"
      ]
    },
    {
      "cell_type": "markdown",
      "metadata": {
        "id": "lnRyzy7hvA2O",
        "colab_type": "text"
      },
      "source": [
        "## **1. Librerías necesarias y descarga de la función para la curva ROC en Drive.**"
      ]
    },
    {
      "cell_type": "code",
      "metadata": {
        "id": "rbNiIwHFdiWA",
        "colab_type": "code",
        "colab": {
          "base_uri": "https://localhost:8080/",
          "height": 34
        },
        "outputId": "30eaf0d0-5d3d-4cea-83e2-0068856ec535"
      },
      "source": [
        "#IMPORTACION DE LIBRERIAS NECESARIAS\n",
        "import pandas as pd\n",
        "import tensorflow_datasets as tfds\n",
        "import tensorflow as tf\n",
        "import matplotlib.pyplot as plt\n",
        "import cv2\n",
        "import numpy as np\n",
        "import os\n",
        "from keras.applications.resnet import preprocess_input, decode_predictions\n",
        "import sklearn\n",
        "\n",
        "# ACCESO A GOOGLE DRIVE\n",
        "import os\n",
        "from pydrive.auth import GoogleAuth\n",
        "from pydrive.drive import GoogleDrive\n",
        "from google.colab import auth\n",
        "from oauth2client.client import GoogleCredentials\n",
        "auth.authenticate_user()\n",
        "gauth = GoogleAuth()\n",
        "gauth.credentials = GoogleCredentials.get_application_default()\n",
        "drive = GoogleDrive(gauth)\n",
        "\n",
        "#ARCHIVO DE FUNCIONES\n",
        "file_id = '1QTJIzZb4xL9_it6AF4qpz6KJGIpprIVD' \n",
        "downloaded = drive.CreateFile({'id': file_id})\n",
        "downloaded.GetContentFile('funciones_people.py') \n",
        "from funciones_people import roc_multiclass, roc_auc_mc\n"
      ],
      "execution_count": 1,
      "outputs": [
        {
          "output_type": "stream",
          "text": [
            "Using TensorFlow backend.\n"
          ],
          "name": "stderr"
        }
      ]
    },
    {
      "cell_type": "markdown",
      "metadata": {
        "id": "hL2cXKJAkLoA",
        "colab_type": "text"
      },
      "source": [
        "## **4. Descargar imágenes de CIFAR-10**\n",
        "\n",
        "consta de 60000 imágenes en color de 32x32 en 10 clases, con 6000 imágenes por clase. Hay 50000 imágenes de entrenamiento y 10000 imágenes de prueba.\n",
        "\n",
        "El conjunto de datos se divide en cinco lotes de entrenamiento y un lote de prueba, cada uno con 10000 imágenes. El lote de prueba contiene exactamente 1000 imágenes seleccionadas al azar de cada clase. \n",
        "\n",
        "$avión\\hspace{1em}automóvil\\hspace{1em}pájaro\\hspace{1em}gato    \n",
        "ciervo\\hspace{1em}perro\\hspace{1em}rana\\hspace{1em}caballo\\hspace{1em}\n",
        "Embarcacion\\hspace{1em}camión$"
      ]
    },
    {
      "cell_type": "markdown",
      "metadata": {
        "id": "-3cxyDsseRk_",
        "colab_type": "text"
      },
      "source": [
        "#### **A:** Funciones, para seleccionar solo las clases: Gato y perro"
      ]
    },
    {
      "cell_type": "code",
      "metadata": {
        "id": "q1eEICWsfQUB",
        "colab_type": "code",
        "colab": {}
      },
      "source": [
        "def obtener_solo_imagenes_Etiqueta(imagen,etiqueta,num_etiqueta):\n",
        "  Gatos_label=np.where(etiqueta== num_etiqueta)\n",
        "  A=np.zeros([len(Gatos_label[0]),32,32,3],dtype=np.uint8)\n",
        "  for c,i in enumerate(Gatos_label[0]): \n",
        "    A[c]=imagen[i]\n",
        "  return A\n",
        "\n",
        "def cambiar_scala_224x224(imagen):\n",
        "  matriz_imagen1=np.zeros([len(imagen),224,224,3],dtype=np.uint8)\n",
        "  for i in range(len(imagen)):\n",
        "    img=imagen[i]\n",
        "    scale_percent = 700 # percent of original size\n",
        "    width = int(img.shape[1] * scale_percent / 100)\n",
        "    height = int(img.shape[0] * scale_percent / 100)\n",
        "    dim = (width, height)\n",
        "    resized = cv2.resize(img, dim, interpolation = cv2.INTER_AREA)\n",
        "    matriz_imagen1[i]=resized\n",
        "  return matriz_imagen1"
      ],
      "execution_count": 0,
      "outputs": []
    },
    {
      "cell_type": "markdown",
      "metadata": {
        "id": "eegBaLz32hzL",
        "colab_type": "text"
      },
      "source": [
        "#### **B:** Descargar de keras datasets CIFAR10 y seleccionar las imagenes de las clases gato y perro del conjunto de **Train** y **Test**\n",
        "\n",
        "\n"
      ]
    },
    {
      "cell_type": "code",
      "metadata": {
        "id": "jogC9oAGzSuu",
        "colab_type": "code",
        "outputId": "a30d3e25-25a0-40f4-a669-d95f5a051dcd",
        "colab": {
          "base_uri": "https://localhost:8080/",
          "height": 70
        }
      },
      "source": [
        "#IMPORTAMOS EL CONJUNTO DE DATOS DE CIFAR10 DONE: Xdata[0][0]-->Train   Xdata[1][0]-->Test  Xdata[0][1]-->Ytrain  Xdata[1][1]-->Ytest\n",
        "import tensorflow as tf\n",
        "from keras.datasets import cifar10\n",
        "\n",
        "Xdata = tf.keras.datasets.cifar10.load_data()\n",
        "Xdata[1][0].shape\n"
      ],
      "execution_count": 3,
      "outputs": [
        {
          "output_type": "stream",
          "text": [
            "Downloading data from https://www.cs.toronto.edu/~kriz/cifar-10-python.tar.gz\n",
            "170500096/170498071 [==============================] - 2s 0us/step\n"
          ],
          "name": "stdout"
        },
        {
          "output_type": "execute_result",
          "data": {
            "text/plain": [
              "(10000, 32, 32, 3)"
            ]
          },
          "metadata": {
            "tags": []
          },
          "execution_count": 3
        }
      ]
    },
    {
      "cell_type": "code",
      "metadata": {
        "id": "aHZBxtVEIRU9",
        "colab_type": "code",
        "outputId": "c7ea7682-5883-4e1c-df1b-512fc116f331",
        "colab": {
          "base_uri": "https://localhost:8080/",
          "height": 265
        }
      },
      "source": [
        "#OBTENEMOS SOLO LAS IMAGENES DE GATO=3 y perro=5 DE TEST DE CIFAR10, SON 1000 IMAGENES DE GATO y 1000 IMAGENES DE PERRO\n",
        "gato_test = obtener_solo_imagenes_Etiqueta(Xdata[1][0],Xdata[1][1],num_etiqueta=3)\n",
        "perro_test = obtener_solo_imagenes_Etiqueta(Xdata[1][0],Xdata[1][1],num_etiqueta=5)\n",
        "\n",
        "#OBTENEMOS SOLO LAS IMAGENES DE GATO=3 y perro=5 DE TRAIN DE CIFAR10, SON 5000 IMAGENES DE GATO y 5000 IMAGENES DE PERRO\n",
        "gato_train = obtener_solo_imagenes_Etiqueta(Xdata[0][0],Xdata[0][1],num_etiqueta=3)\n",
        "perro_train = obtener_solo_imagenes_Etiqueta(Xdata[0][0],Xdata[0][1],num_etiqueta=5)\n",
        "\n",
        "plt.imshow(gato_test[999])\n",
        "plt.show()"
      ],
      "execution_count": 4,
      "outputs": [
        {
          "output_type": "display_data",
          "data": {
            "image/png": "[encoded data removed]",
            "text/plain": [
              "<Figure size 432x288 with 1 Axes>"
            ]
          },
          "metadata": {
            "tags": [],
            "needs_background": "light"
          }
        }
      ]
    },
    {
      "cell_type": "markdown",
      "metadata": {
        "id": "hMWOHRugFe8l",
        "colab_type": "text"
      },
      "source": [
        "## **5. Agrupar conjunto de datos, en uno solo (X)**\n",
        "\n",
        "Gato_test, Conjunto de satos de 1000 imágenes tomadas de CIFAR10 - TEST\n",
        "Gato_train, Conjunto de satos de 5000 imágenes tomadas de CIFAR10 - TRAIN\n",
        "\n",
        "perro_test, Conjunto de satos de 1000 imágenes tomadas de CIFAR10 - TEST\n",
        "perro_train, Conjunto de satos de 5000 imágenes tomadas de CIFAR10 - TRAIN\n",
        "\n",
        "\n",
        "> $X= Cifar10_{gato} + Cifar10_{perro}$\n"
      ]
    },
    {
      "cell_type": "markdown",
      "metadata": {
        "id": "T1tteHSs9YRA",
        "colab_type": "text"
      },
      "source": [
        "####**A:** Unir etiquetas y matrices de cada conjunto para fromar **X** de 2000 imágenes"
      ]
    },
    {
      "cell_type": "code",
      "metadata": {
        "id": "kyfpKkbQVtcH",
        "colab_type": "code",
        "outputId": "d1fbd0c9-d213-4efd-cfc7-1227c9f80e7d",
        "colab": {
          "base_uri": "https://localhost:8080/",
          "height": 34
        }
      },
      "source": [
        "#UNIR LAS IMAGENES EN UN SOLO CONJUNTO\n",
        "#X = np.concatenate((gato_test[0:500], gato_train[0:500], perro_test[0:500], perro_train[0:500]), axis=0)\n",
        "#X_label=np.concatenate(([1]*500, [1]*500, [0]*500, [0]*500), axis=0)\n",
        "#UNIR ETIQUETAS EN UN SOLO CONJUNTO \n",
        "# 1-->GATO   0-->PERRO\n",
        "\n",
        "Xtrain = np.concatenate((gato_train[0:800], perro_train[0:800]), axis=0)\n",
        "Xtrain_label=np.concatenate(([1]*800,[0]*800), axis=0)\n",
        "Xtest  = np.concatenate((gato_test[0:200], perro_test[0:200]), axis=0)\n",
        "Xtest_label=np.concatenate(([1]*200,[0]*200), axis=0)\n",
        "\n",
        "print(len(Xtrain),len(Xtrain_label),'  y  ',len(Xtest),len(Xtest_label))"
      ],
      "execution_count": 5,
      "outputs": [
        {
          "output_type": "stream",
          "text": [
            "1600 1600   y   400 400\n"
          ],
          "name": "stdout"
        }
      ]
    },
    {
      "cell_type": "markdown",
      "metadata": {
        "id": "tBhSseFp27Z_",
        "colab_type": "text"
      },
      "source": [
        "#### **B:** Cambiar tamaño de 32x32x3, a scala de: 224x224x3 (**Ver función:** cambiar_scala_224x224(X))\n",
        "\n",
        "\n"
      ]
    },
    {
      "cell_type": "code",
      "metadata": {
        "id": "_YxLJAILu3ql",
        "colab_type": "code",
        "outputId": "309bea58-0b5c-47d7-cad6-537a9ca0a6ba",
        "colab": {
          "base_uri": "https://localhost:8080/",
          "height": 34
        }
      },
      "source": [
        "import cv2\n",
        "Xtrain=cambiar_scala_224x224(Xtrain)\n",
        "Xtest=cambiar_scala_224x224(Xtest)\n",
        "print(Xtrain.shape,'  ',Xtest.shape)"
      ],
      "execution_count": 6,
      "outputs": [
        {
          "output_type": "stream",
          "text": [
            "(1600, 224, 224, 3)    (400, 224, 224, 3)\n"
          ],
          "name": "stdout"
        }
      ]
    },
    {
      "cell_type": "code",
      "metadata": {
        "id": "p5e8d0PxpMoQ",
        "colab_type": "code",
        "outputId": "2a955d4b-e250-46f8-976c-1d788d55544d",
        "colab": {
          "base_uri": "https://localhost:8080/",
          "height": 281
        }
      },
      "source": [
        "plt.imshow(Xtrain[5])\n",
        "plt.title('clase:%s'%Xtrain_label[5])\n",
        "plt.show()"
      ],
      "execution_count": 7,
      "outputs": [
        {
          "output_type": "display_data",
          "data": {
            "image/png": "[encoded data removed]",
            "text/plain": [
              "<Figure size 432x288 with 1 Axes>"
            ]
          },
          "metadata": {
            "tags": [],
            "needs_background": "light"
          }
        }
      ]
    },
    {
      "cell_type": "markdown",
      "metadata": {
        "id": "V6wmv0oX9tQ0",
        "colab_type": "text"
      },
      "source": [
        "####**C:** Pasar X, a un pandas, en este caso por cuestiones de espacio en memoria, solo se cojen: X[i][0][0][0:3] y se agrega para cada imagen al pandas X_PD con sus respectivas etiquetas X_label.\n",
        "\n",
        "\n"
      ]
    },
    {
      "cell_type": "code",
      "metadata": {
        "id": "WUoZ0rx1Ajop",
        "colab_type": "code",
        "colab": {}
      },
      "source": [
        "#ARMAR PANDAS CON SOLO 5 DATOS DE CADA UNA DE LAS 12000 IMAGENES PARA PODER PARTICIONAR EL CONJUNTO Y PODER SACAR YTRAIN Y YTEST\n",
        "Xtrain_PD=np.zeros([len(Xtrain),3])\n",
        "Xtest_PD=np.zeros([len(Xtest),3])\n",
        "\n",
        "for i in range(len(Xtrain)):\n",
        "  Xtrain_PD[i]=Xtrain[i][0][0][0:3]\n",
        "\n",
        "for i in range(len(Xtest)):\n",
        "  Xtest_PD[i]=Xtest[i][0][0][0:3]\n"
      ],
      "execution_count": 0,
      "outputs": []
    },
    {
      "cell_type": "code",
      "metadata": {
        "id": "mpoM4c89GilL",
        "colab_type": "code",
        "colab": {}
      },
      "source": [
        "#ARMAR PANDAS DE TODAS LAS IMAGENNES, SE BARAJAN Y SE DEJAN LOS INDICES SIN REINICIAR, PARA LUEGO ENCONTRAR LA IMAGEN QUE LE PERTENECE A CADA ETIQUETA.\n",
        "Xtrain_PD=pd.DataFrame(Xtrain_PD)\n",
        "Xtrain_PD[\"label\"]=Xtrain_label    \n",
        "Xtrain_PD = Xtrain_PD.sample(frac=1)#.reset_index(drop=True) #frac=1significa devolver todas las filas (en orden aleatorio).\n",
        "\n",
        "Xtest_PD=pd.DataFrame(Xtest_PD)\n",
        "Xtest_PD[\"label\"]=Xtest_label    \n",
        "Xtest_PD = Xtest_PD.sample(frac=1)"
      ],
      "execution_count": 0,
      "outputs": []
    },
    {
      "cell_type": "markdown",
      "metadata": {
        "id": "EjdPZOFN-P9d",
        "colab_type": "text"
      },
      "source": [
        "####**C:** Se particiona el conjuto de X_PD en Xtrain y Xtest, con 80%, 20% respectivamente y se sacan los Ytrain, Ytest por aparte."
      ]
    },
    {
      "cell_type": "code",
      "metadata": {
        "id": "qRFhRdcE9qj_",
        "colab_type": "code",
        "outputId": "26291434-1285-47cb-d132-f9a399388a62",
        "colab": {
          "base_uri": "https://localhost:8080/",
          "height": 34
        }
      },
      "source": [
        "#PARTICIONAR EL CONJUNTO DE XDATA EN XTRAIN Y XTEST\n",
        "#from sklearn.model_selection import train_test_split\n",
        "#Xtrain, Xtest = train_test_split(X_PD,test_size=0.2)\n",
        "\n",
        "col_sal=\"label\"\n",
        "Ytrain = Xtrain_PD[col_sal]\n",
        "Xtrain_PD.drop(columns=col_sal,inplace=True)\n",
        "Ytest = Xtest_PD[col_sal]\n",
        "Xtest_PD.drop(columns=col_sal,inplace=True)\n",
        "\n",
        "print(len(Ytrain),len(Ytest))"
      ],
      "execution_count": 10,
      "outputs": [
        {
          "output_type": "stream",
          "text": [
            "1600 400\n"
          ],
          "name": "stdout"
        }
      ]
    },
    {
      "cell_type": "markdown",
      "metadata": {
        "id": "4FlAT9CE-ogZ",
        "colab_type": "text"
      },
      "source": [
        "####**D:** Del pandas **X_PD** creado, se saca Ytrain, luego aquí,se sacan sus indices y se relacionan con la matrix de datos unidos **X** para armar el array **XTRAIN** que es el que va a la entrada de la red neuronal VGG-16."
      ]
    },
    {
      "cell_type": "code",
      "metadata": {
        "id": "xNSoYUIj70QB",
        "colab_type": "code",
        "outputId": "6dc0ca98-c503-4909-be03-b45c778f6c93",
        "colab": {
          "base_uri": "https://localhost:8080/",
          "height": 34
        }
      },
      "source": [
        "#SE ARMA EL CONJUNTO XTRAIN FINAL, A PARTIR DE LOS INDICES DE LAS ETIQUETAS.\n",
        "\n",
        "def relacion_indices_etiquetas_con_XTRAIN(X,Y):\n",
        "  A=np.zeros([len(Y),224,224,3],dtype=np.uint8)\n",
        "  B=[]\n",
        "  for c,i in enumerate(Y.index):\n",
        "    A[c]=X[i]\n",
        "    B.append(Y[i])\n",
        "  return A,np.array(B)\n",
        "\n",
        "\n",
        "XTRAIN,YTRAIN = relacion_indices_etiquetas_con_XTRAIN(Xtrain,Ytrain)\n",
        "XTEST,YTEST = relacion_indices_etiquetas_con_XTRAIN(Xtest,Ytest)\n",
        "print('xtrain: ',XTRAIN.shape,YTRAIN.shape,'  xtest: ',XTEST.shape,YTEST.shape)\n",
        "\n",
        "#c = np.all(np.array(YTRAIN) == np.array(Ytrain))\n",
        "#Ytrain.index"
      ],
      "execution_count": 11,
      "outputs": [
        {
          "output_type": "stream",
          "text": [
            "xtrain:  (1600, 224, 224, 3) (1600,)   xtest:  (400, 224, 224, 3) (400,)\n"
          ],
          "name": "stdout"
        }
      ]
    },
    {
      "cell_type": "code",
      "metadata": {
        "id": "M-lxgxSTfm7u",
        "colab_type": "code",
        "outputId": "d1e0dde0-d5c0-4266-dd8d-554ce79b7e62",
        "colab": {
          "base_uri": "https://localhost:8080/",
          "height": 34
        }
      },
      "source": [
        "#LAS PASAMOS A TENSOR, NO HAYNECESIDAD DE QUE YTRAIN SEA UN TENSOR.\n",
        "XTRAIN=tf.constant(XTRAIN)\n",
        "YTRAIN=tf.constant(YTRAIN)\n",
        "\n",
        "XTEST=tf.constant(XTEST)\n",
        "YTEST=tf.constant(YTEST)\n",
        "print(type(XTRAIN))"
      ],
      "execution_count": 12,
      "outputs": [
        {
          "output_type": "stream",
          "text": [
            "<class 'tensorflow.python.framework.ops.EagerTensor'>\n"
          ],
          "name": "stdout"
        }
      ]
    },
    {
      "cell_type": "code",
      "metadata": {
        "id": "NqVmpVA5-KRM",
        "colab_type": "code",
        "outputId": "99b83573-d6d7-46cb-a026-81371803607a",
        "colab": {
          "base_uri": "https://localhost:8080/",
          "height": 281
        }
      },
      "source": [
        "plt.imshow(XTRAIN[5])\n",
        "plt.title('clase:%s'%YTRAIN[5])\n",
        "plt.show()\n"
      ],
      "execution_count": 13,
      "outputs": [
        {
          "output_type": "display_data",
          "data": {
            "image/png": "[encoded data removed]",
            "text/plain": [
              "<Figure size 432x288 with 1 Axes>"
            ]
          },
          "metadata": {
            "tags": [],
            "needs_background": "light"
          }
        }
      ]
    },
    {
      "cell_type": "markdown",
      "metadata": {
        "id": "QajCSoSIeCEm",
        "colab_type": "text"
      },
      "source": [
        "##**6. Importar el modelo de la VGG-16 y configurar el último bloque.**\n",
        "\n",
        "### Dejar la ultima capa y agregar la capa densa de salida, para que tenga 1 salida.  "
      ]
    },
    {
      "cell_type": "code",
      "metadata": {
        "id": "tf0CXg9BN5aH",
        "colab_type": "code",
        "outputId": "1a71c978-30ce-4b86-dde7-400fadd56f89",
        "colab": {
          "base_uri": "https://localhost:8080/",
          "height": 1000
        }
      },
      "source": [
        "import tensorflow as tf\n",
        "\n",
        "model_VGG16 = tf.keras.applications.vgg16.VGG16(weights='imagenet')#,include_top=False)\n",
        "model_VGG16 = tf.keras.models.Model(inputs=model_VGG16.input, outputs=model_VGG16.layers[-3].output)\n",
        "\n",
        "#X  =  tf.keras.layers.Dropout(0.2)(model_VGG16.output)\n",
        "X  =  tf.keras.layers.Dense(4096,activation='relu',name='fc2' )(model_VGG16.output)\n",
        "#X  =  tf.keras.layers.Dropout(0.2)(X)\n",
        "output = tf.keras.layers.Dense(1, activation=\"sigmoid\", name='salida')(X)\n",
        "model = tf.keras.models.Model(inputs=model_VGG16.input, outputs=output)\n",
        "\n",
        "\n",
        "model.summary()"
      ],
      "execution_count": 14,
      "outputs": [
        {
          "output_type": "stream",
          "text": [
            "Downloading data from https://storage.googleapis.com/tensorflow/keras-applications/vgg16/vgg16_weights_tf_dim_ordering_tf_kernels.h5\n",
            "553467904/553467096 [==============================] - 3s 0us/step\n",
            "Model: \"model_1\"\n",
            "_________________________________________________________________\n",
            "Layer (type)                 Output Shape              Param #   \n",
            "=================================================================\n",
            "input_1 (InputLayer)         [(None, 224, 224, 3)]     0         \n",
            "_________________________________________________________________\n",
            "block1_conv1 (Conv2D)        (None, 224, 224, 64)      1792      \n",
            "_________________________________________________________________\n",
            "block1_conv2 (Conv2D)        (None, 224, 224, 64)      36928     \n",
            "_________________________________________________________________\n",
            "block1_pool (MaxPooling2D)   (None, 112, 112, 64)      0         \n",
            "_________________________________________________________________\n",
            "block2_conv1 (Conv2D)        (None, 112, 112, 128)     73856     \n",
            "_________________________________________________________________\n",
            "block2_conv2 (Conv2D)        (None, 112, 112, 128)     147584    \n",
            "_________________________________________________________________\n",
            "block2_pool (MaxPooling2D)   (None, 56, 56, 128)       0         \n",
            "_________________________________________________________________\n",
            "block3_conv1 (Conv2D)        (None, 56, 56, 256)       295168    \n",
            "_________________________________________________________________\n",
            "block3_conv2 (Conv2D)        (None, 56, 56, 256)       590080    \n",
            "_________________________________________________________________\n",
            "block3_conv3 (Conv2D)        (None, 56, 56, 256)       590080    \n",
            "_________________________________________________________________\n",
            "block3_pool (MaxPooling2D)   (None, 28, 28, 256)       0         \n",
            "_________________________________________________________________\n",
            "block4_conv1 (Conv2D)        (None, 28, 28, 512)       1180160   \n",
            "_________________________________________________________________\n",
            "block4_conv2 (Conv2D)        (None, 28, 28, 512)       2359808   \n",
            "_________________________________________________________________\n",
            "block4_conv3 (Conv2D)        (None, 28, 28, 512)       2359808   \n",
            "_________________________________________________________________\n",
            "block4_pool (MaxPooling2D)   (None, 14, 14, 512)       0         \n",
            "_________________________________________________________________\n",
            "block5_conv1 (Conv2D)        (None, 14, 14, 512)       2359808   \n",
            "_________________________________________________________________\n",
            "block5_conv2 (Conv2D)        (None, 14, 14, 512)       2359808   \n",
            "_________________________________________________________________\n",
            "block5_conv3 (Conv2D)        (None, 14, 14, 512)       2359808   \n",
            "_________________________________________________________________\n",
            "block5_pool (MaxPooling2D)   (None, 7, 7, 512)         0         \n",
            "_________________________________________________________________\n",
            "flatten (Flatten)            (None, 25088)             0         \n",
            "_________________________________________________________________\n",
            "fc1 (Dense)                  (None, 4096)              102764544 \n",
            "_________________________________________________________________\n",
            "fc2 (Dense)                  (None, 4096)              16781312  \n",
            "_________________________________________________________________\n",
            "salida (Dense)               (None, 1)                 4097      \n",
            "=================================================================\n",
            "Total params: 134,264,641\n",
            "Trainable params: 134,264,641\n",
            "Non-trainable params: 0\n",
            "_________________________________________________________________\n"
          ],
          "name": "stdout"
        }
      ]
    },
    {
      "cell_type": "code",
      "metadata": {
        "id": "7fGtZsYu191T",
        "colab_type": "code",
        "colab": {}
      },
      "source": [
        "#SE CONGELAN LOS PESOS DE TODAS LAS CAPAS MENOS DE LAS cuatro ULTIMAS CAPAS\n",
        "for layer in model.layers[:-3]:\n",
        "  layer.trainable=False"
      ],
      "execution_count": 0,
      "outputs": []
    },
    {
      "cell_type": "code",
      "metadata": {
        "id": "oa5ctNvRTWuQ",
        "colab_type": "code",
        "outputId": "4c9749a3-00aa-4c21-a16c-99e3e1f92039",
        "colab": {
          "base_uri": "https://localhost:8080/",
          "height": 425
        }
      },
      "source": [
        "#SE VERIFICA QUE LAS CUATRO ULTIMAS CAPAS ESTE EN TRUE Y LAS DEMÁS EN FALSE\n",
        "for layer in model.layers:\n",
        "  layer, layer.trainable\n",
        "  print(layer, layer.trainable)"
      ],
      "execution_count": 16,
      "outputs": [
        {
          "output_type": "stream",
          "text": [
            "<tensorflow.python.keras.engine.input_layer.InputLayer object at 0x7fa980691fd0> False\n",
            "<tensorflow.python.keras.layers.convolutional.Conv2D object at 0x7fa9fee414e0> False\n",
            "<tensorflow.python.keras.layers.convolutional.Conv2D object at 0x7fa990d1b9b0> False\n",
            "<tensorflow.python.keras.layers.pooling.MaxPooling2D object at 0x7fa98069fd30> False\n",
            "<tensorflow.python.keras.layers.convolutional.Conv2D object at 0x7fa980607b00> False\n",
            "<tensorflow.python.keras.layers.convolutional.Conv2D object at 0x7fa980605160> False\n",
            "<tensorflow.python.keras.layers.pooling.MaxPooling2D object at 0x7fa980613400> False\n",
            "<tensorflow.python.keras.layers.convolutional.Conv2D object at 0x7fa9806132b0> False\n",
            "<tensorflow.python.keras.layers.convolutional.Conv2D object at 0x7fa98061a5f8> False\n",
            "<tensorflow.python.keras.layers.convolutional.Conv2D object at 0x7fa9806227b8> False\n",
            "<tensorflow.python.keras.layers.pooling.MaxPooling2D object at 0x7fa9805a96d8> False\n",
            "<tensorflow.python.keras.layers.convolutional.Conv2D object at 0x7fa9805a9550> False\n",
            "<tensorflow.python.keras.layers.convolutional.Conv2D object at 0x7fa9805b1898> False\n",
            "<tensorflow.python.keras.layers.convolutional.Conv2D object at 0x7fa9805b8a58> False\n",
            "<tensorflow.python.keras.layers.pooling.MaxPooling2D object at 0x7fa9805be978> False\n",
            "<tensorflow.python.keras.layers.convolutional.Conv2D object at 0x7fa9805be7f0> False\n",
            "<tensorflow.python.keras.layers.convolutional.Conv2D object at 0x7fa9805c6b38> False\n",
            "<tensorflow.python.keras.layers.convolutional.Conv2D object at 0x7fa9805d0278> False\n",
            "<tensorflow.python.keras.layers.pooling.MaxPooling2D object at 0x7fa9805d7048> False\n",
            "<tensorflow.python.keras.layers.core.Flatten object at 0x7fa9805d7fd0> False\n",
            "<tensorflow.python.keras.layers.core.Dense object at 0x7fa9805dbf98> True\n",
            "<tensorflow.python.keras.layers.core.Dense object at 0x7fa980588748> True\n",
            "<tensorflow.python.keras.layers.core.Dense object at 0x7fa980588ba8> True\n"
          ],
          "name": "stdout"
        }
      ]
    },
    {
      "cell_type": "markdown",
      "metadata": {
        "id": "jEGBQQ8j7o1r",
        "colab_type": "text"
      },
      "source": [
        "##**6. Definir el optimizador para la funcion de costo, así como la funcion de pérdida y las metricas de evaluación del odelo a través de la compilacion del modelo.**\n",
        "\n",
        "Loss $\\hspace{1em} \\rightarrow \\hspace{1em}$ $-ylog(x)\\hat{y} + (1-y)log(1-\\hat{y}) $ \n"
      ]
    },
    {
      "cell_type": "code",
      "metadata": {
        "id": "n0VAt8V_1OvU",
        "colab_type": "code",
        "colab": {}
      },
      "source": [
        "#DEFINIR OPTIMIZADOR, FUNCIONES DE PERIDA Y METRICAS\n",
        "#optimizer = tf.keras.optimizers.SGD(learning_rate=0.001, momentum=0.9)\n",
        "optimizer = tf.keras.optimizers.Adam(learning_rate=0.001)#, beta_1=0.9, beta_2=0.999, epsilon=1e-07)\n",
        "#loss='mean_squared_logariic_errorthm'\n",
        "model.compile(loss='binary_crossentropy', optimizer=optimizer, metrics=['mse','mae','accuracy','Recall','Precision'])#,"
      ],
      "execution_count": 0,
      "outputs": []
    },
    {
      "cell_type": "markdown",
      "metadata": {
        "id": "7UUX2Kpy7Ya4",
        "colab_type": "text"
      },
      "source": [
        "##**7. Entrenar el modelo con XTRAIN como un array de 4 dimensiones.**\n",
        "\n",
        "---\n",
        "\n",
        "\n"
      ]
    },
    {
      "cell_type": "code",
      "metadata": {
        "id": "gegszIDZE3C0",
        "colab_type": "code",
        "outputId": "4849fe8d-c971-43c1-bfc0-040d6327e89c",
        "colab": {
          "base_uri": "https://localhost:8080/",
          "height": 34
        }
      },
      "source": [
        "print(len(XTRAIN),len(YTRAIN))\n"
      ],
      "execution_count": 18,
      "outputs": [
        {
          "output_type": "stream",
          "text": [
            "1600 1600\n"
          ],
          "name": "stdout"
        }
      ]
    },
    {
      "cell_type": "code",
      "metadata": {
        "id": "WHXivSHN9b5_",
        "colab_type": "code",
        "outputId": "e41f0dcf-d136-4469-836d-dc5244d8af36",
        "colab": {
          "base_uri": "https://localhost:8080/",
          "height": 1000
        }
      },
      "source": [
        "#ENTRENAR EL MODELO CREADO \n",
        "history=model.fit(XTRAIN,YTRAIN,epochs=250,batch_size=32)               "
      ],
      "execution_count": 19,
      "outputs": [
        {
          "output_type": "stream",
          "text": [
            "Epoch 1/250\n",
            "WARNING:tensorflow:From /usr/local/lib/python3.6/dist-packages/tensorflow/python/ops/resource_variable_ops.py:1817: calling BaseResourceVariable.__init__ (from tensorflow.python.ops.resource_variable_ops) with constraint is deprecated and will be removed in a future version.\n",
            "Instructions for updating:\n",
            "If using Keras pass *_constraint arguments to layers.\n",
            "50/50 [==============================] - 17s 330ms/step - loss: 14.6856 - mse: 0.3454 - mae: 0.4363 - accuracy: 0.5831 - recall: 0.5587 - precision: 0.5874\n",
            "Epoch 2/250\n",
            "50/50 [==============================] - 17s 330ms/step - loss: 0.4721 - mse: 0.1455 - mae: 0.2480 - accuracy: 0.7875 - recall: 0.7837 - precision: 0.7897\n",
            "Epoch 3/250\n",
            "50/50 [==============================] - 16s 330ms/step - loss: 0.1734 - mse: 0.0513 - mae: 0.1056 - accuracy: 0.9300 - recall: 0.9325 - precision: 0.9279\n",
            "Epoch 4/250\n",
            "50/50 [==============================] - 17s 330ms/step - loss: 0.0890 - mse: 0.0251 - mae: 0.0528 - accuracy: 0.9694 - recall: 0.9725 - precision: 0.9665\n",
            "Epoch 5/250\n",
            "50/50 [==============================] - 17s 330ms/step - loss: 0.0267 - mse: 0.0067 - mae: 0.0189 - accuracy: 0.9906 - recall: 0.9887 - precision: 0.9925\n",
            "Epoch 6/250\n",
            "50/50 [==============================] - 16s 329ms/step - loss: 0.0299 - mse: 0.0083 - mae: 0.0147 - accuracy: 0.9881 - recall: 0.9900 - precision: 0.9863\n",
            "Epoch 7/250\n",
            "50/50 [==============================] - 17s 330ms/step - loss: 0.1656 - mse: 0.0415 - mae: 0.0667 - accuracy: 0.9438 - recall: 0.9438 - precision: 0.9438\n",
            "Epoch 8/250\n",
            "50/50 [==============================] - 16s 330ms/step - loss: 0.0904 - mse: 0.0252 - mae: 0.0436 - accuracy: 0.9694 - recall: 0.9663 - precision: 0.9723\n",
            "Epoch 9/250\n",
            "50/50 [==============================] - 16s 329ms/step - loss: 0.0416 - mse: 0.0114 - mae: 0.0229 - accuracy: 0.9844 - recall: 0.9837 - precision: 0.9850\n",
            "Epoch 10/250\n",
            "50/50 [==============================] - 17s 331ms/step - loss: 0.0430 - mse: 0.0113 - mae: 0.0213 - accuracy: 0.9856 - recall: 0.9875 - precision: 0.9838\n",
            "Epoch 11/250\n",
            "50/50 [==============================] - 17s 331ms/step - loss: 0.0088 - mse: 0.0025 - mae: 0.0060 - accuracy: 0.9956 - recall: 0.9937 - precision: 0.9975\n",
            "Epoch 12/250\n",
            "50/50 [==============================] - 17s 331ms/step - loss: 0.0047 - mse: 0.0012 - mae: 0.0038 - accuracy: 0.9987 - recall: 0.9975 - precision: 1.0000\n",
            "Epoch 13/250\n",
            "50/50 [==============================] - 17s 332ms/step - loss: 7.6779e-04 - mse: 7.2842e-05 - mae: 7.2634e-04 - accuracy: 1.0000 - recall: 1.0000 - precision: 1.0000\n",
            "Epoch 14/250\n",
            "50/50 [==============================] - 17s 332ms/step - loss: 1.2666e-04 - mse: 9.6393e-07 - mae: 1.2617e-04 - accuracy: 1.0000 - recall: 1.0000 - precision: 1.0000\n",
            "Epoch 15/250\n",
            "50/50 [==============================] - 17s 331ms/step - loss: 5.1694e-05 - mse: 1.2299e-07 - mae: 5.1631e-05 - accuracy: 1.0000 - recall: 1.0000 - precision: 1.0000\n",
            "Epoch 16/250\n",
            "50/50 [==============================] - 17s 331ms/step - loss: 3.1879e-05 - mse: 4.0080e-08 - mae: 3.1858e-05 - accuracy: 1.0000 - recall: 1.0000 - precision: 1.0000\n",
            "Epoch 17/250\n",
            "50/50 [==============================] - 17s 330ms/step - loss: 2.3010e-05 - mse: 2.2538e-08 - mae: 2.2997e-05 - accuracy: 1.0000 - recall: 1.0000 - precision: 1.0000\n",
            "Epoch 18/250\n",
            "50/50 [==============================] - 16s 329ms/step - loss: 1.7543e-05 - mse: 1.1932e-08 - mae: 1.7536e-05 - accuracy: 1.0000 - recall: 1.0000 - precision: 1.0000\n",
            "Epoch 19/250\n",
            "50/50 [==============================] - 16s 330ms/step - loss: 1.4092e-05 - mse: 7.9625e-09 - mae: 1.4087e-05 - accuracy: 1.0000 - recall: 1.0000 - precision: 1.0000\n",
            "Epoch 20/250\n",
            "50/50 [==============================] - 16s 330ms/step - loss: 1.1479e-05 - mse: 4.9418e-09 - mae: 1.1475e-05 - accuracy: 1.0000 - recall: 1.0000 - precision: 1.0000\n",
            "Epoch 21/250\n",
            "50/50 [==============================] - 16s 330ms/step - loss: 9.5421e-06 - mse: 3.5089e-09 - mae: 9.5397e-06 - accuracy: 1.0000 - recall: 1.0000 - precision: 1.0000\n",
            "Epoch 22/250\n",
            "50/50 [==============================] - 17s 331ms/step - loss: 8.1372e-06 - mse: 2.5406e-09 - mae: 8.1347e-06 - accuracy: 1.0000 - recall: 1.0000 - precision: 1.0000\n",
            "Epoch 23/250\n",
            "50/50 [==============================] - 17s 331ms/step - loss: 7.0324e-06 - mse: 1.9327e-09 - mae: 7.0302e-06 - accuracy: 1.0000 - recall: 1.0000 - precision: 1.0000\n",
            "Epoch 24/250\n",
            "50/50 [==============================] - 17s 332ms/step - loss: 6.1510e-06 - mse: 1.4662e-09 - mae: 6.1490e-06 - accuracy: 1.0000 - recall: 1.0000 - precision: 1.0000\n",
            "Epoch 25/250\n",
            "50/50 [==============================] - 17s 332ms/step - loss: 5.3525e-06 - mse: 1.0685e-09 - mae: 5.3512e-06 - accuracy: 1.0000 - recall: 1.0000 - precision: 1.0000\n",
            "Epoch 26/250\n",
            "50/50 [==============================] - 17s 332ms/step - loss: 4.7742e-06 - mse: 8.6117e-10 - mae: 4.7730e-06 - accuracy: 1.0000 - recall: 1.0000 - precision: 1.0000\n",
            "Epoch 27/250\n",
            "50/50 [==============================] - 17s 332ms/step - loss: 4.3104e-06 - mse: 6.9027e-10 - mae: 4.3090e-06 - accuracy: 1.0000 - recall: 1.0000 - precision: 1.0000\n",
            "Epoch 28/250\n",
            "50/50 [==============================] - 17s 332ms/step - loss: 3.8265e-06 - mse: 5.4512e-10 - mae: 3.8260e-06 - accuracy: 1.0000 - recall: 1.0000 - precision: 1.0000\n",
            "Epoch 29/250\n",
            "50/50 [==============================] - 17s 333ms/step - loss: 3.4489e-06 - mse: 4.4326e-10 - mae: 3.4480e-06 - accuracy: 1.0000 - recall: 1.0000 - precision: 1.0000\n",
            "Epoch 30/250\n",
            "50/50 [==============================] - 17s 332ms/step - loss: 3.1240e-06 - mse: 3.6292e-10 - mae: 3.1230e-06 - accuracy: 1.0000 - recall: 1.0000 - precision: 1.0000\n",
            "Epoch 31/250\n",
            "50/50 [==============================] - 17s 331ms/step - loss: 2.8388e-06 - mse: 3.0024e-10 - mae: 2.8382e-06 - accuracy: 1.0000 - recall: 1.0000 - precision: 1.0000\n",
            "Epoch 32/250\n",
            "50/50 [==============================] - 17s 331ms/step - loss: 2.6026e-06 - mse: 2.4971e-10 - mae: 2.6016e-06 - accuracy: 1.0000 - recall: 1.0000 - precision: 1.0000\n",
            "Epoch 33/250\n",
            "50/50 [==============================] - 17s 332ms/step - loss: 2.3985e-06 - mse: 2.1502e-10 - mae: 2.3977e-06 - accuracy: 1.0000 - recall: 1.0000 - precision: 1.0000\n",
            "Epoch 34/250\n",
            "50/50 [==============================] - 17s 332ms/step - loss: 2.1975e-06 - mse: 1.7898e-10 - mae: 2.1969e-06 - accuracy: 1.0000 - recall: 1.0000 - precision: 1.0000\n",
            "Epoch 35/250\n",
            "50/50 [==============================] - 17s 332ms/step - loss: 2.0221e-06 - mse: 1.4975e-10 - mae: 2.0214e-06 - accuracy: 1.0000 - recall: 1.0000 - precision: 1.0000\n",
            "Epoch 36/250\n",
            "50/50 [==============================] - 17s 330ms/step - loss: 1.8736e-06 - mse: 1.2696e-10 - mae: 1.8727e-06 - accuracy: 1.0000 - recall: 1.0000 - precision: 1.0000\n",
            "Epoch 37/250\n",
            "50/50 [==============================] - 17s 330ms/step - loss: 1.7392e-06 - mse: 1.0828e-10 - mae: 1.7386e-06 - accuracy: 1.0000 - recall: 1.0000 - precision: 1.0000\n",
            "Epoch 38/250\n",
            "50/50 [==============================] - 16s 329ms/step - loss: 1.6218e-06 - mse: 9.4989e-11 - mae: 1.6213e-06 - accuracy: 1.0000 - recall: 1.0000 - precision: 1.0000\n",
            "Epoch 39/250\n",
            "50/50 [==============================] - 17s 330ms/step - loss: 1.5074e-06 - mse: 8.1146e-11 - mae: 1.5067e-06 - accuracy: 1.0000 - recall: 1.0000 - precision: 1.0000\n",
            "Epoch 40/250\n",
            "50/50 [==============================] - 16s 329ms/step - loss: 1.4054e-06 - mse: 6.9587e-11 - mae: 1.4042e-06 - accuracy: 1.0000 - recall: 1.0000 - precision: 1.0000\n",
            "Epoch 41/250\n",
            "50/50 [==============================] - 16s 327ms/step - loss: 1.3125e-06 - mse: 6.0633e-11 - mae: 1.3116e-06 - accuracy: 1.0000 - recall: 1.0000 - precision: 1.0000\n",
            "Epoch 42/250\n",
            "50/50 [==============================] - 16s 328ms/step - loss: 1.2304e-06 - mse: 5.3607e-11 - mae: 1.2304e-06 - accuracy: 1.0000 - recall: 1.0000 - precision: 1.0000\n",
            "Epoch 43/250\n",
            "50/50 [==============================] - 16s 329ms/step - loss: 1.1543e-06 - mse: 4.7031e-11 - mae: 1.1536e-06 - accuracy: 1.0000 - recall: 1.0000 - precision: 1.0000\n",
            "Epoch 44/250\n",
            "50/50 [==============================] - 17s 330ms/step - loss: 1.0834e-06 - mse: 4.1044e-11 - mae: 1.0830e-06 - accuracy: 1.0000 - recall: 1.0000 - precision: 1.0000\n",
            "Epoch 45/250\n",
            "50/50 [==============================] - 17s 332ms/step - loss: 1.0213e-06 - mse: 3.5960e-11 - mae: 1.0210e-06 - accuracy: 1.0000 - recall: 1.0000 - precision: 1.0000\n",
            "Epoch 46/250\n",
            "50/50 [==============================] - 17s 333ms/step - loss: 9.5921e-07 - mse: 3.2030e-11 - mae: 9.5877e-07 - accuracy: 1.0000 - recall: 1.0000 - precision: 1.0000\n",
            "Epoch 47/250\n",
            "50/50 [==============================] - 17s 332ms/step - loss: 9.0571e-07 - mse: 2.8482e-11 - mae: 9.0476e-07 - accuracy: 1.0000 - recall: 1.0000 - precision: 1.0000\n",
            "Epoch 48/250\n",
            "50/50 [==============================] - 17s 333ms/step - loss: 8.5383e-07 - mse: 2.5441e-11 - mae: 8.5281e-07 - accuracy: 1.0000 - recall: 1.0000 - precision: 1.0000\n",
            "Epoch 49/250\n",
            "50/50 [==============================] - 17s 333ms/step - loss: 8.0569e-07 - mse: 2.2468e-11 - mae: 8.0544e-07 - accuracy: 1.0000 - recall: 1.0000 - precision: 1.0000\n",
            "Epoch 50/250\n",
            "50/50 [==============================] - 17s 333ms/step - loss: 7.6022e-07 - mse: 2.0016e-11 - mae: 7.5920e-07 - accuracy: 1.0000 - recall: 1.0000 - precision: 1.0000\n",
            "Epoch 51/250\n",
            "50/50 [==============================] - 17s 332ms/step - loss: 7.2102e-07 - mse: 1.7960e-11 - mae: 7.2071e-07 - accuracy: 1.0000 - recall: 1.0000 - precision: 1.0000\n",
            "Epoch 52/250\n",
            "50/50 [==============================] - 17s 334ms/step - loss: 6.8334e-07 - mse: 1.6177e-11 - mae: 6.8307e-07 - accuracy: 1.0000 - recall: 1.0000 - precision: 1.0000\n",
            "Epoch 53/250\n",
            "50/50 [==============================] - 17s 332ms/step - loss: 6.4845e-07 - mse: 1.4501e-11 - mae: 6.4813e-07 - accuracy: 1.0000 - recall: 1.0000 - precision: 1.0000\n",
            "Epoch 54/250\n",
            "50/50 [==============================] - 17s 333ms/step - loss: 6.1752e-07 - mse: 1.3173e-11 - mae: 6.1688e-07 - accuracy: 1.0000 - recall: 1.0000 - precision: 1.0000\n",
            "Epoch 55/250\n",
            "50/50 [==============================] - 17s 332ms/step - loss: 5.8580e-07 - mse: 1.1798e-11 - mae: 5.8508e-07 - accuracy: 1.0000 - recall: 1.0000 - precision: 1.0000\n",
            "Epoch 56/250\n",
            "50/50 [==============================] - 17s 333ms/step - loss: 5.5830e-07 - mse: 1.0733e-11 - mae: 5.5726e-07 - accuracy: 1.0000 - recall: 1.0000 - precision: 1.0000\n",
            "Epoch 57/250\n",
            "50/50 [==============================] - 17s 332ms/step - loss: 5.3119e-07 - mse: 9.5838e-12 - mae: 5.3053e-07 - accuracy: 1.0000 - recall: 1.0000 - precision: 1.0000\n",
            "Epoch 58/250\n",
            "50/50 [==============================] - 17s 333ms/step - loss: 5.0630e-07 - mse: 8.7942e-12 - mae: 5.0562e-07 - accuracy: 1.0000 - recall: 1.0000 - precision: 1.0000\n",
            "Epoch 59/250\n",
            "50/50 [==============================] - 17s 332ms/step - loss: 4.8320e-07 - mse: 7.9357e-12 - mae: 4.8236e-07 - accuracy: 1.0000 - recall: 1.0000 - precision: 1.0000\n",
            "Epoch 60/250\n",
            "50/50 [==============================] - 17s 333ms/step - loss: 4.6088e-07 - mse: 7.2485e-12 - mae: 4.6020e-07 - accuracy: 1.0000 - recall: 1.0000 - precision: 1.0000\n",
            "Epoch 61/250\n",
            "50/50 [==============================] - 17s 333ms/step - loss: 4.4033e-07 - mse: 6.6509e-12 - mae: 4.3991e-07 - accuracy: 1.0000 - recall: 1.0000 - precision: 1.0000\n",
            "Epoch 62/250\n",
            "50/50 [==============================] - 17s 332ms/step - loss: 4.2136e-07 - mse: 6.0978e-12 - mae: 4.2048e-07 - accuracy: 1.0000 - recall: 1.0000 - precision: 1.0000\n",
            "Epoch 63/250\n",
            "50/50 [==============================] - 17s 332ms/step - loss: 4.0179e-07 - mse: 5.4867e-12 - mae: 4.0112e-07 - accuracy: 1.0000 - recall: 1.0000 - precision: 1.0000\n",
            "Epoch 64/250\n",
            "50/50 [==============================] - 17s 333ms/step - loss: 3.8397e-07 - mse: 5.0300e-12 - mae: 3.8340e-07 - accuracy: 1.0000 - recall: 1.0000 - precision: 1.0000\n",
            "Epoch 65/250\n",
            "50/50 [==============================] - 17s 333ms/step - loss: 3.6749e-07 - mse: 4.5716e-12 - mae: 3.6682e-07 - accuracy: 1.0000 - recall: 1.0000 - precision: 1.0000\n",
            "Epoch 66/250\n",
            "50/50 [==============================] - 17s 332ms/step - loss: 3.5263e-07 - mse: 4.2021e-12 - mae: 3.5209e-07 - accuracy: 1.0000 - recall: 1.0000 - precision: 1.0000\n",
            "Epoch 67/250\n",
            "50/50 [==============================] - 17s 332ms/step - loss: 3.3711e-07 - mse: 3.8421e-12 - mae: 3.3661e-07 - accuracy: 1.0000 - recall: 1.0000 - precision: 1.0000\n",
            "Epoch 68/250\n",
            "50/50 [==============================] - 17s 332ms/step - loss: 3.2334e-07 - mse: 3.5453e-12 - mae: 3.2299e-07 - accuracy: 1.0000 - recall: 1.0000 - precision: 1.0000\n",
            "Epoch 69/250\n",
            "50/50 [==============================] - 17s 332ms/step - loss: 3.0955e-07 - mse: 3.2339e-12 - mae: 3.0939e-07 - accuracy: 1.0000 - recall: 1.0000 - precision: 1.0000\n",
            "Epoch 70/250\n",
            "50/50 [==============================] - 17s 332ms/step - loss: 2.9748e-07 - mse: 2.9936e-12 - mae: 2.9722e-07 - accuracy: 1.0000 - recall: 1.0000 - precision: 1.0000\n",
            "Epoch 71/250\n",
            "50/50 [==============================] - 17s 332ms/step - loss: 2.8562e-07 - mse: 2.7490e-12 - mae: 2.8519e-07 - accuracy: 1.0000 - recall: 1.0000 - precision: 1.0000\n",
            "Epoch 72/250\n",
            "50/50 [==============================] - 17s 332ms/step - loss: 2.7433e-07 - mse: 2.5139e-12 - mae: 2.7408e-07 - accuracy: 1.0000 - recall: 1.0000 - precision: 1.0000\n",
            "Epoch 73/250\n",
            "50/50 [==============================] - 17s 331ms/step - loss: 2.6319e-07 - mse: 2.3414e-12 - mae: 2.6260e-07 - accuracy: 1.0000 - recall: 1.0000 - precision: 1.0000\n",
            "Epoch 74/250\n",
            "50/50 [==============================] - 17s 330ms/step - loss: 2.5237e-07 - mse: 2.1405e-12 - mae: 2.5173e-07 - accuracy: 1.0000 - recall: 1.0000 - precision: 1.0000\n",
            "Epoch 75/250\n",
            "50/50 [==============================] - 17s 330ms/step - loss: 2.4231e-07 - mse: 1.9602e-12 - mae: 2.4190e-07 - accuracy: 1.0000 - recall: 1.0000 - precision: 1.0000\n",
            "Epoch 76/250\n",
            "50/50 [==============================] - 17s 331ms/step - loss: 2.3284e-07 - mse: 1.8081e-12 - mae: 2.3222e-07 - accuracy: 1.0000 - recall: 1.0000 - precision: 1.0000\n",
            "Epoch 77/250\n",
            "50/50 [==============================] - 17s 330ms/step - loss: 2.2404e-07 - mse: 1.6828e-12 - mae: 2.2349e-07 - accuracy: 1.0000 - recall: 1.0000 - precision: 1.0000\n",
            "Epoch 78/250\n",
            "50/50 [==============================] - 17s 331ms/step - loss: 2.1566e-07 - mse: 1.5337e-12 - mae: 2.1469e-07 - accuracy: 1.0000 - recall: 1.0000 - precision: 1.0000\n",
            "Epoch 79/250\n",
            "50/50 [==============================] - 17s 330ms/step - loss: 2.0746e-07 - mse: 1.4336e-12 - mae: 2.0665e-07 - accuracy: 1.0000 - recall: 1.0000 - precision: 1.0000\n",
            "Epoch 80/250\n",
            "50/50 [==============================] - 17s 331ms/step - loss: 1.9978e-07 - mse: 1.3352e-12 - mae: 1.9905e-07 - accuracy: 1.0000 - recall: 1.0000 - precision: 1.0000\n",
            "Epoch 81/250\n",
            "50/50 [==============================] - 17s 330ms/step - loss: 1.9224e-07 - mse: 1.2238e-12 - mae: 1.9145e-07 - accuracy: 1.0000 - recall: 1.0000 - precision: 1.0000\n",
            "Epoch 82/250\n",
            "50/50 [==============================] - 17s 331ms/step - loss: 1.8506e-07 - mse: 1.1362e-12 - mae: 1.8449e-07 - accuracy: 1.0000 - recall: 1.0000 - precision: 1.0000\n",
            "Epoch 83/250\n",
            "50/50 [==============================] - 17s 330ms/step - loss: 1.7844e-07 - mse: 1.0601e-12 - mae: 1.7766e-07 - accuracy: 1.0000 - recall: 1.0000 - precision: 1.0000\n",
            "Epoch 84/250\n",
            "50/50 [==============================] - 17s 330ms/step - loss: 1.7224e-07 - mse: 9.8787e-13 - mae: 1.7165e-07 - accuracy: 1.0000 - recall: 1.0000 - precision: 1.0000\n",
            "Epoch 85/250\n",
            "50/50 [==============================] - 17s 330ms/step - loss: 1.6551e-07 - mse: 9.0469e-13 - mae: 1.6458e-07 - accuracy: 1.0000 - recall: 1.0000 - precision: 1.0000\n",
            "Epoch 86/250\n",
            "50/50 [==============================] - 17s 331ms/step - loss: 1.5975e-07 - mse: 8.4479e-13 - mae: 1.5903e-07 - accuracy: 1.0000 - recall: 1.0000 - precision: 1.0000\n",
            "Epoch 87/250\n",
            "50/50 [==============================] - 17s 331ms/step - loss: 1.5395e-07 - mse: 7.8356e-13 - mae: 1.5364e-07 - accuracy: 1.0000 - recall: 1.0000 - precision: 1.0000\n",
            "Epoch 88/250\n",
            "50/50 [==============================] - 17s 330ms/step - loss: 1.4857e-07 - mse: 7.2816e-13 - mae: 1.4803e-07 - accuracy: 1.0000 - recall: 1.0000 - precision: 1.0000\n",
            "Epoch 89/250\n",
            "50/50 [==============================] - 16s 329ms/step - loss: 1.4332e-07 - mse: 6.7727e-13 - mae: 1.4245e-07 - accuracy: 1.0000 - recall: 1.0000 - precision: 1.0000\n",
            "Epoch 90/250\n",
            "50/50 [==============================] - 16s 329ms/step - loss: 1.3839e-07 - mse: 6.2959e-13 - mae: 1.3784e-07 - accuracy: 1.0000 - recall: 1.0000 - precision: 1.0000\n",
            "Epoch 91/250\n",
            "50/50 [==============================] - 16s 330ms/step - loss: 1.3359e-07 - mse: 5.8844e-13 - mae: 1.3302e-07 - accuracy: 1.0000 - recall: 1.0000 - precision: 1.0000\n",
            "Epoch 92/250\n",
            "50/50 [==============================] - 16s 329ms/step - loss: 1.2898e-07 - mse: 5.4570e-13 - mae: 1.2847e-07 - accuracy: 1.0000 - recall: 1.0000 - precision: 1.0000\n",
            "Epoch 93/250\n",
            "50/50 [==============================] - 16s 328ms/step - loss: 1.2460e-07 - mse: 5.0515e-13 - mae: 1.2389e-07 - accuracy: 1.0000 - recall: 1.0000 - precision: 1.0000\n",
            "Epoch 94/250\n",
            "50/50 [==============================] - 16s 326ms/step - loss: 1.2034e-07 - mse: 4.7354e-13 - mae: 1.1933e-07 - accuracy: 1.0000 - recall: 1.0000 - precision: 1.0000\n",
            "Epoch 95/250\n",
            "50/50 [==============================] - 16s 328ms/step - loss: 1.1666e-07 - mse: 4.4508e-13 - mae: 1.1604e-07 - accuracy: 1.0000 - recall: 1.0000 - precision: 1.0000\n",
            "Epoch 96/250\n",
            "50/50 [==============================] - 16s 329ms/step - loss: 1.1236e-07 - mse: 4.1519e-13 - mae: 1.1153e-07 - accuracy: 1.0000 - recall: 1.0000 - precision: 1.0000\n",
            "Epoch 97/250\n",
            "50/50 [==============================] - 17s 330ms/step - loss: 1.0857e-07 - mse: 3.8450e-13 - mae: 1.0811e-07 - accuracy: 1.0000 - recall: 1.0000 - precision: 1.0000\n",
            "Epoch 98/250\n",
            "50/50 [==============================] - 17s 330ms/step - loss: 1.0488e-07 - mse: 3.5964e-13 - mae: 1.0435e-07 - accuracy: 1.0000 - recall: 1.0000 - precision: 1.0000\n",
            "Epoch 99/250\n",
            "50/50 [==============================] - 17s 331ms/step - loss: 1.0152e-07 - mse: 3.3508e-13 - mae: 1.0114e-07 - accuracy: 1.0000 - recall: 1.0000 - precision: 1.0000\n",
            "Epoch 100/250\n",
            "50/50 [==============================] - 16s 330ms/step - loss: 9.8026e-08 - mse: 3.1494e-13 - mae: 9.7592e-08 - accuracy: 1.0000 - recall: 1.0000 - precision: 1.0000\n",
            "Epoch 101/250\n",
            "50/50 [==============================] - 16s 328ms/step - loss: 9.4875e-08 - mse: 2.9227e-13 - mae: 9.4044e-08 - accuracy: 1.0000 - recall: 1.0000 - precision: 1.0000\n",
            "Epoch 102/250\n",
            "50/50 [==============================] - 16s 330ms/step - loss: 9.1846e-08 - mse: 2.7512e-13 - mae: 9.1261e-08 - accuracy: 1.0000 - recall: 1.0000 - precision: 1.0000\n",
            "Epoch 103/250\n",
            "50/50 [==============================] - 17s 331ms/step - loss: 8.8868e-08 - mse: 2.5631e-13 - mae: 8.8154e-08 - accuracy: 1.0000 - recall: 1.0000 - precision: 1.0000\n",
            "Epoch 104/250\n",
            "50/50 [==============================] - 16s 329ms/step - loss: 8.6151e-08 - mse: 2.3973e-13 - mae: 8.5239e-08 - accuracy: 1.0000 - recall: 1.0000 - precision: 1.0000\n",
            "Epoch 105/250\n",
            "50/50 [==============================] - 16s 329ms/step - loss: 8.3108e-08 - mse: 2.2374e-13 - mae: 8.2362e-08 - accuracy: 1.0000 - recall: 1.0000 - precision: 1.0000\n",
            "Epoch 106/250\n",
            "50/50 [==============================] - 16s 327ms/step - loss: 8.0457e-08 - mse: 2.0942e-13 - mae: 7.9784e-08 - accuracy: 1.0000 - recall: 1.0000 - precision: 1.0000\n",
            "Epoch 107/250\n",
            "50/50 [==============================] - 16s 327ms/step - loss: 7.7861e-08 - mse: 1.9546e-13 - mae: 7.6941e-08 - accuracy: 1.0000 - recall: 1.0000 - precision: 1.0000\n",
            "Epoch 108/250\n",
            "50/50 [==============================] - 16s 327ms/step - loss: 7.5294e-08 - mse: 1.8219e-13 - mae: 7.4594e-08 - accuracy: 1.0000 - recall: 1.0000 - precision: 1.0000\n",
            "Epoch 109/250\n",
            "50/50 [==============================] - 16s 327ms/step - loss: 7.3005e-08 - mse: 1.7072e-13 - mae: 7.2289e-08 - accuracy: 1.0000 - recall: 1.0000 - precision: 1.0000\n",
            "Epoch 110/250\n",
            "50/50 [==============================] - 16s 328ms/step - loss: 7.0620e-08 - mse: 1.6048e-13 - mae: 6.9725e-08 - accuracy: 1.0000 - recall: 1.0000 - precision: 1.0000\n",
            "Epoch 111/250\n",
            "50/50 [==============================] - 16s 328ms/step - loss: 6.8353e-08 - mse: 1.4958e-13 - mae: 6.7473e-08 - accuracy: 1.0000 - recall: 1.0000 - precision: 1.0000\n",
            "Epoch 112/250\n",
            "50/50 [==============================] - 16s 329ms/step - loss: 6.6271e-08 - mse: 1.4074e-13 - mae: 6.5538e-08 - accuracy: 1.0000 - recall: 1.0000 - precision: 1.0000\n",
            "Epoch 113/250\n",
            "50/50 [==============================] - 17s 332ms/step - loss: 6.4225e-08 - mse: 1.3172e-13 - mae: 6.3486e-08 - accuracy: 1.0000 - recall: 1.0000 - precision: 1.0000\n",
            "Epoch 114/250\n",
            "50/50 [==============================] - 17s 331ms/step - loss: 6.2194e-08 - mse: 1.2380e-13 - mae: 6.1624e-08 - accuracy: 1.0000 - recall: 1.0000 - precision: 1.0000\n",
            "Epoch 115/250\n",
            "50/50 [==============================] - 16s 330ms/step - loss: 6.0174e-08 - mse: 1.1553e-13 - mae: 5.9536e-08 - accuracy: 1.0000 - recall: 1.0000 - precision: 1.0000\n",
            "Epoch 116/250\n",
            "50/50 [==============================] - 17s 331ms/step - loss: 5.8394e-08 - mse: 1.0795e-13 - mae: 5.7756e-08 - accuracy: 1.0000 - recall: 1.0000 - precision: 1.0000\n",
            "Epoch 117/250\n",
            "50/50 [==============================] - 17s 331ms/step - loss: 5.6649e-08 - mse: 1.0127e-13 - mae: 5.5905e-08 - accuracy: 1.0000 - recall: 1.0000 - precision: 1.0000\n",
            "Epoch 118/250\n",
            "50/50 [==============================] - 16s 330ms/step - loss: 5.4810e-08 - mse: 9.5569e-14 - mae: 5.4159e-08 - accuracy: 1.0000 - recall: 1.0000 - precision: 1.0000\n",
            "Epoch 119/250\n",
            "50/50 [==============================] - 16s 330ms/step - loss: 5.3139e-08 - mse: 8.9135e-14 - mae: 5.2378e-08 - accuracy: 1.0000 - recall: 1.0000 - precision: 1.0000\n",
            "Epoch 120/250\n",
            "50/50 [==============================] - 16s 330ms/step - loss: 5.1525e-08 - mse: 8.3664e-14 - mae: 5.0828e-08 - accuracy: 1.0000 - recall: 1.0000 - precision: 1.0000\n",
            "Epoch 121/250\n",
            "50/50 [==============================] - 16s 330ms/step - loss: 4.9960e-08 - mse: 7.9322e-14 - mae: 4.9537e-08 - accuracy: 1.0000 - recall: 1.0000 - precision: 1.0000\n",
            "Epoch 122/250\n",
            "50/50 [==============================] - 16s 329ms/step - loss: 4.8392e-08 - mse: 7.3637e-14 - mae: 4.7862e-08 - accuracy: 1.0000 - recall: 1.0000 - precision: 1.0000\n",
            "Epoch 123/250\n",
            "50/50 [==============================] - 16s 329ms/step - loss: 4.6958e-08 - mse: 6.9732e-14 - mae: 4.6561e-08 - accuracy: 1.0000 - recall: 1.0000 - precision: 1.0000\n",
            "Epoch 124/250\n",
            "50/50 [==============================] - 16s 329ms/step - loss: 4.5503e-08 - mse: 6.5536e-14 - mae: 4.5218e-08 - accuracy: 1.0000 - recall: 1.0000 - precision: 1.0000\n",
            "Epoch 125/250\n",
            "50/50 [==============================] - 16s 328ms/step - loss: 4.4142e-08 - mse: 6.1206e-14 - mae: 4.3849e-08 - accuracy: 1.0000 - recall: 1.0000 - precision: 1.0000\n",
            "Epoch 126/250\n",
            "50/50 [==============================] - 16s 328ms/step - loss: 4.2770e-08 - mse: 5.7536e-14 - mae: 4.2485e-08 - accuracy: 1.0000 - recall: 1.0000 - precision: 1.0000\n",
            "Epoch 127/250\n",
            "50/50 [==============================] - 16s 328ms/step - loss: 4.1527e-08 - mse: 5.4423e-14 - mae: 4.1234e-08 - accuracy: 1.0000 - recall: 1.0000 - precision: 1.0000\n",
            "Epoch 128/250\n",
            "50/50 [==============================] - 16s 328ms/step - loss: 4.0270e-08 - mse: 5.0638e-14 - mae: 3.9661e-08 - accuracy: 1.0000 - recall: 1.0000 - precision: 1.0000\n",
            "Epoch 129/250\n",
            "50/50 [==============================] - 16s 329ms/step - loss: 3.9111e-08 - mse: 4.7812e-14 - mae: 3.8590e-08 - accuracy: 1.0000 - recall: 1.0000 - precision: 1.0000\n",
            "Epoch 130/250\n",
            "50/50 [==============================] - 16s 328ms/step - loss: 3.7906e-08 - mse: 4.5297e-14 - mae: 3.7701e-08 - accuracy: 1.0000 - recall: 1.0000 - precision: 1.0000\n",
            "Epoch 131/250\n",
            "50/50 [==============================] - 16s 329ms/step - loss: 3.6787e-08 - mse: 4.2316e-14 - mae: 3.6493e-08 - accuracy: 1.0000 - recall: 1.0000 - precision: 1.0000\n",
            "Epoch 132/250\n",
            "50/50 [==============================] - 16s 328ms/step - loss: 3.5689e-08 - mse: 3.9868e-14 - mae: 3.5341e-08 - accuracy: 1.0000 - recall: 1.0000 - precision: 1.0000\n",
            "Epoch 133/250\n",
            "50/50 [==============================] - 16s 328ms/step - loss: 3.4662e-08 - mse: 3.7540e-14 - mae: 3.4182e-08 - accuracy: 1.0000 - recall: 1.0000 - precision: 1.0000\n",
            "Epoch 134/250\n",
            "50/50 [==============================] - 16s 328ms/step - loss: 3.3660e-08 - mse: 3.5413e-14 - mae: 3.3243e-08 - accuracy: 1.0000 - recall: 1.0000 - precision: 1.0000\n",
            "Epoch 135/250\n",
            "50/50 [==============================] - 16s 328ms/step - loss: 3.2717e-08 - mse: 3.3567e-14 - mae: 3.2390e-08 - accuracy: 1.0000 - recall: 1.0000 - precision: 1.0000\n",
            "Epoch 136/250\n",
            "50/50 [==============================] - 16s 328ms/step - loss: 3.1797e-08 - mse: 3.1549e-14 - mae: 3.1289e-08 - accuracy: 1.0000 - recall: 1.0000 - precision: 1.0000\n",
            "Epoch 137/250\n",
            "50/50 [==============================] - 16s 328ms/step - loss: 3.0859e-08 - mse: 2.9502e-14 - mae: 3.0243e-08 - accuracy: 1.0000 - recall: 1.0000 - precision: 1.0000\n",
            "Epoch 138/250\n",
            "50/50 [==============================] - 16s 329ms/step - loss: 2.9929e-08 - mse: 2.7388e-14 - mae: 2.9142e-08 - accuracy: 1.0000 - recall: 1.0000 - precision: 1.0000\n",
            "Epoch 139/250\n",
            "50/50 [==============================] - 16s 329ms/step - loss: 2.9066e-08 - mse: 2.5922e-14 - mae: 2.8410e-08 - accuracy: 1.0000 - recall: 1.0000 - precision: 1.0000\n",
            "Epoch 140/250\n",
            "50/50 [==============================] - 16s 329ms/step - loss: 2.8263e-08 - mse: 2.4766e-14 - mae: 2.7642e-08 - accuracy: 1.0000 - recall: 1.0000 - precision: 1.0000\n",
            "Epoch 141/250\n",
            "50/50 [==============================] - 16s 329ms/step - loss: 2.7505e-08 - mse: 2.3720e-14 - mae: 2.7204e-08 - accuracy: 1.0000 - recall: 1.0000 - precision: 1.0000\n",
            "Epoch 142/250\n",
            "50/50 [==============================] - 16s 328ms/step - loss: 2.6730e-08 - mse: 2.1967e-14 - mae: 2.6185e-08 - accuracy: 1.0000 - recall: 1.0000 - precision: 1.0000\n",
            "Epoch 143/250\n",
            "50/50 [==============================] - 16s 328ms/step - loss: 2.5896e-08 - mse: 2.0800e-14 - mae: 2.5573e-08 - accuracy: 1.0000 - recall: 1.0000 - precision: 1.0000\n",
            "Epoch 144/250\n",
            "50/50 [==============================] - 16s 326ms/step - loss: 2.5175e-08 - mse: 1.9821e-14 - mae: 2.4842e-08 - accuracy: 1.0000 - recall: 1.0000 - precision: 1.0000\n",
            "Epoch 145/250\n",
            "50/50 [==============================] - 16s 329ms/step - loss: 2.4457e-08 - mse: 1.8616e-14 - mae: 2.4063e-08 - accuracy: 1.0000 - recall: 1.0000 - precision: 1.0000\n",
            "Epoch 146/250\n",
            "50/50 [==============================] - 16s 329ms/step - loss: 2.3776e-08 - mse: 1.7302e-14 - mae: 2.3224e-08 - accuracy: 1.0000 - recall: 1.0000 - precision: 1.0000\n",
            "Epoch 147/250\n",
            "50/50 [==============================] - 17s 331ms/step - loss: 2.3093e-08 - mse: 1.6110e-14 - mae: 2.2355e-08 - accuracy: 1.0000 - recall: 1.0000 - precision: 1.0000\n",
            "Epoch 148/250\n",
            "50/50 [==============================] - 17s 331ms/step - loss: 2.2440e-08 - mse: 1.5346e-14 - mae: 2.1793e-08 - accuracy: 1.0000 - recall: 1.0000 - precision: 1.0000\n",
            "Epoch 149/250\n",
            "50/50 [==============================] - 17s 332ms/step - loss: 2.1812e-08 - mse: 1.4451e-14 - mae: 2.1207e-08 - accuracy: 1.0000 - recall: 1.0000 - precision: 1.0000\n",
            "Epoch 150/250\n",
            "50/50 [==============================] - 17s 332ms/step - loss: 2.1222e-08 - mse: 1.4003e-14 - mae: 2.0870e-08 - accuracy: 1.0000 - recall: 1.0000 - precision: 1.0000\n",
            "Epoch 151/250\n",
            "50/50 [==============================] - 17s 332ms/step - loss: 2.0604e-08 - mse: 1.2961e-14 - mae: 2.0214e-08 - accuracy: 1.0000 - recall: 1.0000 - precision: 1.0000\n",
            "Epoch 152/250\n",
            "50/50 [==============================] - 17s 332ms/step - loss: 2.0049e-08 - mse: 1.2501e-14 - mae: 1.9742e-08 - accuracy: 1.0000 - recall: 1.0000 - precision: 1.0000\n",
            "Epoch 153/250\n",
            "50/50 [==============================] - 17s 332ms/step - loss: 1.9508e-08 - mse: 1.1666e-14 - mae: 1.9202e-08 - accuracy: 1.0000 - recall: 1.0000 - precision: 1.0000\n",
            "Epoch 154/250\n",
            "50/50 [==============================] - 17s 332ms/step - loss: 1.8927e-08 - mse: 1.0928e-14 - mae: 1.8672e-08 - accuracy: 1.0000 - recall: 1.0000 - precision: 1.0000\n",
            "Epoch 155/250\n",
            "50/50 [==============================] - 17s 332ms/step - loss: 1.8403e-08 - mse: 1.0587e-14 - mae: 1.8319e-08 - accuracy: 1.0000 - recall: 1.0000 - precision: 1.0000\n",
            "Epoch 156/250\n",
            "50/50 [==============================] - 17s 332ms/step - loss: 1.7906e-08 - mse: 9.7208e-15 - mae: 1.7720e-08 - accuracy: 1.0000 - recall: 1.0000 - precision: 1.0000\n",
            "Epoch 157/250\n",
            "50/50 [==============================] - 17s 332ms/step - loss: 1.7409e-08 - mse: 9.2776e-15 - mae: 1.7018e-08 - accuracy: 1.0000 - recall: 1.0000 - precision: 1.0000\n",
            "Epoch 158/250\n",
            "50/50 [==============================] - 17s 332ms/step - loss: 1.6935e-08 - mse: 8.9457e-15 - mae: 1.6532e-08 - accuracy: 1.0000 - recall: 1.0000 - precision: 1.0000\n",
            "Epoch 159/250\n",
            "50/50 [==============================] - 17s 332ms/step - loss: 1.6473e-08 - mse: 8.1622e-15 - mae: 1.5849e-08 - accuracy: 1.0000 - recall: 1.0000 - precision: 1.0000\n",
            "Epoch 160/250\n",
            "50/50 [==============================] - 17s 332ms/step - loss: 1.6017e-08 - mse: 7.8717e-15 - mae: 1.5406e-08 - accuracy: 1.0000 - recall: 1.0000 - precision: 1.0000\n",
            "Epoch 161/250\n",
            "50/50 [==============================] - 17s 332ms/step - loss: 1.5583e-08 - mse: 7.4341e-15 - mae: 1.5141e-08 - accuracy: 1.0000 - recall: 1.0000 - precision: 1.0000\n",
            "Epoch 162/250\n",
            "50/50 [==============================] - 17s 332ms/step - loss: 1.5167e-08 - mse: 6.9757e-15 - mae: 1.4678e-08 - accuracy: 1.0000 - recall: 1.0000 - precision: 1.0000\n",
            "Epoch 163/250\n",
            "50/50 [==============================] - 17s 332ms/step - loss: 1.4777e-08 - mse: 6.4860e-15 - mae: 1.4174e-08 - accuracy: 1.0000 - recall: 1.0000 - precision: 1.0000\n",
            "Epoch 164/250\n",
            "50/50 [==============================] - 17s 332ms/step - loss: 1.4371e-08 - mse: 6.3249e-15 - mae: 1.3914e-08 - accuracy: 1.0000 - recall: 1.0000 - precision: 1.0000\n",
            "Epoch 165/250\n",
            "50/50 [==============================] - 17s 332ms/step - loss: 1.3971e-08 - mse: 5.9110e-15 - mae: 1.3586e-08 - accuracy: 1.0000 - recall: 1.0000 - precision: 1.0000\n",
            "Epoch 166/250\n",
            "50/50 [==============================] - 17s 332ms/step - loss: 1.3590e-08 - mse: 5.5662e-15 - mae: 1.3211e-08 - accuracy: 1.0000 - recall: 1.0000 - precision: 1.0000\n",
            "Epoch 167/250\n",
            "50/50 [==============================] - 17s 333ms/step - loss: 1.3202e-08 - mse: 5.3824e-15 - mae: 1.2828e-08 - accuracy: 1.0000 - recall: 1.0000 - precision: 1.0000\n",
            "Epoch 168/250\n",
            "50/50 [==============================] - 17s 333ms/step - loss: 1.2834e-08 - mse: 4.9097e-15 - mae: 1.2344e-08 - accuracy: 1.0000 - recall: 1.0000 - precision: 1.0000\n",
            "Epoch 169/250\n",
            "50/50 [==============================] - 17s 332ms/step - loss: 1.2489e-08 - mse: 4.7229e-15 - mae: 1.1860e-08 - accuracy: 1.0000 - recall: 1.0000 - precision: 1.0000\n",
            "Epoch 170/250\n",
            "50/50 [==============================] - 17s 333ms/step - loss: 1.2167e-08 - mse: 4.6255e-15 - mae: 1.1698e-08 - accuracy: 1.0000 - recall: 1.0000 - precision: 1.0000\n",
            "Epoch 171/250\n",
            "50/50 [==============================] - 17s 332ms/step - loss: 1.1828e-08 - mse: 4.1214e-15 - mae: 1.1147e-08 - accuracy: 1.0000 - recall: 1.0000 - precision: 1.0000\n",
            "Epoch 172/250\n",
            "50/50 [==============================] - 17s 331ms/step - loss: 1.1516e-08 - mse: 3.9382e-15 - mae: 1.0709e-08 - accuracy: 1.0000 - recall: 1.0000 - precision: 1.0000\n",
            "Epoch 173/250\n",
            "50/50 [==============================] - 16s 330ms/step - loss: 1.1199e-08 - mse: 3.8345e-15 - mae: 1.0528e-08 - accuracy: 1.0000 - recall: 1.0000 - precision: 1.0000\n",
            "Epoch 174/250\n",
            "50/50 [==============================] - 17s 330ms/step - loss: 1.0911e-08 - mse: 3.7331e-15 - mae: 1.0248e-08 - accuracy: 1.0000 - recall: 1.0000 - precision: 1.0000\n",
            "Epoch 175/250\n",
            "50/50 [==============================] - 16s 330ms/step - loss: 1.0624e-08 - mse: 3.4316e-15 - mae: 9.8837e-09 - accuracy: 1.0000 - recall: 1.0000 - precision: 1.0000\n",
            "Epoch 176/250\n",
            "50/50 [==============================] - 16s 330ms/step - loss: 1.0324e-08 - mse: 3.1304e-15 - mae: 9.3357e-09 - accuracy: 1.0000 - recall: 1.0000 - precision: 1.0000\n",
            "Epoch 177/250\n",
            "50/50 [==============================] - 17s 330ms/step - loss: 1.0050e-08 - mse: 3.0973e-15 - mae: 9.2742e-09 - accuracy: 1.0000 - recall: 1.0000 - precision: 1.0000\n",
            "Epoch 178/250\n",
            "50/50 [==============================] - 16s 330ms/step - loss: 9.7880e-09 - mse: 2.7266e-15 - mae: 8.8149e-09 - accuracy: 1.0000 - recall: 1.0000 - precision: 1.0000\n",
            "Epoch 179/250\n",
            "50/50 [==============================] - 17s 330ms/step - loss: 9.5217e-09 - mse: 2.5891e-15 - mae: 8.5220e-09 - accuracy: 1.0000 - recall: 1.0000 - precision: 1.0000\n",
            "Epoch 180/250\n",
            "50/50 [==============================] - 16s 330ms/step - loss: 9.2542e-09 - mse: 2.5594e-15 - mae: 8.4121e-09 - accuracy: 1.0000 - recall: 1.0000 - precision: 1.0000\n",
            "Epoch 181/250\n",
            "50/50 [==============================] - 16s 330ms/step - loss: 9.0105e-09 - mse: 2.4881e-15 - mae: 8.1983e-09 - accuracy: 1.0000 - recall: 1.0000 - precision: 1.0000\n",
            "Epoch 182/250\n",
            "50/50 [==============================] - 17s 330ms/step - loss: 8.7684e-09 - mse: 2.2543e-15 - mae: 7.9124e-09 - accuracy: 1.0000 - recall: 1.0000 - precision: 1.0000\n",
            "Epoch 183/250\n",
            "50/50 [==============================] - 16s 330ms/step - loss: 8.5364e-09 - mse: 2.1995e-15 - mae: 7.7255e-09 - accuracy: 1.0000 - recall: 1.0000 - precision: 1.0000\n",
            "Epoch 184/250\n",
            "50/50 [==============================] - 16s 330ms/step - loss: 8.3194e-09 - mse: 2.1487e-15 - mae: 7.5430e-09 - accuracy: 1.0000 - recall: 1.0000 - precision: 1.0000\n",
            "Epoch 185/250\n",
            "50/50 [==============================] - 16s 330ms/step - loss: 8.1057e-09 - mse: 2.0275e-15 - mae: 7.3636e-09 - accuracy: 1.0000 - recall: 1.0000 - precision: 1.0000\n",
            "Epoch 186/250\n",
            "50/50 [==============================] - 16s 330ms/step - loss: 7.8918e-09 - mse: 1.9031e-15 - mae: 7.1677e-09 - accuracy: 1.0000 - recall: 1.0000 - precision: 1.0000\n",
            "Epoch 187/250\n",
            "50/50 [==============================] - 16s 330ms/step - loss: 7.6814e-09 - mse: 1.7118e-15 - mae: 6.8871e-09 - accuracy: 1.0000 - recall: 1.0000 - precision: 1.0000\n",
            "Epoch 188/250\n",
            "50/50 [==============================] - 16s 330ms/step - loss: 7.5047e-09 - mse: 1.6730e-15 - mae: 6.8154e-09 - accuracy: 1.0000 - recall: 1.0000 - precision: 1.0000\n",
            "Epoch 189/250\n",
            "50/50 [==============================] - 17s 330ms/step - loss: 7.2930e-09 - mse: 1.6073e-15 - mae: 6.5821e-09 - accuracy: 1.0000 - recall: 1.0000 - precision: 1.0000\n",
            "Epoch 190/250\n",
            "50/50 [==============================] - 16s 330ms/step - loss: 7.1106e-09 - mse: 1.5788e-15 - mae: 6.4960e-09 - accuracy: 1.0000 - recall: 1.0000 - precision: 1.0000\n",
            "Epoch 191/250\n",
            "50/50 [==============================] - 16s 330ms/step - loss: 6.9245e-09 - mse: 1.5342e-15 - mae: 6.3647e-09 - accuracy: 1.0000 - recall: 1.0000 - precision: 1.0000\n",
            "Epoch 192/250\n",
            "50/50 [==============================] - 16s 330ms/step - loss: 6.7489e-09 - mse: 1.3820e-15 - mae: 6.1785e-09 - accuracy: 1.0000 - recall: 1.0000 - precision: 1.0000\n",
            "Epoch 193/250\n",
            "50/50 [==============================] - 16s 330ms/step - loss: 6.5791e-09 - mse: 1.3332e-15 - mae: 6.0252e-09 - accuracy: 1.0000 - recall: 1.0000 - precision: 1.0000\n",
            "Epoch 194/250\n",
            "50/50 [==============================] - 16s 330ms/step - loss: 6.4072e-09 - mse: 1.2837e-15 - mae: 5.8753e-09 - accuracy: 1.0000 - recall: 1.0000 - precision: 1.0000\n",
            "Epoch 195/250\n",
            "50/50 [==============================] - 16s 330ms/step - loss: 6.2490e-09 - mse: 1.2656e-15 - mae: 5.8145e-09 - accuracy: 1.0000 - recall: 1.0000 - precision: 1.0000\n",
            "Epoch 196/250\n",
            "50/50 [==============================] - 16s 329ms/step - loss: 6.0933e-09 - mse: 1.0865e-15 - mae: 5.4853e-09 - accuracy: 1.0000 - recall: 1.0000 - precision: 1.0000\n",
            "Epoch 197/250\n",
            "50/50 [==============================] - 16s 328ms/step - loss: 5.9465e-09 - mse: 1.0444e-15 - mae: 5.3566e-09 - accuracy: 1.0000 - recall: 1.0000 - precision: 1.0000\n",
            "Epoch 198/250\n",
            "50/50 [==============================] - 16s 328ms/step - loss: 5.7971e-09 - mse: 1.0096e-15 - mae: 5.1800e-09 - accuracy: 1.0000 - recall: 1.0000 - precision: 1.0000\n",
            "Epoch 199/250\n",
            "50/50 [==============================] - 16s 328ms/step - loss: 5.6653e-09 - mse: 8.8183e-16 - mae: 4.9437e-09 - accuracy: 1.0000 - recall: 1.0000 - precision: 1.0000\n",
            "Epoch 200/250\n",
            "50/50 [==============================] - 16s 329ms/step - loss: 5.5128e-09 - mse: 8.6854e-16 - mae: 4.8918e-09 - accuracy: 1.0000 - recall: 1.0000 - precision: 1.0000\n",
            "Epoch 201/250\n",
            "50/50 [==============================] - 16s 328ms/step - loss: 5.3821e-09 - mse: 8.4696e-16 - mae: 4.7610e-09 - accuracy: 1.0000 - recall: 1.0000 - precision: 1.0000\n",
            "Epoch 202/250\n",
            "50/50 [==============================] - 17s 331ms/step - loss: 5.2509e-09 - mse: 8.3223e-16 - mae: 4.6985e-09 - accuracy: 1.0000 - recall: 1.0000 - precision: 1.0000\n",
            "Epoch 203/250\n",
            "50/50 [==============================] - 17s 331ms/step - loss: 5.1220e-09 - mse: 8.1929e-16 - mae: 4.6442e-09 - accuracy: 1.0000 - recall: 1.0000 - precision: 1.0000\n",
            "Epoch 204/250\n",
            "50/50 [==============================] - 17s 331ms/step - loss: 4.9927e-09 - mse: 7.9292e-16 - mae: 4.4529e-09 - accuracy: 1.0000 - recall: 1.0000 - precision: 1.0000\n",
            "Epoch 205/250\n",
            "50/50 [==============================] - 17s 332ms/step - loss: 4.8836e-09 - mse: 7.7613e-16 - mae: 4.3772e-09 - accuracy: 1.0000 - recall: 1.0000 - precision: 1.0000\n",
            "Epoch 206/250\n",
            "50/50 [==============================] - 17s 332ms/step - loss: 4.7522e-09 - mse: 6.8871e-16 - mae: 4.2657e-09 - accuracy: 1.0000 - recall: 1.0000 - precision: 1.0000\n",
            "Epoch 207/250\n",
            "50/50 [==============================] - 17s 332ms/step - loss: 4.6429e-09 - mse: 6.6037e-16 - mae: 4.0641e-09 - accuracy: 1.0000 - recall: 1.0000 - precision: 1.0000\n",
            "Epoch 208/250\n",
            "50/50 [==============================] - 17s 332ms/step - loss: 4.5398e-09 - mse: 6.4714e-16 - mae: 3.9947e-09 - accuracy: 1.0000 - recall: 1.0000 - precision: 1.0000\n",
            "Epoch 209/250\n",
            "50/50 [==============================] - 17s 332ms/step - loss: 4.4244e-09 - mse: 6.3867e-16 - mae: 3.9523e-09 - accuracy: 1.0000 - recall: 1.0000 - precision: 1.0000\n",
            "Epoch 210/250\n",
            "50/50 [==============================] - 17s 332ms/step - loss: 4.3215e-09 - mse: 5.7660e-16 - mae: 3.7573e-09 - accuracy: 1.0000 - recall: 1.0000 - precision: 1.0000\n",
            "Epoch 211/250\n",
            "50/50 [==============================] - 16s 330ms/step - loss: 4.2235e-09 - mse: 5.4884e-16 - mae: 3.5522e-09 - accuracy: 1.0000 - recall: 1.0000 - precision: 1.0000\n",
            "Epoch 212/250\n",
            "50/50 [==============================] - 17s 330ms/step - loss: 4.1194e-09 - mse: 5.4639e-16 - mae: 3.5440e-09 - accuracy: 1.0000 - recall: 1.0000 - precision: 1.0000\n",
            "Epoch 213/250\n",
            "50/50 [==============================] - 16s 329ms/step - loss: 4.0307e-09 - mse: 4.9029e-16 - mae: 3.3926e-09 - accuracy: 1.0000 - recall: 1.0000 - precision: 1.0000\n",
            "Epoch 214/250\n",
            "50/50 [==============================] - 16s 329ms/step - loss: 3.9305e-09 - mse: 4.8128e-16 - mae: 3.3426e-09 - accuracy: 1.0000 - recall: 1.0000 - precision: 1.0000\n",
            "Epoch 215/250\n",
            "50/50 [==============================] - 16s 329ms/step - loss: 3.8441e-09 - mse: 4.7535e-16 - mae: 3.3025e-09 - accuracy: 1.0000 - recall: 1.0000 - precision: 1.0000\n",
            "Epoch 216/250\n",
            "50/50 [==============================] - 16s 329ms/step - loss: 3.7450e-09 - mse: 4.0915e-16 - mae: 3.2074e-09 - accuracy: 1.0000 - recall: 1.0000 - precision: 1.0000\n",
            "Epoch 217/250\n",
            "50/50 [==============================] - 16s 329ms/step - loss: 3.6565e-09 - mse: 3.9397e-16 - mae: 3.0906e-09 - accuracy: 1.0000 - recall: 1.0000 - precision: 1.0000\n",
            "Epoch 218/250\n",
            "50/50 [==============================] - 16s 329ms/step - loss: 3.5781e-09 - mse: 3.8669e-16 - mae: 3.0419e-09 - accuracy: 1.0000 - recall: 1.0000 - precision: 1.0000\n",
            "Epoch 219/250\n",
            "50/50 [==============================] - 16s 329ms/step - loss: 3.4907e-09 - mse: 3.7346e-16 - mae: 2.9375e-09 - accuracy: 1.0000 - recall: 1.0000 - precision: 1.0000\n",
            "Epoch 220/250\n",
            "50/50 [==============================] - 16s 329ms/step - loss: 3.4087e-09 - mse: 3.6748e-16 - mae: 2.8968e-09 - accuracy: 1.0000 - recall: 1.0000 - precision: 1.0000\n",
            "Epoch 221/250\n",
            "50/50 [==============================] - 16s 328ms/step - loss: 3.3310e-09 - mse: 3.4472e-16 - mae: 2.7134e-09 - accuracy: 1.0000 - recall: 1.0000 - precision: 1.0000\n",
            "Epoch 222/250\n",
            "50/50 [==============================] - 16s 329ms/step - loss: 3.2522e-09 - mse: 3.4164e-16 - mae: 2.6875e-09 - accuracy: 1.0000 - recall: 1.0000 - precision: 1.0000\n",
            "Epoch 223/250\n",
            "50/50 [==============================] - 16s 328ms/step - loss: 3.1713e-09 - mse: 3.3789e-16 - mae: 2.6596e-09 - accuracy: 1.0000 - recall: 1.0000 - precision: 1.0000\n",
            "Epoch 224/250\n",
            "50/50 [==============================] - 16s 329ms/step - loss: 3.1008e-09 - mse: 3.3183e-16 - mae: 2.6110e-09 - accuracy: 1.0000 - recall: 1.0000 - precision: 1.0000\n",
            "Epoch 225/250\n",
            "50/50 [==============================] - 16s 329ms/step - loss: 3.0196e-09 - mse: 3.2905e-16 - mae: 2.5908e-09 - accuracy: 1.0000 - recall: 1.0000 - precision: 1.0000\n",
            "Epoch 226/250\n",
            "50/50 [==============================] - 16s 328ms/step - loss: 2.9555e-09 - mse: 3.0691e-16 - mae: 2.4036e-09 - accuracy: 1.0000 - recall: 1.0000 - precision: 1.0000\n",
            "Epoch 227/250\n",
            "50/50 [==============================] - 16s 329ms/step - loss: 2.8889e-09 - mse: 2.5754e-16 - mae: 2.2862e-09 - accuracy: 1.0000 - recall: 1.0000 - precision: 1.0000\n",
            "Epoch 228/250\n",
            "50/50 [==============================] - 16s 328ms/step - loss: 2.8247e-09 - mse: 2.4513e-16 - mae: 2.1804e-09 - accuracy: 1.0000 - recall: 1.0000 - precision: 1.0000\n",
            "Epoch 229/250\n",
            "50/50 [==============================] - 16s 327ms/step - loss: 2.7564e-09 - mse: 2.3339e-16 - mae: 2.0811e-09 - accuracy: 1.0000 - recall: 1.0000 - precision: 1.0000\n",
            "Epoch 230/250\n",
            "50/50 [==============================] - 16s 324ms/step - loss: 2.6934e-09 - mse: 2.3098e-16 - mae: 2.0592e-09 - accuracy: 1.0000 - recall: 1.0000 - precision: 1.0000\n",
            "Epoch 231/250\n",
            "50/50 [==============================] - 16s 324ms/step - loss: 2.6289e-09 - mse: 2.0139e-16 - mae: 1.9562e-09 - accuracy: 1.0000 - recall: 1.0000 - precision: 1.0000\n",
            "Epoch 232/250\n",
            "50/50 [==============================] - 16s 325ms/step - loss: 2.5654e-09 - mse: 1.9953e-16 - mae: 1.9385e-09 - accuracy: 1.0000 - recall: 1.0000 - precision: 1.0000\n",
            "Epoch 233/250\n",
            "50/50 [==============================] - 16s 326ms/step - loss: 2.5131e-09 - mse: 1.9567e-16 - mae: 1.8980e-09 - accuracy: 1.0000 - recall: 1.0000 - precision: 1.0000\n",
            "Epoch 234/250\n",
            "50/50 [==============================] - 16s 328ms/step - loss: 2.4616e-09 - mse: 1.9319e-16 - mae: 1.8716e-09 - accuracy: 1.0000 - recall: 1.0000 - precision: 1.0000\n",
            "Epoch 235/250\n",
            "50/50 [==============================] - 16s 327ms/step - loss: 2.4040e-09 - mse: 1.7320e-16 - mae: 1.6998e-09 - accuracy: 1.0000 - recall: 1.0000 - precision: 1.0000\n",
            "Epoch 236/250\n",
            "50/50 [==============================] - 16s 328ms/step - loss: 2.3503e-09 - mse: 1.6217e-16 - mae: 1.6009e-09 - accuracy: 1.0000 - recall: 1.0000 - precision: 1.0000\n",
            "Epoch 237/250\n",
            "50/50 [==============================] - 16s 329ms/step - loss: 2.2987e-09 - mse: 1.6001e-16 - mae: 1.5756e-09 - accuracy: 1.0000 - recall: 1.0000 - precision: 1.0000\n",
            "Epoch 238/250\n",
            "50/50 [==============================] - 17s 331ms/step - loss: 2.2411e-09 - mse: 1.3199e-16 - mae: 1.4863e-09 - accuracy: 1.0000 - recall: 1.0000 - precision: 1.0000\n",
            "Epoch 239/250\n",
            "50/50 [==============================] - 17s 332ms/step - loss: 2.1942e-09 - mse: 1.3006e-16 - mae: 1.4625e-09 - accuracy: 1.0000 - recall: 1.0000 - precision: 1.0000\n",
            "Epoch 240/250\n",
            "50/50 [==============================] - 17s 331ms/step - loss: 2.1490e-09 - mse: 1.1901e-16 - mae: 1.3612e-09 - accuracy: 1.0000 - recall: 1.0000 - precision: 1.0000\n",
            "Epoch 241/250\n",
            "50/50 [==============================] - 17s 331ms/step - loss: 2.1048e-09 - mse: 1.1709e-16 - mae: 1.3362e-09 - accuracy: 1.0000 - recall: 1.0000 - precision: 1.0000\n",
            "Epoch 242/250\n",
            "50/50 [==============================] - 17s 332ms/step - loss: 2.0634e-09 - mse: 1.0677e-16 - mae: 1.2426e-09 - accuracy: 1.0000 - recall: 1.0000 - precision: 1.0000\n",
            "Epoch 243/250\n",
            "50/50 [==============================] - 17s 331ms/step - loss: 2.0078e-09 - mse: 7.0191e-17 - mae: 1.0796e-09 - accuracy: 1.0000 - recall: 1.0000 - precision: 1.0000\n",
            "Epoch 244/250\n",
            "50/50 [==============================] - 17s 331ms/step - loss: 1.9672e-09 - mse: 6.8323e-17 - mae: 1.0542e-09 - accuracy: 1.0000 - recall: 1.0000 - precision: 1.0000\n",
            "Epoch 245/250\n",
            "50/50 [==============================] - 17s 330ms/step - loss: 1.9235e-09 - mse: 5.8341e-17 - mae: 9.6351e-10 - accuracy: 1.0000 - recall: 1.0000 - precision: 1.0000\n",
            "Epoch 246/250\n",
            "50/50 [==============================] - 16s 329ms/step - loss: 1.8727e-09 - mse: 5.7847e-17 - mae: 9.5704e-10 - accuracy: 1.0000 - recall: 1.0000 - precision: 1.0000\n",
            "Epoch 247/250\n",
            "50/50 [==============================] - 17s 331ms/step - loss: 1.8432e-09 - mse: 5.5882e-17 - mae: 9.2621e-10 - accuracy: 1.0000 - recall: 1.0000 - precision: 1.0000\n",
            "Epoch 248/250\n",
            "50/50 [==============================] - 16s 330ms/step - loss: 1.8091e-09 - mse: 4.5711e-17 - mae: 8.3249e-10 - accuracy: 1.0000 - recall: 1.0000 - precision: 1.0000\n",
            "Epoch 249/250\n",
            "50/50 [==============================] - 16s 329ms/step - loss: 1.7759e-09 - mse: 4.4746e-17 - mae: 8.1642e-10 - accuracy: 1.0000 - recall: 1.0000 - precision: 1.0000\n",
            "Epoch 250/250\n",
            "50/50 [==============================] - 16s 327ms/step - loss: 1.7368e-09 - mse: 4.3947e-17 - mae: 8.0256e-10 - accuracy: 1.0000 - recall: 1.0000 - precision: 1.0000\n"
          ],
          "name": "stdout"
        }
      ]
    },
    {
      "cell_type": "markdown",
      "metadata": {
        "id": "-CkMlUhY7WRU",
        "colab_type": "text"
      },
      "source": [
        "##**8. Generar gráfica de: loss(pérdida) y accuracy(acierto) en cada época realizada.**"
      ]
    },
    {
      "cell_type": "code",
      "metadata": {
        "id": "PwSQTQbUoe14",
        "colab_type": "code",
        "outputId": "18a689d1-6bd8-4a23-af5c-59882fc29c68",
        "colab": {
          "base_uri": "https://localhost:8080/",
          "height": 377
        }
      },
      "source": [
        "import pandas as pd\n",
        "\n",
        "pd.DataFrame(history.history).plot(figsize=(8, 6))\n",
        "plt.grid(True)\n",
        "plt.gca().set_ylim(0, 1)\n",
        "\n",
        "plt.show()"
      ],
      "execution_count": 20,
      "outputs": [
        {
          "output_type": "display_data",
          "data": {
            "image/png": "[encoded data removed]",
            "text/plain": [
              "<Figure size 576x432 with 1 Axes>"
            ]
          },
          "metadata": {
            "tags": [],
            "needs_background": "light"
          }
        }
      ]
    },
    {
      "cell_type": "markdown",
      "metadata": {
        "id": "axoYkzoOANpI",
        "colab_type": "text"
      },
      "source": [
        "##**9. Predecir con el modelo, la clasificación de cada imagen del conjunto de Test**"
      ]
    },
    {
      "cell_type": "code",
      "metadata": {
        "id": "F2_13iEblUh6",
        "colab_type": "code",
        "colab": {}
      },
      "source": [
        "#SE EVALÚA EL MODELO\n",
        "\n",
        "Valores=(model.predict(XTEST))\n",
        "#Valores"
      ],
      "execution_count": 0,
      "outputs": []
    },
    {
      "cell_type": "code",
      "metadata": {
        "id": "w6t9lnP3lglW",
        "colab_type": "code",
        "outputId": "786b1a17-3e7d-445c-ef3d-b515dbb37d74",
        "colab": {
          "base_uri": "https://localhost:8080/",
          "height": 34
        }
      },
      "source": [
        "#Valores_label=np.argmax(Valores, axis=1)\n",
        "#Valores_label\n",
        "Valores_label=np.around(Valores)\n",
        "Valores_label.shape\n"
      ],
      "execution_count": 22,
      "outputs": [
        {
          "output_type": "execute_result",
          "data": {
            "text/plain": [
              "(400, 1)"
            ]
          },
          "metadata": {
            "tags": []
          },
          "execution_count": 22
        }
      ]
    },
    {
      "cell_type": "markdown",
      "metadata": {
        "id": "EhL8DHRdDG_v",
        "colab_type": "text"
      },
      "source": [
        "##**10. Sacar métricas de evaluación, para mirar el rendimiento del modelo.**"
      ]
    },
    {
      "cell_type": "markdown",
      "metadata": {
        "id": "UCkpLdoUDSHP",
        "colab_type": "text"
      },
      "source": [
        "> **A. Matriz de confusión simple.**"
      ]
    },
    {
      "cell_type": "code",
      "metadata": {
        "id": "3sU-M00HmyWR",
        "colab_type": "code",
        "outputId": "d2a7e007-662f-43f5-d714-0b2e536de2da",
        "colab": {
          "base_uri": "https://localhost:8080/",
          "height": 70
        }
      },
      "source": [
        "from sklearn.metrics import confusion_matrix, accuracy_score\n",
        "\n",
        "#YTEST=YTEST.reshape(len(Ytest),1)\n",
        "\n",
        "acc = accuracy_score(YTEST,Valores_label)\n",
        "print('acierto: ',acc)\n",
        "cm=confusion_matrix(YTEST,Valores_label)\n",
        "cm"
      ],
      "execution_count": 23,
      "outputs": [
        {
          "output_type": "stream",
          "text": [
            "acierto:  0.7375\n"
          ],
          "name": "stdout"
        },
        {
          "output_type": "execute_result",
          "data": {
            "text/plain": [
              "array([[156,  44],\n",
              "       [ 61, 139]])"
            ]
          },
          "metadata": {
            "tags": []
          },
          "execution_count": 23
        }
      ]
    },
    {
      "cell_type": "markdown",
      "metadata": {
        "id": "rEBXCc4TDjCE",
        "colab_type": "text"
      },
      "source": [
        "\n",
        ">**B. Matriz de confusión, con porcentjes de acierto.**"
      ]
    },
    {
      "cell_type": "code",
      "metadata": {
        "id": "EejIKKgBDjlP",
        "colab_type": "code",
        "outputId": "c6fefe4b-763a-45f3-97ba-98525e7dae83",
        "colab": {
          "base_uri": "https://localhost:8080/",
          "height": 365
        }
      },
      "source": [
        "from sklearn.utils.multiclass import unique_labels\n",
        "\n",
        "\n",
        "def plot_confusion_matrix(matrix,Ytest,Valores_label,acc,Valores2):\n",
        "    fig = plt.figure(figsize=(5,5))\n",
        "    ax = fig.add_subplot(111)\n",
        "    cmap=plt.cm.Blues\n",
        "    matrix = 100*matrix.astype('float') / cm.sum(axis=1)[:, np.newaxis]\n",
        "    cax = ax.matshow(matrix, interpolation='nearest', cmap=cmap)\n",
        "    fig.colorbar(cax)\n",
        "    classes = unique_labels(Ytest,Valores_label)\n",
        "    classes1= Valores2\n",
        "    ax.set(xticks=np.arange(matrix.shape[1]),\n",
        "           yticks=np.arange(matrix.shape[0]),\n",
        "           xticklabels=classes1, yticklabels=classes1,\n",
        "           title='ACC = %.1f %%' % (100*acc),\n",
        "           ylabel='True label',\n",
        "           xlabel='Predicted label')\n",
        "    fmt = '.1f'\n",
        "    thresh = matrix.max() / 2.\n",
        "    for i in range(matrix.shape[0]):\n",
        "        for j in range(matrix.shape[1]):\n",
        "            ax.text(j, i, format(matrix[i, j], fmt),\n",
        "                    ha=\"center\", va=\"center\",\n",
        "                    color=\"black\",fontsize=12)\n",
        "    fig.tight_layout()\n",
        "\n",
        "#Valores_label_texto=convertir_salida_texto(Valores_label)\n",
        "plot_confusion_matrix(cm,YTEST,Valores_label,acc,Valores2=[\"Perro\",\"Gato\"])\n",
        "\n"
      ],
      "execution_count": 24,
      "outputs": [
        {
          "output_type": "display_data",
          "data": {
            "image/png": "[encoded data removed]",
            "text/plain": [
              "<Figure size 360x360 with 2 Axes>"
            ]
          },
          "metadata": {
            "tags": [],
            "needs_background": "light"
          }
        }
      ]
    },
    {
      "cell_type": "markdown",
      "metadata": {
        "id": "IZk9eJ4YDwed",
        "colab_type": "text"
      },
      "source": [
        "\n",
        "> **C. Reporte de algunas métricas: Precisión, recall, F1 y Support, para el umbral de clasificación 0,5(por defecto usado por keras).**\n"
      ]
    },
    {
      "cell_type": "code",
      "metadata": {
        "id": "W88lTS1WDxsY",
        "colab_type": "code",
        "outputId": "0f6377df-14a1-4495-eb54-b6ba87fd7fe9",
        "colab": {
          "base_uri": "https://localhost:8080/",
          "height": 176
        }
      },
      "source": [
        "from sklearn.metrics import classification_report\n",
        "\n",
        "target_names = ['Perro','Gato']\n",
        "cr=classification_report(YTEST, Valores_label,labels=range(len(target_names)),target_names=target_names)\n",
        "print(cr) "
      ],
      "execution_count": 25,
      "outputs": [
        {
          "output_type": "stream",
          "text": [
            "              precision    recall  f1-score   support\n",
            "\n",
            "       Perro       0.72      0.78      0.75       200\n",
            "        Gato       0.76      0.69      0.73       200\n",
            "\n",
            "    accuracy                           0.74       400\n",
            "   macro avg       0.74      0.74      0.74       400\n",
            "weighted avg       0.74      0.74      0.74       400\n",
            "\n"
          ],
          "name": "stdout"
        }
      ]
    },
    {
      "cell_type": "markdown",
      "metadata": {
        "id": "ilniZmtTD39E",
        "colab_type": "text"
      },
      "source": [
        ">**D. Curva ROC, para cada clase, variando los umbrales de decisión(Thresold) o, en este caso con la probabilidad de que pertenezca a una de las salidas.**"
      ]
    },
    {
      "cell_type": "code",
      "metadata": {
        "id": "6HRo5uaTml1w",
        "colab_type": "code",
        "outputId": "fa6c95a1-8216-4fb7-ef1a-2e7ec9d47345",
        "colab": {
          "base_uri": "https://localhost:8080/",
          "height": 404
        }
      },
      "source": [
        "from sklearn.preprocessing import label_binarize\n",
        "from sklearn.metrics import roc_curve, auc\n",
        "\n",
        "\n",
        "\n",
        "Ytest_Bin= label_binarize(YTEST, classes=[0,1])\n",
        "Valores_Bin= label_binarize(Valores_label, classes=[0,1])\n",
        "roc_auc, fpr, tpr, n_classes = roc_multiclass(Ytest_Bin,Valores_Bin,colum=1)\n",
        "roc_auc_mc(roc_auc,fpr,tpr,n_classes,'ROC curve ')\n",
        "\n"
      ],
      "execution_count": 26,
      "outputs": [
        {
          "output_type": "display_data",
          "data": {
            "image/png": "[encoded data removed]",
            "text/plain": [
              "<Figure size 432x432 with 1 Axes>"
            ]
          },
          "metadata": {
            "tags": [],
            "needs_background": "light"
          }
        }
      ]
    },
    {
      "cell_type": "code",
      "metadata": {
        "id": "Xe4ek79vGG-B",
        "colab_type": "code",
        "outputId": "f2e1c995-a5b2-43e6-df18-9d7e28d80488",
        "colab": {
          "base_uri": "https://localhost:8080/",
          "height": 141
        }
      },
      "source": [
        "#GRAFICAR LAS PRIMERAS 10 IMAGENES\n",
        "tam=10\n",
        "index=0\n",
        "plt.figure(figsize=(tam*2, 12))\n",
        "for i in range(1,tam):\n",
        "  index += 1\n",
        "  plt.subplot((tam//10), 10, index)\n",
        "  plt.imshow(XTEST[i-1])\n",
        "  plt.title(\"Class: {}\".format(Valores_label[i-1]))\n",
        "  plt.axis(\"off\")\n",
        "plt.show() "
      ],
      "execution_count": 27,
      "outputs": [
        {
          "output_type": "display_data",
          "data": {
            "image/png": "[encoded data removed]",
            "text/plain": [
              "<Figure size 1440x864 with 9 Axes>"
            ]
          },
          "metadata": {
            "tags": [],
            "needs_background": "light"
          }
        }
      ]
    },
    {
      "cell_type": "code",
      "metadata": {
        "id": "63fO56hV4j8i",
        "colab_type": "code",
        "colab": {}
      },
      "source": [
        ""
      ],
      "execution_count": 0,
      "outputs": []
    }
  ]
}
